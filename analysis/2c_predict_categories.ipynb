{
 "cells": [
  {
   "cell_type": "code",
   "execution_count": 1,
   "metadata": {},
   "outputs": [],
   "source": [
    "import os.path\n",
    "import sys\n",
    "import django\n",
    "sys.path.append('/home/galm/software/django/tmv/BasicBrowser')\n",
    "sys.path.append('/home/max/software/django-tmv/tmv_mcc-apsis/BasicBrowser')\n",
    "os.environ.setdefault(\"DJANGO_SETTINGS_MODULE\", \"BasicBrowser.settings\")\n",
    "django.setup()\n",
    "import scoping\n",
    "from scoping.models import *\n",
    "from utils.text import *\n",
    "\n",
    "from sklearn.feature_extraction.text import CountVectorizer, TfidfVectorizer\n",
    "from sklearn.svm import SVC\n",
    "\n",
    "import pandas as pd\n",
    "import numpy as np\n",
    "\n",
    "import pickle\n",
    "import scipy.sparse\n",
    "\n",
    "import matplotlib.pyplot as plt"
   ]
  },
  {
   "cell_type": "code",
   "execution_count": 2,
   "metadata": {},
   "outputs": [
    {
     "name": "stdout",
     "output_type": "stream",
     "text": [
      "(97122, 243)\n"
     ]
    }
   ],
   "source": [
    "seen_df = pd.read_csv('../data/0_labelled_documents.csv')\n",
    "relevance = pd.read_csv('../data/1_document_relevance.csv')\n",
    "\n",
    "rel_ids = relevance.loc[relevance['0 - relevance - upper_pred']>0.5,'id']\n",
    "\n",
    "unseen_df = pd.read_csv('../data/0_unlabelled_documents.csv')\n",
    "unseen_df = unseen_df[unseen_df['id'].isin(rel_ids)]\n",
    "\n",
    "df = (pd.concat([seen_df,unseen_df])\n",
    "      .sort_values('id')\n",
    "      .sample(frac=1, random_state=1)\n",
    "      .reset_index(drop=True)\n",
    ")\n",
    "print(df.shape)\n",
    "\n",
    "seen_index = df[df['seen']==1].index\n",
    "unseen_index = df[df['seen']==0].index\n",
    "new_index = df[(df['seen']==1) & (df['ar5']==0)].index\n",
    "rel_index = df[df['relevant']==1].index\n",
    "r_index = df[df[\"random_sample\"]==1].index\n",
    "physical_index = df[df['physical_tags']==1].index"
   ]
  },
  {
   "cell_type": "code",
   "execution_count": 3,
   "metadata": {},
   "outputs": [],
   "source": [
    "from alterations import postfix_data\n",
    "df = postfix_data(df)"
   ]
  },
  {
   "cell_type": "code",
   "execution_count": 4,
   "metadata": {},
   "outputs": [
    {
     "name": "stdout",
     "output_type": "stream",
     "text": [
      "running vectorisation again\n"
     ]
    },
    {
     "name": "stderr",
     "output_type": "stream",
     "text": [
      "/home/galm/software/django/tmv/venv/lib/python3.6/site-packages/sklearn/feature_extraction/text.py:484: UserWarning: The parameter 'token_pattern' will not be used since 'tokenizer' is not None'\n",
      "  warnings.warn(\"The parameter 'token_pattern' will not be used\"\n"
     ]
    },
    {
     "data": {
      "text/plain": [
       "(97122, 7514)"
      ]
     },
     "execution_count": 4,
     "metadata": {},
     "output_type": "execute_result"
    }
   ],
   "source": [
    "revectorize = False\n",
    "\n",
    "X_exists = os.path.isfile(f'../data/X_{df.shape[0]}.npz')\n",
    "\n",
    "if revectorize is True or X_exists is False:\n",
    "    print(\"running vectorisation again\")\n",
    "    vec = TfidfVectorizer(\n",
    "        ngram_range=(1,2),\n",
    "        min_df=10, max_df=0.8, strip_accents='unicode', \n",
    "        max_features=20000,\n",
    "        tokenizer=snowball_stemmer()\n",
    "    )\n",
    "    vec.fit(df.loc[seen_index,\"content\"].astype(\"str\"))\n",
    "\n",
    "    X = vec.transform(df['content'].astype(\"str\"))   \n",
    "    with open (f'../data/vec_{seen_df.shape[0]}.pickle','wb') as f:\n",
    "        pickle.dump(vec, f)\n",
    "    import scipy.sparse\n",
    "    scipy.sparse.save_npz(f'../data/X_{df.shape[0]}.npz', X)\n",
    "else:\n",
    "    print(\"loading feature matrix\")\n",
    "    with open (f'../data/vec_{seen_df.shape[0]}.pickle','rb') as f:\n",
    "        vec = pickle.load(f)\n",
    "        X = scipy.sparse.load_npz(f'../data/X_{df.shape[0]}.npz')\n",
    "        \n",
    "X.shape"
   ]
  },
  {
   "cell_type": "code",
   "execution_count": 5,
   "metadata": {},
   "outputs": [],
   "source": [
    "broad_cats = [x for x in df.columns if \"12 - \" in x and \"Physical systems\" not in x and \"prediction\" not in x]\n",
    "y = np.matrix(df[broad_cats])"
   ]
  },
  {
   "cell_type": "code",
   "execution_count": 6,
   "metadata": {},
   "outputs": [],
   "source": [
    "from sklearn.model_selection import KFold\n",
    "from sklearn.multiclass import OneVsRestClassifier\n",
    "\n",
    "kf = KFold(n_splits=10)\n",
    "kfs = kf.split(X[rel_index],y[rel_index])\n",
    "y_preds = []\n",
    "for k_train, k_test in kfs:\n",
    "    clf = OneVsRestClassifier(SVC(kernel='linear', class_weight=\"balanced\", probability=True))\n",
    "    k_train = rel_index[k_train]\n",
    "    clf.fit(X[k_train],y[k_train])\n",
    "    y_preds.append(clf.predict(X[unseen_index]))\n",
    "    \n",
    "y_preds = np.array(y_preds)\n",
    "np.save(\"../data/y_preds_broad_cats.npz\",y_preds)"
   ]
  },
  {
   "cell_type": "code",
   "execution_count": 7,
   "metadata": {},
   "outputs": [
    {
     "data": {
      "text/plain": [
       "(10, 94778, 5)"
      ]
     },
     "execution_count": 7,
     "metadata": {},
     "output_type": "execute_result"
    }
   ],
   "source": [
    "y_preds = np.load(\"../data/y_preds_broad_cats.npz.npy\")\n",
    "y_preds.shape"
   ]
  },
  {
   "cell_type": "code",
   "execution_count": 8,
   "metadata": {},
   "outputs": [
    {
     "name": "stdout",
     "output_type": "stream",
     "text": [
      "12 - Coastal and marine Ecosystems\n",
      "12508\n",
      "12 - Human and managed\n",
      "10353\n",
      "12 - Mountains, snow and ice\n",
      "4656\n",
      "12 - Rivers, lakes, and soil moisture\n",
      "11865\n",
      "12 - Terrestrial ES\n",
      "30306\n"
     ]
    }
   ],
   "source": [
    "for i, c in enumerate(broad_cats):\n",
    "    mean_pred = np.mean(y_preds[:,:,i], axis=0)\n",
    "    std_pred = np.std(y_preds[:,:,i], axis=0)\n",
    "    preds_upper = np.minimum(mean_pred + std_pred, 1)\n",
    "    preds_lower = np.maximum(mean_pred - std_pred, 0)\n",
    "    \n",
    "    print(c)\n",
    "    print(np.where(mean_pred>=0.5,1,0).sum())\n",
    "\n",
    "\n",
    "    df.loc[unseen_index,f'{c} - mean_prediction'] = mean_pred\n",
    "    df.loc[unseen_index,f'{c} - std_prediction'] = std_pred\n",
    "    df.loc[unseen_index,f'{c} - lower_pred'] = preds_lower\n",
    "    df.loc[unseen_index,f'{c} - upper_pred'] = preds_upper"
   ]
  },
  {
   "cell_type": "code",
   "execution_count": 9,
   "metadata": {},
   "outputs": [],
   "source": [
    "basic_cols = [x for x in df.columns if \" - \" not in x]\n",
    "cat_cols = [x for x in df.columns if x not in basic_cols and \"12 - \" in x or \"2 - \" in x or \"6 - \" or \"4 - \" in x and \"<hidden>\" not in x]\n"
   ]
  },
  {
   "cell_type": "code",
   "execution_count": 10,
   "metadata": {},
   "outputs": [],
   "source": [
    "df[basic_cols+cat_cols].to_csv('../data/1_predicted_category_documents.csv')"
   ]
  },
  {
   "cell_type": "code",
   "execution_count": null,
   "metadata": {},
   "outputs": [],
   "source": []
  },
  {
   "cell_type": "markdown",
   "metadata": {},
   "source": [
    "## Drivers"
   ]
  },
  {
   "cell_type": "code",
   "execution_count": 11,
   "metadata": {},
   "outputs": [
    {
     "name": "stdout",
     "output_type": "stream",
     "text": [
      "95249 94778\n"
     ]
    }
   ],
   "source": [
    "driver_unseen = unseen_index.union(\n",
    "    df[\n",
    "        (df['seen']==1) & \n",
    "        (df['physical_tags']==0) & \n",
    "        (df['relevant']==1)\n",
    "    ].index\n",
    ")\n",
    "print(len(driver_unseen), len(unseen_index))"
   ]
  },
  {
   "cell_type": "code",
   "execution_count": 12,
   "metadata": {},
   "outputs": [],
   "source": [
    "## New summary cats\n",
    "df['6 - Precipitation'] = 0\n",
    "df.loc[(df['6 - 05 Changes in precipitation']==1) | (df['6 - 08 Changes in strong precipitation']==1),\"6 - Precipitation\"] = 1\n",
    "\n",
    "df['Human drivers'] = 0\n",
    "df.loc[\n",
    "    (df['6 - 76 Human water use']==1) |\n",
    "    (df['6 - 77 Land use change']==1),\n",
    "    '6 - Human drivers' \n",
    "] = 1\n",
    " \n",
    "df.loc[\n",
    "    (df['6 - 03 Extreme temperature']==1) & \n",
    "    (df['6 - 16 Sea surface temperature']==0) & \n",
    "    (df['6 - 21 Water temperature (freshwater)']==0),\n",
    "    '6 - 02 Air or land surface temperature changes'\n",
    "] = 1\n",
    "\n",
    "df['6 - Temperature'] = 0\n",
    "df.loc[\n",
    "    (df['6 - 03 Extreme temperature']==1) | \n",
    "    (df['6 - 16 Sea surface temperature']==1) | \n",
    "    (df['6 - 02 Air or land surface temperature changes']==1) |\n",
    "    (df['6 - 21 Water temperature (freshwater)']==1),\n",
    "    '6 - Temperature'\n",
    "] = 1\n",
    "\n",
    "df['6 - Water availability'] = 0\n",
    "df.loc[\n",
    "    (df['6 - 26 Drought frequency and intensity']==1) |\n",
    "    (df['6 - 07 Aridity/dryness']==1) |\n",
    "    (df['6 - 28 River runoff']==1),\n",
    "    '6 - Water availability'\n",
    "] = 1\n",
    "\n",
    "df['6 - Other'] = 0\n",
    "df.loc[\n",
    "    (df['6 - Temperature']==0) & \n",
    "    (df['6 - Precipitation']==0),\n",
    "    '6 - Other'\n",
    "] = 1\n",
    "\n",
    "new_rel_index = physical_index.intersection(rel_index)\n",
    "\n",
    "driver_selection = [\n",
    "    #'6 - 01 CO2 concentration',\n",
    "    '6 - Temperature',\n",
    "    '6 - Precipitation',#'6 - 16 Sea surface temperature',\n",
    "    '6 - Other'\n",
    "    #'6 - 09 Atmospheric/marine circulation or teleconnections',\n",
    "    #'6 - 10 Wind speed','6 - 11 Storms','6 - 14 Sea level change',#'6 - 26 Drought frequency and intensity',\n",
    "    #'6 - 04 Radiation',\n",
    "    #'6 - 33 Sea ice retreat',\n",
    "    #'6 - No drivers', '6 - 30 Snow', '6 - Human drivers', \n",
    "    #'6 - 12 Seasonality',\n",
    "    #'6 - Water availability',\n",
    "]"
   ]
  },
  {
   "cell_type": "code",
   "execution_count": 13,
   "metadata": {},
   "outputs": [],
   "source": [
    "from sklearn.model_selection import KFold\n",
    "from sklearn.multiclass import OneVsRestClassifier\n",
    "\n",
    "new_rel_index = physical_index.intersection(rel_index)\n",
    "\n",
    "y = np.matrix(df[driver_selection])\n",
    "\n",
    "kf = KFold(n_splits=10)\n",
    "kfs = kf.split(X[new_rel_index],y[new_rel_index])\n",
    "y_preds = []\n",
    "for k_train, k_test in kfs:\n",
    "    clf = OneVsRestClassifier(SVC(kernel='linear', class_weight=\"balanced\", probability=True))\n",
    "    k_train = new_rel_index[k_train]\n",
    "    clf.fit(X[k_train],y[k_train])\n",
    "    y_preds.append(clf.predict(X[driver_unseen]))\n",
    "    \n",
    "y_preds = np.array(y_preds)\n",
    "np.save(\"../data/y_preds_drivers.npz\",y_preds)"
   ]
  },
  {
   "cell_type": "code",
   "execution_count": 14,
   "metadata": {},
   "outputs": [],
   "source": [
    "for i, c in enumerate(driver_selection):\n",
    "    mean_pred = np.mean(y_preds[:,:,i], axis=0)\n",
    "    std_pred = np.std(y_preds[:,:,i], axis=0)\n",
    "    preds_upper = np.minimum(mean_pred + std_pred, 1)\n",
    "    preds_lower = np.maximum(mean_pred - std_pred, 0)\n",
    "\n",
    "\n",
    "    df.loc[driver_unseen,f'{c} - mean_prediction'] = mean_pred\n",
    "    df.loc[driver_unseen,f'{c} - std_prediction'] = std_pred\n",
    "    df.loc[driver_unseen,f'{c} - lower_pred'] = preds_lower\n",
    "    df.loc[driver_unseen,f'{c} - upper_pred'] = preds_upper"
   ]
  },
  {
   "cell_type": "code",
   "execution_count": null,
   "metadata": {},
   "outputs": [],
   "source": []
  },
  {
   "cell_type": "code",
   "execution_count": 15,
   "metadata": {},
   "outputs": [
    {
     "name": "stdout",
     "output_type": "stream",
     "text": [
      "['12 - Coastal and marine Ecosystems', '12 - Human and managed', '12 - Mountains, snow and ice', '12 - Rivers, lakes, and soil moisture', '12 - Terrestrial ES', '14 - Coastal human systems', '14 - Cryosphere', '14 - Droughts', '14 - Marine (eco-)systems', '14 - River floods', '14 - Terrestrial (eco-)systems', '16 - Climate Impact attribution', '16 - Climate attribution', '16 - Climate event attribution', '16 - Experimental evidence', '16 - Future/modelled impacts', '16 - Impact event attribution', '16 - No Climate Impact attribution', '16 - Unclear', '16 - Weather sensitivity', '2 - 2.1. Climate change attribution', '2 - 2.2 Trend attribution', '2 - 2.3. Attribution to extreme event', '2 - 2.3. Impact trend attribution<hidden>', '2 - 2.4. Sensitivity', '2 - 2.5. Detection of a regional climate trend (no attribution)', '2 - 2.6. Null results', '4 - 01 CO2 concentration', '4 - 02 Air or land surface temperature changes', '4 - 03 Extreme temperature', '4 - 04 Radiation', '4 - 05 Changes in precipitation', '4 - 06 Humidity', '4 - 07 Aridity/dryness', '4 - 08 Changes in strong precipitation', '4 - 09 Atmospheric/marine circulation or teleconnections', '4 - 10 Wind speed', '4 - 12 Seasonality', '4 - 13 Other (physical systems)', '4 - 14 Sea level change', '4 - 15 Coastal flooding', '4 - 16 Sea surface temperature', '4 - 17 Ocean acidification', '4 - 19 Water quality/chemistry (oceans)', '4 - 21 Water temperature (freshwater)', '4 - 22 Water quality/chemistry (freshwater)', '4 - 23 Soil moisture', '4 - 24 Water level (lake, reservoir, groundwater)', '4 - 25 Evapotranspiration', '4 - 26 Drought frequency and intensity', '4 - 27 River floods', '4 - 28 River runoff', '4 - 29 Other (Rivers, lakes and soil moisture)', '4 - 30 Snow', '4 - 31 Landslides/instability', '4 - 32 Permafrost', '4 - 33 Sea ice retreat', '4 - 34 Glacier retreat', '4 - 36 Species distribution (marine & coastal)', '4 - 37 Shifts in phenology (marine & coastal)', '4 - 38 Geographical shift  (marine & coastal)', '4 - 39 Changes in fisheries output/catch (potential)', '4 - 40 Changes in warm water corals', '4 - 41 Species metabolism (marine & coastal)', '4 - 42 Species abundance (marine & coastal)', '4 - 43 Biome shift (marine & coastal)', '4 - 44 Biodiversity effects (marine & coastal)', '4 - 45 Ocean ecosystem productivity', '4 - 46 Changes in kelp forests', '4 - 47 Seagrass', '4 - 48 Carbon cycle (marine & coastal)', '4 - 51 Distribution and range shifts (Terrestrial and freshwater)', '4 - 52 Shifts in phenology (Terrestrial and freshwater)', '4 - 53 Mortality and growth', '4 - 54 Physiology and metabolism', '4 - 55 Community composition and interaction', '4 - 56 Terrestrial carbon cycle', '4 - 57 Biogeochemical flows (Terrestrial and freshwater)', '4 - 58 Pests and diseases', '4 - 59 Wildfires', '4 - 60 Other (Terrestrial and freshwater)', '4 - 61 Arctic infrastructure', '4 - 62 Coastal human systems', '4 - 63 Human Settlements', '4 - 64 Indigenous communities', '4 - 65 Gender specific / gender unequal impacts', '4 - 66 Health', '4 - 67 Vector-borne diseases', '4 - 68 Extreme heat exposure', '4 - 69 Crop yields', '4 - 70 Food prices', '4 - 71 Malnutrition', '4 - 72 Conflict', '4 - 73 Displacement and migration', '4 - 75 Economic activity', '4 - 76 Human water use', '4 - 77 Land use change', '4 - 78 Land management', '4 - 79 Livestock health', '4 - 80 Livestock management', '4 - 81 Other (human and managed systems)', '6 - 01 CO2 concentration', '6 - 02 Air or land surface temperature changes', '6 - 03 Extreme temperature', '6 - 04 Radiation', '6 - 05 Changes in precipitation', '6 - 06 Humidity', '6 - 07 Aridity/dryness', '6 - 08 Changes in strong precipitation', '6 - 09 Atmospheric/marine circulation or teleconnections', '6 - 10 Wind speed', '6 - 11 Storms', '6 - 12 Seasonality', '6 - 13 Other (physical systems)', '6 - 14 Sea level change', '6 - 16 Sea surface temperature', '6 - 17 Ocean acidification', '6 - 18 Oxygen content', '6 - 19 Water quality/chemistry (oceans)', '6 - 21 Water temperature (freshwater)', '6 - 22 Water quality/chemistry (freshwater)', '6 - 23 Soil moisture', '6 - 24 Water level (lake, reservoir, groundwater)', '6 - 25 Evapotranspiration', '6 - 26 Drought frequency and intensity', '6 - 27 River floods', '6 - 28 River runoff', '6 - 29 Other (Rivers, lakes and soil moisture)', '6 - 30 Snow', '6 - 31 Landslides/instability', '6 - 32 Permafrost', '6 - 33 Sea ice retreat', '6 - 34 Glacier retreat', '6 - 35 Other (mountains, snow and ice)', '6 - 36 Species distribution (marine & coastal)', '6 - 38 Geographical shift  (marine & coastal)', '6 - 40 Changes in warm water corals', '6 - 42 Species abundance (marine & coastal)', '6 - 47 Seagrass', '6 - 51 Distribution and range shifts (Terrestrial and freshwater)', '6 - 52 Shifts in phenology (Terrestrial and freshwater)', '6 - 52 Species abundance (Terrestrial and freshwater)<hidden>', '6 - 53 Mortality and growth', '6 - 54 Physiology and metabolism', '6 - 55 Community composition and interaction', '6 - 56 Terrestrial carbon cycle', '6 - 58 Ecosystem productivity (Terrestrial and freshwater)<hidden>', '6 - 58 Pests and diseases', '6 - 59 Wildfires', '6 - 60 Other (Terrestrial and freshwater)', '6 - 63 Human Settlements', '6 - 66 Health', '6 - 67 Vector-borne diseases', '6 - 69 Crop yields', '6 - 70 Food prices', '6 - 73 Displacement and migration', '6 - 75 Economic activity', '6 - 76 Human water use', '6 - 77 Land use change', '6 - 78 Land management', '6 - 80 Livestock management', '6 - 81 Other (human and managed systems)', '6 - 72 Conflict', '4 - 50 Other (marine & coastal)', '12 - Physical systems', '12 - Coastal and marine Ecosystems - mean_prediction', '12 - Coastal and marine Ecosystems - std_prediction', '12 - Coastal and marine Ecosystems - lower_pred', '12 - Coastal and marine Ecosystems - upper_pred', '12 - Human and managed - mean_prediction', '12 - Human and managed - std_prediction', '12 - Human and managed - lower_pred', '12 - Human and managed - upper_pred', '12 - Mountains, snow and ice - mean_prediction', '12 - Mountains, snow and ice - std_prediction', '12 - Mountains, snow and ice - lower_pred', '12 - Mountains, snow and ice - upper_pred', '12 - Rivers, lakes, and soil moisture - mean_prediction', '12 - Rivers, lakes, and soil moisture - std_prediction', '12 - Rivers, lakes, and soil moisture - lower_pred', '12 - Rivers, lakes, and soil moisture - upper_pred', '12 - Terrestrial ES - mean_prediction', '12 - Terrestrial ES - std_prediction', '12 - Terrestrial ES - lower_pred', '12 - Terrestrial ES - upper_pred', '6 - Precipitation', '6 - Human drivers', '6 - Temperature', '6 - Water availability', '6 - Other', '6 - Temperature - mean_prediction', '6 - Temperature - std_prediction', '6 - Temperature - lower_pred', '6 - Temperature - upper_pred', '6 - Precipitation - mean_prediction', '6 - Precipitation - std_prediction', '6 - Precipitation - lower_pred', '6 - Precipitation - upper_pred', '6 - Other - mean_prediction', '6 - Other - std_prediction', '6 - Other - lower_pred', '6 - Other - upper_pred']\n"
     ]
    }
   ],
   "source": [
    "basic_cols = [x for x in df.columns if \" - \" not in x]\n",
    "cat_cols = [x for x in df.columns if x not in basic_cols and \"12 - \" in x or \"2 - \" in x or \"6 - \" in x or \"4 - \" in x and \"hidden\" not in x]\n",
    "print(cat_cols)\n",
    "\n",
    "df[basic_cols+cat_cols].to_csv('../data/1_predicted_category_documents.csv')"
   ]
  },
  {
   "cell_type": "markdown",
   "metadata": {},
   "source": [
    "## Attribution classes"
   ]
  },
  {
   "cell_type": "code",
   "execution_count": 16,
   "metadata": {},
   "outputs": [],
   "source": [
    "df['2 - Trend or climate change attribution'] = 0\n",
    "df.loc[\n",
    "    (df['2 - 2.2 Trend attribution']==1) | (df['2 - 2.1. Climate change attribution']==1),\n",
    "    '2 - Trend or climate change attribution'\n",
    "] = 1\n",
    "\n",
    "attribution_classes =  [\n",
    " '2 - Trend or climate change attribution',\n",
    " '2 - 2.4. Sensitivity',\n",
    " '2 - 2.5. Detection of a regional climate trend (no attribution)'\n",
    "]\n",
    "\n",
    "y = np.matrix(df[attribution_classes])"
   ]
  },
  {
   "cell_type": "code",
   "execution_count": 17,
   "metadata": {},
   "outputs": [],
   "source": [
    "kf = KFold(n_splits=10)\n",
    "kfs = kf.split(X[new_rel_index],y[new_rel_index])\n",
    "y_preds = []\n",
    "for k_train, k_test in kfs:\n",
    "    clf = OneVsRestClassifier(SVC(kernel='linear', class_weight=\"balanced\", probability=True))\n",
    "    k_train = new_rel_index[k_train]\n",
    "    clf.fit(X[k_train],y[k_train])\n",
    "    y_preds.append(clf.predict(X[driver_unseen]))\n",
    "    \n",
    "y_preds = np.array(y_preds)\n",
    "np.save(\"../data/y_preds_attribution.npz\",y_preds)"
   ]
  },
  {
   "cell_type": "code",
   "execution_count": 18,
   "metadata": {},
   "outputs": [],
   "source": [
    "for i, c in enumerate(attribution_classes):\n",
    "    mean_pred = np.mean(y_preds[:,:,i], axis=0)\n",
    "    std_pred = np.std(y_preds[:,:,i], axis=0)\n",
    "    preds_upper = np.minimum(mean_pred + std_pred, 1)\n",
    "    preds_lower = np.maximum(mean_pred - std_pred, 0)\n",
    "\n",
    "\n",
    "    df.loc[driver_unseen,f'{c} - mean_prediction'] = mean_pred\n",
    "    df.loc[driver_unseen,f'{c} - std_prediction'] = std_pred\n",
    "    df.loc[driver_unseen,f'{c} - lower_pred'] = preds_lower\n",
    "    df.loc[driver_unseen,f'{c} - upper_pred'] = preds_upper"
   ]
  },
  {
   "cell_type": "code",
   "execution_count": 19,
   "metadata": {},
   "outputs": [
    {
     "name": "stdout",
     "output_type": "stream",
     "text": [
      "['12 - Coastal and marine Ecosystems', '12 - Human and managed', '12 - Mountains, snow and ice', '12 - Rivers, lakes, and soil moisture', '12 - Terrestrial ES', '14 - Coastal human systems', '14 - Cryosphere', '14 - Droughts', '14 - Marine (eco-)systems', '14 - River floods', '14 - Terrestrial (eco-)systems', '16 - Climate Impact attribution', '16 - Climate attribution', '16 - Climate event attribution', '16 - Experimental evidence', '16 - Future/modelled impacts', '16 - Impact event attribution', '16 - No Climate Impact attribution', '16 - Unclear', '16 - Weather sensitivity', '2 - 2.1. Climate change attribution', '2 - 2.2 Trend attribution', '2 - 2.3. Attribution to extreme event', '2 - 2.3. Impact trend attribution<hidden>', '2 - 2.4. Sensitivity', '2 - 2.5. Detection of a regional climate trend (no attribution)', '2 - 2.6. Null results', '4 - 01 CO2 concentration', '4 - 02 Air or land surface temperature changes', '4 - 03 Extreme temperature', '4 - 04 Radiation', '4 - 05 Changes in precipitation', '4 - 06 Humidity', '4 - 07 Aridity/dryness', '4 - 08 Changes in strong precipitation', '4 - 09 Atmospheric/marine circulation or teleconnections', '4 - 10 Wind speed', '4 - 12 Seasonality', '4 - 13 Other (physical systems)', '4 - 14 Sea level change', '4 - 15 Coastal flooding', '4 - 16 Sea surface temperature', '4 - 17 Ocean acidification', '4 - 19 Water quality/chemistry (oceans)', '4 - 21 Water temperature (freshwater)', '4 - 22 Water quality/chemistry (freshwater)', '4 - 23 Soil moisture', '4 - 24 Water level (lake, reservoir, groundwater)', '4 - 25 Evapotranspiration', '4 - 26 Drought frequency and intensity', '4 - 27 River floods', '4 - 28 River runoff', '4 - 29 Other (Rivers, lakes and soil moisture)', '4 - 30 Snow', '4 - 31 Landslides/instability', '4 - 32 Permafrost', '4 - 33 Sea ice retreat', '4 - 34 Glacier retreat', '4 - 36 Species distribution (marine & coastal)', '4 - 37 Shifts in phenology (marine & coastal)', '4 - 38 Geographical shift  (marine & coastal)', '4 - 39 Changes in fisheries output/catch (potential)', '4 - 40 Changes in warm water corals', '4 - 41 Species metabolism (marine & coastal)', '4 - 42 Species abundance (marine & coastal)', '4 - 43 Biome shift (marine & coastal)', '4 - 44 Biodiversity effects (marine & coastal)', '4 - 45 Ocean ecosystem productivity', '4 - 46 Changes in kelp forests', '4 - 47 Seagrass', '4 - 48 Carbon cycle (marine & coastal)', '4 - 51 Distribution and range shifts (Terrestrial and freshwater)', '4 - 52 Shifts in phenology (Terrestrial and freshwater)', '4 - 53 Mortality and growth', '4 - 54 Physiology and metabolism', '4 - 55 Community composition and interaction', '4 - 56 Terrestrial carbon cycle', '4 - 57 Biogeochemical flows (Terrestrial and freshwater)', '4 - 58 Pests and diseases', '4 - 59 Wildfires', '4 - 60 Other (Terrestrial and freshwater)', '4 - 61 Arctic infrastructure', '4 - 62 Coastal human systems', '4 - 63 Human Settlements', '4 - 64 Indigenous communities', '4 - 65 Gender specific / gender unequal impacts', '4 - 66 Health', '4 - 67 Vector-borne diseases', '4 - 68 Extreme heat exposure', '4 - 69 Crop yields', '4 - 70 Food prices', '4 - 71 Malnutrition', '4 - 72 Conflict', '4 - 73 Displacement and migration', '4 - 75 Economic activity', '4 - 76 Human water use', '4 - 77 Land use change', '4 - 78 Land management', '4 - 79 Livestock health', '4 - 80 Livestock management', '4 - 81 Other (human and managed systems)', '6 - 01 CO2 concentration', '6 - 02 Air or land surface temperature changes', '6 - 03 Extreme temperature', '6 - 04 Radiation', '6 - 05 Changes in precipitation', '6 - 06 Humidity', '6 - 07 Aridity/dryness', '6 - 08 Changes in strong precipitation', '6 - 09 Atmospheric/marine circulation or teleconnections', '6 - 10 Wind speed', '6 - 11 Storms', '6 - 12 Seasonality', '6 - 13 Other (physical systems)', '6 - 14 Sea level change', '6 - 16 Sea surface temperature', '6 - 17 Ocean acidification', '6 - 18 Oxygen content', '6 - 19 Water quality/chemistry (oceans)', '6 - 21 Water temperature (freshwater)', '6 - 22 Water quality/chemistry (freshwater)', '6 - 23 Soil moisture', '6 - 24 Water level (lake, reservoir, groundwater)', '6 - 25 Evapotranspiration', '6 - 26 Drought frequency and intensity', '6 - 27 River floods', '6 - 28 River runoff', '6 - 29 Other (Rivers, lakes and soil moisture)', '6 - 30 Snow', '6 - 31 Landslides/instability', '6 - 32 Permafrost', '6 - 33 Sea ice retreat', '6 - 34 Glacier retreat', '6 - 35 Other (mountains, snow and ice)', '6 - 36 Species distribution (marine & coastal)', '6 - 38 Geographical shift  (marine & coastal)', '6 - 40 Changes in warm water corals', '6 - 42 Species abundance (marine & coastal)', '6 - 47 Seagrass', '6 - 51 Distribution and range shifts (Terrestrial and freshwater)', '6 - 52 Shifts in phenology (Terrestrial and freshwater)', '6 - 52 Species abundance (Terrestrial and freshwater)<hidden>', '6 - 53 Mortality and growth', '6 - 54 Physiology and metabolism', '6 - 55 Community composition and interaction', '6 - 56 Terrestrial carbon cycle', '6 - 58 Ecosystem productivity (Terrestrial and freshwater)<hidden>', '6 - 58 Pests and diseases', '6 - 59 Wildfires', '6 - 60 Other (Terrestrial and freshwater)', '6 - 63 Human Settlements', '6 - 66 Health', '6 - 67 Vector-borne diseases', '6 - 69 Crop yields', '6 - 70 Food prices', '6 - 73 Displacement and migration', '6 - 75 Economic activity', '6 - 76 Human water use', '6 - 77 Land use change', '6 - 78 Land management', '6 - 80 Livestock management', '6 - 81 Other (human and managed systems)', '6 - 72 Conflict', '4 - 50 Other (marine & coastal)', '12 - Physical systems', '12 - Coastal and marine Ecosystems - mean_prediction', '12 - Coastal and marine Ecosystems - std_prediction', '12 - Coastal and marine Ecosystems - lower_pred', '12 - Coastal and marine Ecosystems - upper_pred', '12 - Human and managed - mean_prediction', '12 - Human and managed - std_prediction', '12 - Human and managed - lower_pred', '12 - Human and managed - upper_pred', '12 - Mountains, snow and ice - mean_prediction', '12 - Mountains, snow and ice - std_prediction', '12 - Mountains, snow and ice - lower_pred', '12 - Mountains, snow and ice - upper_pred', '12 - Rivers, lakes, and soil moisture - mean_prediction', '12 - Rivers, lakes, and soil moisture - std_prediction', '12 - Rivers, lakes, and soil moisture - lower_pred', '12 - Rivers, lakes, and soil moisture - upper_pred', '12 - Terrestrial ES - mean_prediction', '12 - Terrestrial ES - std_prediction', '12 - Terrestrial ES - lower_pred', '12 - Terrestrial ES - upper_pred', '6 - Precipitation', '6 - Human drivers', '6 - Temperature', '6 - Water availability', '6 - Other', '6 - Temperature - mean_prediction', '6 - Temperature - std_prediction', '6 - Temperature - lower_pred', '6 - Temperature - upper_pred', '6 - Precipitation - mean_prediction', '6 - Precipitation - std_prediction', '6 - Precipitation - lower_pred', '6 - Precipitation - upper_pred', '6 - Other - mean_prediction', '6 - Other - std_prediction', '6 - Other - lower_pred', '6 - Other - upper_pred', '2 - Trend or climate change attribution', '2 - Trend or climate change attribution - mean_prediction', '2 - Trend or climate change attribution - std_prediction', '2 - Trend or climate change attribution - lower_pred', '2 - Trend or climate change attribution - upper_pred', '2 - 2.4. Sensitivity - mean_prediction', '2 - 2.4. Sensitivity - std_prediction', '2 - 2.4. Sensitivity - lower_pred', '2 - 2.4. Sensitivity - upper_pred', '2 - 2.5. Detection of a regional climate trend (no attribution) - mean_prediction', '2 - 2.5. Detection of a regional climate trend (no attribution) - std_prediction', '2 - 2.5. Detection of a regional climate trend (no attribution) - lower_pred', '2 - 2.5. Detection of a regional climate trend (no attribution) - upper_pred']\n"
     ]
    }
   ],
   "source": [
    "basic_cols = [x for x in df.columns if \" - \" not in x]\n",
    "cat_cols = [x for x in df.columns if x not in basic_cols and \"12 - \" in x or \"2 - \" in x or \"6 - \" in x or \"4 - \" in x and \"hidden\" not in x]\n",
    "print(cat_cols)\n",
    "\n",
    "df[basic_cols+cat_cols].to_csv('../data/1_predicted_category_documents.csv')"
   ]
  },
  {
   "cell_type": "code",
   "execution_count": null,
   "metadata": {},
   "outputs": [],
   "source": []
  }
 ],
 "metadata": {
  "kernelspec": {
   "display_name": "tmv",
   "language": "python",
   "name": "tmv"
  },
  "language_info": {
   "codemirror_mode": {
    "name": "ipython",
    "version": 3
   },
   "file_extension": ".py",
   "mimetype": "text/x-python",
   "name": "python",
   "nbconvert_exporter": "python",
   "pygments_lexer": "ipython3",
   "version": "3.6.7"
  },
  "varInspector": {
   "cols": {
    "lenName": 16,
    "lenType": 16,
    "lenVar": 40
   },
   "kernels_config": {
    "python": {
     "delete_cmd_postfix": "",
     "delete_cmd_prefix": "del ",
     "library": "var_list.py",
     "varRefreshCmd": "print(var_dic_list())"
    },
    "r": {
     "delete_cmd_postfix": ") ",
     "delete_cmd_prefix": "rm(",
     "library": "var_list.r",
     "varRefreshCmd": "cat(var_dic_list()) "
    }
   },
   "types_to_exclude": [
    "module",
    "function",
    "builtin_function_or_method",
    "instance",
    "_Feature"
   ],
   "window_display": false
  }
 },
 "nbformat": 4,
 "nbformat_minor": 4
}
