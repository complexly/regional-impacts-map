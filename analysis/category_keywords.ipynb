{
 "cells": [
  {
   "cell_type": "code",
   "execution_count": 1,
   "metadata": {},
   "outputs": [],
   "source": [
    "import django, sys, os\n",
    "sys.path.append('/home/max/software/django-tmv/tmv_mcc-apsis/BasicBrowser')\n",
    "os.environ.setdefault(\"DJANGO_SETTINGS_MODULE\", \"BasicBrowser.settings\")\n",
    "django.setup()\n",
    "\n",
    "from sklearn.decomposition import NMF\n",
    "from sklearn.naive_bayes import MultinomialNB\n",
    "from sklearn.linear_model import SGDClassifier\n",
    "from sklearn.neural_network import MLPClassifier\n",
    "\n",
    "from scoping.models import *\n",
    "from sklearn.feature_extraction.text import CountVectorizer, TfidfVectorizer\n",
    "from itertools import product, combinations\n",
    "from utils.text import *\n",
    "from scipy.sparse import find\n",
    "\n",
    "import math\n",
    "import random\n",
    "import pandas as pd\n",
    "import numpy as np\n",
    "import matplotlib.pyplot as plt\n",
    "from sklearn.multiclass import OneVsRestClassifier\n",
    "from sklearn.svm import SVC\n",
    "\n",
    "from MulticoreTSNE import MulticoreTSNE as mTSNE\n",
    "from sklearn.metrics import accuracy_score, precision_score, recall_score\n",
    "from sklearn.metrics import coverage_error, label_ranking_average_precision_score, label_ranking_loss\n",
    "from pycountry_convert import  country_alpha2_to_continent_code, country_alpha3_to_country_alpha2\n",
    "import pickle\n",
    "import scipy.sparse\n",
    "import datetime\n",
    "import scipy.stats as st\n",
    "django.db.connection.close()\n"
   ]
  },
  {
   "cell_type": "code",
   "execution_count": 2,
   "metadata": {},
   "outputs": [
    {
     "name": "stdout",
     "output_type": "stream",
     "text": [
      "379897\n"
     ]
    }
   ],
   "source": [
    "pid = 178\n",
    "qid = 8145\n",
    "qid = 8272\n",
    "q = Query.objects.get(pk=qid)\n",
    "project = Project.objects.get(pk=pid)\n",
    "\n",
    "print(q.doc_set.count())"
   ]
  },
  {
   "cell_type": "markdown",
   "metadata": {},
   "source": [
    "# Economic inequality"
   ]
  },
  {
   "cell_type": "code",
   "execution_count": 3,
   "metadata": {},
   "outputs": [
    {
     "name": "stdout",
     "output_type": "stream",
     "text": [
      "2969\n"
     ]
    }
   ],
   "source": [
    "predicted_ids = pd.read_csv('../data/doctables/predicted_relevant_all_ids.csv')\n",
    "pds = predicted_ids[predicted_ids['prediction']>0.1]\n",
    "\n",
    "assigned = set(DocOwnership.objects.filter(query__project=project).values_list('doc__id',flat=True))\n",
    "print(len(assigned))"
   ]
  },
  {
   "cell_type": "code",
   "execution_count": null,
   "metadata": {},
   "outputs": [],
   "source": []
  },
  {
   "cell_type": "code",
   "execution_count": 42,
   "metadata": {},
   "outputs": [
    {
     "name": "stdout",
     "output_type": "stream",
     "text": [
      "2545\n",
      "title__iregex\n",
      "content__iregex\n",
      "892 97\n"
     ]
    }
   ],
   "source": [
    "assigned = set(DocOwnership.objects.filter(query__project=project).values_list('doc__id',flat=True))\n",
    "print(len(assigned))\n",
    "\n",
    "s = \"economic inequality; economic activity; GDP; gender; indigenous people; indigenous knowledge; indigenous communit\"\n",
    "inclusion = s.replace('; ','|')\n",
    "\n",
    "se = \"species\"\n",
    "exclusions = se.replace(', ','|')\n",
    "\n",
    "p = 0.1\n",
    "\n",
    "pds = predicted_ids[predicted_ids['prediction']>p]\n",
    "\n",
    "dids = set([])\n",
    "eids = set([])\n",
    "for f in [\"title__iregex\",\"content__iregex\"]:\n",
    "    print(f)\n",
    "    dids = dids | set(q.doc_set.filter(**{f: inclusion}).values_list('pk',flat=True))\n",
    "    eids = eids | set(q.doc_set.filter(**{f: exclusions}).values_list('pk',flat=True))\n",
    "    \n",
    "doc_ids = dids - eids\n",
    "    \n",
    "docs = Doc.objects.filter(pk__in=doc_ids).exclude(id__in=assigned)\n",
    "\n",
    "#docs = q.doc_set.filter(title__iregex=inclusion).exclude(id__in=assigned).exclude(content__iregex=exclusions)\n",
    "r_docs = Doc.objects.filter(id__in=doc_ids & set(pds['id']))\n",
    "\n",
    "\n",
    "docs = q.doc_set.filter(title__iregex=inclusion).exclude(id__in=assigned)#.exclude(content__iregex=exclusions)\n",
    "r_docs = q.doc_set.filter(title__iregex=inclusion, id__in=pds['id']).exclude(id__in=assigned)\n",
    "\n",
    "print(docs.count(), r_docs.count())"
   ]
  },
  {
   "cell_type": "code",
   "execution_count": 43,
   "metadata": {},
   "outputs": [
    {
     "name": "stdout",
     "output_type": "stream",
     "text": [
      "Gender and occupational perspectives on adaptation to climate extremes in the Afram Plains of Ghana\n",
      "Resilience of the poorest: coping strategies and indigenous knowledge of living with the floods in Northern Namibia\n",
      "Revisiting Jewson and Mason: The Politics of Gender Equality in UK Local Government in a Cold Climate\n",
      "Does sex matter? Gender-specificity and its influence on site-chronologies in the common dioecious shrub Juniperus communis\n",
      "Month of birth and schizophrenia in Taiwan: Effect of gender, family history and age at onset\n"
     ]
    }
   ],
   "source": [
    "for d in Doc.objects.filter(pk__in=random.sample(list(docs.values_list('pk',flat=True)),5)):\n",
    "    print(d.title)"
   ]
  },
  {
   "cell_type": "code",
   "execution_count": 44,
   "metadata": {},
   "outputs": [
    {
     "name": "stdout",
     "output_type": "stream",
     "text": [
      "The persistence of shocks in GDP and the estimation of the potential economic costs of climate change\n",
      "2014 PSA Presidential Address (Un)Changing Institutions: Work, Family, and Gender in the New Economy\n",
      "Gender, Age and Season as Modifiers of the Effects of Diurnal Temperature Range on Emergency Room Admissions for Cause-Specific Cardiovascular Disease among the Elderly in Beijing\n",
      "Hope and Worry: Gendered Emotional Geographies of Climate Change in Three Vulnerable US Communities\n",
      "Urban outdoor thermal perception in hot arid Beer Sheva, Israel: Methodological and gender aspects\n"
     ]
    }
   ],
   "source": [
    "for d in Doc.objects.filter(pk__in=random.sample(list(r_docs.values_list('pk',flat=True)),5)):\n",
    "    print(d.title)"
   ]
  },
  {
   "cell_type": "code",
   "execution_count": 45,
   "metadata": {},
   "outputs": [
    {
     "name": "stdout",
     "output_type": "stream",
     "text": [
      "economic inequality; economic activity; GDP; gender; indigenous people; indigenous knowledge; indigenous communit 2 - prediction>0.1 True\n"
     ]
    }
   ],
   "source": [
    "users = User.objects.filter(username__in=[\"inga.menke@climateanalytics.org\",\"marina.andrijevic@climateanalytics.org\"])\n",
    "tag, created = Tag.objects.get_or_create(query=q,title=s+\" 2 - prediction>0.1\")\n",
    "print(tag, created)\n",
    "for i,d in enumerate(Doc.objects.filter(pk__in=random.sample(list(r_docs.values_list('pk',flat=True)),50))):\n",
    "    u = users[i%2]\n",
    "    d.tag.add(tag)\n",
    "    do, created = DocOwnership.objects.get_or_create(\n",
    "        doc=d,\n",
    "        query=q,\n",
    "        tag=tag,\n",
    "        user=u\n",
    "    ) \n",
    "tag.update_tag()      "
   ]
  },
  {
   "cell_type": "code",
   "execution_count": null,
   "metadata": {},
   "outputs": [],
   "source": []
  },
  {
   "cell_type": "markdown",
   "metadata": {},
   "source": [
    "# Soil moisture\n"
   ]
  },
  {
   "cell_type": "code",
   "execution_count": 42,
   "metadata": {},
   "outputs": [
    {
     "name": "stdout",
     "output_type": "stream",
     "text": [
      "1943\n"
     ]
    }
   ],
   "source": []
  },
  {
   "cell_type": "code",
   "execution_count": 46,
   "metadata": {},
   "outputs": [
    {
     "name": "stdout",
     "output_type": "stream",
     "text": [
      "2595\n",
      "title__iregex\n",
      "content__iregex\n",
      "47954 723\n",
      "###\n",
      " all query docs\n",
      "\n",
      "Weather patterns in eastern Slovakia 1717-1730, based on records from the Breslau meteorological network\n",
      "Spatiotemporal Characteristics of Dry-Wet Abrupt Transition Based on Precipitation in Poyang Lake Basin, China\n",
      "Living with risk of natural disasters\n",
      "EFFECTS OF CLIMATE CHANGE ON THE URBAN TOURIST AND COASTAL AREA OF VINA DEL MAR: SURVEY OF DAMAGE FOR FLOODING BY STORM SURGE AND PERCEPTION OF SECURITY\n",
      "Assessment of the toxic potential of rainwater precipitation: First evidence from a case study in three Greek cities\n",
      "###\n",
      " p > 0.5\n",
      "\n",
      "Impacts of recent climate change on dry-land crop water consumption in the northern agro-pastoral transitional zone of China\n",
      "Climate change has substantially impacted crop growth and development in the northern agro-pastoral transitional zone. Examination of the response of crop water consumption to climate change may provide a guide for adapting local agricultural production and ecological construction to new realities. The water consumption of three local crops (wheat, naked oats, and potatoes) is examined for Wuchuan County in the northern agro-pastoral transitional zone of China using meteorological data from 1960 to 2007 and soil moisture data from 1983 to 2007. The relationships between climate change and the crop water consumption are discussed. The results show that Wuchuan experienced both a warming trend and a reduction of precipitation between 1960 and 2007. The annual mean surface air temperature increased at a rate of 0.04A degrees C yr(-1) and the annual precipitation decreased at a rate of 0.7 mm yr(-1). Both trends are particularly pronounced between 1983 and 2007, with an increase in annual mean temperature of 0.09A degrees C yr(-1) and a decrease in annual mean precipitation of 2.1 mm yr(-1). Crop water consumption decreased between 1983 and 2007 for wheat (1.65 mm yr(-1)), naked oats (2.04 mm yr(-1)), and potatoes (3.85 mm yr(-1)). Potatoes and naked oats consume more water than wheat. Climate change has significantly impacted crop water consumption. Water consumption and rainfall during the growing season are positively correlated, while water consumption and active accumulated temperature are negatively correlated. Compared to precipitation, accumulated temperature has little impact on crop water consumption. Recent climate change has been detrimental for crop production in Wuchuan County. Adaptation to climate change should include efforts to breed drought-resistant crops and to develop drought-resistant cultivation techniques.\n",
      "Response of evapotranspiration and water availability to the changing climate in Northern Eurasia\n",
      "Northern Eurasian ecosystems play an important role in the global climate system. Northern Eurasia (NE) has experienced dramatic climate changes during the last half of the 20th century and to present. To date, how evapotranspiration (ET) and water availability (P-ET, P: precipitation) had changed in response to the climatic change in this region has not been well evaluated. This study uses an improved version of the Terrestrial Ecosystem Model (TEM) that explicitly considers ET from uplands, wetlands, water bodies and snow cover to examine temporal and spatial variations in ET, water availability and river discharge in NE for the period 1948-2009. The average ET over NE increased during the study period at a rate of 0.13 mm year(-1) year(-1). Over this time, water availability augmented in the western part of the region, but decreased in the eastern part. The consideration of snow sublimation substantially improved the ET estimates and highlighted the importance of snow in the hydrometeorology of NE. We also find that the modified TEM estimates of water availability in NE watersheds are in good agreement with corresponding measurements of historical river discharge before 1970. However, a systematic underestimation of river discharge occurs after 1970 indicates that other water sources or dynamics not considered by the model (e.g., melting glaciers, permafrost thawing and fires) may also be important for the hydrology of the region.\n",
      "El Nino-Southern Oscillation, rainfall, temperature and Normalized Difference Vegetation Index fluctuations in the Mara-Serengeti ecosystem\n",
      "Understanding long-term climatic variability is basic to wise management and conservation of biodiversity. We analysed temporal variations in the local rainfall, temperature, Normalized Difference Vegetation Index and the hemispheric El Nino-Southern Oscillation (ENSO), using the Southern Oscillation Index and how they co varied in the Mara-Serengeti ecosystem of Kenya and Tanzania. Local rainfall showed a striking temporal variability and an evident 5-year quasi-periodicity in the ecosystem. Severe droughts were a recurrent/persistent feature of the ecosystem but extreme floods were relatively infrequent. The timings of droughts and floods coincided with strong episodes in the activities of the ENSO phenomenon. Above-average rainfall often accompanied cold ENSO episodes and below-average rainfall warm ENSO events, contrary to past generalizations suggesting that warm ENSO events are only associated with above-average rainfall whereas cold ENSO events with below-average rainfall in equatorial East Africa. Both minimum and maximum temperatures were below-normal during cold ENSO episodes and above-normal during warm ENSO events. Rising temperatures and declining rainfall throughout the 1990s and early 2000s, with unprecedently prolonged and strong ENSO episodes, engendered progressive habitat desiccation and reduction in vegetation production in the ecosystem. This exacerbated the debilitating effects of adverse weather on local plant and animal communities, resulting in high mortalities of ungulates.\n",
      "Rainfall Trends in the Niger-South Basin, Nigeria, 1948-2008\n",
      "Understanding rainfall trend can be a first step in the planning and management of water resources especially at the basin scale. In this study, standard tests are used to examine rainfall trends based on monthly, seasonal and mean annual series at the Niger-South Basin, Nigeria, between 1948 and 2008. Rainfall variability index showed that the decade 2000s was the driest (-2.1), while 1950s was the wettest (+0.8), with the decade 1980s being the driest in the second half of the last century, whereas the year 1983 was the driest throughout the series. Over the entire basin, rainfall variability was generally low, but higher intra-monthly than inter-annually. Annual rainfall was dominated by August, contributing about 15%, while December contributed the least (0.7%). On a seasonal scale, July-August-September (JJA) contributed over 40% of the annual rainfall, while rainfall was lowest during December-January-February (DJF) (4.5%). The entire basin displayed negative trends but only 15% indicated significant changes (alpha < 0.1), while the magnitudes of change varied between -3.75 and -0.25 mm/yr. Similarly, only JJA exhibited insignificant upward trend, while the rest showed negative trends. About eight months of the year showed reducing trends, but only January trend was significant. Annual downward trend was generally observed in the series. The trend during 1948-1977 was negative, but it was positive for the 1978-2008 period. Hence, water resources management planning may require construction of water storage facilities to reduce summer flooding and prevent possible future water scarcity in the basin.\n",
      "Do Surface and Air Temperatures Contain Similar Imprints of Evaporative Conditions?\n",
      "Generally, surface and air temperatures seem closely related but we show that they respond differently to evaporative conditions. We evaluate the temperature increase in response to solar radiation for different evaporative fractions, using observations from the Southern Great Plains. The warming rate of air temperature decreases only by 1.7 x 10(-3)K/(W m(-2)) from dry to moist conditions compared to a stronger reduction by 14 x 10(-3) K/(W m(-2)) for surface temperature. The weaker response of air temperature to evaporative fraction is explained by the larger growth of boundary layer on drier days, which suppresses the warming of air. Estimates based on this explanation reproduce the warming rate of air temperature in observations. Our results show that diurnal variations of surface temperatures contain imprints of evapotranspiration while air temperatures do not. These findings appear important to be considered when using, analyzing, or interpreting temperature data in studies dealing with climate change, hydrology, or land-atmosphere interactions.\n"
     ]
    }
   ],
   "source": [
    "assigned = set(DocOwnership.objects.filter(query__project=project).values_list('doc__id',flat=True))\n",
    "print(len(assigned))\n",
    "\n",
    "s = \"Soil moisture, evapotranspiration, flood*, snow cover, groundwater, water quality\"\n",
    "inclusion = s.replace(', ','|')\n",
    "se = \"runoff, streamflow\"\n",
    "exclusions = se.replace(', ','|')\n",
    "\n",
    "p = 0.5\n",
    "\n",
    "pds = predicted_ids[predicted_ids['prediction']>p]\n",
    "\n",
    "dids = set([])\n",
    "eids = set([])\n",
    "for f in [\"title__iregex\",\"content__iregex\"]:\n",
    "    print(f)\n",
    "    dids = dids | set(q.doc_set.filter(**{f: inclusion}).values_list('pk',flat=True))\n",
    "    eids = eids | set(q.doc_set.filter(**{f: exclusions}).values_list('pk',flat=True))\n",
    "    \n",
    "doc_ids = dids - eids\n",
    "    \n",
    "docs = Doc.objects.filter(pk__in=doc_ids).exclude(id__in=assigned)\n",
    "\n",
    "#docs = q.doc_set.filter(title__iregex=inclusion).exclude(id__in=assigned).exclude(content__iregex=exclusions)\n",
    "r_docs = Doc.objects.filter(id__in=doc_ids & set(pds['id']))\n",
    "\n",
    "print(docs.count(), r_docs.count())\n",
    "\n",
    "print('###\\n all query docs\\n')\n",
    "\n",
    "for d in Doc.objects.filter(pk__in=random.sample(list(docs.values_list('pk',flat=True)),5)):\n",
    "    print(d.title)\n",
    "    \n",
    "print(f'###\\n p > {p}\\n')\n",
    "\n",
    "for d in Doc.objects.filter(pk__in=random.sample(list(r_docs.values_list('pk',flat=True)),5)):\n",
    "    print(d.title)\n",
    "    print(d.content)"
   ]
  },
  {
   "cell_type": "code",
   "execution_count": 47,
   "metadata": {},
   "outputs": [
    {
     "name": "stdout",
     "output_type": "stream",
     "text": [
      "Soil moisture, evapotranspiration, flood*, snow cover, groundwater, water quality 2 - prediction>0.2 True\n"
     ]
    }
   ],
   "source": [
    "users = User.objects.filter(username__in=[\n",
    "    \"quentin.lejeune@climateanalytics.org\",\n",
    "    \"chelsea.jones@climateanalytics.org\",\n",
    "    \"agathe.lucas@climateanalytics.org\",\n",
    "])\n",
    "tag, created = Tag.objects.get_or_create(query=q,title=s+\" 2 - prediction>0.2\")\n",
    "print(tag, created)\n",
    "for i,d in enumerate(Doc.objects.filter(pk__in=random.sample(list(r_docs.values_list('pk',flat=True)),25*3))):\n",
    "    u = users[i%users.count()]\n",
    "    d.tag.add(tag)\n",
    "    do, created = DocOwnership.objects.get_or_create(\n",
    "        doc=d,\n",
    "        query=q,\n",
    "        tag=tag,\n",
    "        user=u\n",
    "    ) \n",
    "tag.update_tag()\n"
   ]
  },
  {
   "cell_type": "markdown",
   "metadata": {},
   "source": [
    "# TES"
   ]
  },
  {
   "cell_type": "code",
   "execution_count": 85,
   "metadata": {},
   "outputs": [
    {
     "name": "stdout",
     "output_type": "stream",
     "text": [
      "[{'relevant': 1, 'n': 21}, {'relevant': 0, 'n': 20}, {'relevant': 2, 'n': 10}, {'relevant': 3, 'n': 9}]\n"
     ]
    },
    {
     "data": {
      "text/plain": [
       "[{'category__name': '53 Mortality and growth', 'n': 12},\n",
       " {'category__name': '59 Wildfires', 'n': 11},\n",
       " {'category__name': '51 Distribution and range shifts (Terrestrial and freshwater)',\n",
       "  'n': 8},\n",
       " {'category__name': '55 Community composition and interaction', 'n': 8},\n",
       " {'category__name': '54 Physiology and metabolism', 'n': 2},\n",
       " {'category__name': '28 River runoff', 'n': 1},\n",
       " {'category__name': '26 Drought frequency and intensity', 'n': 1},\n",
       " {'category__name': '24 Water level (lake, reservoir, groundwater)', 'n': 1}]"
      ]
     },
     "execution_count": 85,
     "metadata": {},
     "output_type": "execute_result"
    }
   ],
   "source": [
    "tag, created = Tag.objects.get_or_create(query=q,title=\"TES keywords predicted category relevant\")\n",
    "tag_dors = tag.docownership_set.values('relevant').annotate(n=Count('pk'))\n",
    "print(list(tag_dors.order_by('-n')))\n",
    "tag_dos = tag.docownership_set.values('doc__id')\n",
    "ducs = DocUserCat.objects.filter(doc__id__in=tag_dos,category__level=4).values('category__name').annotate(n=Count('pk'))\n",
    "list(ducs.order_by('-n'))"
   ]
  },
  {
   "cell_type": "code",
   "execution_count": 84,
   "metadata": {},
   "outputs": [
    {
     "name": "stdout",
     "output_type": "stream",
     "text": [
      "[{'relevant': 1, 'n': 20}, {'relevant': 0, 'n': 20}, {'relevant': 2, 'n': 11}, {'relevant': 3, 'n': 9}]\n"
     ]
    },
    {
     "data": {
      "text/plain": [
       "[{'category__name': '53 Mortality and growth', 'n': 6},\n",
       " {'category__name': '45 Ocean ecosystem productivity', 'n': 4},\n",
       " {'category__name': '55 Community composition and interaction', 'n': 4},\n",
       " {'category__name': '56 Terrestrial carbon cycle', 'n': 3},\n",
       " {'category__name': '54 Physiology and metabolism', 'n': 3},\n",
       " {'category__name': '48 Carbon cycle (marine & coastal)', 'n': 3},\n",
       " {'category__name': '02 Air or land surface temperature changes', 'n': 2},\n",
       " {'category__name': '08 Changes in strong precipitation', 'n': 2},\n",
       " {'category__name': '19 Water quality/chemistry (oceans)', 'n': 2},\n",
       " {'category__name': '22 Water quality/chemistry (freshwater)', 'n': 2},\n",
       " {'category__name': '28 River runoff', 'n': 2},\n",
       " {'category__name': '66 Health', 'n': 2},\n",
       " {'category__name': '46 Changes in kelp forests', 'n': 1},\n",
       " {'category__name': '47 Seagrass', 'n': 1},\n",
       " {'category__name': '36 Species distribution (marine & coastal)', 'n': 1},\n",
       " {'category__name': '25 Evapotranspiration', 'n': 1},\n",
       " {'category__name': '12 Seasonality', 'n': 1},\n",
       " {'category__name': '05 Changes in precipitation', 'n': 1},\n",
       " {'category__name': '03 Extreme temperature', 'n': 1},\n",
       " {'category__name': '58 Pests and diseases', 'n': 1},\n",
       " {'category__name': '69 Crop yields', 'n': 1},\n",
       " {'category__name': '67 Vector-borne diseases', 'n': 1},\n",
       " {'category__name': '42 Species abundance (marine & coastal)', 'n': 1}]"
      ]
     },
     "execution_count": 84,
     "metadata": {},
     "output_type": "execute_result"
    }
   ],
   "source": [
    "tag = Tag.objects.get(query=q,title=\"TES keywords prediction>0.2\")\n",
    "tag_dors = tag.docownership_set.values('relevant').annotate(n=Count('pk'))\n",
    "print(list(tag_dors.order_by('-n')))\n",
    "tag_dos = tag.docownership_set.values('doc__id')\n",
    "ducs = DocUserCat.objects.filter(doc__id__in=tag_dos,category__level=4).values('category__name').annotate(n=Count('pk'))\n",
    "list(ducs.order_by('-n'))"
   ]
  },
  {
   "cell_type": "code",
   "execution_count": 7,
   "metadata": {},
   "outputs": [
    {
     "name": "stdout",
     "output_type": "stream",
     "text": [
      "2973\n",
      "title__iregex\n",
      "content__iregex\n",
      "59278 582 99\n",
      "###\n",
      " all query docs\n",
      "\n",
      "Holocene climate variability, vegetation dynamics and fire regime in the central Pyrenees: the Basa de la Mora sequence (NE Spain)\n",
      "Comparison of \"warm and wet\" and \"cold and icy\" scenarios for early Mars in a 3-D climate model\n",
      "Shift in community structure in an early-successional Mediterranean shrubland driven by long-term experimental warming and drought and natural extreme droughts\n",
      "DEPOSITIONAL-ENVIRONMENTS OF THE HART COAL ZONE (PALEOCENE), WILLOW BUNCH COALFIELD, SOUTHERN SASKATCHEWAN, CANADA FROM PETROGRAPHIC, PALYNOLOGICAL, PALEOBOTANICAL, MINERAL AND TRACE-ELEMENT STUDIES\n",
      "Land-use intensity alters both the source and fate of CO2 within eight sub-tropical estuaries\n",
      "###\n",
      " p > 0.5\n",
      "\n",
      "LONG-TERM POPULATION TRENDS OF COLONIAL WADING BIRDS BREEDING IN DONANA (SW SPAIN) IN RELATION TO ENVIRONMENTAL AND ANTHROPOGENIC FACTORS\n",
      "Humidity-regulated dormancy onset in the Fabaceae: a conceptual model and its ecological implications for the Australian wattle Acacia saligna\n",
      "Ecosystem Processes and Human Influences Regulate Streamflow Response to Climate Change at Long-Term Ecological Research Sites\n",
      "Regional aspects of streamflow droughts in the Andean rivers of Patagonia, Argentina. Links with large-scale climatic oscillations\n",
      "Global Emergence of Anthropogenic Climate Change in Fire Weather Indices\n",
      "###\n",
      " predicted cat\n",
      "Plants, Birds and Butterflies: Short-Term Responses of Species Communities to Climate Warming Vary by Taxon and with Altitude\n",
      "Effect of fire on small mammals: a systematic review\n",
      "Assessment of wildland fire impacts on watershed annual water yield: Analytical framework and case studies in the United States\n",
      "Contrasting impacts of precipitation on Mediterranean birds and butterflies\n",
      "Seasonal variability of forest sensitivity to heat and drought stresses: A synthesis based on carbon fluxes from North American forest ecosystems\n"
     ]
    }
   ],
   "source": [
    "django.db.connection.close()\n",
    "\n",
    "assigned = set(DocOwnership.objects.filter(query__project=project).values_list('doc__id',flat=True))\n",
    "print(len(assigned))\n",
    "\n",
    "s = \"CO2.{,2}concentration, carbon flux, NPP, disturbance, decomposition, fire weather, area burnt, pest outbreak, fitness, biome shift\"\n",
    "s+= \", water.{,2}borne, vector.{,2}borne, heat.{,2}stress, drought.{,2}stress, infestation, insect, fungh, peat, encroachment, drainage\"\n",
    "s+= \", stratification, algae, phytoplankton, pest, biodiversity\"\n",
    "inclusion = s.replace(', ','|')\n",
    "se = \"tree ring, phenolog, flowering, mortality, growth\"\n",
    "exclusions = se.replace(', ','|')\n",
    "\n",
    "p = 0.5\n",
    "\n",
    "pds = predicted_ids[predicted_ids['prediction']>p]\n",
    "c_ids = pd.read_csv(f'../data/latest_predicted_12 - Terrestrial ES')\n",
    "\n",
    "dids = set([])\n",
    "eids = set([])\n",
    "for f in [\"title__iregex\",\"content__iregex\"]:\n",
    "    print(f)\n",
    "    dids = dids | set(q.doc_set.filter(**{f: inclusion}).values_list('pk',flat=True))\n",
    "    eids = eids | set(q.doc_set.filter(**{f: exclusions}).values_list('pk',flat=True))\n",
    "    \n",
    "doc_ids = dids - eids\n",
    "    \n",
    "docs = Doc.objects.filter(pk__in=doc_ids).exclude(id__in=assigned)\n",
    "\n",
    "#docs = q.doc_set.filter(title__iregex=inclusion).exclude(id__in=assigned).exclude(content__iregex=exclusions)\n",
    "r_docs = Doc.objects.filter(id__in=doc_ids & set(pds['id']))\n",
    "rc_docs = Doc.objects.filter(id__in=doc_ids & set(pds['id']) & set(c_ids['id']))\n",
    "\n",
    "print(docs.count(), r_docs.count(), rc_docs.count())\n",
    "\n",
    "print('###\\n all query docs\\n')\n",
    "\n",
    "for d in Doc.objects.filter(pk__in=random.sample(list(docs.values_list('pk',flat=True)),5)):\n",
    "    print(d.title)\n",
    "    \n",
    "print(f'###\\n p > {p}\\n')\n",
    "\n",
    "for d in Doc.objects.filter(pk__in=random.sample(list(r_docs.values_list('pk',flat=True)),5)):\n",
    "    print(d.title)\n",
    "    \n",
    "print(f'###\\n predicted cat')\n",
    "\n",
    "for d in Doc.objects.filter(pk__in=random.sample(list(rc_docs.values_list('pk',flat=True)),5)):\n",
    "    print(d.title)"
   ]
  },
  {
   "cell_type": "code",
   "execution_count": null,
   "metadata": {},
   "outputs": [],
   "source": []
  },
  {
   "cell_type": "code",
   "execution_count": 69,
   "metadata": {},
   "outputs": [
    {
     "name": "stdout",
     "output_type": "stream",
     "text": [
      "CO2.{,2}concentration, carbon flux, NPP, disturbance, decomposition, fire weather, area burnt, pest outbreak, fitness, biome shift, water.{,2}borne, vector.{,2}borne, heat.{,2}stress, drought.{,2}stress, infestation, insect, fungh, peat, encroachment, drainage, stratification, algae, phytoplankton prediction>0.2 True\n"
     ]
    }
   ],
   "source": [
    "users = User.objects.filter(username__in=[\n",
    "    #\"burcu.yesil@climateanalytics.org\",\n",
    "    \"robert.brecha@climateanalytics.org\",\n",
    "    #\"gerrithansen@mailbox.org\"\n",
    "])\n",
    "tag, created = Tag.objects.get_or_create(query=q,title=\"TES keywords prediction>0.2\")\n",
    "print(tag, created)\n",
    "for i,d in enumerate(Doc.objects.filter(pk__in=random.sample(list(r_docs.values_list('pk',flat=True)),5*users.count()))):\n",
    "    u = users[i%users.count()]\n",
    "    d.tag.add(tag)\n",
    "    do, created = DocOwnership.objects.get_or_create(\n",
    "        doc=d,\n",
    "        query=q,\n",
    "        tag=tag,\n",
    "        user=u\n",
    "    ) \n",
    "tag.update_tag()"
   ]
  },
  {
   "cell_type": "code",
   "execution_count": 111,
   "metadata": {},
   "outputs": [
    {
     "name": "stdout",
     "output_type": "stream",
     "text": [
      "TES keywords prediction>0.2 False\n",
      "gerrithansen@mailbox.org\n",
      "20\n",
      "robert.brecha@climateanalytics.org\n",
      "20\n",
      "burcu.yesil@climateanalytics.org\n",
      "20\n"
     ]
    }
   ],
   "source": [
    "users = User.objects.filter(username__in=[\n",
    "    \"burcu.yesil@climateanalytics.org\",\n",
    "    \"robert.brecha@climateanalytics.org\",\n",
    "    \"gerrithansen@mailbox.org\"\n",
    "])\n",
    "tag, created = Tag.objects.get_or_create(query=q,title=\"TES keywords prediction>0.2\")\n",
    "print(tag, created)\n",
    "for u in users:\n",
    "    print(u)\n",
    "    print(tag.docownership_set.filter(user=u).count())"
   ]
  },
  {
   "cell_type": "code",
   "execution_count": 112,
   "metadata": {},
   "outputs": [
    {
     "name": "stdout",
     "output_type": "stream",
     "text": [
      "TES keywords predicted category relevant False\n",
      "27\n",
      "30\n"
     ]
    }
   ],
   "source": [
    "tag, created = Tag.objects.get_or_create(query=q,title=\"TES keywords predicted category relevant 3\")\n",
    "print(tag, created)\n",
    "users = User.objects.filter(username__in=[\n",
    "    \"robert.brecha@climateanalytics.org\",\n",
    "    \"gerrithansen@mailbox.org\"\n",
    "])\n",
    "bu = User.objects.get(username=\"burcu.yesil@climateanalytics.org\")\n",
    "for u in users:\n",
    "    dos = tag.docownership_set.filter(user=u,relevant=0)\n",
    "    print(dos.count())\n",
    "    for do in dos[:10]:\n",
    "        do.user=bu\n",
    "        do.save()"
   ]
  },
  {
   "cell_type": "code",
   "execution_count": 8,
   "metadata": {},
   "outputs": [
    {
     "name": "stdout",
     "output_type": "stream",
     "text": [
      "TES keywords predicted category relevant 3 False\n"
     ]
    }
   ],
   "source": [
    "users = User.objects.filter(username__in=[\n",
    "    \"robert.brecha@climateanalytics.org\",\n",
    "    #\"gerrithansen@mailbox.org\"\n",
    "])\n",
    "tag, created = Tag.objects.get_or_create(query=q,title=\"TES keywords predicted category relevant 3\")\n",
    "print(tag, created)\n",
    "for i,d in enumerate(Doc.objects.filter(pk__in=random.sample(list(rc_docs.values_list('pk',flat=True)),5))):\n",
    "    u = users[i%users.count()]\n",
    "    d.tag.add(tag)\n",
    "    do, created = DocOwnership.objects.get_or_create(\n",
    "        doc=d,\n",
    "        query=q,\n",
    "        tag=tag,\n",
    "        user=u\n",
    "    ) \n",
    "tag.update_tag()"
   ]
  },
  {
   "cell_type": "code",
   "execution_count": 72,
   "metadata": {},
   "outputs": [],
   "source": []
  },
  {
   "cell_type": "markdown",
   "metadata": {},
   "source": [
    "# food, malnutrition, conflict.."
   ]
  },
  {
   "cell_type": "code",
   "execution_count": 53,
   "metadata": {},
   "outputs": [
    {
     "name": "stdout",
     "output_type": "stream",
     "text": [
      "[{'relevant': 2, 'n': 22}, {'relevant': 0, 'n': 11}, {'relevant': 1, 'n': 6}, {'relevant': 3, 'n': 1}]\n"
     ]
    },
    {
     "data": {
      "text/plain": [
       "[{'category__name': '73 Displacement and migration', 'n': 3},\n",
       " {'category__name': '09 Atmospheric/marine circulation or teleconnections',\n",
       "  'n': 1},\n",
       " {'category__name': '10 Wind speed', 'n': 1},\n",
       " {'category__name': '24 Water level (lake, reservoir, groundwater)', 'n': 1},\n",
       " {'category__name': '60 Other (Terrestrial and freshwater)', 'n': 1},\n",
       " {'category__name': '69 Crop yields', 'n': 1},\n",
       " {'category__name': '70 Food prices', 'n': 1},\n",
       " {'category__name': '07 Aridity/dryness', 'n': 1},\n",
       " {'category__name': '80 Livestock management', 'n': 1}]"
      ]
     },
     "execution_count": 53,
     "metadata": {},
     "output_type": "execute_result"
    }
   ],
   "source": [
    "tag = Tag.objects.get(query=q,title=\"Food, conflict, migration - prediction>0.2\")\n",
    "tag_dos = tag.docownership_set.values('doc__id')\n",
    "tag_dors = tag.docownership_set.values('relevant').annotate(n=Count('pk'))\n",
    "print(list(tag_dors.order_by('-n')))\n",
    "ducs = DocUserCat.objects.filter(doc__id__in=tag_dos,category__level=4).values('category__name').annotate(n=Count('pk'))\n",
    "list(ducs.order_by('-n'))"
   ]
  },
  {
   "cell_type": "code",
   "execution_count": 58,
   "metadata": {},
   "outputs": [
    {
     "name": "stdout",
     "output_type": "stream",
     "text": [
      "0.3696876377976783\n"
     ]
    }
   ],
   "source": [
    "print(predicted_ids.loc[predicted_ids['id']==d.id,\"prediction\"].values[0])"
   ]
  },
  {
   "cell_type": "code",
   "execution_count": 48,
   "metadata": {},
   "outputs": [
    {
     "name": "stdout",
     "output_type": "stream",
     "text": [
      "2912\n",
      "Food price|malnutrition|conflict|human displacement|internal displacement|internally displaced|migration\n",
      "species, bird, mammal, fish, ecosystem, passerine, plankton, salmon, plant migration, eels, inlet migration, alligator, conflicting, aphid, reptile, thward migration, stward migration, horizontal migration, vegetation migration, tuna, meridional migration, vertical migration, autumn migration, spring migration, summer migration, winter migration, meridional migration, wildlife migration, lateral migration, animal migration, ward migration, seasonal migration, turtle, breeding, butterfly, elephant, waterfowl, inland migration, (?:migration\\w*\\W+(?:\\w+\\W+){0,5}?SST|SST\\W+(?:\\w+\\W+){0,5}?migration*), (?:migration\\w*\\W+(?:\\w+\\W+){0,5}?marsh\\w*|marsh\\w*\\W+(?:\\w+\\W+){0,5}?migration*), (?:migration\\w*\\W+(?:\\w+\\W+){0,5}?atmospher\\w*|atmospher\\w*\\W+(?:\\w+\\W+){0,5}?migration*)\n",
      "species|bird|mammal|fish|ecosystem|passerine|plankton|salmon|plant migration|eels|inlet migration|alligator|conflicting|aphid|reptile|thward migration|stward migration|horizontal migration|vegetation migration|tuna|meridional migration|vertical migration|autumn migration|spring migration|summer migration|winter migration|meridional migration|wildlife migration|lateral migration|animal migration|ward migration|seasonal migration|turtle|breeding|butterfly|elephant|waterfowl|inland migration|(?:migration\\w*\\W+(?:\\w+\\W+){0,5}?SST|SST\\W+(?:\\w+\\W+){0,5}?migration*)|(?:migration\\w*\\W+(?:\\w+\\W+){0,5}?marsh\\w*|marsh\\w*\\W+(?:\\w+\\W+){0,5}?migration*)|(?:migration\\w*\\W+(?:\\w+\\W+){0,5}?atmospher\\w*|atmospher\\w*\\W+(?:\\w+\\W+){0,5}?migration*)\n",
      "title__iregex\n",
      "content__iregex\n",
      "7867 180\n",
      "###\n",
      " all query docs\n",
      "\n",
      "0.05338278977985979\n",
      "Oil, land and conflict: the decline of Misseriyya pastoralism in Sudan\n",
      "\n",
      "0.028251735278760386\n",
      "Seeing It Coming: A Complexity Approach to Disasters and Humanitarian Crises\n",
      "\n",
      "0.12325062299943243\n",
      "Climate and conflicts: the security risks of global warming\n",
      "\n",
      "0.06890138756575688\n",
      "Towards an understanding of resilience: responding to health systems shocks\n",
      "\n",
      "0.02922642389752961\n",
      "South-to-south exchanges in understanding and addressing natural resource conflicts\n",
      "\n",
      "###\n",
      " p > 0.3\n",
      "\n",
      "0.3791730600218751\n",
      "Toward Mapping Gridded Drought Indices to Evaluate Local Drought in a Rapidly Changing Global Environment\n",
      "Uncertain future climate, recent persistent droughts, and subsequent water conflicts increasingly threaten the sustainability of regional water resources in the United States. Climate change and ongoing water disputes brought about by changes in water availability and timing emphasize the need for decision makers to develop proactive adaptive management strategies to mitigate losses. Developing a drought management system equipped with advanced visualization settings is critical to lay out drought evolvement at local scales, yet an effort has not been made to evaluate how different spatial discretization can represent local drought as opposed to conventional drought monitoring. Gridded drought indices, including the standardized precipitation index (SPI), Palmer drought severity index (PDSI), and Hydrologic drought index (HDI) at high-resolution spatial (12 km by 12 km) scales are demonstrated to provide useful insights to evaluate local drought possibly driven by a rapidly changing global environment. A new method for duration factors in PDSI is also discussed to better represent drought conditions over time and space.\n",
      "\n",
      "0.3120332181604111\n",
      "SENSITIVITY OF PACIFIC-NORTHWEST WATER-RESOURCES TO GLOBAL WARMING\n",
      "The potential effect of increasing atmospheric concentrations of carbon dioxide and other so-called greenhouse gases on the land surface environment is not well understood. Generally, there is some consistency among computer models of global climate that surface temperatures will increase and that, in many areas, precipitation and evaporation also may increase. However, determining the effects of such changes on the distribution and circulation of water at the land surface, and on water management systems, remains problematic. The American River, Washington, a mountainous tributary of the Yakima River, is typical of rivers in the Columbia Basin states of Washington, Oregon, Idaho, and western Montana, as well as southern British Columbia. Using the American River as a case study, this investigation developed computer models to simulate and identify water management conflicts that might arise in this region under a general climate warming of both 2-degrees-C and 4-degrees-C. For warmer climates, it was found that snow accumulation would be substantially reduced, and the river's high flow season would shift from the spring to the winter. Potential evaporation would increase throughout the year (mostly in the summer), but peak actual evaporation would shift to the late spring and early summer, due to reduced summer soil moisture. The effect of the streamflow pattern that would accompany a warmer climate was tested on small and moderate sized hypothetical multi-purpose reservoirs. The results showed that water supply reliability would be significantly degraded by the earlier spring runoff pattern that would accompany a warmer climate, especially for small reservoirs. The result was that hydroelectric revenues might increase due to larger reservoir releases needed during the winter peak demand season. An investigation of alternative operating policies for the reservoir system showed that more efficient reservoir operation alone would not mitigate the degraded reliability of water supply that would accompany a warmer climate.\n",
      "\n",
      "0.6100759154859152\n",
      "Global drought and severe drought-affected populations in 1.5 and 2 degrees C warmer worlds\n",
      "The 2015 Paris Agreement proposed a more ambitious climate change mitigation target on limiting global warming to 1.5 degrees C instead of 2 degrees C above preindustrial levels. Scientific investigations on environmental risks associated with these warming targets are necessary to inform climate policymaking. Based on the Coupled Model Intercomparison Project phase 5 (CMIP5) climate models, we present the first risk-based assessment of changes in global drought and the impact of severe drought on populations from additional 1.5 and 2 degrees C warming conditions. Our results highlight the risk of drought on a global scale and in several hotspot regions such as the Amazon, northeastern Brazil, southern Africa and Central Europe at both 1.5 and 2 degrees C global warming relative to the historical period, showing increases in drought durations from 2.9 to 3.2 months. Correspondingly, more total and urban populations would be exposed to severe droughts globally (+132.5 +/- 216.2 million and +194.5 +/- 276.5 million total population and +350.2 +/- 158.8 million and +410.7 +/- 213.5 million urban populations in 1.5 and 2 degrees C warmer worlds) and regionally (e.g., East Africa, West Africa and South Asia). Less rural populations (-217.7 +/- 79.2 million and -216.2 +/- 82.4 million rural populations in 1.5 and 2 degrees C warmer worlds) would be exposed to severe drought globally under climate warming, population growth and especially the urbanization-induced population migration. By keeping global warming at 1.5 degrees C above the preindustrial levels instead of 2 degrees C, there is a decrease in drought risks (i.e., less drought duration, less drought intensity and severity but relatively more frequent drought) and the affected total, urban and rural populations would decrease globally and in most regions. While challenging for both East Africa and South Asia, the benefits of limiting warming to below 1.5 degrees C in terms of global drought risk and impact reduction are significant.\n",
      "\n",
      "0.3862372761787085\n",
      "Associations between Knowledge of the Causes and Perceived Impacts of Climate Change: A Cross-Sectional Survey of Medical, Public Health and Nursing Students in Universities in China\n",
      "This study aimed to measure the knowledge and perceptions of medical, public health, and nursing students about climate change and its impacts, and to identify associations between the knowledge and perceptions. Data were from a nationwide cross-sectional survey of 1387 students sampled in five different regional universities in China (April-May 2017). The knowledge and perceptions of the participants were collected by self-administered questionnaires. We found that most respondents believed that climate change is generally bad (83%) and bad for human health (88%), while 67% believed that climate change is controllable. The vast majority of respondents acknowledged illness conditions resulting from poor air quality (95%), heat stress (93%), and extreme weather events (91%) as potential impacts of climate change. Nevertheless, only 39% recognized malnutrition as a consequence of food deprivation resulting from climate change. Around 58% of respondents could correctly identify the causes of climate change. The knowledge of the causes of climate change was not associated with the ability to recognize the health consequences of climate change. However, the knowledge of causes of climate change was a significant predictor of increased awareness of the negative impacts of climate change between the medical and nursing students, although this was not the case among their public health counterparts. Poor knowledge about the causes of climate change is evident among students in China. They are able to recognize the direct links between weather events and health, but less likely to understand the consequences involving complicated pathways. Research and training into the underlying mechanisms of health impacts of climate change needs to be strengthened.\n",
      "\n",
      "0.5\n",
      "Temporary migration and climate variation in eastern Africa\n",
      "Africa is likely to experience warming and increased climate variability by the late 21st century. Climate extremes have been linked to adverse economic outcomes. Hence, adaptation is a key component of the United Nations Framework Convention on Climate Change agreements and development assistance. Effective climate adaptation policy requires an understanding of how temperature and rainfall variability affect migration patterns. Yet, how individuals in developing countries manage climate variation is poorly understood, especially in Africa. Combining high-resolution climate data with panel micro-data on migration, labor participation, and demographics, we employ regression analysis to assess temporary migration responses to local temperature and precipitation anomalies in four East African countries. We find that climate impacts are most pronounced in urban areas, with a standard deviation temperature increase and rainfall decrease leading to respective 10 and 12 percent declines in out-migration relative to mean values. Evidence from other labor market outcomes suggests that urban out-migration is not associated with reduced local employment opportunities. Instead, declines in urban out-migration appear to coincide with negative local climate employment impacts. These results challenge the narrative that temporary out-migration serves as a safety valve during climate extremes and that climate change will most strongly affect out-migration rates from rural areas in developing countries. (C) 2019 The Authors. Published by Elsevier Ltd.\n",
      "\n"
     ]
    }
   ],
   "source": [
    "assigned = set(DocOwnership.objects.filter(query__project=project).values_list('doc__id',flat=True))\n",
    "print(len(assigned))\n",
    "\n",
    "s = \"Food price, malnutrition, conflict, human displacement, internal displacement, internally displaced, migration\"\n",
    "inclusion = s.replace(', ','|')\n",
    "print(inclusion)\n",
    "se = \"species, bird, mammal, fish, ecosystem, passerine, plankton, salmon, plant migration, eels, inlet migration, alligator, conflicting, aphid, reptile\"\n",
    "se += \", thward migration, stward migration, horizontal migration, vegetation migration, tuna, meridional migration, vertical migration\"\n",
    "se += \", autumn migration, spring migration, summer migration, winter migration, meridional migration, wildlife migration, lateral migration, animal migration, ward migration, seasonal migration\"\n",
    "se += \", turtle, breeding, butterfly, elephant, waterfowl, inland migration\"\n",
    "se += \", (?:migration\\w*\\W+(?:\\w+\\W+){0,5}?SST|SST\\W+(?:\\w+\\W+){0,5}?migration*)\"\n",
    "se += \", (?:migration\\w*\\W+(?:\\w+\\W+){0,5}?marsh\\w*|marsh\\w*\\W+(?:\\w+\\W+){0,5}?migration*)\"\n",
    "se += \", (?:migration\\w*\\W+(?:\\w+\\W+){0,5}?atmospher\\w*|atmospher\\w*\\W+(?:\\w+\\W+){0,5}?migration*)\"\n",
    "print(se)\n",
    "exclusions = se.replace(', ','|')\n",
    "\n",
    "print(exclusions)\n",
    "\n",
    "p = 0.3\n",
    "\n",
    "pds = predicted_ids[predicted_ids['prediction']>p]\n",
    "\n",
    "dids = set([])\n",
    "eids = set([])\n",
    "for f in [\"title__iregex\",\"content__iregex\"]:\n",
    "    print(f)\n",
    "    dids = dids | set(q.doc_set.filter(**{f: inclusion}).values_list('pk',flat=True))\n",
    "    eids = eids | set(q.doc_set.filter(**{f: exclusions}).values_list('pk',flat=True))\n",
    "    \n",
    "doc_ids = dids - eids\n",
    "    \n",
    "docs = Doc.objects.filter(pk__in=doc_ids).exclude(id__in=assigned)\n",
    "\n",
    "#docs = q.doc_set.filter(title__iregex=inclusion).exclude(id__in=assigned).exclude(content__iregex=exclusions)\n",
    "r_docs = Doc.objects.filter(id__in=doc_ids & set(pds['id']))\n",
    "\n",
    "print(docs.count(), r_docs.count())\n",
    "\n",
    "print('###\\n all query docs\\n')\n",
    "\n",
    "for d in Doc.objects.filter(pk__in=random.sample(list(docs.values_list('pk',flat=True)),5)):\n",
    "    try:\n",
    "        print(predicted_ids.loc[predicted_ids['id']==d.id,\"prediction\"].values[0])\n",
    "    except:\n",
    "        print(predicted_ids.loc[predicted_ids['id']==d.id,\"prediction\"].values)\n",
    "    print(d.title)\n",
    "    print()\n",
    "    \n",
    "print(f'###\\n p > {p}\\n')\n",
    "\n",
    "for d in Doc.objects.filter(pk__in=random.sample(list(r_docs.values_list('pk',flat=True)),5)):\n",
    "    try:\n",
    "        print(predicted_ids.loc[predicted_ids['id']==d.id,\"prediction\"].values[0])\n",
    "    except:\n",
    "        print(predicted_ids.loc[predicted_ids['id']==d.id,\"prediction\"].values)\n",
    "    print(d.title)\n",
    "    print(d.content)\n",
    "    print()\n",
    "    \n"
   ]
  },
  {
   "cell_type": "code",
   "execution_count": 49,
   "metadata": {},
   "outputs": [
    {
     "name": "stdout",
     "output_type": "stream",
     "text": [
      "Food, conflict, migration - prediction>0.3 4 True\n"
     ]
    }
   ],
   "source": [
    "users = User.objects.filter(username__in=[\n",
    "    #\"nicole.vanmaanen@climateanalytics.org\",\n",
    "    \"carl.schleussner@climateanalytics.org\"\n",
    "])\n",
    "tag, created = Tag.objects.get_or_create(query=q,title=\"Food, conflict, migration - prediction>0.3 4\")\n",
    "print(tag, created)\n",
    "for i,d in enumerate(Doc.objects.filter(pk__in=random.sample(list(r_docs.values_list('pk',flat=True)),25))):\n",
    "    u = users[i%users.count()]\n",
    "    d.tag.add(tag)\n",
    "    do, created = DocOwnership.objects.get_or_create(\n",
    "        doc=d,\n",
    "        query=q,\n",
    "        tag=tag,\n",
    "        user=u\n",
    "    ) \n",
    "tag.update_tag()"
   ]
  },
  {
   "cell_type": "code",
   "execution_count": 20,
   "metadata": {},
   "outputs": [
    {
     "data": {
      "text/plain": [
       "0"
      ]
     },
     "execution_count": 20,
     "metadata": {},
     "output_type": "execute_result"
    }
   ],
   "source": []
  },
  {
   "cell_type": "code",
   "execution_count": 8,
   "metadata": {},
   "outputs": [
    {
     "name": "stdout",
     "output_type": "stream",
     "text": [
      "Food, conflict, migration - prediction>0.2 - 2 False\n"
     ]
    }
   ],
   "source": [
    "users = User.objects.filter(username__in=[\n",
    "    #\"nicole.vanmaanen@climateanalytics.org\",\n",
    "    \"carl.schleussner@climateanalytics.org\"\n",
    "])\n",
    "uc = users.count()\n",
    "tag, created = Tag.objects.get_or_create(query=q,title=\"Food, conflict, migration - prediction>0.2 - 2\")\n",
    "print(tag, created)\n",
    "for i,d in enumerate(Doc.objects.filter(pk__in=random.sample(list(r_docs.values_list('pk',flat=True)),uc*20))):\n",
    "    u = users[i%uc]\n",
    "    d.tag.add(tag)\n",
    "    do, created = DocOwnership.objects.get_or_create(\n",
    "        doc=d,\n",
    "        query=q,\n",
    "        tag=tag,\n",
    "        user=u\n",
    "    ) \n",
    "tag.update_tag()"
   ]
  },
  {
   "cell_type": "markdown",
   "metadata": {},
   "source": [
    "# Infrastructure, communities, land use...\n"
   ]
  },
  {
   "cell_type": "code",
   "execution_count": 12,
   "metadata": {},
   "outputs": [
    {
     "data": {
      "text/plain": [
       "[{'category__name': '66 Health', 'n': 2},\n",
       " {'category__name': '69 Crop yields', 'n': 2},\n",
       " {'category__name': '28 River runoff', 'n': 2},\n",
       " {'category__name': '79 Livestock health', 'n': 1},\n",
       " {'category__name': '80 Livestock management', 'n': 1},\n",
       " {'category__name': '05 Changes in precipitation', 'n': 1},\n",
       " {'category__name': 'Food, fibre, and other ecosystem products', 'n': 1},\n",
       " {'category__name': '59 Wildfires', 'n': 1},\n",
       " {'category__name': '73 Displacement and migration', 'n': 1}]"
      ]
     },
     "execution_count": 12,
     "metadata": {},
     "output_type": "execute_result"
    }
   ],
   "source": [
    "tag, created = Tag.objects.get_or_create(query=q,title=\"Infrastructure, settlements - prediction > 0.2\")\n",
    "tag_dos = tag.docownership_set.values('doc__id')\n",
    "ducs = DocUserCat.objects.filter(doc__id__in=tag_dos,category__level=4).values('category__name').annotate(n=Count('pk'))\n",
    "list(ducs.order_by('-n'))"
   ]
  },
  {
   "cell_type": "code",
   "execution_count": 17,
   "metadata": {},
   "outputs": [
    {
     "name": "stdout",
     "output_type": "stream",
     "text": [
      "2509\n",
      "title__iregex\n",
      "content__iregex\n",
      "7290 486\n",
      "###\n",
      " all query docs\n",
      "\n",
      "Assessing vulnerability to climate change and socioeconomic stressors in the Reef Islands group, Solomon Islands\n",
      "Screening, evaluation, and ranking of oil reservoirs suitable for CO2-flood EOR and carbon dioxide sequestration\n",
      "Gambling over Growth: Economic Uncertainty, Discounting, and Regulatory Policy\n",
      "Growing \"Smart'? Urbanization Processes in the Pune Urban Agglomeration\n",
      "Safe operating space for humanity at a regional scale\n",
      "###\n",
      " p > 0.2\n",
      "\n",
      "\n",
      "Potential increase in floods in California's Sierra Nevada under future climate projections\n",
      "California's mountainous topography, exposure to occasional heavily moisture-laden storm systems, and varied communities and infrastructures in low lying areas make it highly vulnerable to floods. An important question facing the state-in terms of protecting the public and formulating water management responses to climate change-is \"how might future climate changes affect flood characteristics in California?\" To help address this, we simulate floods on the western slopes of the Sierra Nevada Mountains, the state's primary catchment, based on downscaled daily precipitation and temperature projections from three General Circulation Models (GCMs). These climate projections are fed into the Variable Infiltration Capacity (VIC) hydrologic model, and the VIC-simulated streamflows and hydrologic conditions, from historical and from projected climate change runs, allow us to evaluate possible changes in annual maximum 3-day flood magnitudes and frequencies of floods. By the end of the 21st Century, all projections yield larger-than-historical floods, for both the Northern Sierra Nevada (NSN) and for the Southern Sierra Nevada (SSN). The increases in flood magnitude are statistically significant (at p <= 0.01) for all the three GCMs in the period 2051-2099. The frequency of flood events above selected historical thresholds also increases under projections from CNRM CM3 and NCAR PCM1 climate models, while under the third scenario, GFDL CM2.1, frequencies remain constant or decline slightly, owing to an overall drying trend. These increases appear to derive jointly from increases in heavy precipitation amount, storm frequencies, and days with more precipitation falling as rain and less as snow. Increases in antecedent winter soil moisture also play a role in some areas. Thus, a complex, as-yet unpredictable interplay of several different climatic influences threatens to cause increased flood hazards in California's complex western Sierra landscapes.\n",
      "\n",
      "Vulnerability of water resources to climate change scenarios. Impacts on the irrigation districts in the Guayalejo-Tamesi river basin, Tamaulipas, Mexico\n",
      "This paper presents an assessment of the impacts of climate change induced water availability variations on the irrigation districts in the Guayalejo-Tamesi River Basin in Tamaulipas, Mexico. A model was developed using WEAP (Water Evaluation and Planning) to describe the vulnerability of the water resources in the case study river basin, taking into account the effects that climate change can have on water availability in the municipal, industrial, and agricultural sectors. The parameter to assess the extent to which the area is vulnerable to climate change was the Precipitation/Temperature relationship, or Lang Index. The latest version of the climate change program MAGICC/ScenGen was used, considering the MPIECH-5, GFDL2.0, and UKHADCM3 models for the A2 and B2 greenhouse gas emissions scenarios. The results indicate that climate change scenarios have the most negative impact on water availability in the agricultural sector. In addition, an analysis of the results suggests that water concessions, irrigation districts and hydraulic infrastructure in the river basin need to be reconsidered and updated to assure water availability to all its users.\n",
      "\n",
      "Regional effects of climate change on reindeer: a case study of the Muotkatunturi region in Finnish Lapland\n",
      "Few studies have investigated current climate changes for high latitude regions, and the impact of such changes on reindeer and indigenous people. previous work by other authors has identified snow and ice conditions in winter as being critical in determining the availability of forage for reindeer. Deep snow makes it difficult to access food. Lack of food weakens the herd and can reduce the allocation of nutrients to the development of the foetus in the female deer. Climate data for Lapland, northern Finland, and Karasjok, northern Norway, are examined, together with reindeer calf numbers for the period 1977 to 1994 for the Muotkatunturi region (68 degrees N 25 degrees 30'E). Between 1883 and 1993, precipitation increased but temperatures showed no clear warming or cooling trend. However, since the late 1980s, temperatures have increased. A regression analysis on the climate and reindeer data found that the warmer the winter prior to the rut, the fewer the live calves recorded the following year (r = 0.529, p < 0.05). Also, the wetter the winter prior to the rut, the fewer the calves recorded (r = 0.427, p < 0.10). In contrast, the warmer the autumn prior to their birth, the greater the number of calves recorded (r = 0.474, p < 0.10). These results suggest that as climate changes and winters become warmer and wetter with increased snowfall, calf numbers will decline. These findings have important implications for the Saami people who are heavily dependent on the reindeer for their livelihood.\n",
      "\n",
      "Indigenous fire management in the cerrado of Brazil: The case of the Kraho of Tocantins\n",
      "Indigenous peoples have been using fire in the cerrado (savannas) of Brazil as a form of management for thousands of years, yet we have little information on why, when and how these fire practices take place. The aim of this paper was to explore the traditional use of fire as a management tool by the Kraho indigenous group living in the north-eastern region of Tocantins state, Brazil. The results indicate that the Kraho burn for a variety of reasons throughout the dry season, thereby producing a mosaic of burned and unburned patches in the landscape. The paper discusses this burning regime in the context of contemporary issues regarding fire management, and in the face of changing perceptions to fire by the Kraho themselves.\n",
      "\n",
      "Integrated assessment of future water security: the case of Makassar, Indonesia\n",
      "In many urban areas, population growth and changes associated with climate change are likely to increase pressure on water resources. One such location is Makassar City, located in South Sulawesi, Indonesia, which is experiencing rapid growth, urban sprawling and an increase in freshwater demand but faces a possible reduction in water availability due to climate change. A study, as part of the CSIRO-AusAID Research for Development Alliance, combined climate change, hydrological and resource allocation modelling to examine water security and the resilience of planned infrastructure to climate change impacts. Rainfall and potential evapotranspiration from 5 different Global Circulation Models (GCMs) were statistically downscaled using the CSIRO Conformal Cubic Atmospheric Model, CCAM (McGregor and Dix, 2008). The downscaled rainfall and potential evapotranspiration were used in a hydrological model (SIMHYD) to estimate changes in streamflow for the two rivers which supply Makassar City. As shown in Figure 1 (right), although the CCAM projections show a reasonable variation for the projections of streamflow for both the Maros and Jennebarang catchments, all CCAM based projections of future streamflow agree on a reduction compared to historical records. The future predictions of streamflow indicate a reduction of mean annual streamflow in the order of 0-25 %, with reductions in the mean wet season flow of the same order when compared to the period 1980-1999. The reductions in streamflow for the dry season are projected to be between 5-35%. [GRAPHICS] The streamflow projections were combined with population projections, infrastructure development plans and water demand estimates to assess future scenarios of water supply capacity for the city, using the REsource ALlocation Model (REALM) software. Results indicate that under the assumed scenarios sufficient inflow for urban water allocation alone will be available during the wet season. However, during the dry season Makassar is likely to face supply problems not only due to reduction in streamflows, but mainly due to infrastructure constraints, population growth and competing water uses. The analysis suggests that the future water security in Makassar will depend on its ability to plan infrastructure and manage water demand despite of climate change. The information generated in this study has allowed key stakeholders to gain greater insight into the future water resource pressures and to re-assess adaptation options.\n"
     ]
    }
   ],
   "source": [
    "django.db.connection.close()\n",
    "assigned = set(DocOwnership.objects.filter(query__project=project).values_list('doc__id',flat=True))\n",
    "print(len(assigned))\n",
    "\n",
    "s = \"infrastructure, coastal cit*, coastal settlement, indigenous\"\n",
    "inclusion = s.replace(', ','|')\n",
    "se = \"species, bird, mammal, fish, ecosystem, animal\"\n",
    "exclusions = se.replace(', ','|')\n",
    "\n",
    "p = 0.2\n",
    "\n",
    "pds = predicted_ids[predicted_ids['prediction']>p]\n",
    "\n",
    "dids = set([])\n",
    "eids = set([])\n",
    "for f in [\"title__iregex\",\"content__iregex\"]:\n",
    "    print(f)\n",
    "    dids = dids | set(q.doc_set.filter(**{f: inclusion}).values_list('pk',flat=True))\n",
    "    eids = eids | set(q.doc_set.filter(**{f: exclusions}).values_list('pk',flat=True))\n",
    "    \n",
    "doc_ids = dids - eids\n",
    "    \n",
    "docs = Doc.objects.filter(pk__in=doc_ids).exclude(id__in=assigned)\n",
    "\n",
    "#docs = q.doc_set.filter(title__iregex=inclusion).exclude(id__in=assigned).exclude(content__iregex=exclusions)\n",
    "r_docs = Doc.objects.filter(id__in=doc_ids & set(pds['id']))\n",
    "\n",
    "print(docs.count(), r_docs.count())\n",
    "\n",
    "print('###\\n all query docs\\n')\n",
    "\n",
    "for d in Doc.objects.filter(pk__in=random.sample(list(docs.values_list('pk',flat=True)),5)):\n",
    "    print(d.title)\n",
    "    \n",
    "print(f'###\\n p > {p}\\n')\n",
    "\n",
    "for d in Doc.objects.filter(pk__in=random.sample(list(r_docs.values_list('pk',flat=True)),5)):\n",
    "    print()\n",
    "    print(d.title)\n",
    "    print(d.content)\n",
    "    \n"
   ]
  },
  {
   "cell_type": "code",
   "execution_count": 18,
   "metadata": {},
   "outputs": [
    {
     "name": "stdout",
     "output_type": "stream",
     "text": [
      "Infrastructure, settlements 2 - prediction > 0.2 True\n"
     ]
    }
   ],
   "source": [
    "users = User.objects.filter(username__in=[\n",
    "    #\"michael.hegarty@climateanalytics.org\",\n",
    "    \"emily.theokritoff@climateanalytics.org\"\n",
    "])\n",
    "tag, created = Tag.objects.get_or_create(query=q,title=\"Infrastructure, settlements 2 - prediction > 0.2\")\n",
    "print(tag, created)\n",
    "for i,d in enumerate(Doc.objects.filter(pk__in=random.sample(list(r_docs.values_list('pk',flat=True)),40))):\n",
    "    u = users[0]\n",
    "    d.tag.add(tag)\n",
    "    do, created = DocOwnership.objects.get_or_create(\n",
    "        doc=d,\n",
    "        query=q,\n",
    "        tag=tag,\n",
    "        user=u\n",
    "    ) \n",
    "tag.update_tag()"
   ]
  },
  {
   "cell_type": "code",
   "execution_count": 88,
   "metadata": {},
   "outputs": [
    {
     "name": "stdout",
     "output_type": "stream",
     "text": [
      "2214\n",
      "title__iregex\n",
      "content__iregex\n",
      "9038 1352\n",
      "###\n",
      " all query docs\n",
      "\n",
      "Did irrigation impact 20th century air temperature in the High Plains aquifer region?\n",
      "Evaluating adaptation and the production development of Finnish agriculture in climate and global change\n",
      "Climate change impact, mitigation and adaptation strategies for agricultural and water resources, in Ganga Plain (India)\n",
      "Accuracy assessment of land cover/land use classifiers in dry and humid areas of Iran\n",
      "Returns on investment in watershed conservation: Application of a best practices analytical framework to the Rio Camboriu Water Producer program, Santa Catarina, Brazil\n",
      "###\n",
      " p > 0.2\n",
      "\n",
      "\n",
      "Scenario-Based Impact Assessment of Land Use/Cover and Climate Changes on Watershed Hydrology in Heihe River Basin of Northwest China\n",
      "This study evaluated hydrological impacts of potential climate and land use changes in Heihe River Basin of Northwest China. The future climate data for the simulation with Soil and Water Assessment Tool (SWAT) were prepared using a dynamical downscaling method. The future land uses were simulated with the Dynamic Land Use System(DLS) model by establishing Multinomial Logistic Regression (MNL) model for six land use types. In 2006-2030, land uses in the basin will experience a significant change with a prominent increase in urban areas, a moderate increase in grassland, and a great decrease in unused land. Besides, the simulation results showed that in comparison to those during 1981-2005 the temperature and precipitation during 2006-2030 will change by +0.8 degrees C and +10.8%, respectively. The land use change and climate change will jointly make the water yield change by +8.5%, while they will separately make the water yield change by -1.8% and +9.8%, respectively. The predicted large increase in future precipitation and the corresponding decrease in unused land will have substantial impacts on the watershed hydrology, especially on the surface runoff and streamflow. Therefore, to mitigate negative hydrological impacts and utilize positive impacts, both land use and climate changes should be considered in water resource planning for the Heihe River Basin.\n",
      "\n",
      "Estimation of the effects of climate change on flood-triggered economic losses in Japan\n",
      "This study evaluates the effects of climate change on economic losses due to flood-related damage in Japan. Three selected GCM climate data were downscaled using an analytical method that uses observed precipitation data as the reference resolution. The downscaled climate data were used to estimate extreme rainfall for different return periods. The extreme rainfall estimates were then entered into a two-dimensional (2D) non-uniform flow model to estimate flood inundation information. A technique based on the land use type of the flood area was employed to estimate economic losses due to flood damages. The results of the rainfall analysis show that at present (in 2000), the Nankai region, and the area from Wakayama Prefecture to Kagoshima Prefecture and the mountains of the Japan Alps receive wry high extreme rainfall. By 2050, in addition to these areas, the rainfall in the Tokai and Koshinetsu regions will be 1.2 to 1.3 times greater than at present. The overall variations show that the potential economic loss is greater for the SRES-B1, A2 and A1B scenarios for all return periods. These results clearly show that flood-related economic losses in japan will increase significantly in the future as a result of climate change. It indicates that japan needs to increase the capital investment to implement flood control and mitigation measures in the future. As this study presents comprehensive results in very fine resolution (1 km x 1 km), the outcome of this study is more important for regional scale decision making processes will be useful to the public, economists, and policy and decision makers in planning and designing flood control measures. (C) 2014 Elsevier Ltd. All rights reserved.\n",
      "\n",
      "Climate change, vector-borne diseases and working population\n",
      "Introduction. Risks associated with climate change are increasing worldwide and the global effects include altered weather and precipitation patterns, rising temperatures and others; human health can be affected directly and indirectly. This paper is an overview of literature regarding climate changes, their interaction with vector-borne diseases and impact on working population. Materials and methods. Articles regarding climate changes as drivers of vector-borne diseases and evidences of occupational cases have been picked up by public databank. Technical documents were also included in the study. Results. Evidences regarding the impact of climate changes on vector-borne diseases in Europe, provided by the analysis of the literature, are presented. Discussion. Climate-sensitive vector-borne diseases are likely to be emerging due to climate modifications, with impacts on public and occupational health. However, other environmental and anthropogenic drivers such as increasing travelling and trade, deforestation and reforestation, altered land use and urbanization can influence their spread. Further studies are necessary to better understand the phenomenon and implementation of adaptation strategies to protect human health should be accelerated and strengthened.\n",
      "\n",
      "Impact of Land-Use and Land-Cover Change on Meteorology in the Beijing-Tianjin-Hebei Region from 1990 to 2010\n",
      "Land use and land cover (LULC) in the Beijing-Tianjin-Hebei region has changed significantly since 1990. To comprehensively understand its impact on meteorology, this paper uses an LULC transfer matrix to discuss changes 10 years before the millennium (BM) and 10 years after the millennium (AM). The Weather Research and Forecasting (WRF) model is used to simulate air temperature, precipitation, and wind speed in January and July using 1990, 2000, and 2010 LULC data. The temperature increase in the AM period (0.118 degrees C) was greater than that in the BM period (0.042 degrees C) and increased by 0.36 degrees C in response to the transformation from croplands to urban and built-up lands (UBL). The change in precipitation showed an obvious seasonal difference, where the trend decreased in winter and increased in summer. There was a small band of precipitation change that extended from Beijing to Shijiazhuang. The wind speed at 10 m decreased by 0.04 m/s in winter and 0.017 m/s in summer. Simultaneously, the impact on meteorology from different classification transformations was quantified. The region where land was transformed into UBL had the largest reduction in wind speed, and was later transformed into woodlands. A comprehensive discussion on the impact of LULC changes on climate should support the future development of more environmentally compatible and sustainable land planning.\n",
      "\n",
      "Impact of observed vegetation root distribution on seasonal global simulations of land surface processes\n",
      "[1] Using a global root distribution derived from observations, results from June to August ensemble simulations are presented. The new root distribution shifts the location of roots in the soil in most regions of the world. Root relocation depends on land use type with some roots located shallower (e. g., grasslands) and others deeper (e. g., tropical forests). Comparison of the boreal summer results of 1988 and 1993 for a control simulation and simulation with the new root distribution produces, in several regions of the world, statistically significant differences of up to 40 W/m(2) in the components of the surface energy budget. Analysis of the eastern and western United States shows statistically significant changes of over 1 K in surface air temperature and over 25 W/m(2) in surface energy components for both seasonal averages and diurnal cycles. Comparison with observations shows that the new root distribution improves the surface air temperature simulation, especially in 1993, but any precipitation improvement is statistically insignificant.\n"
     ]
    }
   ],
   "source": [
    "\n",
    "\n",
    "django.db.connection.close()\n",
    "assigned = set(DocOwnership.objects.filter(query__project=project).values_list('doc__id',flat=True))\n",
    "print(len(assigned))\n",
    "\n",
    "s = \"land use, land management\" \n",
    "inclusion = s.replace(', ','|')\n",
    "se = \"species, bird, mammal, fish, ecosystem\"\n",
    "exclusions = se.replace(', ','|')\n",
    "\n",
    "p = 0.2\n",
    "\n",
    "pds = predicted_ids[predicted_ids['prediction']>p]\n",
    "\n",
    "dids = set([])\n",
    "eids = set([])\n",
    "for f in [\"title__iregex\",\"content__iregex\"]:\n",
    "    print(f)\n",
    "    dids = dids | set(q.doc_set.filter(**{f: inclusion}).values_list('pk',flat=True))\n",
    "    eids = eids | set(q.doc_set.filter(**{f: exclusions}).values_list('pk',flat=True))\n",
    "    \n",
    "doc_ids = dids - eids\n",
    "    \n",
    "docs = Doc.objects.filter(pk__in=doc_ids).exclude(id__in=assigned)\n",
    "\n",
    "#docs = q.doc_set.filter(title__iregex=inclusion).exclude(id__in=assigned).exclude(content__iregex=exclusions)\n",
    "r_docs = Doc.objects.filter(id__in=doc_ids & set(pds['id']))\n",
    "\n",
    "print(docs.count(), r_docs.count())\n",
    "\n",
    "print('###\\n all query docs\\n')\n",
    "\n",
    "for d in Doc.objects.filter(pk__in=random.sample(list(docs.values_list('pk',flat=True)),5)):\n",
    "    print(d.title)\n",
    "    \n",
    "print(f'###\\n p > {p}\\n')\n",
    "\n",
    "for d in Doc.objects.filter(pk__in=random.sample(list(r_docs.values_list('pk',flat=True)),5)):\n",
    "    print()\n",
    "    print(d.title)\n",
    "    print(d.content)\n",
    "    \n"
   ]
  },
  {
   "cell_type": "code",
   "execution_count": 89,
   "metadata": {},
   "outputs": [
    {
     "name": "stdout",
     "output_type": "stream",
     "text": [
      "Land use - prediction>0.2 True\n"
     ]
    }
   ],
   "source": [
    "users = User.objects.filter(username__in=[\n",
    "    \"michael.hegarty@climateanalytics.org\",\n",
    "    \"emily.theokritoff@climateanalytics.org\"\n",
    "])\n",
    "tag, created = Tag.objects.get_or_create(query=q,title=\"Land use - prediction>0.2\")\n",
    "print(tag, created)\n",
    "for i,d in enumerate(Doc.objects.filter(pk__in=random.sample(list(r_docs.values_list('pk',flat=True)),40))):\n",
    "    u = users[i%2]\n",
    "    d.tag.add(tag)\n",
    "    do, created = DocOwnership.objects.get_or_create(\n",
    "        doc=d,\n",
    "        query=q,\n",
    "        tag=tag,\n",
    "        user=u\n",
    "    ) \n",
    "tag.update_tag()"
   ]
  },
  {
   "cell_type": "markdown",
   "metadata": {},
   "source": [
    "# Teleconnections, extremes"
   ]
  },
  {
   "cell_type": "code",
   "execution_count": 75,
   "metadata": {},
   "outputs": [
    {
     "name": "stdout",
     "output_type": "stream",
     "text": [
      "2753\n",
      "title__iregex\n",
      "content__iregex\n",
      "1726 368\n",
      "###\n",
      " all query docs\n",
      "\n",
      "Heat-induced mortality and expression of heat shock proteins in Colorado potato beetles treated with imidacloprid\n",
      "GREEN INFRASTRUCTURE CONTRIBUTION FOR CLIMATE CHANGE ADAPTATION IN URBAN LANDSCAPE CONTEXT\n",
      "Detection of infectious bursal disease virus from formalin-fixed paraffin-embedded tissue by immunohistochemistry and real-time reverse transcription-polymerase chain reaction\n",
      "Tolerance to environmental stress by the nitrogen-fixing actinobacterium Frankia and its role in actinorhizal plants adaptation\n",
      "Impact of Extreme Heat on Corn Yield in Main Summer Corn Cultivating Area of China at Present and Under Future Climate Change\n",
      "###\n",
      " p > 0.4\n",
      "\n",
      "\n",
      "Changes in extreme temperatures of Australasian summer simulated by CCAM under global warming, and the roles of winds and land-sea contrasts\n",
      "\n",
      "Changes in daily maximum temperature extremes across India over 1951-2014 and their relation with cereal crop productivity\n",
      "\n",
      "Trend and Abrupt Regime Shift of Temperature Extreme in Northeast China, 1957-2015\n",
      "\n",
      "Modification Effects of Temperature on the Ozone-Mortality Relationship: A Nationwide Multicounty Study in China\n",
      "\n",
      "Projected changes in extreme warm and cold temperatures in China from 1.5 to 5 degrees C global warming\n"
     ]
    }
   ],
   "source": [
    "\n",
    "\n",
    "django.db.connection.close()\n",
    "assigned = set(DocOwnership.objects.filter(query__project=project).values_list('doc__id',flat=True))\n",
    "print(len(assigned))\n",
    "\n",
    "s = \"temperature extreme, extreme temperature\" \n",
    "inclusion = s.replace(', ','|')\n",
    "se = \"oscillation, sea surface temperature, SST, radiation\"\n",
    "exclusions = se.replace(', ','|')\n",
    "\n",
    "p = 0.4\n",
    "\n",
    "pds = predicted_ids[predicted_ids['prediction']>p]\n",
    "\n",
    "dids = set([])\n",
    "eids = set([])\n",
    "for f in [\"title__iregex\",\"content__iregex\"]:\n",
    "    print(f)\n",
    "    dids = dids | set(q.doc_set.filter(**{f: inclusion}).values_list('pk',flat=True))\n",
    "    eids = eids | set(q.doc_set.filter(**{f: exclusions}).values_list('pk',flat=True))\n",
    "    \n",
    "doc_ids = dids - eids\n",
    "    \n",
    "docs = Doc.objects.filter(pk__in=doc_ids).exclude(id__in=assigned)\n",
    "\n",
    "#docs = q.doc_set.filter(title__iregex=inclusion).exclude(id__in=assigned).exclude(content__iregex=exclusions)\n",
    "r_docs = Doc.objects.filter(id__in=doc_ids & set(pds['id']))\n",
    "\n",
    "print(docs.count(), r_docs.count())\n",
    "\n",
    "print('###\\n all query docs\\n')\n",
    "\n",
    "for d in Doc.objects.filter(pk__in=random.sample(list(docs.values_list('pk',flat=True)),5)):\n",
    "    print(d.title)\n",
    "    \n",
    "print(f'###\\n p > {p}\\n')\n",
    "\n",
    "for d in Doc.objects.filter(pk__in=random.sample(list(r_docs.values_list('pk',flat=True)),5)):\n",
    "    print()\n",
    "    print(d.title)\n",
    "    \n"
   ]
  },
  {
   "cell_type": "code",
   "execution_count": 76,
   "metadata": {},
   "outputs": [
    {
     "name": "stdout",
     "output_type": "stream",
     "text": [
      "temperature extremes - prediction>0.2 True\n"
     ]
    }
   ],
   "source": [
    "users = User.objects.filter(username__in=[\n",
    "    \"kaylin.lee@climateanalytics.org\"\n",
    "])\n",
    "tag, created = Tag.objects.get_or_create(query=q,title=\"temperature extremes - prediction>0.2\")\n",
    "print(tag, created)\n",
    "for i,d in enumerate(Doc.objects.filter(pk__in=random.sample(list(r_docs.values_list('pk',flat=True)),40))):\n",
    "    u = users[0]\n",
    "    d.tag.add(tag)\n",
    "    do, created = DocOwnership.objects.get_or_create(\n",
    "        doc=d,\n",
    "        query=q,\n",
    "        tag=tag,\n",
    "        user=u\n",
    "    ) \n",
    "tag.update_tag()"
   ]
  },
  {
   "cell_type": "code",
   "execution_count": 71,
   "metadata": {},
   "outputs": [
    {
     "data": {
      "text/plain": [
       "(11, {'scoping.DocOwnership': 11})"
      ]
     },
     "execution_count": 71,
     "metadata": {},
     "output_type": "execute_result"
    }
   ],
   "source": []
  },
  {
   "cell_type": "code",
   "execution_count": 77,
   "metadata": {},
   "outputs": [
    {
     "name": "stdout",
     "output_type": "stream",
     "text": [
      "2785\n",
      "title__iregex\n",
      "content__iregex\n",
      "15737 1429\n",
      "###\n",
      " all query docs\n",
      "\n",
      "Interactions between the Atlantic Multidecadal Oscillation, El Nino/La Nina, and the PNA in winter Mississippi valley stream flow\n",
      "Phylogeography and genetic structure of the red-legged partridge (Alectoris rufa): more evidence for refugia within the Iberian glacial refugium\n",
      "Effects of precipitation and potential evaporation on actual evapotranspiration over the Laohahe basin, northern China\n",
      "Interannual variability of nearbed sediment flux on the Eel River shelf, northern California\n",
      "Quantification and Exploration of Diurnal Oscillations in Tropical Cyclones\n",
      "###\n",
      " p > 0.4\n",
      "\n",
      "\n",
      "Twentieth-century decline in streamflows from the hydrographic apex of North America\n",
      "\n",
      "How ENSO affects maize yields in China: understanding the impact mechanisms using a process-based crop model\n",
      "\n",
      "Using hierarchical models to estimate effects of ocean anomalies on north-west Pacific Chinook salmon Oncorhynchus tshawytscha recruitment\n",
      "\n",
      "Detailed assessment of climate variability in the Baltic Sea area for the period 1958 to 2009\n",
      "\n",
      "TRENDS IN AVERAGE SNOW DEPTH ACROSS THE WESTERN UNITED STATES\n"
     ]
    }
   ],
   "source": [
    "\n",
    "\n",
    "django.db.connection.close()\n",
    "assigned = set(DocOwnership.objects.filter(query__project=project).values_list('doc__id',flat=True))\n",
    "print(len(assigned))\n",
    "\n",
    "s = \"teleconnection, oscillation\" \n",
    "inclusion = s.replace(', ','|')\n",
    "se = \"asfasdfasdf\"\n",
    "exclusions = se.replace(', ','|')\n",
    "\n",
    "p = 0.4\n",
    "\n",
    "pds = predicted_ids[predicted_ids['prediction']>p]\n",
    "\n",
    "dids = set([])\n",
    "eids = set([])\n",
    "for f in [\"title__iregex\",\"content__iregex\"]:\n",
    "    print(f)\n",
    "    dids = dids | set(q.doc_set.filter(**{f: inclusion}).values_list('pk',flat=True))\n",
    "    eids = eids | set(q.doc_set.filter(**{f: exclusions}).values_list('pk',flat=True))\n",
    "    \n",
    "doc_ids = dids - eids\n",
    "    \n",
    "docs = Doc.objects.filter(pk__in=doc_ids).exclude(id__in=assigned)\n",
    "\n",
    "#docs = q.doc_set.filter(title__iregex=inclusion).exclude(id__in=assigned).exclude(content__iregex=exclusions)\n",
    "r_docs = Doc.objects.filter(id__in=doc_ids & set(pds['id']))\n",
    "\n",
    "print(docs.count(), r_docs.count())\n",
    "\n",
    "print('###\\n all query docs\\n')\n",
    "\n",
    "for d in Doc.objects.filter(pk__in=random.sample(list(docs.values_list('pk',flat=True)),5)):\n",
    "    print(d.title)\n",
    "    \n",
    "print(f'###\\n p > {p}\\n')\n",
    "\n",
    "for d in Doc.objects.filter(pk__in=random.sample(list(r_docs.values_list('pk',flat=True)),5)):\n",
    "    print()\n",
    "    print(d.title)\n",
    "    \n"
   ]
  },
  {
   "cell_type": "code",
   "execution_count": 78,
   "metadata": {},
   "outputs": [
    {
     "name": "stdout",
     "output_type": "stream",
     "text": [
      "oscillations, teleconnections - prediction>0.2 2 True\n"
     ]
    }
   ],
   "source": [
    "users = User.objects.filter(username__in=[\n",
    "    \"shruti.nath@climateanalytics.org\"\n",
    "])\n",
    "tag, created = Tag.objects.get_or_create(query=q,title=\"oscillations, teleconnections - prediction>0.2 2\")\n",
    "print(tag, created)\n",
    "tag.docownership_set.filter(relevant=0).delete()\n",
    "tag.doc_set.clear()\n",
    "for i,d in enumerate(Doc.objects.filter(pk__in=random.sample(list(r_docs.values_list('pk',flat=True)),40))):\n",
    "    u = users[0]\n",
    "    d.tag.add(tag)\n",
    "    do, created = DocOwnership.objects.get_or_create(\n",
    "        doc=d,\n",
    "        query=q,\n",
    "        tag=tag,\n",
    "        user=u\n",
    "    ) \n",
    "tag.update_tag()"
   ]
  },
  {
   "cell_type": "markdown",
   "metadata": {},
   "source": [
    "# Wind"
   ]
  },
  {
   "cell_type": "code",
   "execution_count": 80,
   "metadata": {},
   "outputs": [
    {
     "name": "stdout",
     "output_type": "stream",
     "text": [
      "[{'relevant': 2, 'n': 14}, {'relevant': 0, 'n': 14}, {'relevant': 1, 'n': 12}]\n"
     ]
    },
    {
     "data": {
      "text/plain": [
       "[{'category__name': '02 Air or land surface temperature changes', 'n': 3},\n",
       " {'category__name': '25 Evapotranspiration', 'n': 3},\n",
       " {'category__name': '06 Humidity', 'n': 2},\n",
       " {'category__name': '52 Shifts in phenology (Terrestrial and freshwater)',\n",
       "  'n': 2},\n",
       " {'category__name': '05 Changes in precipitation', 'n': 2},\n",
       " {'category__name': '09 Atmospheric/marine circulation or teleconnections',\n",
       "  'n': 1},\n",
       " {'category__name': '26 Drought frequency and intensity', 'n': 1},\n",
       " {'category__name': '28 River runoff', 'n': 1},\n",
       " {'category__name': '08 Changes in strong precipitation', 'n': 1}]"
      ]
     },
     "execution_count": 80,
     "metadata": {},
     "output_type": "execute_result"
    }
   ],
   "source": [
    "tag = Tag.objects.get(query=q,title=\"wind speed, ET - prediction>0.2\")\n",
    "tag_dos = tag.docownership_set.values('doc__id')\n",
    "tag_dors = tag.docownership_set.values('relevant').annotate(n=Count('pk'))\n",
    "print(list(tag_dors.order_by('-n')))\n",
    "ducs = DocUserCat.objects.filter(doc__id__in=tag_dos,category__level=4).values('category__name').annotate(n=Count('pk'))\n",
    "list(ducs.order_by('-n'))"
   ]
  },
  {
   "cell_type": "code",
   "execution_count": 50,
   "metadata": {},
   "outputs": [
    {
     "name": "stdout",
     "output_type": "stream",
     "text": [
      "2931\n",
      "title__iregex\n",
      "content__iregex\n",
      "36727 2457\n",
      "###\n",
      " all query docs\n",
      "\n",
      "Characterization of an island aquifer from tidal response\n",
      "Thinking globally, acting locally - institutionalizing climate change at the local government level in Durban, South Africa\n",
      "Impacts of Natural Disasters on Swedish Electric Power Policy: A Case Study\n",
      "THE CORRUBEDO BEACH LAGOON COMPLEX, GALICIA, SPAIN - DYNAMICS, SEDIMENTS AND RECENT EVOLUTION OF A MESOTIDAL COASTAL EMBAYMENT\n",
      "Novel Metrics for Evaluation of Ensemble Forecasts of Tropical Cyclone Structure\n",
      "###\n",
      " p > 0.3\n",
      "\n",
      "\n",
      "On climatic fluctuations and environmental changes of the Indo-Gangetic Plains, India\n",
      "\n",
      "Detection of trends in annual extreme rainfall\n",
      "\n",
      "Temporal fluctuations in weather and climate extremes that cause economic and human health impacts: A review\n",
      "\n",
      "The tropical ocean response to a change in solar forcing\n",
      "\n",
      "PROVISIONALLY CORRECTED SURFACE WIND DATA, WORLDWIDE OCEAN ATMOSPHERE SURFACE FIELDS, AND SAHELIAN RAINFALL VARIABILITY\n"
     ]
    }
   ],
   "source": [
    "django.db.connection.close()\n",
    "assigned = set(DocOwnership.objects.filter(query__project=project).values_list('doc__id',flat=True))\n",
    "print(len(assigned))\n",
    "\n",
    "s = \"wind speed, evapotranspiration, changes in precipitation, changes in strong precipitation, extreme temperature, soil moisture, humidity\" \n",
    "s = \"wind, storm, cyclone\" \n",
    "inclusion = s.replace(', ','|')\n",
    "se = \"species, rivers, plants, lakes\"\n",
    "exclusions = se.replace(', ','|')\n",
    "\n",
    "p = 0.3\n",
    "\n",
    "pds = predicted_ids[predicted_ids['prediction']>p]\n",
    "\n",
    "dids = set([])\n",
    "eids = set([])\n",
    "for f in [\"title__iregex\",\"content__iregex\"]:\n",
    "    print(f)\n",
    "    dids = dids | set(q.doc_set.filter(**{f: inclusion}).values_list('pk',flat=True))\n",
    "    eids = eids | set(q.doc_set.filter(**{f: exclusions}).values_list('pk',flat=True))\n",
    "    \n",
    "doc_ids = dids - eids\n",
    "    \n",
    "docs = Doc.objects.filter(pk__in=doc_ids).exclude(id__in=assigned)\n",
    "\n",
    "#docs = q.doc_set.filter(title__iregex=inclusion).exclude(id__in=assigned).exclude(content__iregex=exclusions)\n",
    "r_docs = Doc.objects.filter(id__in=doc_ids & set(pds['id']))\n",
    "\n",
    "print(docs.count(), r_docs.count())\n",
    "\n",
    "print('###\\n all query docs\\n')\n",
    "\n",
    "for d in Doc.objects.filter(pk__in=random.sample(list(docs.values_list('pk',flat=True)),5)):\n",
    "    print(d.title)\n",
    "    \n",
    "print(f'###\\n p > {p}\\n')\n",
    "\n",
    "for d in Doc.objects.filter(pk__in=random.sample(list(r_docs.values_list('pk',flat=True)),5)):\n",
    "    print()\n",
    "    print(d.title)\n",
    "    \n"
   ]
  },
  {
   "cell_type": "code",
   "execution_count": 51,
   "metadata": {},
   "outputs": [
    {
     "name": "stdout",
     "output_type": "stream",
     "text": [
      "wind speed, ET - prediction>0.2 False\n"
     ]
    }
   ],
   "source": [
    "users = User.objects.filter(username__in=[\n",
    "    \"peter.pfleiderer@climateanalytics.org\"\n",
    "])\n",
    "tag, created = Tag.objects.get_or_create(query=q,title=\"wind speed, ET - prediction>0.2\")\n",
    "print(tag, created)\n",
    "for i,d in enumerate(Doc.objects.filter(pk__in=random.sample(list(r_docs.values_list('pk',flat=True)),40))):\n",
    "    u = users[0]\n",
    "    d.tag.add(tag)\n",
    "    do, created = DocOwnership.objects.get_or_create(\n",
    "        doc=d,\n",
    "        query=q,\n",
    "        tag=tag,\n",
    "        user=u\n",
    "    ) \n",
    "tag.update_tag()"
   ]
  },
  {
   "cell_type": "code",
   "execution_count": null,
   "metadata": {},
   "outputs": [],
   "source": []
  }
 ],
 "metadata": {
  "kernelspec": {
   "display_name": "tmv",
   "language": "python",
   "name": "tmv"
  },
  "language_info": {
   "codemirror_mode": {
    "name": "ipython",
    "version": 3
   },
   "file_extension": ".py",
   "mimetype": "text/x-python",
   "name": "python",
   "nbconvert_exporter": "python",
   "pygments_lexer": "ipython3",
   "version": "3.6.6"
  }
 },
 "nbformat": 4,
 "nbformat_minor": 4
}
