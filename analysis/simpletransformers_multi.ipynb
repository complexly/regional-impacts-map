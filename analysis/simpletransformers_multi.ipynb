{
 "cells": [
  {
   "cell_type": "code",
   "execution_count": 30,
   "metadata": {},
   "outputs": [],
   "source": [
    "import pandas as pd\n",
    "import random\n",
    "from simpletransformers.classification import MultiLabelClassificationModel\n",
    "from sklearn.model_selection import train_test_split\n",
    "import django, sys, os\n",
    "sys.path.append('/home/max/software/django-tmv/tmv_mcc-apsis/BasicBrowser')\n",
    "os.environ.setdefault(\"DJANGO_SETTINGS_MODULE\", \"BasicBrowser.settings\")\n",
    "django.setup()\n",
    "from scoping.models import *\n",
    "\n",
    "import matplotlib.pyplot as plt\n",
    "\n"
   ]
  },
  {
   "cell_type": "code",
   "execution_count": null,
   "metadata": {},
   "outputs": [],
   "source": [
    "model = MultiLabelClassificationModel(\n",
    "    'roberta', 'roberta-base',\n",
    "    use_cuda=False,\n",
    "    num_labels=4, args={\n",
    "        'train_batch_size':2, 'gradient_accumulation_steps':16, \n",
    "        'learning_rate': 3e-5, 'num_train_epochs': 3, 'max_seq_length': 512\n",
    "    })"
   ]
  },
  {
   "cell_type": "code",
   "execution_count": 2,
   "metadata": {},
   "outputs": [
    {
     "name": "stdout",
     "output_type": "stream",
     "text": [
      "(682, 235)\n",
      "(682, 235)\n"
     ]
    },
    {
     "data": {
      "text/html": [
       "<div>\n",
       "<style scoped>\n",
       "    .dataframe tbody tr th:only-of-type {\n",
       "        vertical-align: middle;\n",
       "    }\n",
       "\n",
       "    .dataframe tbody tr th {\n",
       "        vertical-align: top;\n",
       "    }\n",
       "\n",
       "    .dataframe thead th {\n",
       "        text-align: right;\n",
       "    }\n",
       "</style>\n",
       "<table border=\"1\" class=\"dataframe\">\n",
       "  <thead>\n",
       "    <tr style=\"text-align: right;\">\n",
       "      <th></th>\n",
       "      <th>id</th>\n",
       "      <th>content</th>\n",
       "      <th>title</th>\n",
       "      <th>wosarticle__de</th>\n",
       "      <th>wosarticle__wc</th>\n",
       "      <th>ar5</th>\n",
       "      <th>seen</th>\n",
       "      <th>relevant</th>\n",
       "      <th>12 - Coastal and marine Ecosystems</th>\n",
       "      <th>12 - Human and managed</th>\n",
       "      <th>...</th>\n",
       "      <th>12 - Mountains, snow and ice - k_prediction</th>\n",
       "      <th>12 - Human and managed - k_prediction</th>\n",
       "      <th>2 - 2.1. Climate change attribution - k_prediction</th>\n",
       "      <th>2 - 2.2 Trend attribution - k_prediction</th>\n",
       "      <th>2 - 2.4. Sensitivity - k_prediction</th>\n",
       "      <th>2 - 2.5. Detection of a regional climate trend (no attribution) - k_prediction</th>\n",
       "      <th>2 - 2.1. Climate change attribution - prediction</th>\n",
       "      <th>2 - 2.2 Trend attribution - prediction</th>\n",
       "      <th>2 - 2.4. Sensitivity - prediction</th>\n",
       "      <th>2 - 2.5. Detection of a regional climate trend (no attribution) - prediction</th>\n",
       "    </tr>\n",
       "  </thead>\n",
       "  <tbody>\n",
       "    <tr>\n",
       "      <th>7</th>\n",
       "      <td>899880</td>\n",
       "      <td>A new fire policy reinforcing aggressive fire ...</td>\n",
       "      <td>Wildfire Policy in Mediterranean France: How F...</td>\n",
       "      <td>Fire paradox; fire policy; fire prevention; fi...</td>\n",
       "      <td>['Public, Environmental &amp; Occupational Health;...</td>\n",
       "      <td>0.0</td>\n",
       "      <td>1.0</td>\n",
       "      <td>1.0</td>\n",
       "      <td>0.0</td>\n",
       "      <td>0.0</td>\n",
       "      <td>...</td>\n",
       "      <td>0.012158</td>\n",
       "      <td>0.007934</td>\n",
       "      <td>0.056233</td>\n",
       "      <td>0.451148</td>\n",
       "      <td>0.101784</td>\n",
       "      <td>0.015225</td>\n",
       "      <td>NaN</td>\n",
       "      <td>NaN</td>\n",
       "      <td>NaN</td>\n",
       "      <td>NaN</td>\n",
       "    </tr>\n",
       "    <tr>\n",
       "      <th>10</th>\n",
       "      <td>617231</td>\n",
       "      <td>Although it is well established that butterfly...</td>\n",
       "      <td>Determinants of species richness in generalist...</td>\n",
       "      <td>0</td>\n",
       "      <td>['Biodiversity Conservation; Ecology']</td>\n",
       "      <td>0.0</td>\n",
       "      <td>1.0</td>\n",
       "      <td>1.0</td>\n",
       "      <td>0.0</td>\n",
       "      <td>0.0</td>\n",
       "      <td>...</td>\n",
       "      <td>0.011314</td>\n",
       "      <td>0.018131</td>\n",
       "      <td>0.049645</td>\n",
       "      <td>0.459345</td>\n",
       "      <td>0.187517</td>\n",
       "      <td>0.016066</td>\n",
       "      <td>NaN</td>\n",
       "      <td>NaN</td>\n",
       "      <td>NaN</td>\n",
       "      <td>NaN</td>\n",
       "    </tr>\n",
       "    <tr>\n",
       "      <th>49</th>\n",
       "      <td>670400</td>\n",
       "      <td>Heat stress impacts on crop growth and yield h...</td>\n",
       "      <td>Heat stress impacts on wheat growth and yield ...</td>\n",
       "      <td>Adaptation; Crop production; Cultivars; Extrem...</td>\n",
       "      <td>['Agronomy']</td>\n",
       "      <td>0.0</td>\n",
       "      <td>1.0</td>\n",
       "      <td>1.0</td>\n",
       "      <td>0.0</td>\n",
       "      <td>1.0</td>\n",
       "      <td>...</td>\n",
       "      <td>0.014771</td>\n",
       "      <td>0.964162</td>\n",
       "      <td>0.064188</td>\n",
       "      <td>0.319689</td>\n",
       "      <td>0.394913</td>\n",
       "      <td>0.036509</td>\n",
       "      <td>NaN</td>\n",
       "      <td>NaN</td>\n",
       "      <td>NaN</td>\n",
       "      <td>NaN</td>\n",
       "    </tr>\n",
       "    <tr>\n",
       "      <th>53</th>\n",
       "      <td>572040</td>\n",
       "      <td>PREMISE OF THE STUDY : Mountainous regions sup...</td>\n",
       "      <td>Long-term shifts in the phenology of rare and ...</td>\n",
       "      <td>Colorado; climate change; endangered and imper...</td>\n",
       "      <td>['Plant Sciences']</td>\n",
       "      <td>0.0</td>\n",
       "      <td>1.0</td>\n",
       "      <td>1.0</td>\n",
       "      <td>0.0</td>\n",
       "      <td>0.0</td>\n",
       "      <td>...</td>\n",
       "      <td>0.010197</td>\n",
       "      <td>0.030651</td>\n",
       "      <td>0.048232</td>\n",
       "      <td>0.292799</td>\n",
       "      <td>0.394691</td>\n",
       "      <td>0.031180</td>\n",
       "      <td>NaN</td>\n",
       "      <td>NaN</td>\n",
       "      <td>NaN</td>\n",
       "      <td>NaN</td>\n",
       "    </tr>\n",
       "    <tr>\n",
       "      <th>79</th>\n",
       "      <td>101763</td>\n",
       "      <td>Background: Heat is recognized as one of the d...</td>\n",
       "      <td>Heat and Mortality in New York City Since the ...</td>\n",
       "      <td>0</td>\n",
       "      <td>['Public, Environmental &amp; Occupational Health']</td>\n",
       "      <td>0.0</td>\n",
       "      <td>1.0</td>\n",
       "      <td>1.0</td>\n",
       "      <td>0.0</td>\n",
       "      <td>1.0</td>\n",
       "      <td>...</td>\n",
       "      <td>0.023784</td>\n",
       "      <td>0.984619</td>\n",
       "      <td>0.063218</td>\n",
       "      <td>0.194151</td>\n",
       "      <td>0.500000</td>\n",
       "      <td>0.028288</td>\n",
       "      <td>NaN</td>\n",
       "      <td>NaN</td>\n",
       "      <td>NaN</td>\n",
       "      <td>NaN</td>\n",
       "    </tr>\n",
       "  </tbody>\n",
       "</table>\n",
       "<p>5 rows × 235 columns</p>\n",
       "</div>"
      ],
      "text/plain": [
       "        id                                            content  \\\n",
       "7   899880  A new fire policy reinforcing aggressive fire ...   \n",
       "10  617231  Although it is well established that butterfly...   \n",
       "49  670400  Heat stress impacts on crop growth and yield h...   \n",
       "53  572040  PREMISE OF THE STUDY : Mountainous regions sup...   \n",
       "79  101763  Background: Heat is recognized as one of the d...   \n",
       "\n",
       "                                                title  \\\n",
       "7   Wildfire Policy in Mediterranean France: How F...   \n",
       "10  Determinants of species richness in generalist...   \n",
       "49  Heat stress impacts on wheat growth and yield ...   \n",
       "53  Long-term shifts in the phenology of rare and ...   \n",
       "79  Heat and Mortality in New York City Since the ...   \n",
       "\n",
       "                                       wosarticle__de  \\\n",
       "7   Fire paradox; fire policy; fire prevention; fi...   \n",
       "10                                                  0   \n",
       "49  Adaptation; Crop production; Cultivars; Extrem...   \n",
       "53  Colorado; climate change; endangered and imper...   \n",
       "79                                                  0   \n",
       "\n",
       "                                       wosarticle__wc  ar5  seen  relevant  \\\n",
       "7   ['Public, Environmental & Occupational Health;...  0.0   1.0       1.0   \n",
       "10             ['Biodiversity Conservation; Ecology']  0.0   1.0       1.0   \n",
       "49                                       ['Agronomy']  0.0   1.0       1.0   \n",
       "53                                 ['Plant Sciences']  0.0   1.0       1.0   \n",
       "79    ['Public, Environmental & Occupational Health']  0.0   1.0       1.0   \n",
       "\n",
       "    12 - Coastal and marine Ecosystems  12 - Human and managed  ...  \\\n",
       "7                                  0.0                     0.0  ...   \n",
       "10                                 0.0                     0.0  ...   \n",
       "49                                 0.0                     1.0  ...   \n",
       "53                                 0.0                     0.0  ...   \n",
       "79                                 0.0                     1.0  ...   \n",
       "\n",
       "    12 - Mountains, snow and ice - k_prediction  \\\n",
       "7                                      0.012158   \n",
       "10                                     0.011314   \n",
       "49                                     0.014771   \n",
       "53                                     0.010197   \n",
       "79                                     0.023784   \n",
       "\n",
       "    12 - Human and managed - k_prediction  \\\n",
       "7                                0.007934   \n",
       "10                               0.018131   \n",
       "49                               0.964162   \n",
       "53                               0.030651   \n",
       "79                               0.984619   \n",
       "\n",
       "    2 - 2.1. Climate change attribution - k_prediction  \\\n",
       "7                                            0.056233    \n",
       "10                                           0.049645    \n",
       "49                                           0.064188    \n",
       "53                                           0.048232    \n",
       "79                                           0.063218    \n",
       "\n",
       "    2 - 2.2 Trend attribution - k_prediction  \\\n",
       "7                                   0.451148   \n",
       "10                                  0.459345   \n",
       "49                                  0.319689   \n",
       "53                                  0.292799   \n",
       "79                                  0.194151   \n",
       "\n",
       "    2 - 2.4. Sensitivity - k_prediction  \\\n",
       "7                              0.101784   \n",
       "10                             0.187517   \n",
       "49                             0.394913   \n",
       "53                             0.394691   \n",
       "79                             0.500000   \n",
       "\n",
       "    2 - 2.5. Detection of a regional climate trend (no attribution) - k_prediction  \\\n",
       "7                                            0.015225                                \n",
       "10                                           0.016066                                \n",
       "49                                           0.036509                                \n",
       "53                                           0.031180                                \n",
       "79                                           0.028288                                \n",
       "\n",
       "    2 - 2.1. Climate change attribution - prediction  \\\n",
       "7                                                NaN   \n",
       "10                                               NaN   \n",
       "49                                               NaN   \n",
       "53                                               NaN   \n",
       "79                                               NaN   \n",
       "\n",
       "    2 - 2.2 Trend attribution - prediction  2 - 2.4. Sensitivity - prediction  \\\n",
       "7                                      NaN                                NaN   \n",
       "10                                     NaN                                NaN   \n",
       "49                                     NaN                                NaN   \n",
       "53                                     NaN                                NaN   \n",
       "79                                     NaN                                NaN   \n",
       "\n",
       "    2 - 2.5. Detection of a regional climate trend (no attribution) - prediction  \n",
       "7                                                 NaN                             \n",
       "10                                                NaN                             \n",
       "49                                                NaN                             \n",
       "53                                                NaN                             \n",
       "79                                                NaN                             \n",
       "\n",
       "[5 rows x 235 columns]"
      ]
     },
     "execution_count": 2,
     "metadata": {},
     "output_type": "execute_result"
    }
   ],
   "source": [
    "qs = Query.objects.filter(pk__in=[8145,7368,8272])\n",
    "physical_tags = Tag.objects.filter(query__in=qs,id__gt=5177)\n",
    "pdos = DocOwnership.objects.filter(tag__in=physical_tags,relevant__gt=0).values_list('doc__id',flat=True)\n",
    "df = pd.read_csv('../data/category_predictions.csv')\n",
    "df = df[df['id'].isin(list(pdos))]\n",
    "df = df[df['relevant']==1]\n",
    "print(df.shape)\n",
    "df.head()\n",
    "print(df.shape)\n",
    "df.head()"
   ]
  },
  {
   "cell_type": "code",
   "execution_count": 3,
   "metadata": {},
   "outputs": [
    {
     "name": "stdout",
     "output_type": "stream",
     "text": [
      "2 - 2.1. Climate change attribution\n",
      "46.0\n",
      "2 - 2.2 Trend attribution\n",
      "277.0\n",
      "2 - 2.3. Attribution to extreme event\n",
      "26.0\n",
      "2 - 2.4. Sensitivity\n",
      "251.0\n",
      "2 - 2.5. Detection of a regional climate trend (no attribution)\n",
      "66.0\n",
      "2 - 2.6. Null results\n",
      "16.0\n",
      "2 - 2.1. Climate change attribution - prediction\n",
      "0.0\n",
      "2 - 2.2 Trend attribution - prediction\n",
      "0.0\n",
      "2 - 2.4. Sensitivity - prediction\n",
      "0.0\n",
      "2 - 2.5. Detection of a regional climate trend (no attribution) - prediction\n",
      "0.0\n"
     ]
    },
    {
     "data": {
      "text/plain": [
       "['2 - 2.1. Climate change attribution',\n",
       " '2 - 2.2 Trend attribution',\n",
       " '2 - 2.4. Sensitivity',\n",
       " '2 - 2.5. Detection of a regional climate trend (no attribution)']"
      ]
     },
     "execution_count": 3,
     "metadata": {},
     "output_type": "execute_result"
    }
   ],
   "source": [
    "cols = []\n",
    "for c in df.columns:\n",
    "    if \"2 - 2.\" in c and \"hidden\" not in c and \"k_prediction\" not in c:\n",
    "        print(c)\n",
    "        print(df[c].sum())\n",
    "        if df[c].sum() > 45:\n",
    "            df[c] = df[c].astype(int)\n",
    "            cols.append(c)\n",
    "cols"
   ]
  },
  {
   "cell_type": "code",
   "execution_count": 4,
   "metadata": {},
   "outputs": [
    {
     "data": {
      "text/html": [
       "<div>\n",
       "<style scoped>\n",
       "    .dataframe tbody tr th:only-of-type {\n",
       "        vertical-align: middle;\n",
       "    }\n",
       "\n",
       "    .dataframe tbody tr th {\n",
       "        vertical-align: top;\n",
       "    }\n",
       "\n",
       "    .dataframe thead th {\n",
       "        text-align: right;\n",
       "    }\n",
       "</style>\n",
       "<table border=\"1\" class=\"dataframe\">\n",
       "  <thead>\n",
       "    <tr style=\"text-align: right;\">\n",
       "      <th></th>\n",
       "      <th>text</th>\n",
       "      <th>labels</th>\n",
       "    </tr>\n",
       "  </thead>\n",
       "  <tbody>\n",
       "    <tr>\n",
       "      <th>7</th>\n",
       "      <td>A new fire policy reinforcing aggressive fire ...</td>\n",
       "      <td>[0, 1, 1, 0]</td>\n",
       "    </tr>\n",
       "    <tr>\n",
       "      <th>10</th>\n",
       "      <td>Although it is well established that butterfly...</td>\n",
       "      <td>[0, 0, 1, 0]</td>\n",
       "    </tr>\n",
       "    <tr>\n",
       "      <th>49</th>\n",
       "      <td>Heat stress impacts on crop growth and yield h...</td>\n",
       "      <td>[0, 0, 1, 0]</td>\n",
       "    </tr>\n",
       "    <tr>\n",
       "      <th>53</th>\n",
       "      <td>PREMISE OF THE STUDY : Mountainous regions sup...</td>\n",
       "      <td>[0, 1, 0, 0]</td>\n",
       "    </tr>\n",
       "    <tr>\n",
       "      <th>79</th>\n",
       "      <td>Background: Heat is recognized as one of the d...</td>\n",
       "      <td>[0, 1, 0, 0]</td>\n",
       "    </tr>\n",
       "  </tbody>\n",
       "</table>\n",
       "</div>"
      ],
      "text/plain": [
       "                                                 text        labels\n",
       "7   A new fire policy reinforcing aggressive fire ...  [0, 1, 1, 0]\n",
       "10  Although it is well established that butterfly...  [0, 0, 1, 0]\n",
       "49  Heat stress impacts on crop growth and yield h...  [0, 0, 1, 0]\n",
       "53  PREMISE OF THE STUDY : Mountainous regions sup...  [0, 1, 0, 0]\n",
       "79  Background: Heat is recognized as one of the d...  [0, 1, 0, 0]"
      ]
     },
     "execution_count": 4,
     "metadata": {},
     "output_type": "execute_result"
    }
   ],
   "source": [
    "df['labels'] = list(df[cols].values)\n",
    "df['text'] = df['content']\n",
    "df = df[['text','labels']]\n",
    "df.head()"
   ]
  },
  {
   "cell_type": "code",
   "execution_count": 5,
   "metadata": {},
   "outputs": [
    {
     "name": "stdout",
     "output_type": "stream",
     "text": [
      "(511, 2)\n",
      "(171, 2)\n"
     ]
    }
   ],
   "source": [
    "train_df, test_df = train_test_split(df)\n",
    "print(train_df.shape)\n",
    "print(test_df.shape)"
   ]
  },
  {
   "cell_type": "code",
   "execution_count": 6,
   "metadata": {},
   "outputs": [
    {
     "data": {
      "application/vnd.jupyter.widget-view+json": {
       "model_id": "2fe8587285414765b1b75c2d7b08cc6f",
       "version_major": 2,
       "version_minor": 0
      },
      "text/plain": [
       "HBox(children=(FloatProgress(value=0.0, max=511.0), HTML(value='')))"
      ]
     },
     "metadata": {},
     "output_type": "display_data"
    },
    {
     "name": "stdout",
     "output_type": "stream",
     "text": [
      "\n"
     ]
    },
    {
     "data": {
      "application/vnd.jupyter.widget-view+json": {
       "model_id": "f70553dfe1114a8087638177429394ba",
       "version_major": 2,
       "version_minor": 0
      },
      "text/plain": [
       "HBox(children=(FloatProgress(value=0.0, description='Epoch', max=3.0, style=ProgressStyle(description_width='i…"
      ]
     },
     "metadata": {},
     "output_type": "display_data"
    },
    {
     "data": {
      "application/vnd.jupyter.widget-view+json": {
       "model_id": "67f86ba330b7401d8808d0ba47c47c1e",
       "version_major": 2,
       "version_minor": 0
      },
      "text/plain": [
       "HBox(children=(FloatProgress(value=0.0, description='Current iteration', max=256.0, style=ProgressStyle(descri…"
      ]
     },
     "metadata": {},
     "output_type": "display_data"
    },
    {
     "name": "stdout",
     "output_type": "stream",
     "text": [
      "Running loss: 0.380529\n"
     ]
    },
    {
     "data": {
      "application/vnd.jupyter.widget-view+json": {
       "model_id": "d735d6ae275243d3a1d9f8d1e68207bc",
       "version_major": 2,
       "version_minor": 0
      },
      "text/plain": [
       "HBox(children=(FloatProgress(value=0.0, description='Current iteration', max=256.0, style=ProgressStyle(descri…"
      ]
     },
     "metadata": {},
     "output_type": "display_data"
    },
    {
     "name": "stdout",
     "output_type": "stream",
     "text": [
      "Running loss: 0.490360\n"
     ]
    },
    {
     "data": {
      "application/vnd.jupyter.widget-view+json": {
       "model_id": "1c608c70be6c4638b7b6ee33e3ad07ee",
       "version_major": 2,
       "version_minor": 0
      },
      "text/plain": [
       "HBox(children=(FloatProgress(value=0.0, description='Current iteration', max=256.0, style=ProgressStyle(descri…"
      ]
     },
     "metadata": {},
     "output_type": "display_data"
    },
    {
     "name": "stdout",
     "output_type": "stream",
     "text": [
      "Running loss: 0.328565\n",
      "\n"
     ]
    },
    {
     "data": {
      "application/vnd.jupyter.widget-view+json": {
       "model_id": "678d67ec26584bfc95e5ddc7c7263064",
       "version_major": 2,
       "version_minor": 0
      },
      "text/plain": [
       "HBox(children=(FloatProgress(value=0.0, max=171.0), HTML(value='')))"
      ]
     },
     "metadata": {},
     "output_type": "display_data"
    },
    {
     "name": "stdout",
     "output_type": "stream",
     "text": [
      "\n"
     ]
    },
    {
     "data": {
      "application/vnd.jupyter.widget-view+json": {
       "model_id": "d8d44dd4bdfa4018bdb514b3d393c8b8",
       "version_major": 2,
       "version_minor": 0
      },
      "text/plain": [
       "HBox(children=(FloatProgress(value=0.0, max=22.0), HTML(value='')))"
      ]
     },
     "metadata": {},
     "output_type": "display_data"
    },
    {
     "name": "stdout",
     "output_type": "stream",
     "text": [
      "\n"
     ]
    }
   ],
   "source": [
    "# Train the model\n",
    "model.train_model(train_df)\n",
    "\n",
    "# Evaluate the model\n",
    "result, model_outputs, wrong_predictions = model.eval_model(test_df)"
   ]
  },
  {
   "cell_type": "code",
   "execution_count": 7,
   "metadata": {},
   "outputs": [
    {
     "data": {
      "text/plain": [
       "{'LRAP': 0.7748538011695905, 'eval_loss': 0.46069562570615247}"
      ]
     },
     "execution_count": 7,
     "metadata": {},
     "output_type": "execute_result"
    }
   ],
   "source": [
    "result"
   ]
  },
  {
   "cell_type": "code",
   "execution_count": 22,
   "metadata": {},
   "outputs": [
    {
     "name": "stdout",
     "output_type": "stream",
     "text": [
      "(171, 4)\n",
      "0\n",
      "1\n",
      "2\n",
      "3\n"
     ]
    }
   ],
   "source": [
    "y = np.vstack(list(test_df['labels']))\n",
    "print(y.shape)\n",
    "for j in range(y.shape[1]):\n",
    "    print(j)"
   ]
  },
  {
   "cell_type": "code",
   "execution_count": 35,
   "metadata": {},
   "outputs": [
    {
     "data": {
      "text/plain": [
       "array([1, 1, 2, 1, 2, 1, 1, 1, 2, 1, 1, 1, 2, 1, 1, 1, 1, 2, 1, 2, 1, 1,\n",
       "       2, 1, 1, 2, 2, 1, 1, 1, 1, 2, 1, 1, 2, 2, 1, 2, 1, 1, 1, 2, 1, 1,\n",
       "       1, 1, 1, 2, 1, 1, 2, 1, 1, 1, 1, 1, 1, 1, 2, 1, 1, 1, 1, 2, 2, 1,\n",
       "       1, 1, 1, 1, 1, 2, 2, 1, 2, 1, 2, 1, 2, 2, 2, 1, 1, 1, 1, 1, 1, 1,\n",
       "       1, 1, 2, 2, 1, 2, 2, 1, 1, 2, 1, 1, 1, 1, 2, 1, 2, 1, 1, 1, 2, 2,\n",
       "       2, 1, 1, 2, 1, 1, 2, 1, 1, 1, 1, 2, 1, 1, 2, 1, 1, 1, 1, 1, 2, 2,\n",
       "       2, 1, 2, 1, 1, 2, 2, 1, 1, 1, 1, 1, 1, 1, 2, 2, 1, 2, 1, 1, 1, 1,\n",
       "       1, 1, 1, 1, 2, 1, 2, 2, 2, 1, 1, 1, 1, 2, 1, 1, 1])"
      ]
     },
     "execution_count": 35,
     "metadata": {},
     "output_type": "execute_result"
    }
   ],
   "source": [
    "np.argmax(model_outputs,axis=1)\n",
    "         "
   ]
  },
  {
   "cell_type": "code",
   "execution_count": 25,
   "metadata": {},
   "outputs": [
    {
     "data": {
      "text/plain": [
       "array([0, 0, 1, 0, 0, 0, 0, 1, 1, 0, 0, 1, 1, 0, 0, 0, 0, 1, 0, 1, 0, 1,\n",
       "       0, 0, 0, 1, 1, 0, 0, 0, 0, 1, 0, 0, 1, 1, 0, 1, 0, 0, 1, 1, 0, 1,\n",
       "       0, 1, 0, 0, 0, 1, 1, 1, 0, 0, 1, 1, 0, 0, 1, 0, 0, 0, 0, 0, 0, 1,\n",
       "       0, 0, 0, 0, 1, 1, 0, 0, 0, 0, 1, 0, 0, 1, 1, 0, 0, 0, 0, 0, 1, 0,\n",
       "       1, 1, 0, 1, 1, 1, 1, 0, 0, 1, 0, 1, 0, 0, 0, 1, 1, 1, 0, 0, 0, 1,\n",
       "       0, 1, 0, 1, 0, 0, 0, 0, 0, 1, 0, 1, 0, 0, 0, 0, 1, 0, 0, 1, 1, 1,\n",
       "       1, 0, 0, 0, 0, 1, 0, 0, 0, 0, 1, 0, 1, 0, 0, 1, 1, 0, 0, 0, 0, 1,\n",
       "       0, 0, 1, 0, 1, 0, 1, 1, 1, 0, 0, 0, 1, 1, 0, 0, 1])"
      ]
     },
     "execution_count": 25,
     "metadata": {},
     "output_type": "execute_result"
    }
   ],
   "source": [
    "y[:,2]"
   ]
  }
 ],
 "metadata": {
  "kernelspec": {
   "display_name": "tmv",
   "language": "python",
   "name": "tmv"
  },
  "language_info": {
   "codemirror_mode": {
    "name": "ipython",
    "version": 3
   },
   "file_extension": ".py",
   "mimetype": "text/x-python",
   "name": "python",
   "nbconvert_exporter": "python",
   "pygments_lexer": "ipython3",
   "version": "3.6.6"
  }
 },
 "nbformat": 4,
 "nbformat_minor": 4
}
