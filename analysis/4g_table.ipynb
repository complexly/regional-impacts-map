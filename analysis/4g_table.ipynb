{
 "cells": [
  {
   "cell_type": "code",
   "execution_count": 1,
   "metadata": {},
   "outputs": [],
   "source": [
    "import pandas as pd\n",
    "import numpy as np\n",
    "import matplotlib.pyplot as plt\n",
    "import matplotlib.gridspec as gridspec\n",
    "import matplotlib as mpl\n",
    "import cartopy.crs as ccrs\n",
    "import cartopy\n",
    "\n",
    "import geopandas\n",
    "import cartopy.io.shapereader as shpreader\n",
    "import shapely\n",
    "\n",
    "import seaborn as sns"
   ]
  },
  {
   "cell_type": "code",
   "execution_count": 2,
   "metadata": {},
   "outputs": [],
   "source": [
    "degrees = 2.5\n",
    "tdf = pd.read_csv(f'../data/study_da_6 - Temperature - upper_pred_{degrees}.csv')\n",
    "tdf[\"da_var\"] = \"Temperature\"\n",
    "pdf = pd.read_csv(f'../data/study_da_6 - Precipitation - upper_pred_{degrees}.csv')\n",
    "pdf[\"da_var\"] = \"Precipitation\"\n",
    "\n",
    "df = pd.concat([tdf,pdf])\n",
    "\n",
    "df = df[pd.notna(df[\"gridcells\"]) & df[\"gridcells\"]>0]\n",
    "\n",
    "df[\"da_trend_p\"] = df[\"da_trend_cells\"] / df[\"gridcells\"]\n",
    "\n",
    "df[\"da_trend_cat\"] = None\n",
    "\n",
    "df.loc[df['da_trend_p']==0,\"da_trend_cat\"] = \"A. 0==DA\"\n",
    "df.loc[df['da_trend_p']>0,\"da_trend_cat\"] = \"B. 0<DA<0.5\"\n",
    "df.loc[df['da_trend_p']>0.5,\"da_trend_cat\"] = \"C. DA>0.5\"\n",
    "\n",
    "places =  pd.read_csv('../data/place_df.csv')"
   ]
  },
  {
   "cell_type": "code",
   "execution_count": 3,
   "metadata": {},
   "outputs": [],
   "source": [
    "cat_df = pd.read_csv('../data/1_predicted_category_documents.csv')\n",
    "\n",
    "df = df.merge(cat_df[[\"id\",\"PY\"]])"
   ]
  },
  {
   "cell_type": "code",
   "execution_count": null,
   "metadata": {},
   "outputs": [],
   "source": []
  }
 ],
 "metadata": {
  "kernelspec": {
   "display_name": "tmv",
   "language": "python",
   "name": "tmv"
  },
  "language_info": {
   "codemirror_mode": {
    "name": "ipython",
    "version": 3
   },
   "file_extension": ".py",
   "mimetype": "text/x-python",
   "name": "python",
   "nbconvert_exporter": "python",
   "pygments_lexer": "ipython3",
   "version": "3.6.6"
  }
 },
 "nbformat": 4,
 "nbformat_minor": 4
}
