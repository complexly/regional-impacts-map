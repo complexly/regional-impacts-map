{
 "cells": [
  {
   "cell_type": "code",
   "execution_count": 1,
   "metadata": {},
   "outputs": [],
   "source": [
    "import django, sys, os\n",
    "sys.path.append('/home/max/software/django-tmv/tmv_mcc-apsis/BasicBrowser')\n",
    "os.environ.setdefault(\"DJANGO_SETTINGS_MODULE\", \"BasicBrowser.settings\")\n",
    "django.setup()\n",
    "from pandas_ods_reader import read_ods\n",
    "import pandas as pd\n",
    "from scoping.models import *\n",
    "import random\n",
    "import pickle\n",
    "\n",
    "from sklearn.feature_extraction.text import CountVectorizer, TfidfVectorizer\n",
    "from sklearn.svm import SVC\n",
    "\n",
    "import matplotlib.pyplot as plt\n",
    "\n",
    "django.db.connection.close()"
   ]
  },
  {
   "cell_type": "code",
   "execution_count": 34,
   "metadata": {},
   "outputs": [],
   "source": [
    "import gspread\n",
    "from oauth2client.service_account import ServiceAccountCredentials\n",
    "scope = ['https://spreadsheets.google.com/feeds']\n",
    "credentials = ServiceAccountCredentials.from_json_keyfile_name('../literature_identification/jupyter-google-e4b72bf44320.json', scope)\n",
    "gc = gspread.authorize(credentials)\n",
    "spreadsheet_key = '1o18FIQTmGSWJ_m1ePAzrcVhFlfesESCb2bIEG7ibJAA'\n",
    "wb = gc.open_by_key(spreadsheet_key)\n",
    "ws = wb.worksheet(\"category_label_numbers\")\n",
    "\n",
    "table = ws.get_all_values()\n",
    "category_map = pd.DataFrame(table[1:], columns=table[0])\n",
    "category_map.head()\n",
    "\n"
   ]
  },
  {
   "cell_type": "code",
   "execution_count": 39,
   "metadata": {},
   "outputs": [
    {
     "name": "stdout",
     "output_type": "stream",
     "text": [
      "(2335, 242)\n"
     ]
    }
   ],
   "source": [
    "seen_df = pd.read_csv('../data/0_labelled_documents.csv')\n",
    "\n",
    "df = (seen_df\n",
    "      .sort_values('id')\n",
    "      .sample(frac=1, random_state=1)\n",
    "      .reset_index(drop=True)\n",
    ")\n",
    "\n",
    "from alterations import postfix_data\n",
    "df = postfix_data(df)\n",
    "\n",
    "print(seen_df.shape)\n",
    "\n",
    "seen_index = df[df['seen']==1].index\n",
    "unseen_index = df[df['seen']==0].index\n",
    "new_index = df[(df['seen']==1) & (df['ar5']==0)].index\n",
    "rel_index = df[df['relevant']==1].index\n",
    "r_index = df[df[\"random_sample\"]==1].index\n",
    "physical_index = df[df['physical_tags']==1].index\n",
    "\n",
    "\n",
    "\n",
    "new_rel_index = physical_index.intersection(rel_index)\n",
    "\n",
    "\n",
    "impact_columns = [x for x in df.columns if re.match(\"^4 - \",x)]\n",
    "for x in impact_columns:\n",
    "    row = category_map.loc[category_map['Specific category']==x.split(' - ')[1]]\n",
    "    if row.shape[0]==0:\n",
    "        continue\n",
    "    for i, aggscheme in enumerate(row[['Proposed Aggregation 1', 'Proposed Aggregation 2']].values[0]):\n",
    "        if aggscheme not in ['-','']:\n",
    "            nc = f'{17+i} - {aggscheme}'\n",
    "            if nc not in df.columns:\n",
    "                df[nc] = 0\n",
    "            df.loc[df[x]==1,nc] = 1\n",
    "\n",
    "\n",
    "specific_impacts_2 = [x for x in df.columns if \"18 - \" in x and df[x].sum() > 5]"
   ]
  },
  {
   "cell_type": "code",
   "execution_count": 16,
   "metadata": {},
   "outputs": [
    {
     "name": "stdout",
     "output_type": "stream",
     "text": [
      "running vectorisation again\n"
     ]
    },
    {
     "data": {
      "text/plain": [
       "(2335, 20676)"
      ]
     },
     "execution_count": 16,
     "metadata": {},
     "output_type": "execute_result"
    }
   ],
   "source": [
    "revectorize = True\n",
    "\n",
    "X_exists = os.path.isfile(f'../data/X_{seen_df.shape[0]}.npz')\n",
    "\n",
    "if revectorize is True or X_exists is False:\n",
    "    print(\"running vectorisation again\")\n",
    "    vec = TfidfVectorizer(\n",
    "        ngram_range=(1,2),\n",
    "        min_df=5, max_df=0.8, strip_accents='unicode', \n",
    "        max_features=50000,\n",
    "        #tokenizer=snowball_stemmer()\n",
    "    )\n",
    "\n",
    "    X = vec.fit_transform(df['content'].astype(\"str\"))   \n",
    "    with open (f'../data/vec_{seen_df.shape[0]}.pickle','wb') as f:\n",
    "        pickle.dump(vec, f)\n",
    "    import scipy.sparse\n",
    "    scipy.sparse.save_npz(f'../data/X_{seen_df.shape[0]}.npz', X)\n",
    "else:\n",
    "    print(\"loading feature matrix\")\n",
    "    with open (f'../data/vec_{seen_df.shape[0]}.pickle','rb') as f:\n",
    "        vec = pickle.load(f)\n",
    "        X = scipy.sparse.load_npz(f'../data/X_{seen_df.shape[0]}.npz')\n",
    "        \n",
    "X.shape"
   ]
  },
  {
   "cell_type": "code",
   "execution_count": 107,
   "metadata": {},
   "outputs": [
    {
     "data": {
      "text/plain": [
       "{0: 8.0,\n",
       " 1: 9.0,\n",
       " 2: 9.0,\n",
       " 3: 9.0,\n",
       " 4: 9.0,\n",
       " 5: 10.0,\n",
       " 6: 7.0,\n",
       " 7: 10.0,\n",
       " 8: 10.0,\n",
       " 9: 9.0,\n",
       " 10: 10.0,\n",
       " 11: 10.0}"
      ]
     },
     "execution_count": 107,
     "metadata": {},
     "output_type": "execute_result"
    }
   ],
   "source": [
    "y = np.matrix(df[specific_impacts_2])\n",
    "\n",
    "weights = {}\n",
    "for i,c in enumerate(specific_impacts_2):\n",
    "    weights[i] =  round((1-y[:,i].sum()/len(new_rel_index))*10)\n",
    "    \n",
    "weights"
   ]
  },
  {
   "cell_type": "code",
   "execution_count": 112,
   "metadata": {},
   "outputs": [
    {
     "name": "stderr",
     "output_type": "stream",
     "text": [
      "/home/max/software/django-tmv/tmv/venv/lib/python3.6/site-packages/sklearn/utils/validation.py:71: FutureWarning: Pass classes=12, y=      18 - Terrestrial Water Cycle  18 - Drought & Floods  18 - Cryosphere  \\\n",
      "0                                1                      0                0   \n",
      "2                                0                      0                0   \n",
      "5                                0                      1                0   \n",
      "6                                0                      0                0   \n",
      "13                               0                      0                0   \n",
      "...                            ...                    ...              ...   \n",
      "2326                             0                      0                0   \n",
      "2327                             0                      0                0   \n",
      "2329                             1                      0                0   \n",
      "2332                             0                      0                0   \n",
      "2333                             0                      0                0   \n",
      "\n",
      "      18 - Coastal and marine Ecosystems  18 - Food/Agriculture  \\\n",
      "0                                      0                      0   \n",
      "2                                      0                      0   \n",
      "5                                      0                      0   \n",
      "6                                      0                      0   \n",
      "13                                     0                      0   \n",
      "...                                  ...                    ...   \n",
      "2326                                   0                      0   \n",
      "2327                                   0                      0   \n",
      "2329                                   0                      0   \n",
      "2332                                   0                      1   \n",
      "2333                                   0                      0   \n",
      "\n",
      "      18 - Carbon Cycle  18 - Terrestrial ES  18 - Wildfires  \\\n",
      "0                     0                    0               0   \n",
      "2                     0                    1               0   \n",
      "5                     0                    0               0   \n",
      "6                     0                    0               0   \n",
      "13                    0                    0               1   \n",
      "...                 ...                  ...             ...   \n",
      "2326                  0                    0               0   \n",
      "2327                  0                    0               0   \n",
      "2329                  0                    0               0   \n",
      "2332                  0                    0               0   \n",
      "2333                  0                    0               0   \n",
      "\n",
      "      18 - Livelihoods and wellbeing  18 - Health  \\\n",
      "0                                  0            0   \n",
      "2                                  0            0   \n",
      "5                                  0            0   \n",
      "6                                  0            0   \n",
      "13                                 0            0   \n",
      "...                              ...          ...   \n",
      "2326                               0            1   \n",
      "2327                               0            1   \n",
      "2329                               0            0   \n",
      "2332                               0            0   \n",
      "2333                               0            1   \n",
      "\n",
      "      18 - Displacement and migration  18 - Other anthropogenic  \n",
      "0                                   0                         0  \n",
      "2                                   0                         0  \n",
      "5                                   0                         0  \n",
      "6                                   0                         0  \n",
      "13                                  0                         0  \n",
      "...                               ...                       ...  \n",
      "2326                                0                         0  \n",
      "2327                                0                         0  \n",
      "2329                                0                         0  \n",
      "2332                                0                         0  \n",
      "2333                                0                         0  \n",
      "\n",
      "[891 rows x 12 columns] as keyword args. From version 0.25 passing these as positional arguments will result in an error\n",
      "  FutureWarning)\n"
     ]
    },
    {
     "ename": "TypeError",
     "evalue": "'int' object is not iterable",
     "output_type": "error",
     "traceback": [
      "\u001b[0;31m---------------------------------------------------------------------------\u001b[0m",
      "\u001b[0;31mTypeError\u001b[0m                                 Traceback (most recent call last)",
      "\u001b[0;32m<ipython-input-112-308fab2a0948>\u001b[0m in \u001b[0;36m<module>\u001b[0;34m()\u001b[0m\n\u001b[1;32m      1\u001b[0m \u001b[0;32mfrom\u001b[0m \u001b[0msklearn\u001b[0m\u001b[0;34m.\u001b[0m\u001b[0mutils\u001b[0m\u001b[0;34m.\u001b[0m\u001b[0mclass_weight\u001b[0m \u001b[0;32mimport\u001b[0m \u001b[0mcompute_class_weight\u001b[0m\u001b[0;34m\u001b[0m\u001b[0;34m\u001b[0m\u001b[0m\n\u001b[1;32m      2\u001b[0m \u001b[0;34m\u001b[0m\u001b[0m\n\u001b[0;32m----> 3\u001b[0;31m \u001b[0mweights\u001b[0m \u001b[0;34m=\u001b[0m \u001b[0mcompute_class_weight\u001b[0m\u001b[0;34m(\u001b[0m\u001b[0;34m\"balanced\"\u001b[0m\u001b[0;34m,\u001b[0m\u001b[0mlen\u001b[0m\u001b[0;34m(\u001b[0m\u001b[0mspecific_impacts_2\u001b[0m\u001b[0;34m)\u001b[0m\u001b[0;34m,\u001b[0m\u001b[0mdf\u001b[0m\u001b[0;34m.\u001b[0m\u001b[0mloc\u001b[0m\u001b[0;34m[\u001b[0m\u001b[0mnew_rel_index\u001b[0m\u001b[0;34m,\u001b[0m\u001b[0mspecific_impacts_2\u001b[0m\u001b[0;34m]\u001b[0m\u001b[0;34m)\u001b[0m\u001b[0;34m\u001b[0m\u001b[0;34m\u001b[0m\u001b[0m\n\u001b[0m",
      "\u001b[0;32m~/software/django-tmv/tmv/venv/lib/python3.6/site-packages/sklearn/utils/validation.py\u001b[0m in \u001b[0;36minner_f\u001b[0;34m(*args, **kwargs)\u001b[0m\n\u001b[1;32m     71\u001b[0m                           FutureWarning)\n\u001b[1;32m     72\u001b[0m         \u001b[0mkwargs\u001b[0m\u001b[0;34m.\u001b[0m\u001b[0mupdate\u001b[0m\u001b[0;34m(\u001b[0m\u001b[0;34m{\u001b[0m\u001b[0mk\u001b[0m\u001b[0;34m:\u001b[0m \u001b[0marg\u001b[0m \u001b[0;32mfor\u001b[0m \u001b[0mk\u001b[0m\u001b[0;34m,\u001b[0m \u001b[0marg\u001b[0m \u001b[0;32min\u001b[0m \u001b[0mzip\u001b[0m\u001b[0;34m(\u001b[0m\u001b[0msig\u001b[0m\u001b[0;34m.\u001b[0m\u001b[0mparameters\u001b[0m\u001b[0;34m,\u001b[0m \u001b[0margs\u001b[0m\u001b[0;34m)\u001b[0m\u001b[0;34m}\u001b[0m\u001b[0;34m)\u001b[0m\u001b[0;34m\u001b[0m\u001b[0;34m\u001b[0m\u001b[0m\n\u001b[0;32m---> 73\u001b[0;31m         \u001b[0;32mreturn\u001b[0m \u001b[0mf\u001b[0m\u001b[0;34m(\u001b[0m\u001b[0;34m**\u001b[0m\u001b[0mkwargs\u001b[0m\u001b[0;34m)\u001b[0m\u001b[0;34m\u001b[0m\u001b[0;34m\u001b[0m\u001b[0m\n\u001b[0m\u001b[1;32m     74\u001b[0m     \u001b[0;32mreturn\u001b[0m \u001b[0minner_f\u001b[0m\u001b[0;34m\u001b[0m\u001b[0;34m\u001b[0m\u001b[0m\n\u001b[1;32m     75\u001b[0m \u001b[0;34m\u001b[0m\u001b[0m\n",
      "\u001b[0;32m~/software/django-tmv/tmv/venv/lib/python3.6/site-packages/sklearn/utils/class_weight.py\u001b[0m in \u001b[0;36mcompute_class_weight\u001b[0;34m(class_weight, classes, y)\u001b[0m\n\u001b[1;32m     41\u001b[0m     \u001b[0;32mfrom\u001b[0m \u001b[0;34m.\u001b[0m\u001b[0;34m.\u001b[0m\u001b[0mpreprocessing\u001b[0m \u001b[0;32mimport\u001b[0m \u001b[0mLabelEncoder\u001b[0m\u001b[0;34m\u001b[0m\u001b[0;34m\u001b[0m\u001b[0m\n\u001b[1;32m     42\u001b[0m \u001b[0;34m\u001b[0m\u001b[0m\n\u001b[0;32m---> 43\u001b[0;31m     \u001b[0;32mif\u001b[0m \u001b[0mset\u001b[0m\u001b[0;34m(\u001b[0m\u001b[0my\u001b[0m\u001b[0;34m)\u001b[0m \u001b[0;34m-\u001b[0m \u001b[0mset\u001b[0m\u001b[0;34m(\u001b[0m\u001b[0mclasses\u001b[0m\u001b[0;34m)\u001b[0m\u001b[0;34m:\u001b[0m\u001b[0;34m\u001b[0m\u001b[0;34m\u001b[0m\u001b[0m\n\u001b[0m\u001b[1;32m     44\u001b[0m         raise ValueError(\"classes should include all valid labels that can \"\n\u001b[1;32m     45\u001b[0m                          \"be in y\")\n",
      "\u001b[0;31mTypeError\u001b[0m: 'int' object is not iterable"
     ]
    }
   ],
   "source": [
    "from sklearn.utils.class_weight import compute_class_weight\n",
    "\n",
    "weights = compute_class_weight(\"balanced\",len(specific_impacts_2),df.loc[new_rel_index,specific_impacts_2])"
   ]
  },
  {
   "cell_type": "code",
   "execution_count": 88,
   "metadata": {},
   "outputs": [
    {
     "data": {
      "text/plain": [
       "['18 - Terrestrial Water Cycle',\n",
       " '18 - Drought & Floods',\n",
       " '18 - Cryosphere',\n",
       " '18 - Coastal and marine Ecosystems',\n",
       " '18 - Food/Agriculture',\n",
       " '18 - Carbon Cycle',\n",
       " '18 - Terrestrial ES',\n",
       " '18 - Wildfires',\n",
       " '18 - Livelihoods and wellbeing',\n",
       " '18 - Health',\n",
       " '18 - Displacement and migration',\n",
       " '18 - Other anthropogenic']"
      ]
     },
     "execution_count": 88,
     "metadata": {},
     "output_type": "execute_result"
    }
   ],
   "source": [
    "specific_impacts_2"
   ]
  },
  {
   "cell_type": "code",
   "execution_count": 108,
   "metadata": {},
   "outputs": [
    {
     "name": "stdout",
     "output_type": "stream",
     "text": [
      "Epoch 1/40\n",
      "691/691 [==============================] - 1s 2ms/step - loss: 0.6278\n",
      "Epoch 2/40\n",
      "691/691 [==============================] - 1s 983us/step - loss: 0.4242\n",
      "Epoch 3/40\n",
      "691/691 [==============================] - 1s 919us/step - loss: 0.2744\n",
      "Epoch 4/40\n",
      "691/691 [==============================] - 1s 928us/step - loss: 0.2142\n",
      "Epoch 5/40\n",
      "691/691 [==============================] - 1s 921us/step - loss: 0.1800\n",
      "Epoch 6/40\n",
      "691/691 [==============================] - 1s 925us/step - loss: 0.1513\n",
      "Epoch 7/40\n",
      "691/691 [==============================] - 1s 960us/step - loss: 0.1260\n",
      "Epoch 8/40\n",
      "691/691 [==============================] - 1s 936us/step - loss: 0.1039\n",
      "Epoch 9/40\n",
      "691/691 [==============================] - 1s 895us/step - loss: 0.0855\n",
      "Epoch 10/40\n",
      "691/691 [==============================] - 1s 927us/step - loss: 0.0705\n",
      "Epoch 11/40\n",
      "691/691 [==============================] - 1s 934us/step - loss: 0.0584\n",
      "Epoch 12/40\n",
      "691/691 [==============================] - 1s 947us/step - loss: 0.0486\n",
      "Epoch 13/40\n",
      "691/691 [==============================] - 1s 1ms/step - loss: 0.0406\n",
      "Epoch 14/40\n",
      "691/691 [==============================] - 1s 938us/step - loss: 0.0343\n",
      "Epoch 15/40\n",
      "691/691 [==============================] - 1s 940us/step - loss: 0.0290\n",
      "Epoch 16/40\n",
      "691/691 [==============================] - 1s 942us/step - loss: 0.0248\n",
      "Epoch 17/40\n",
      "691/691 [==============================] - 1s 1ms/step - loss: 0.0213\n",
      "Epoch 18/40\n",
      "691/691 [==============================] - 1s 935us/step - loss: 0.0184\n",
      "Epoch 19/40\n",
      "691/691 [==============================] - 1s 932us/step - loss: 0.0160\n",
      "Epoch 20/40\n",
      "691/691 [==============================] - 1s 944us/step - loss: 0.0140\n",
      "Epoch 21/40\n",
      "691/691 [==============================] - 1s 878us/step - loss: 0.0123\n",
      "Epoch 22/40\n",
      "691/691 [==============================] - 1s 928us/step - loss: 0.0109\n",
      "Epoch 23/40\n",
      "691/691 [==============================] - 1s 931us/step - loss: 0.0097\n",
      "Epoch 24/40\n",
      "691/691 [==============================] - 1s 925us/step - loss: 0.0087\n",
      "Epoch 25/40\n",
      "691/691 [==============================] - 1s 926us/step - loss: 0.0078\n",
      "Epoch 26/40\n",
      "691/691 [==============================] - 1s 977us/step - loss: 0.0070\n",
      "Epoch 27/40\n",
      "691/691 [==============================] - 1s 982us/step - loss: 0.0064\n",
      "Epoch 28/40\n",
      "691/691 [==============================] - 1s 935us/step - loss: 0.0058\n",
      "Epoch 29/40\n",
      "691/691 [==============================] - 1s 920us/step - loss: 0.0053\n",
      "Epoch 30/40\n",
      "691/691 [==============================] - 1s 936us/step - loss: 0.0049\n",
      "Epoch 31/40\n",
      "691/691 [==============================] - 1s 942us/step - loss: 0.0045\n",
      "Epoch 32/40\n",
      "691/691 [==============================] - 1s 911us/step - loss: 0.0042\n",
      "Epoch 33/40\n",
      "691/691 [==============================] - 1s 1ms/step - loss: 0.0039\n",
      "Epoch 34/40\n",
      "691/691 [==============================] - 1s 929us/step - loss: 0.0036\n",
      "Epoch 35/40\n",
      "691/691 [==============================] - 1s 918us/step - loss: 0.0033\n",
      "Epoch 36/40\n",
      "691/691 [==============================] - 1s 919us/step - loss: 0.0031\n",
      "Epoch 37/40\n",
      "691/691 [==============================] - 1s 918us/step - loss: 0.0029\n",
      "Epoch 38/40\n",
      "691/691 [==============================] - 1s 928us/step - loss: 0.0027\n",
      "Epoch 39/40\n",
      "691/691 [==============================] - 1s 930us/step - loss: 0.0026\n",
      "Epoch 40/40\n",
      "691/691 [==============================] - 1s 977us/step - loss: 0.0024\n"
     ]
    },
    {
     "data": {
      "text/plain": [
       "<keras.callbacks.History at 0x7f39d528fb00>"
      ]
     },
     "execution_count": 108,
     "metadata": {},
     "output_type": "execute_result"
    }
   ],
   "source": [
    "import tensorflow as tf\n",
    "from tensorflow import keras\n",
    "from keras import Sequential\n",
    "from keras.layers import Dense\n",
    "from sklearn.model_selection import KFold\n",
    "\n",
    "\n",
    "def get_model(n_inputs, n_outputs):\n",
    "    model = Sequential()\n",
    "    model.add(Dense(100, input_dim=n_inputs, kernel_initializer='he_uniform', activation='relu'))\n",
    "    model.add(Dense(n_outputs, activation='sigmoid'))\n",
    "    model.compile(loss='binary_crossentropy', optimizer='adam')\n",
    "    return model\n",
    "\n",
    "# test_index = random.sample(set(new_rel_index),200)\n",
    "# train_index = list(set(new_rel_index) - set(test_index))\n",
    "\n",
    "model = get_model(X.shape[1],y.shape[1])\n",
    "model.fit(X[train_index], y[train_index],epochs=40, class_weight=weights.values())\n",
    "\n"
   ]
  },
  {
   "cell_type": "code",
   "execution_count": 109,
   "metadata": {},
   "outputs": [
    {
     "name": "stdout",
     "output_type": "stream",
     "text": [
      "[0.5, 0.11764705882352941, 0.5925925925925926, 0.15384615384615385, 0.18181818181818182, 0.0, 0.761904761904762, 0.25, 0.0, 0.8717948717948718, 0.0, 0.0]\n",
      "0.28580030173167426\n",
      "0.16783216783216784\n"
     ]
    },
    {
     "name": "stderr",
     "output_type": "stream",
     "text": [
      "/home/max/software/django-tmv/tmv/venv/lib/python3.6/site-packages/sklearn/metrics/_classification.py:1465: UndefinedMetricWarning: F-score is ill-defined and being set to 0.0 due to no true nor predicted samples. Use `zero_division` parameter to control this behavior.\n",
      "  average, \"true nor predicted\", 'F-score is', len(true_sum)\n"
     ]
    }
   ],
   "source": [
    "from sklearn.metrics import precision_score, recall_score, r2_score, f1_score\n",
    "y_pred = model.predict(X[test_index])\n",
    "\n",
    "f1scores = []\n",
    "\n",
    "for i,c in enumerate(specific_impacts_2):\n",
    "    preds = y_pred[:,i]\n",
    "    f1scores.append(f1_score(y[test_index,i],preds.round()))\n",
    "    \n",
    "print(f1scores)\n",
    "print(np.mean(f1scores))\n",
    "print(np.median(f1scores))\n"
   ]
  },
  {
   "cell_type": "code",
   "execution_count": 94,
   "metadata": {},
   "outputs": [
    {
     "name": "stdout",
     "output_type": "stream",
     "text": [
      "[0.4615384615384615, 0.11764705882352941, 0.4347826086956522, 0.0, 0.18181818181818182, 0.0, 0.761904761904762, 0.25, 0.0, 0.8421052631578947, 0.0, 0.0]\n",
      "0.2541496946615401\n",
      "0.1497326203208556\n"
     ]
    },
    {
     "name": "stderr",
     "output_type": "stream",
     "text": [
      "/home/max/software/django-tmv/tmv/venv/lib/python3.6/site-packages/sklearn/metrics/_classification.py:1465: UndefinedMetricWarning: F-score is ill-defined and being set to 0.0 due to no true nor predicted samples. Use `zero_division` parameter to control this behavior.\n",
      "  average, \"true nor predicted\", 'F-score is', len(true_sum)\n"
     ]
    }
   ],
   "source": [
    "from sklearn.metrics import precision_score, recall_score, r2_score, f1_score\n",
    "y_pred = model.predict(X[test_index])\n",
    "\n",
    "f1scores = []\n",
    "\n",
    "for i,c in enumerate(specific_impacts_2):\n",
    "    preds = y_pred[:,i]\n",
    "    f1scores.append(f1_score(y[test_index,i],preds.round()))\n",
    "    \n",
    "print(f1scores)\n",
    "print(np.mean(f1scores))\n",
    "print(np.median(f1scores))\n"
   ]
  },
  {
   "cell_type": "code",
   "execution_count": 21,
   "metadata": {},
   "outputs": [
    {
     "name": "stdout",
     "output_type": "stream",
     "text": [
      "WARNING:tensorflow:From /home/max/software/django-tmv/tmv/venv/lib/python3.6/site-packages/keras/backend/tensorflow_backend.py:541: The name tf.placeholder is deprecated. Please use tf.compat.v1.placeholder instead.\n",
      "\n",
      "WARNING:tensorflow:From /home/max/software/django-tmv/tmv/venv/lib/python3.6/site-packages/keras/backend/tensorflow_backend.py:4432: The name tf.random_uniform is deprecated. Please use tf.random.uniform instead.\n",
      "\n",
      "WARNING:tensorflow:From /home/max/software/django-tmv/tmv/venv/lib/python3.6/site-packages/keras/optimizers.py:793: The name tf.train.Optimizer is deprecated. Please use tf.compat.v1.train.Optimizer instead.\n",
      "\n",
      "WARNING:tensorflow:From /home/max/software/django-tmv/tmv/venv/lib/python3.6/site-packages/keras/backend/tensorflow_backend.py:3657: The name tf.log is deprecated. Please use tf.math.log instead.\n",
      "\n",
      "WARNING:tensorflow:From /home/max/software/django-tmv/tmv/venv/lib/python3.6/site-packages/tensorflow/python/ops/nn_impl.py:180: add_dispatch_support.<locals>.wrapper (from tensorflow.python.ops.array_ops) is deprecated and will be removed in a future version.\n",
      "Instructions for updating:\n",
      "Use tf.where in 2.0, which has the same broadcast rule as np.where\n",
      "WARNING:tensorflow:From /home/max/software/django-tmv/tmv/venv/lib/python3.6/site-packages/keras/backend/tensorflow_backend.py:1033: The name tf.assign_add is deprecated. Please use tf.compat.v1.assign_add instead.\n",
      "\n"
     ]
    },
    {
     "ename": "AttributeError",
     "evalue": "'Tensor' object has no attribute 'assign'",
     "output_type": "error",
     "traceback": [
      "\u001b[0;31m---------------------------------------------------------------------------\u001b[0m",
      "\u001b[0;31mAttributeError\u001b[0m                            Traceback (most recent call last)",
      "\u001b[0;32m<ipython-input-21-b4e77eba12f8>\u001b[0m in \u001b[0;36m<module>\u001b[0;34m()\u001b[0m\n\u001b[1;32m     46\u001b[0m \u001b[0;34m\u001b[0m\u001b[0m\n\u001b[1;32m     47\u001b[0m \u001b[0;31m# evaluate model\u001b[0m\u001b[0;34m\u001b[0m\u001b[0;34m\u001b[0m\u001b[0;34m\u001b[0m\u001b[0m\n\u001b[0;32m---> 48\u001b[0;31m \u001b[0mresults\u001b[0m \u001b[0;34m=\u001b[0m \u001b[0mevaluate_model\u001b[0m\u001b[0;34m(\u001b[0m\u001b[0mX\u001b[0m\u001b[0;34m[\u001b[0m\u001b[0mnew_rel_index\u001b[0m\u001b[0;34m]\u001b[0m\u001b[0;34m,\u001b[0m \u001b[0my\u001b[0m\u001b[0;34m[\u001b[0m\u001b[0mnew_rel_index\u001b[0m\u001b[0;34m]\u001b[0m\u001b[0;34m)\u001b[0m\u001b[0;34m\u001b[0m\u001b[0;34m\u001b[0m\u001b[0m\n\u001b[0m\u001b[1;32m     49\u001b[0m \u001b[0;31m# summarize performance\u001b[0m\u001b[0;34m\u001b[0m\u001b[0;34m\u001b[0m\u001b[0;34m\u001b[0m\u001b[0m\n\u001b[1;32m     50\u001b[0m \u001b[0mprint\u001b[0m\u001b[0;34m(\u001b[0m\u001b[0;34m'Accuracy: %.3f (%.3f)'\u001b[0m \u001b[0;34m%\u001b[0m \u001b[0;34m(\u001b[0m\u001b[0mmean\u001b[0m\u001b[0;34m(\u001b[0m\u001b[0mresults\u001b[0m\u001b[0;34m)\u001b[0m\u001b[0;34m,\u001b[0m \u001b[0mstd\u001b[0m\u001b[0;34m(\u001b[0m\u001b[0mresults\u001b[0m\u001b[0;34m)\u001b[0m\u001b[0;34m)\u001b[0m\u001b[0;34m)\u001b[0m\u001b[0;34m\u001b[0m\u001b[0;34m\u001b[0m\u001b[0m\n",
      "\u001b[0;32m<ipython-input-21-b4e77eba12f8>\u001b[0m in \u001b[0;36mevaluate_model\u001b[0;34m(X, y)\u001b[0m\n\u001b[1;32m     31\u001b[0m                 \u001b[0mmodel\u001b[0m \u001b[0;34m=\u001b[0m \u001b[0mget_model\u001b[0m\u001b[0;34m(\u001b[0m\u001b[0mn_inputs\u001b[0m\u001b[0;34m,\u001b[0m \u001b[0mn_outputs\u001b[0m\u001b[0;34m)\u001b[0m\u001b[0;34m\u001b[0m\u001b[0;34m\u001b[0m\u001b[0m\n\u001b[1;32m     32\u001b[0m                 \u001b[0;31m# fit model\u001b[0m\u001b[0;34m\u001b[0m\u001b[0;34m\u001b[0m\u001b[0;34m\u001b[0m\u001b[0m\n\u001b[0;32m---> 33\u001b[0;31m                 \u001b[0mmodel\u001b[0m\u001b[0;34m.\u001b[0m\u001b[0mfit\u001b[0m\u001b[0;34m(\u001b[0m\u001b[0mX_train\u001b[0m\u001b[0;34m,\u001b[0m \u001b[0my_train\u001b[0m\u001b[0;34m,\u001b[0m \u001b[0mverbose\u001b[0m\u001b[0;34m=\u001b[0m\u001b[0;36m0\u001b[0m\u001b[0;34m,\u001b[0m \u001b[0mepochs\u001b[0m\u001b[0;34m=\u001b[0m\u001b[0;36m100\u001b[0m\u001b[0;34m)\u001b[0m\u001b[0;34m\u001b[0m\u001b[0;34m\u001b[0m\u001b[0m\n\u001b[0m\u001b[1;32m     34\u001b[0m                 \u001b[0;31m# make a prediction on the test set\u001b[0m\u001b[0;34m\u001b[0m\u001b[0;34m\u001b[0m\u001b[0;34m\u001b[0m\u001b[0m\n\u001b[1;32m     35\u001b[0m                 \u001b[0myhat\u001b[0m \u001b[0;34m=\u001b[0m \u001b[0mmodel\u001b[0m\u001b[0;34m.\u001b[0m\u001b[0mpredict\u001b[0m\u001b[0;34m(\u001b[0m\u001b[0mX_test\u001b[0m\u001b[0;34m)\u001b[0m\u001b[0;34m\u001b[0m\u001b[0;34m\u001b[0m\u001b[0m\n",
      "\u001b[0;32m~/software/django-tmv/tmv/venv/lib/python3.6/site-packages/keras/engine/training.py\u001b[0m in \u001b[0;36mfit\u001b[0;34m(self, x, y, batch_size, epochs, verbose, callbacks, validation_split, validation_data, shuffle, class_weight, sample_weight, initial_epoch, steps_per_epoch, validation_steps, validation_freq, max_queue_size, workers, use_multiprocessing, **kwargs)\u001b[0m\n",
      "\u001b[0;32m~/software/django-tmv/tmv/venv/lib/python3.6/site-packages/keras/engine/training.py\u001b[0m in \u001b[0;36m_make_train_function\u001b[0;34m(self)\u001b[0m\n",
      "\u001b[0;32m~/software/django-tmv/tmv/venv/lib/python3.6/site-packages/keras/legacy/interfaces.py\u001b[0m in \u001b[0;36mwrapper\u001b[0;34m(*args, **kwargs)\u001b[0m\n",
      "\u001b[0;32m~/software/django-tmv/tmv/venv/lib/python3.6/site-packages/keras/optimizers.py\u001b[0m in \u001b[0;36mget_updates\u001b[0;34m(self, loss, params)\u001b[0m\n",
      "\u001b[0;32m~/software/django-tmv/tmv/venv/lib/python3.6/site-packages/keras/backend/tensorflow_backend.py\u001b[0m in \u001b[0;36mupdate\u001b[0;34m(x, new_x)\u001b[0m\n",
      "\u001b[0;32m~/software/django-tmv/tmv/venv/lib/python3.6/site-packages/tensorflow/python/ops/state_ops.py\u001b[0m in \u001b[0;36massign\u001b[0;34m(ref, value, validate_shape, use_locking, name)\u001b[0m\n\u001b[1;32m    226\u001b[0m         \u001b[0mref\u001b[0m\u001b[0;34m,\u001b[0m \u001b[0mvalue\u001b[0m\u001b[0;34m,\u001b[0m \u001b[0muse_locking\u001b[0m\u001b[0;34m=\u001b[0m\u001b[0muse_locking\u001b[0m\u001b[0;34m,\u001b[0m \u001b[0mname\u001b[0m\u001b[0;34m=\u001b[0m\u001b[0mname\u001b[0m\u001b[0;34m,\u001b[0m\u001b[0;34m\u001b[0m\u001b[0;34m\u001b[0m\u001b[0m\n\u001b[1;32m    227\u001b[0m         validate_shape=validate_shape)\n\u001b[0;32m--> 228\u001b[0;31m   \u001b[0;32mreturn\u001b[0m \u001b[0mref\u001b[0m\u001b[0;34m.\u001b[0m\u001b[0massign\u001b[0m\u001b[0;34m(\u001b[0m\u001b[0mvalue\u001b[0m\u001b[0;34m,\u001b[0m \u001b[0mname\u001b[0m\u001b[0;34m=\u001b[0m\u001b[0mname\u001b[0m\u001b[0;34m)\u001b[0m\u001b[0;34m\u001b[0m\u001b[0;34m\u001b[0m\u001b[0m\n\u001b[0m\u001b[1;32m    229\u001b[0m \u001b[0;34m\u001b[0m\u001b[0m\n\u001b[1;32m    230\u001b[0m \u001b[0;34m\u001b[0m\u001b[0m\n",
      "\u001b[0;31mAttributeError\u001b[0m: 'Tensor' object has no attribute 'assign'"
     ]
    }
   ],
   "source": [
    "# mlp for multi-label classification\n",
    "from numpy import mean\n",
    "from numpy import std\n",
    "from sklearn.datasets import make_multilabel_classification\n",
    "from sklearn.model_selection import RepeatedKFold\n",
    "from keras.models import Sequential\n",
    "from keras.layers import Dense\n",
    "from sklearn.metrics import accuracy_score\n",
    " \n",
    "\n",
    "# get the model\n",
    "def get_model(n_inputs, n_outputs):\n",
    "\tmodel = Sequential()\n",
    "\tmodel.add(Dense(20, input_dim=n_inputs, kernel_initializer='he_uniform', activation='relu'))\n",
    "\tmodel.add(Dense(n_outputs, activation='sigmoid'))\n",
    "\tmodel.compile(loss='binary_crossentropy', optimizer='adam')\n",
    "\treturn model\n",
    " \n",
    "# evaluate a model using repeated k-fold cross-validation\n",
    "def evaluate_model(X, y):\n",
    "\tresults = list()\n",
    "\tn_inputs, n_outputs = X.shape[1], y.shape[1]\n",
    "\t# define evaluation procedure\n",
    "\tcv = RepeatedKFold(n_splits=10, n_repeats=3, random_state=1)\n",
    "\t# enumerate folds\n",
    "\tfor train_ix, test_ix in cv.split(X):\n",
    "\t\t# prepare data\n",
    "\t\tX_train, X_test = X[train_ix], X[test_ix]\n",
    "\t\ty_train, y_test = y[train_ix], y[test_ix]\n",
    "\t\t# define model\n",
    "\t\tmodel = get_model(n_inputs, n_outputs)\n",
    "\t\t# fit model\n",
    "\t\tmodel.fit(X_train, y_train, verbose=0, epochs=100)\n",
    "\t\t# make a prediction on the test set\n",
    "\t\tyhat = model.predict(X_test)\n",
    "\t\t# round probabilities to class labels\n",
    "\t\tyhat = yhat.round()\n",
    "\t\t# calculate accuracy\n",
    "\t\tacc = accuracy_score(y_test, yhat)\n",
    "\t\t# store result\n",
    "\t\tprint('>%.3f' % acc)\n",
    "\t\tresults.append(acc)\n",
    "\treturn results\n",
    "\n",
    "y = np.matrix(df[specific_impacts_2])\n",
    " \n",
    "# evaluate model\n",
    "results = evaluate_model(X[new_rel_index], y[new_rel_index])\n",
    "# summarize performance\n",
    "print('Accuracy: %.3f (%.3f)' % (mean(results), std(results)))"
   ]
  }
 ],
 "metadata": {
  "kernelspec": {
   "display_name": "tmv",
   "language": "python",
   "name": "tmv"
  },
  "language_info": {
   "codemirror_mode": {
    "name": "ipython",
    "version": 3
   },
   "file_extension": ".py",
   "mimetype": "text/x-python",
   "name": "python",
   "nbconvert_exporter": "python",
   "pygments_lexer": "ipython3",
   "version": "3.6.6"
  }
 },
 "nbformat": 4,
 "nbformat_minor": 4
}
