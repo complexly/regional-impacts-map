{
 "cells": [
  {
   "cell_type": "code",
   "execution_count": 1,
   "metadata": {},
   "outputs": [],
   "source": [
    "import pandas as pd\n",
    "import numpy as np\n",
    "import matplotlib.pyplot as plt\n",
    "import re\n",
    "from matplotlib.patches import Rectangle\n"
   ]
  },
  {
   "cell_type": "code",
   "execution_count": 2,
   "metadata": {},
   "outputs": [
    {
     "data": {
      "text/html": [
       "<div>\n",
       "<style scoped>\n",
       "    .dataframe tbody tr th:only-of-type {\n",
       "        vertical-align: middle;\n",
       "    }\n",
       "\n",
       "    .dataframe tbody tr th {\n",
       "        vertical-align: top;\n",
       "    }\n",
       "\n",
       "    .dataframe thead th {\n",
       "        text-align: right;\n",
       "    }\n",
       "</style>\n",
       "<table border=\"1\" class=\"dataframe\">\n",
       "  <thead>\n",
       "    <tr style=\"text-align: right;\">\n",
       "      <th></th>\n",
       "      <th>Unnamed: 0</th>\n",
       "      <th>Unnamed: 1</th>\n",
       "      <th>Unnamed: 2</th>\n",
       "      <th>Unnamed: 3</th>\n",
       "      <th>Unnamed: 4</th>\n",
       "      <th>Unnamed: 5</th>\n",
       "      <th>Unnamed: 6</th>\n",
       "    </tr>\n",
       "  </thead>\n",
       "  <tbody>\n",
       "    <tr>\n",
       "      <th>0</th>\n",
       "      <td>NaN</td>\n",
       "      <td>Mountains, snow and ice</td>\n",
       "      <td>conf. detect.</td>\n",
       "      <td>role of climate</td>\n",
       "      <td>climate driver</td>\n",
       "      <td>reference behaviour</td>\n",
       "      <td>conf. attrib.</td>\n",
       "    </tr>\n",
       "    <tr>\n",
       "      <th>1</th>\n",
       "      <td>Africa</td>\n",
       "      <td>Retreat of tropical highland glaciers in East ...</td>\n",
       "      <td>very high</td>\n",
       "      <td>major</td>\n",
       "      <td>warming, drying</td>\n",
       "      <td>no change</td>\n",
       "      <td>high</td>\n",
       "    </tr>\n",
       "    <tr>\n",
       "      <th>2</th>\n",
       "      <td>Europe</td>\n",
       "      <td>Retreat of Alpine, Scandinavian and Icelandic ...</td>\n",
       "      <td>very high</td>\n",
       "      <td>major</td>\n",
       "      <td>warming</td>\n",
       "      <td>no change</td>\n",
       "      <td>high</td>\n",
       "    </tr>\n",
       "    <tr>\n",
       "      <th>3</th>\n",
       "      <td>NaN</td>\n",
       "      <td>Increase in rock slope failures in Western Alp...</td>\n",
       "      <td>high</td>\n",
       "      <td>major</td>\n",
       "      <td>warming</td>\n",
       "      <td>no change</td>\n",
       "      <td>medium</td>\n",
       "    </tr>\n",
       "    <tr>\n",
       "      <th>4</th>\n",
       "      <td>Asia</td>\n",
       "      <td>Permafrost degradation in Siberia, Central Asi...</td>\n",
       "      <td>high</td>\n",
       "      <td>major</td>\n",
       "      <td>warming</td>\n",
       "      <td>no change</td>\n",
       "      <td>high</td>\n",
       "    </tr>\n",
       "    <tr>\n",
       "      <th>5</th>\n",
       "      <td>NaN</td>\n",
       "      <td>Shrinking mountain glaciers across most of Asi...</td>\n",
       "      <td>high</td>\n",
       "      <td>major</td>\n",
       "      <td>warming</td>\n",
       "      <td>no change</td>\n",
       "      <td>medium</td>\n",
       "    </tr>\n",
       "    <tr>\n",
       "      <th>6</th>\n",
       "      <td>Australasia</td>\n",
       "      <td>Substantial reduction in ice and glacier ice v...</td>\n",
       "      <td>high</td>\n",
       "      <td>major</td>\n",
       "      <td>warming</td>\n",
       "      <td>no change</td>\n",
       "      <td>medium</td>\n",
       "    </tr>\n",
       "    <tr>\n",
       "      <th>7</th>\n",
       "      <td>NaN</td>\n",
       "      <td>Significant decline in late-season snow depth ...</td>\n",
       "      <td>high</td>\n",
       "      <td>major</td>\n",
       "      <td>warming</td>\n",
       "      <td>no change</td>\n",
       "      <td>medium</td>\n",
       "    </tr>\n",
       "    <tr>\n",
       "      <th>8</th>\n",
       "      <td>North America</td>\n",
       "      <td>Shrinkage of glaciers across western and north...</td>\n",
       "      <td>high</td>\n",
       "      <td>major</td>\n",
       "      <td>warming</td>\n",
       "      <td>no change</td>\n",
       "      <td>high</td>\n",
       "    </tr>\n",
       "    <tr>\n",
       "      <th>9</th>\n",
       "      <td>NaN</td>\n",
       "      <td>Decreasing amount of water in spring snowpack ...</td>\n",
       "      <td>high</td>\n",
       "      <td>major</td>\n",
       "      <td>warming</td>\n",
       "      <td>no change</td>\n",
       "      <td>high</td>\n",
       "    </tr>\n",
       "    <tr>\n",
       "      <th>10</th>\n",
       "      <td>South and Central America</td>\n",
       "      <td>Shrinkage of Andean glaciers [WGI AR5 Chapter ...</td>\n",
       "      <td>high</td>\n",
       "      <td>major</td>\n",
       "      <td>warming</td>\n",
       "      <td>no change</td>\n",
       "      <td>high</td>\n",
       "    </tr>\n",
       "    <tr>\n",
       "      <th>11</th>\n",
       "      <td>Polar Regions</td>\n",
       "      <td>Decreasing Arctic sea ice cover in summer [WGI...</td>\n",
       "      <td>very high</td>\n",
       "      <td>major</td>\n",
       "      <td>air and ocean warming, Δ ocean circulation</td>\n",
       "      <td>no change</td>\n",
       "      <td>high</td>\n",
       "    </tr>\n",
       "    <tr>\n",
       "      <th>12</th>\n",
       "      <td>NaN</td>\n",
       "      <td>Reduction in ice volume in Arctic glaciers [WG...</td>\n",
       "      <td>very high</td>\n",
       "      <td>major</td>\n",
       "      <td>warming</td>\n",
       "      <td>no change</td>\n",
       "      <td>high</td>\n",
       "    </tr>\n",
       "    <tr>\n",
       "      <th>13</th>\n",
       "      <td>NaN</td>\n",
       "      <td>Decreasing snow cover across the Arctic [28.2....</td>\n",
       "      <td>high</td>\n",
       "      <td>major</td>\n",
       "      <td>warming</td>\n",
       "      <td>no change</td>\n",
       "      <td>medium</td>\n",
       "    </tr>\n",
       "    <tr>\n",
       "      <th>14</th>\n",
       "      <td>NaN</td>\n",
       "      <td>Widespread permafrost degradation, especially ...</td>\n",
       "      <td>high</td>\n",
       "      <td>major</td>\n",
       "      <td>warming</td>\n",
       "      <td>no change</td>\n",
       "      <td>high</td>\n",
       "    </tr>\n",
       "    <tr>\n",
       "      <th>15</th>\n",
       "      <td>NaN</td>\n",
       "      <td>Ice mass loss along coastal Antarctica [WGI AR...</td>\n",
       "      <td>medium</td>\n",
       "      <td>major</td>\n",
       "      <td>warming</td>\n",
       "      <td>no change</td>\n",
       "      <td>medium</td>\n",
       "    </tr>\n",
       "  </tbody>\n",
       "</table>\n",
       "</div>"
      ],
      "text/plain": [
       "                   Unnamed: 0  \\\n",
       "0                         NaN   \n",
       "1                      Africa   \n",
       "2                      Europe   \n",
       "3                         NaN   \n",
       "4                        Asia   \n",
       "5                         NaN   \n",
       "6                 Australasia   \n",
       "7                         NaN   \n",
       "8               North America   \n",
       "9                         NaN   \n",
       "10  South and Central America   \n",
       "11              Polar Regions   \n",
       "12                        NaN   \n",
       "13                        NaN   \n",
       "14                        NaN   \n",
       "15                        NaN   \n",
       "\n",
       "                                           Unnamed: 1     Unnamed: 2  \\\n",
       "0                             Mountains, snow and ice  conf. detect.   \n",
       "1   Retreat of tropical highland glaciers in East ...      very high   \n",
       "2   Retreat of Alpine, Scandinavian and Icelandic ...      very high   \n",
       "3   Increase in rock slope failures in Western Alp...           high   \n",
       "4   Permafrost degradation in Siberia, Central Asi...           high   \n",
       "5   Shrinking mountain glaciers across most of Asi...           high   \n",
       "6   Substantial reduction in ice and glacier ice v...           high   \n",
       "7   Significant decline in late-season snow depth ...           high   \n",
       "8   Shrinkage of glaciers across western and north...           high   \n",
       "9   Decreasing amount of water in spring snowpack ...           high   \n",
       "10  Shrinkage of Andean glaciers [WGI AR5 Chapter ...           high   \n",
       "11  Decreasing Arctic sea ice cover in summer [WGI...      very high   \n",
       "12  Reduction in ice volume in Arctic glaciers [WG...      very high   \n",
       "13  Decreasing snow cover across the Arctic [28.2....           high   \n",
       "14  Widespread permafrost degradation, especially ...           high   \n",
       "15  Ice mass loss along coastal Antarctica [WGI AR...         medium   \n",
       "\n",
       "         Unnamed: 3                                  Unnamed: 4  \\\n",
       "0   role of climate                              climate driver   \n",
       "1             major                             warming, drying   \n",
       "2             major                                     warming   \n",
       "3             major                                     warming   \n",
       "4             major                                     warming   \n",
       "5             major                                     warming   \n",
       "6             major                                     warming   \n",
       "7             major                                     warming   \n",
       "8             major                                     warming   \n",
       "9             major                                     warming   \n",
       "10            major                                     warming   \n",
       "11            major  air and ocean warming, Δ ocean circulation   \n",
       "12            major                                     warming   \n",
       "13            major                                     warming   \n",
       "14            major                                     warming   \n",
       "15            major                                     warming   \n",
       "\n",
       "             Unnamed: 5     Unnamed: 6  \n",
       "0   reference behaviour  conf. attrib.  \n",
       "1             no change           high  \n",
       "2             no change           high  \n",
       "3             no change         medium  \n",
       "4             no change           high  \n",
       "5             no change         medium  \n",
       "6             no change         medium  \n",
       "7             no change         medium  \n",
       "8             no change           high  \n",
       "9             no change           high  \n",
       "10            no change           high  \n",
       "11            no change           high  \n",
       "12            no change           high  \n",
       "13            no change         medium  \n",
       "14            no change           high  \n",
       "15            no change         medium  "
      ]
     },
     "execution_count": 2,
     "metadata": {},
     "output_type": "execute_result"
    }
   ],
   "source": [
    "ar5 = pd.read_excel('../literature_identification/IPCC/Chapter 18 Masterfiles/TablesChapter18.xlsx')\n",
    "ar5"
   ]
  },
  {
   "cell_type": "code",
   "execution_count": 3,
   "metadata": {},
   "outputs": [
    {
     "name": "stdout",
     "output_type": "stream",
     "text": [
      "(398971, 5)\n",
      "(2335, 242)\n"
     ]
    },
    {
     "data": {
      "text/html": [
       "<div>\n",
       "<style scoped>\n",
       "    .dataframe tbody tr th:only-of-type {\n",
       "        vertical-align: middle;\n",
       "    }\n",
       "\n",
       "    .dataframe tbody tr th {\n",
       "        vertical-align: top;\n",
       "    }\n",
       "\n",
       "    .dataframe thead th {\n",
       "        text-align: right;\n",
       "    }\n",
       "</style>\n",
       "<table border=\"1\" class=\"dataframe\">\n",
       "  <thead>\n",
       "    <tr style=\"text-align: right;\">\n",
       "      <th></th>\n",
       "      <th>id</th>\n",
       "      <th>0 - relevance - mean_prediction</th>\n",
       "      <th>0 - relevance - std_prediction</th>\n",
       "      <th>0 - relevance - lower_pred</th>\n",
       "      <th>0 - relevance - upper_pred</th>\n",
       "    </tr>\n",
       "  </thead>\n",
       "  <tbody>\n",
       "    <tr>\n",
       "      <th>0</th>\n",
       "      <td>740010</td>\n",
       "      <td>0.009046</td>\n",
       "      <td>0.001371</td>\n",
       "      <td>0.007675</td>\n",
       "      <td>0.010417</td>\n",
       "    </tr>\n",
       "    <tr>\n",
       "      <th>1</th>\n",
       "      <td>3300415</td>\n",
       "      <td>0.055892</td>\n",
       "      <td>0.013545</td>\n",
       "      <td>0.042347</td>\n",
       "      <td>0.069436</td>\n",
       "    </tr>\n",
       "    <tr>\n",
       "      <th>2</th>\n",
       "      <td>3821128</td>\n",
       "      <td>0.269951</td>\n",
       "      <td>0.026715</td>\n",
       "      <td>0.243236</td>\n",
       "      <td>0.296665</td>\n",
       "    </tr>\n",
       "    <tr>\n",
       "      <th>3</th>\n",
       "      <td>711341</td>\n",
       "      <td>0.465122</td>\n",
       "      <td>0.068707</td>\n",
       "      <td>0.396415</td>\n",
       "      <td>0.533828</td>\n",
       "    </tr>\n",
       "    <tr>\n",
       "      <th>4</th>\n",
       "      <td>1474274</td>\n",
       "      <td>0.509145</td>\n",
       "      <td>0.117428</td>\n",
       "      <td>0.391717</td>\n",
       "      <td>0.626573</td>\n",
       "    </tr>\n",
       "  </tbody>\n",
       "</table>\n",
       "</div>"
      ],
      "text/plain": [
       "        id  0 - relevance - mean_prediction  0 - relevance - std_prediction  \\\n",
       "0   740010                         0.009046                        0.001371   \n",
       "1  3300415                         0.055892                        0.013545   \n",
       "2  3821128                         0.269951                        0.026715   \n",
       "3   711341                         0.465122                        0.068707   \n",
       "4  1474274                         0.509145                        0.117428   \n",
       "\n",
       "   0 - relevance - lower_pred  0 - relevance - upper_pred  \n",
       "0                    0.007675                    0.010417  \n",
       "1                    0.042347                    0.069436  \n",
       "2                    0.243236                    0.296665  \n",
       "3                    0.396415                    0.533828  \n",
       "4                    0.391717                    0.626573  "
      ]
     },
     "execution_count": 3,
     "metadata": {},
     "output_type": "execute_result"
    }
   ],
   "source": [
    "seen_df = pd.read_csv('../data/0_labelled_documents.csv')\n",
    "relevance = pd.read_csv('../data/1_document_relevance.csv')\n",
    "print(relevance.shape)\n",
    "print(seen_df.shape)\n",
    "\n",
    "relevance.head()"
   ]
  },
  {
   "cell_type": "code",
   "execution_count": null,
   "metadata": {},
   "outputs": [],
   "source": []
  },
  {
   "cell_type": "code",
   "execution_count": 4,
   "metadata": {},
   "outputs": [
    {
     "data": {
      "image/png": "[encoded data removed]",
      "text/plain": [
       "<Figure size 900x600 with 1 Axes>"
      ]
     },
     "metadata": {},
     "output_type": "display_data"
    }
   ],
   "source": [
    "def factorise_square(n, col, label, bottom=0):\n",
    "    x = np.sqrt(n)*1.2\n",
    "    y = n/x\n",
    "    rect = Rectangle(\n",
    "        (0, bottom),x,y,\n",
    "        facecolor=col,\n",
    "        edgecolor=\"grey\",\n",
    "        label=f\"{label} - {n:,}\",\n",
    "        alpha=0.8\n",
    "    )\n",
    "    return x,y+bottom, rect\n",
    "\n",
    "fig, ax = plt.subplots(dpi=150)\n",
    "\n",
    "cols = ['#7fc97f','#beaed4','#fdc086','#ffff99']\n",
    "cols.reverse()\n",
    "\n",
    "x,y,rect = factorise_square(relevance.shape[0], cols[0], \"Query documents\")\n",
    "ax.add_patch(rect)\n",
    "\n",
    "ax.set_xlim(xmax=x)\n",
    "ax.set_ylim(ymax=y)\n",
    "\n",
    "rel = relevance[relevance['0 - relevance - mean_prediction']>0.5].shape[0]\n",
    "\n",
    "x,y,rect = factorise_square(rel, cols[1], \"Predicted relevant\")\n",
    "ax.add_patch(rect)\n",
    "\n",
    "x,y,rect = factorise_square(seen_df.shape[0], cols[2], \"Manually screened\", bottom=y)\n",
    "ax.add_patch(rect)\n",
    "\n",
    "x,y,rect = factorise_square(350, cols[3], \"Included in AR5\", bottom=y)\n",
    "ax.add_patch(rect)\n",
    "\n",
    "ax.set_xticks([])\n",
    "ax.set_yticks([])\n",
    "\n",
    "ax.legend()\n",
    "\n",
    "\n",
    "\n",
    "ax.set_aspect('equal')"
   ]
  },
  {
   "cell_type": "code",
   "execution_count": 5,
   "metadata": {},
   "outputs": [
    {
     "data": {
      "text/plain": [
       "396659"
      ]
     },
     "execution_count": 5,
     "metadata": {},
     "output_type": "execute_result"
    }
   ],
   "source": [
    "relevance[relevance['0 - relevance - mean_prediction']>0].shape[0]"
   ]
  },
  {
   "cell_type": "code",
   "execution_count": 6,
   "metadata": {},
   "outputs": [
    {
     "data": {
      "image/png": "[encoded data removed]",
      "text/plain": [
       "<Figure size 432x288 with 1 Axes>"
      ]
     },
     "metadata": {},
     "output_type": "display_data"
    }
   ],
   "source": [
    "\n",
    "def lit_plot():\n",
    "    fig, ax = plt.subplots()\n",
    "    cols = ['#edf8b1','#7fcdbb','#2c7fb8']\n",
    "    rect = Rectangle(\n",
    "        (0,0),1,1, \n",
    "        facecolor=cols[0],\n",
    "        edgecolor=\"grey\"\n",
    "    )\n",
    "    ax.add_patch(rect)\n",
    "\n",
    "    ax.annotate(\n",
    "        \"All literature\",\n",
    "        (0.7,0.7),\n",
    "        ha=\"center\", va=\"center\",\n",
    "        #arrowprops=dict(facecolor='black', shrink=0.05,width=1),\n",
    "    )\n",
    "\n",
    "    rect = Rectangle(\n",
    "        (0,0),.4,.4, \n",
    "        facecolor=cols[1],\n",
    "        edgecolor=\"grey\"\n",
    "    )\n",
    "    ax.add_patch(rect)\n",
    "\n",
    "    ax.annotate(\n",
    "        \"Relevant literature\",\n",
    "        (0.3,0.3),(0.7,0.3),\n",
    "        ha=\"center\", va=\"center\",\n",
    "        arrowprops=dict(facecolor='black', shrink=0.05,width=1),\n",
    "    )\n",
    "\n",
    "    rect = Rectangle(\n",
    "        (0,0),.2,.2,\n",
    "        facecolor=cols[2],\n",
    "        edgecolor=\"grey\"\n",
    "    )\n",
    "    ax.add_patch(rect)\n",
    "\n",
    "    ax.annotate(\n",
    "        \"Identified relevant literature\",\n",
    "        (0.1,0.1),(0.7,0.1),\n",
    "        ha=\"center\", va=\"center\",\n",
    "        arrowprops=dict(facecolor='black', shrink=0.05,width=1),\n",
    "    )\n",
    "\n",
    "    #ax.axis('off')\n",
    "\n",
    "    ax.set_xticks([])\n",
    "    ax.set_yticks([])\n",
    "    return ax\n",
    "\n",
    "lit_plot()\n",
    "plt.savefig(\"../plots/basic_lit_plot.png\")"
   ]
  },
  {
   "cell_type": "code",
   "execution_count": 7,
   "metadata": {},
   "outputs": [],
   "source": [
    "degrees = 2.5\n",
    "tdf = pd.read_csv(f'../data/study_da_6 - Temperature - upper_pred_{degrees}.csv')\n",
    "tdf[\"da_var\"] = \"Temperature\"\n",
    "pdf = pd.read_csv(f'../data/study_da_6 - Precipitation - upper_pred_{degrees}.csv')\n",
    "pdf[\"da_var\"] = \"Precipitation\"\n",
    "\n",
    "dadf = pd.concat([tdf,pdf])\n",
    "\n",
    "dadf = dadf[pd.notna(dadf[\"gridcells\"]) & dadf[\"gridcells\"]>0]\n",
    "\n",
    "dadf[\"da_trend_p\"] = dadf[\"da_trend_cells\"] / dadf[\"gridcells\"]\n",
    "\n",
    "dadf[\"da_trend_cat\"] = None\n",
    "\n",
    "dadf.loc[dadf['da_trend_p']==0,\"da_trend_cat\"] = \"0==DA\"\n",
    "dadf.loc[dadf['da_data_cells']==0,\"da_trend_cat\"] = \"NA\"\n",
    "dadf.loc[dadf['da_trend_p']>0,\"da_trend_cat\"] = \"0<DA<0.5\"\n",
    "dadf.loc[dadf['da_trend_p']>0.5,\"da_trend_cat\"] = \"DA>0.5\"\n",
    "\n",
    "places =  pd.read_csv('../data/place_df.csv')"
   ]
  },
  {
   "cell_type": "code",
   "execution_count": 8,
   "metadata": {},
   "outputs": [
    {
     "data": {
      "text/html": [
       "<div>\n",
       "<style scoped>\n",
       "    .dataframe tbody tr th:only-of-type {\n",
       "        vertical-align: middle;\n",
       "    }\n",
       "\n",
       "    .dataframe tbody tr th {\n",
       "        vertical-align: top;\n",
       "    }\n",
       "\n",
       "    .dataframe thead th {\n",
       "        text-align: right;\n",
       "    }\n",
       "</style>\n",
       "<table border=\"1\" class=\"dataframe\">\n",
       "  <thead>\n",
       "    <tr style=\"text-align: right;\">\n",
       "      <th></th>\n",
       "      <th>id</th>\n",
       "      <th>da</th>\n",
       "    </tr>\n",
       "  </thead>\n",
       "  <tbody>\n",
       "    <tr>\n",
       "      <th>0</th>\n",
       "      <td>13201</td>\n",
       "      <td>0.0</td>\n",
       "    </tr>\n",
       "    <tr>\n",
       "      <th>1</th>\n",
       "      <td>1544528</td>\n",
       "      <td>1.0</td>\n",
       "    </tr>\n",
       "    <tr>\n",
       "      <th>2</th>\n",
       "      <td>1287688</td>\n",
       "      <td>0.0</td>\n",
       "    </tr>\n",
       "    <tr>\n",
       "      <th>3</th>\n",
       "      <td>245321</td>\n",
       "      <td>0.0</td>\n",
       "    </tr>\n",
       "    <tr>\n",
       "      <th>4</th>\n",
       "      <td>1549132</td>\n",
       "      <td>0.0</td>\n",
       "    </tr>\n",
       "  </tbody>\n",
       "</table>\n",
       "</div>"
      ],
      "text/plain": [
       "        id   da\n",
       "0    13201  0.0\n",
       "1  1544528  1.0\n",
       "2  1287688  0.0\n",
       "3   245321  0.0\n",
       "4  1549132  0.0"
      ]
     },
     "execution_count": 8,
     "metadata": {},
     "output_type": "execute_result"
    }
   ],
   "source": [
    "tdf['temperature_da'] = tdf['da_trend_cells']\n",
    "pdf['precip_da'] = tdf['da_trend_cells']\n",
    "\n",
    "dadf = tdf[['id','temperature_da']].merge(pdf[['id','precip_da']], how=\"outer\").fillna(0)\n",
    "\n",
    "dadf['da'] = np.max(dadf[['temperature_da','precip_da']],axis=1)\n",
    "dadf = dadf[['id','da']]\n",
    "\n",
    "dadf.head()"
   ]
  },
  {
   "cell_type": "code",
   "execution_count": null,
   "metadata": {},
   "outputs": [],
   "source": []
  },
  {
   "cell_type": "code",
   "execution_count": 9,
   "metadata": {},
   "outputs": [
    {
     "name": "stdout",
     "output_type": "stream",
     "text": [
      "12291.100000000002\n",
      "12465.100000000002\n",
      "10176.9\n",
      "10457.9\n",
      "4585.8\n",
      "4744.8\n",
      "11683.5\n",
      "11976.5\n",
      "29838.4\n",
      "30281.4\n",
      "['12 - Coastal and marine Ecosystems - mean_prediction', '12 - Human and managed - mean_prediction', '12 - Mountains, snow and ice - mean_prediction', '12 - Rivers, lakes, and soil moisture - mean_prediction', '12 - Terrestrial ES - mean_prediction']\n",
      "(98418, 301)\n",
      "(98418, 361)\n",
      "3848.8\n",
      "4140.8\n",
      "1131.5000000000002\n",
      "1254.5\n",
      "852.8\n",
      "998.8\n",
      "614.0\n",
      "752.0\n",
      "436.00000000000006\n",
      "538.0\n",
      "3.9\n",
      "37.900000000000006\n",
      "14441.100000000002\n",
      "14990.099999999999\n",
      "607.6000000000001\n",
      "667.6\n",
      "62.49999999999999\n",
      "153.5\n",
      "1724.3\n",
      "1974.3000000000002\n",
      "297.0\n",
      "357.0\n",
      "0.0\n",
      "12.0\n",
      "['12 - Terrestrial ES - mean_prediction', '12 - Coastal and marine Ecosystems - mean_prediction', '12 - Mountains, snow and ice - mean_prediction', '12 - Rivers, lakes, and soil moisture - mean_prediction', '12 - Human and managed - mean_prediction', '12 - Total']\n"
     ]
    },
    {
     "data": {
      "text/plain": [
       "['18 - Terrestrial Water Cycle - mean_prediction',\n",
       " '18 - Drought & Floods - mean_prediction',\n",
       " '18 - Cryosphere - mean_prediction',\n",
       " '18 - Coastal and marine Ecosystems - mean_prediction',\n",
       " '18 - Food/Agriculture - mean_prediction',\n",
       " '18 - Carbon Cycle - mean_prediction',\n",
       " '18 - Terrestrial ES - mean_prediction',\n",
       " '18 - Wildfires - mean_prediction',\n",
       " '18 - Livelihoods and wellbeing - mean_prediction',\n",
       " '18 - Health - mean_prediction',\n",
       " '18 - Displacement and migration - mean_prediction',\n",
       " '18 - Other anthropogenic - mean_prediction']"
      ]
     },
     "execution_count": 9,
     "metadata": {},
     "output_type": "execute_result"
    }
   ],
   "source": [
    "cat_df = pd.read_csv('../data/1_predicted_category_documents.csv')\n",
    "predictions = pd.read_csv('../data/1_document_relevance.csv')\n",
    "df = dadf.merge(cat_df.merge(predictions), how=\"outer\").merge(seen_df, how=\"outer\")\n",
    "\n",
    "\n",
    "pred_cats = [c for c  in df.columns if \"12 - \" in c and \" - mean_prediction\" in c]\n",
    "for c in pred_cats:\n",
    "    print(df[c].sum())\n",
    "    label = c.replace(\" - mean_prediction\",'')\n",
    "    cs = [c, c.replace('mean_prediction','lower_pred'), c.replace('mean_prediction','upper_pred')]\n",
    "    df.loc[df[label]==1,cs] = 1\n",
    "    print(df[c].sum())\n",
    "print(pred_cats)\n",
    "\n",
    "pred_cats = [\n",
    "    \"12 - Terrestrial ES - mean_prediction\",\n",
    "    \"12 - Coastal and marine Ecosystems - mean_prediction\",\n",
    "    \"12 - Mountains, snow and ice - mean_prediction\",\n",
    "    \"12 - Rivers, lakes, and soil moisture - mean_prediction\",\n",
    "    \"12 - Human and managed - mean_prediction\",\n",
    "    \"12 - Total\"\n",
    "]\n",
    "\n",
    "pcols = [\n",
    "    '0 - relevance - mean_prediction',\n",
    "    '0 - relevance - lower_pred',\n",
    "    '0 - relevance - upper_pred'\n",
    "]\n",
    "\n",
    "df.loc[df['relevant']==1,pcols]=1\n",
    "\n",
    "print(df.shape)\n",
    "\n",
    "extra_cat_df = pd.read_csv('../data/1_predicted_category_documents_specific.csv')\n",
    "\n",
    "specific_impact_cats = [x for x in extra_cat_df.columns if \"18 -\" in x and \"mean\" in x]\n",
    "\n",
    "extra_cat_df = extra_cat_df[[\"id\"]+[x for x in extra_cat_df.columns if \"18 - \" in x] ]\n",
    "\n",
    "df = df.merge(extra_cat_df, how=\"outer\")\n",
    "\n",
    "print(df.shape)\n",
    "\n",
    "import gspread\n",
    "from oauth2client.service_account import ServiceAccountCredentials\n",
    "scope = ['https://spreadsheets.google.com/feeds']\n",
    "credentials = ServiceAccountCredentials.from_json_keyfile_name('../literature_identification/jupyter-google-e4b72bf44320.json', scope)\n",
    "gc = gspread.authorize(credentials)\n",
    "spreadsheet_key = '1o18FIQTmGSWJ_m1ePAzrcVhFlfesESCb2bIEG7ibJAA'\n",
    "wb = gc.open_by_key(spreadsheet_key)\n",
    "ws = wb.worksheet(\"category_label_numbers\")\n",
    "table = ws.get_all_values()\n",
    "category_map = pd.DataFrame(table[1:], columns=table[0])\n",
    "\n",
    "impact_columns = [x for x in df.columns if re.match(\"^4 - \",x)]\n",
    "for x in impact_columns:\n",
    "    row = category_map.loc[category_map['Specific category']==x.split(' - ')[1]]\n",
    "    if row.shape[0]==0:\n",
    "        continue\n",
    "    for i, aggscheme in enumerate(row[['Proposed Aggregation 1', 'Proposed Aggregation 2']].values[0]):\n",
    "        if aggscheme not in ['-','']:\n",
    "            nc = f'{17+i} - {aggscheme}'\n",
    "            if nc not in df.columns:\n",
    "                df[nc] = 0\n",
    "            df.loc[df[x]==1,nc] = 1\n",
    "\n",
    "\n",
    "specific_impact_cats = [x for x in df.columns if \"18 -\" in x and \"mean\" in x]\n",
    "\n",
    "for c in specific_impact_cats:\n",
    "    print(df[c].sum())\n",
    "    label = c.replace(\" - mean_prediction\",'')\n",
    "    cs = [c, c.replace('mean_prediction','lower_pred'), c.replace('mean_prediction','upper_pred')]\n",
    "    df.loc[df[label]==1,cs] = 1\n",
    "    print(df[c].sum())\n",
    "print(pred_cats)\n",
    "\n",
    "specific_impact_cats"
   ]
  },
  {
   "cell_type": "code",
   "execution_count": 10,
   "metadata": {},
   "outputs": [
    {
     "data": {
      "text/plain": [
       "[Text(0, 0, 'Terrestrial Water Cycle'),\n",
       " Text(0, 0, 'Drought & Floods'),\n",
       " Text(0, 0, 'Cryosphere'),\n",
       " Text(0, 0, 'Coastal and marine Ecosystems'),\n",
       " Text(0, 0, 'Food/Agriculture'),\n",
       " Text(0, 0, 'Carbon Cycle'),\n",
       " Text(0, 0, 'Terrestrial ES'),\n",
       " Text(0, 0, 'Wildfires'),\n",
       " Text(0, 0, 'Livelihoods and wellbeing'),\n",
       " Text(0, 0, 'Health'),\n",
       " Text(0, 0, 'Displacement and migration'),\n",
       " Text(0, 0, 'Other anthropogenic')]"
      ]
     },
     "execution_count": 10,
     "metadata": {},
     "output_type": "execute_result"
    },
    {
     "data": {
      "image/png": "[encoded data removed]",
      "text/plain": [
       "<Figure size 432x288 with 1 Axes>"
      ]
     },
     "metadata": {},
     "output_type": "display_data"
    }
   ],
   "source": [
    "fig, ax = plt.subplots()\n",
    "colors = ['#8dd3c7','#ffffb3','#bebada','#fb8072','#80b1d3']\n",
    "\n",
    "xticks = []\n",
    "for i, c in enumerate(specific_impact_cats):\n",
    "    mid = df[\n",
    "        (df['0 - relevance - mean_prediction']>0.5) & \n",
    "        (df[c])>0.5\n",
    "    ].shape[0]\n",
    "    ub = df[\n",
    "        (df['0 - relevance - upper_pred']>0.5) & \n",
    "        (df[c.replace('mean_prediction','upper_pred')])>0.5\n",
    "    ].shape[0]\n",
    "    lb = df[\n",
    "        (df['0 - relevance - lower_pred']>0.5) & \n",
    "        (df[c.replace('mean_prediction','lower_pred')])>0.5\n",
    "    ].shape[0]\n",
    "    ax.bar(i, mid,color=\"None\", edgecolor=\"black\")\n",
    "    \n",
    "    eay = np.array([[ub-mid,mid-lb]]).T\n",
    "    \n",
    "    ax.errorbar(i, mid, yerr=eay, color=\"grey\", capsize=10)\n",
    "    \n",
    "    xticks.append(c.split(\"-\")[1].strip())\n",
    "    \n",
    "    \n",
    "ax.set_xticks(range(i+1))\n",
    "\n",
    "ax.set_xticklabels(xticks, rotation=45,ha=\"right\")\n",
    "    "
   ]
  },
  {
   "cell_type": "code",
   "execution_count": 11,
   "metadata": {},
   "outputs": [
    {
     "data": {
      "text/plain": [
       "(31478, 387)"
      ]
     },
     "execution_count": 11,
     "metadata": {},
     "output_type": "execute_result"
    }
   ],
   "source": [
    "df[df[specific_impact_cats].sum(axis=1)>0].shape"
   ]
  },
  {
   "cell_type": "code",
   "execution_count": 12,
   "metadata": {},
   "outputs": [
    {
     "data": {
      "text/plain": [
       "(31478, 387)"
      ]
     },
     "execution_count": 12,
     "metadata": {},
     "output_type": "execute_result"
    }
   ],
   "source": [
    "df[df[[x.replace('mean_prediction','upper_pred') for x in specific_impact_cats]].sum(axis=1)>0].shape"
   ]
  },
  {
   "cell_type": "code",
   "execution_count": 13,
   "metadata": {},
   "outputs": [
    {
     "data": {
      "text/plain": [
       "['18 - Terrestrial Water Cycle - mean_prediction',\n",
       " '18 - Drought & Floods - mean_prediction',\n",
       " '18 - Cryosphere - mean_prediction',\n",
       " '18 - Coastal and marine Ecosystems - mean_prediction',\n",
       " '18 - Food/Agriculture - mean_prediction',\n",
       " '18 - Carbon Cycle - mean_prediction',\n",
       " '18 - Terrestrial ES - mean_prediction',\n",
       " '18 - Wildfires - mean_prediction',\n",
       " '18 - Livelihoods and wellbeing - mean_prediction',\n",
       " '18 - Health - mean_prediction',\n",
       " '18 - Displacement and migration - mean_prediction',\n",
       " '18 - Other anthropogenic - mean_prediction']"
      ]
     },
     "execution_count": 13,
     "metadata": {},
     "output_type": "execute_result"
    }
   ],
   "source": [
    "specific_impact_cats"
   ]
  },
  {
   "cell_type": "code",
   "execution_count": 14,
   "metadata": {},
   "outputs": [],
   "source": [
    "specific_impacts = [\n",
    "    '18 - Terrestrial Water Cycle - mean_prediction',\n",
    "    '18 - Drought & Floods - mean_prediction',\n",
    "    '18 - Cryosphere - mean_prediction',\n",
    "    '18 - Coastal and marine Ecosystems - mean_prediction',\n",
    "    '18 - Terrestrial ES - mean_prediction',\n",
    "    #'18 - Carbon Cycle - mean_prediction',\n",
    "    '18 - Wildfires - mean_prediction',\n",
    "    '18 - Food/Agriculture - mean_prediction',\n",
    "    '18 - Livelihoods and wellbeing - mean_prediction',\n",
    "    '18 - Health - mean_prediction',\n",
    "    '18 - Displacement and migration - mean_prediction',\n",
    "    #'18 - Other anthropogenic - mean_prediction'\n",
    "]\n",
    "\n",
    "colors = [\n",
    "    '#7fc97f',\n",
    "    '#7fc97f',\n",
    "    '#beaed4',\n",
    "    '#fdc086',\n",
    "    '#ffff99',\n",
    "    '#ffff99',\n",
    "    '#386cb0',\n",
    "    '#386cb0',\n",
    "    '#386cb0',\n",
    "    '#386cb0'\n",
    "]\n",
    "\n",
    "labels = [x.split(\" - \")[1] for x in specific_impacts]\n",
    "\n",
    "counts = []\n",
    "for i,c in enumerate(specific_impacts):\n",
    "    ub = df[\n",
    "        (df['0 - relevance - upper_pred']>=0.0) & \n",
    "        (df[c.replace('mean_prediction','upper_pred')])>=0.5\n",
    "    ].shape[0]    \n",
    "    counts.append(ub)\n",
    "    labels[i] = labels[i] + f\"\\n{ub:,}\"\n"
   ]
  },
  {
   "cell_type": "code",
   "execution_count": 15,
   "metadata": {},
   "outputs": [
    {
     "data": {
      "text/plain": [
       "[4990, 1622, 1362, 1183, 18837, 761, 735, 205, 2351, 384]"
      ]
     },
     "execution_count": 15,
     "metadata": {},
     "output_type": "execute_result"
    }
   ],
   "source": [
    "counts"
   ]
  },
  {
   "cell_type": "code",
   "execution_count": 16,
   "metadata": {},
   "outputs": [
    {
     "data": {
      "text/plain": [
       "(0.0, 100.0, 0.0, 100.0)"
      ]
     },
     "execution_count": 16,
     "metadata": {},
     "output_type": "execute_result"
    },
    {
     "data": {
      "image/png": "[encoded data removed]",
      "text/plain": [
       "<Figure size 1050x750 with 1 Axes>"
      ]
     },
     "metadata": {},
     "output_type": "display_data"
    }
   ],
   "source": [
    "import squarify\n",
    "\n",
    "fig = plt.figure(figsize=(7,5), dpi=150)\n",
    "\n",
    "ax = fig.add_subplot(111, aspect=\"equal\")\n",
    "ax = squarify.plot(counts, edgecolor=\"grey\", linewidth=2, label=labels, color=colors, text_kwargs={\"fontsize\":5})\n",
    "\n",
    "ax.axis('off')"
   ]
  },
  {
   "cell_type": "code",
   "execution_count": 17,
   "metadata": {},
   "outputs": [
    {
     "data": {
      "text/plain": [
       "32430"
      ]
     },
     "execution_count": 17,
     "metadata": {},
     "output_type": "execute_result"
    }
   ],
   "source": [
    "np.sum(counts)"
   ]
  },
  {
   "cell_type": "code",
   "execution_count": 18,
   "metadata": {},
   "outputs": [
    {
     "name": "stdout",
     "output_type": "stream",
     "text": [
      "12465.099999999999\n",
      "12465.099999999999\n",
      "10457.9\n",
      "10457.9\n",
      "4744.8\n",
      "4744.8\n",
      "11976.499999999998\n",
      "11976.499999999998\n",
      "30281.399999999994\n",
      "30281.399999999994\n",
      "['12 - Coastal and marine Ecosystems - mean_prediction', '12 - Human and managed - mean_prediction', '12 - Mountains, snow and ice - mean_prediction', '12 - Rivers, lakes, and soil moisture - mean_prediction', '12 - Terrestrial ES - mean_prediction']\n"
     ]
    }
   ],
   "source": [
    "\n",
    "pred_cats = [c for c  in df.columns if \"12 - \" in c and \" - mean_prediction\" in c]\n",
    "for c in pred_cats:\n",
    "    print(df[c].sum())\n",
    "    label = c.replace(\" - mean_prediction\",'')\n",
    "    cs = [c, c.replace('mean_prediction','lower_pred'), c.replace('mean_prediction','upper_pred')]\n",
    "    df.loc[df[label]==1,cs] = 1\n",
    "    print(df[c].sum())\n",
    "print(pred_cats)\n",
    "\n",
    "pred_cats = [\n",
    "    \"12 - Terrestrial ES - mean_prediction\",\n",
    "    \"12 - Coastal and marine Ecosystems - mean_prediction\",\n",
    "    \"12 - Mountains, snow and ice - mean_prediction\",\n",
    "    \"12 - Rivers, lakes, and soil moisture - mean_prediction\",\n",
    "    \"12 - Human and managed - mean_prediction\",\n",
    "]\n",
    "\n",
    "pcols = [\n",
    "    '0 - relevance - mean_prediction',\n",
    "    '0 - relevance - lower_pred',\n",
    "    '0 - relevance - upper_pred'\n",
    "]\n",
    "\n",
    "df.loc[df['relevant']==1,pcols]=1\n",
    "\n"
   ]
  },
  {
   "cell_type": "code",
   "execution_count": 20,
   "metadata": {},
   "outputs": [
    {
     "data": {
      "text/plain": [
       "(0.0, 100.0, 0.0, 100.0)"
      ]
     },
     "execution_count": 20,
     "metadata": {},
     "output_type": "execute_result"
    },
    {
     "data": {
      "image/png": "[encoded data removed]",
      "text/plain": [
       "<Figure size 1050x750 with 1 Axes>"
      ]
     },
     "metadata": {},
     "output_type": "display_data"
    }
   ],
   "source": [
    "labels = [x.split(\" - \")[1] for x in pred_cats]\n",
    "\n",
    "counts = []\n",
    "for i,c in enumerate(pred_cats):\n",
    "    ub = df[\n",
    "        (df['0 - relevance - upper_pred']>=0.0) & \n",
    "        (df[c.replace('mean_prediction','upper_pred')])>=0.5\n",
    "    ].shape[0]    \n",
    "    counts.append(ub)\n",
    "    labels[i] = labels[i] + f\"\\n{ub:,}\"\n",
    "    \n",
    "fig = plt.figure(figsize=(7,5), dpi=150)\n",
    "\n",
    "ax = fig.add_subplot(111, aspect=\"equal\")\n",
    "ax = squarify.plot(counts, edgecolor=\"grey\", linewidth=2, label=labels, color=colors, text_kwargs={\"fontsize\":5})\n",
    "\n",
    "ax.axis('off')"
   ]
  },
  {
   "cell_type": "code",
   "execution_count": 21,
   "metadata": {},
   "outputs": [
    {
     "data": {
      "text/plain": [
       "82122"
      ]
     },
     "execution_count": 21,
     "metadata": {},
     "output_type": "execute_result"
    }
   ],
   "source": [
    "np.sum(counts)"
   ]
  }
 ],
 "metadata": {
  "kernelspec": {
   "display_name": "tmv",
   "language": "python",
   "name": "tmv"
  },
  "language_info": {
   "codemirror_mode": {
    "name": "ipython",
    "version": 3
   },
   "file_extension": ".py",
   "mimetype": "text/x-python",
   "name": "python",
   "nbconvert_exporter": "python",
   "pygments_lexer": "ipython3",
   "version": "3.6.6"
  }
 },
 "nbformat": 4,
 "nbformat_minor": 4
}
