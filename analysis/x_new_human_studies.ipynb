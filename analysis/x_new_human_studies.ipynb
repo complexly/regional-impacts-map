{
 "cells": [
  {
   "cell_type": "code",
   "execution_count": 21,
   "metadata": {},
   "outputs": [],
   "source": [
    "import pandas as pd\n",
    "\n",
    "import django, sys, os\n",
    "sys.path.append('/home/galm/software/django/tmv/BasicBrowser/')\n",
    "sys.path.append('/home/max/software/django-tmv/tmv_mcc-apsis/BasicBrowser')\n",
    "os.environ.setdefault(\"DJANGO_SETTINGS_MODULE\", \"BasicBrowser.settings\")\n",
    "django.setup()\n",
    "\n",
    "from scoping.models import *"
   ]
  },
  {
   "cell_type": "code",
   "execution_count": 22,
   "metadata": {},
   "outputs": [
    {
     "name": "stdout",
     "output_type": "stream",
     "text": [
      "(5, 12)\n"
     ]
    },
    {
     "name": "stderr",
     "output_type": "stream",
     "text": [
      "/home/max/software/django-tmv/tmv/venv/lib/python3.6/site-packages/pandas/core/frame.py:1487: FutureWarning: Using short name for 'orient' is deprecated. Only the options: ('dict', list, 'series', 'split', 'records', 'index') will be used in a future version. Use one of the above to silence this warning.\n",
      "  FutureWarning,\n"
     ]
    },
    {
     "data": {
      "text/html": [
       "<div>\n",
       "<style scoped>\n",
       "    .dataframe tbody tr th:only-of-type {\n",
       "        vertical-align: middle;\n",
       "    }\n",
       "\n",
       "    .dataframe tbody tr th {\n",
       "        vertical-align: top;\n",
       "    }\n",
       "\n",
       "    .dataframe thead th {\n",
       "        text-align: right;\n",
       "    }\n",
       "</style>\n",
       "<table border=\"1\" class=\"dataframe\">\n",
       "  <thead>\n",
       "    <tr style=\"text-align: right;\">\n",
       "      <th></th>\n",
       "      <th>ROC AUC</th>\n",
       "      <th>F1</th>\n",
       "      <th>precision</th>\n",
       "      <th>recall</th>\n",
       "      <th>accuracy</th>\n",
       "      <th>clf__C</th>\n",
       "      <th>clf__kernel</th>\n",
       "      <th>vect__max_df</th>\n",
       "      <th>vect__min_df</th>\n",
       "      <th>vect__ngram_range</th>\n",
       "      <th>rank_k</th>\n",
       "      <th>model</th>\n",
       "    </tr>\n",
       "  </thead>\n",
       "  <tbody>\n",
       "    <tr>\n",
       "      <th>0</th>\n",
       "      <td>0.889186</td>\n",
       "      <td>0.714286</td>\n",
       "      <td>0.675676</td>\n",
       "      <td>0.757576</td>\n",
       "      <td>0.851852</td>\n",
       "      <td>1</td>\n",
       "      <td>linear</td>\n",
       "      <td>0.75</td>\n",
       "      <td>20</td>\n",
       "      <td>(1, 2)</td>\n",
       "      <td>0</td>\n",
       "      <td>SVM</td>\n",
       "    </tr>\n",
       "    <tr>\n",
       "      <th>1</th>\n",
       "      <td>0.851347</td>\n",
       "      <td>0.538462</td>\n",
       "      <td>0.608696</td>\n",
       "      <td>0.482759</td>\n",
       "      <td>0.837838</td>\n",
       "      <td>1</td>\n",
       "      <td>linear</td>\n",
       "      <td>0.75</td>\n",
       "      <td>10</td>\n",
       "      <td>(1, 2)</td>\n",
       "      <td>1</td>\n",
       "      <td>SVM</td>\n",
       "    </tr>\n",
       "    <tr>\n",
       "      <th>2</th>\n",
       "      <td>0.857698</td>\n",
       "      <td>0.612245</td>\n",
       "      <td>0.600000</td>\n",
       "      <td>0.625000</td>\n",
       "      <td>0.866197</td>\n",
       "      <td>1</td>\n",
       "      <td>linear</td>\n",
       "      <td>0.50</td>\n",
       "      <td>10</td>\n",
       "      <td>(1, 2)</td>\n",
       "      <td>2</td>\n",
       "      <td>SVM</td>\n",
       "    </tr>\n",
       "    <tr>\n",
       "      <th>3</th>\n",
       "      <td>0.859288</td>\n",
       "      <td>0.655738</td>\n",
       "      <td>0.666667</td>\n",
       "      <td>0.645161</td>\n",
       "      <td>0.857143</td>\n",
       "      <td>1</td>\n",
       "      <td>linear</td>\n",
       "      <td>1.00</td>\n",
       "      <td>10</td>\n",
       "      <td>(1, 2)</td>\n",
       "      <td>3</td>\n",
       "      <td>SVM</td>\n",
       "    </tr>\n",
       "    <tr>\n",
       "      <th>4</th>\n",
       "      <td>0.845763</td>\n",
       "      <td>0.557377</td>\n",
       "      <td>0.447368</td>\n",
       "      <td>0.739130</td>\n",
       "      <td>0.831250</td>\n",
       "      <td>1</td>\n",
       "      <td>linear</td>\n",
       "      <td>1.00</td>\n",
       "      <td>10</td>\n",
       "      <td>(1, 2)</td>\n",
       "      <td>4</td>\n",
       "      <td>SVM</td>\n",
       "    </tr>\n",
       "  </tbody>\n",
       "</table>\n",
       "</div>"
      ],
      "text/plain": [
       "    ROC AUC        F1  precision    recall  accuracy  clf__C clf__kernel  \\\n",
       "0  0.889186  0.714286   0.675676  0.757576  0.851852       1      linear   \n",
       "1  0.851347  0.538462   0.608696  0.482759  0.837838       1      linear   \n",
       "2  0.857698  0.612245   0.600000  0.625000  0.866197       1      linear   \n",
       "3  0.859288  0.655738   0.666667  0.645161  0.857143       1      linear   \n",
       "4  0.845763  0.557377   0.447368  0.739130  0.831250       1      linear   \n",
       "\n",
       "   vect__max_df  vect__min_df vect__ngram_range  rank_k model  \n",
       "0          0.75            20            (1, 2)       0   SVM  \n",
       "1          0.75            10            (1, 2)       1   SVM  \n",
       "2          0.50            10            (1, 2)       2   SVM  \n",
       "3          1.00            10            (1, 2)       3   SVM  \n",
       "4          1.00            10            (1, 2)       4   SVM  "
      ]
     },
     "execution_count": 22,
     "metadata": {},
     "output_type": "execute_result"
    }
   ],
   "source": [
    "# outer fold for SVM results\n",
    "results = []\n",
    "for rank_i in range(5):\n",
    "    results += pd.read_csv(f'../data/cv_results/svm_outer_{rank_i}.csv').to_dict('results')\n",
    "svm_df = pd.DataFrame.from_dict(results)\n",
    "svm_df['model'] = \"SVM\"\n",
    "\n",
    "print(svm_df.shape)\n",
    "svm_df.head()"
   ]
  },
  {
   "cell_type": "code",
   "execution_count": 23,
   "metadata": {},
   "outputs": [],
   "source": [
    "from sklearn.feature_extraction.text import TfidfVectorizer\n",
    "\n",
    "df = pd.read_csv('../data/0_labelled_documents.csv')\n",
    "\n",
    "vec = TfidfVectorizer(\n",
    "    ngram_range=(1,2),\n",
    "    min_df=10, max_df=0.75, strip_accents='unicode', \n",
    "    max_features=20000,)\n",
    "\n",
    "X = vec.fit_transform(df['content'].astype(\"str\"))   "
   ]
  },
  {
   "cell_type": "code",
   "execution_count": 24,
   "metadata": {},
   "outputs": [
    {
     "data": {
      "text/plain": [
       "SVC(C=0.75, probability=True)"
      ]
     },
     "execution_count": 24,
     "metadata": {},
     "output_type": "execute_result"
    }
   ],
   "source": [
    "from sklearn.svm import SVC\n",
    "\n",
    "clf = SVC(C=0.75, probability=True)\n",
    "clf.fit(X,df['relevant'])"
   ]
  },
  {
   "cell_type": "code",
   "execution_count": 25,
   "metadata": {},
   "outputs": [
    {
     "data": {
      "text/html": [
       "<div>\n",
       "<style scoped>\n",
       "    .dataframe tbody tr th:only-of-type {\n",
       "        vertical-align: middle;\n",
       "    }\n",
       "\n",
       "    .dataframe tbody tr th {\n",
       "        vertical-align: top;\n",
       "    }\n",
       "\n",
       "    .dataframe thead th {\n",
       "        text-align: right;\n",
       "    }\n",
       "</style>\n",
       "<table border=\"1\" class=\"dataframe\">\n",
       "  <thead>\n",
       "    <tr style=\"text-align: right;\">\n",
       "      <th></th>\n",
       "      <th>id</th>\n",
       "      <th>title</th>\n",
       "      <th>content</th>\n",
       "      <th>tslug</th>\n",
       "    </tr>\n",
       "  </thead>\n",
       "  <tbody>\n",
       "    <tr>\n",
       "      <th>0</th>\n",
       "      <td>311299</td>\n",
       "      <td>Environmental and resource constraints on Asia...</td>\n",
       "      <td>In industrialising countries, personal income ...</td>\n",
       "      <td>environmentalandresourceconstraintsonasianurba...</td>\n",
       "    </tr>\n",
       "    <tr>\n",
       "      <th>1</th>\n",
       "      <td>393227</td>\n",
       "      <td>No change from climate change: vulnerability a...</td>\n",
       "      <td>Climate change is frequently touted as the big...</td>\n",
       "      <td>nochangefromclimatechangevulnerabilityandsmall...</td>\n",
       "    </tr>\n",
       "    <tr>\n",
       "      <th>2</th>\n",
       "      <td>376852</td>\n",
       "      <td>Stakeholder Perceptions of Seaport Resilience ...</td>\n",
       "      <td>Climate change is having and will continue to ...</td>\n",
       "      <td>stakeholderperceptionsofseaportresiliencestrat...</td>\n",
       "    </tr>\n",
       "    <tr>\n",
       "      <th>3</th>\n",
       "      <td>16405</td>\n",
       "      <td>Changes in population susceptibility to heat a...</td>\n",
       "      <td>Background: In the context of a warming climat...</td>\n",
       "      <td>changesinpopulationsusceptibilitytoheatandcold...</td>\n",
       "    </tr>\n",
       "    <tr>\n",
       "      <th>4</th>\n",
       "      <td>786455</td>\n",
       "      <td>Managing Climate Change Risks in Africa - A Gl...</td>\n",
       "      <td>Africa is projected to experience diverse and ...</td>\n",
       "      <td>managingclimatechangerisksinafricaaglobalpersp...</td>\n",
       "    </tr>\n",
       "  </tbody>\n",
       "</table>\n",
       "</div>"
      ],
      "text/plain": [
       "       id                                              title  \\\n",
       "0  311299  Environmental and resource constraints on Asia...   \n",
       "1  393227  No change from climate change: vulnerability a...   \n",
       "2  376852  Stakeholder Perceptions of Seaport Resilience ...   \n",
       "3   16405  Changes in population susceptibility to heat a...   \n",
       "4  786455  Managing Climate Change Risks in Africa - A Gl...   \n",
       "\n",
       "                                             content  \\\n",
       "0  In industrialising countries, personal income ...   \n",
       "1  Climate change is frequently touted as the big...   \n",
       "2  Climate change is having and will continue to ...   \n",
       "3  Background: In the context of a warming climat...   \n",
       "4  Africa is projected to experience diverse and ...   \n",
       "\n",
       "                                               tslug  \n",
       "0  environmentalandresourceconstraintsonasianurba...  \n",
       "1  nochangefromclimatechangevulnerabilityandsmall...  \n",
       "2  stakeholderperceptionsofseaportresiliencestrat...  \n",
       "3  changesinpopulationsusceptibilitytoheatandcold...  \n",
       "4  managingclimatechangerisksinafricaaglobalpersp...  "
      ]
     },
     "execution_count": 25,
     "metadata": {},
     "output_type": "execute_result"
    }
   ],
   "source": [
    "q = Query.objects.get(pk=9035)\n",
    "new_docs = Doc.objects.filter(query=q)\n",
    "unseen_df = pd.DataFrame.from_dict(new_docs.values('id','title','content','tslug'))\n",
    "unseen_df.head()"
   ]
  },
  {
   "cell_type": "code",
   "execution_count": 26,
   "metadata": {},
   "outputs": [],
   "source": [
    "pred_X = vec.transform(unseen_df['content'].astype(\"str\"))   \n",
    "\n",
    "y_pred = clf.predict_proba(pred_X)\n",
    "\n",
    "unseen_df['prediction'] = y_pred[:,1]"
   ]
  },
  {
   "cell_type": "code",
   "execution_count": 31,
   "metadata": {},
   "outputs": [
    {
     "data": {
      "text/plain": [
       "[<matplotlib.lines.Line2D at 0x7fbf74fb3c50>]"
      ]
     },
     "execution_count": 31,
     "metadata": {},
     "output_type": "execute_result"
    },
    {
     "data": {
      "image/png": "[encoded data removed]",
      "text/plain": [
       "<Figure size 432x288 with 1 Axes>"
      ]
     },
     "metadata": {},
     "output_type": "display_data"
    }
   ],
   "source": [
    "import matplotlib.pyplot as plt\n",
    "plt.plot(unseen_df.sort_values('prediction').reset_index()['prediction'])"
   ]
  },
  {
   "cell_type": "code",
   "execution_count": 38,
   "metadata": {},
   "outputs": [],
   "source": [
    "tag, created = Tag.objects.get_or_create(\n",
    "    query=q,\n",
    "    title=\"Ordered\"\n",
    ")\n",
    "\n",
    "u = User.objects.get(username='olivia.serdeczny@climateanalytics.org')\n",
    "\n",
    "for i, row in unseen_df.sort_values('prediction',ascending=False).reset_index().iterrows():\n",
    "    doc = Doc.objects.get(pk=row['id'])\n",
    "    doc.tag.add(tag)\n",
    "    do, created = DocOwnership.objects.get_or_create(\n",
    "        doc=doc,\n",
    "        tag=tag,\n",
    "        query=q,\n",
    "        user=u,\n",
    "        order=i\n",
    "    )"
   ]
  },
  {
   "cell_type": "code",
   "execution_count": 39,
   "metadata": {},
   "outputs": [],
   "source": [
    "tag.update_tag()"
   ]
  }
 ],
 "metadata": {
  "kernelspec": {
   "display_name": "tmv",
   "language": "python",
   "name": "tmv"
  },
  "language_info": {
   "codemirror_mode": {
    "name": "ipython",
    "version": 3
   },
   "file_extension": ".py",
   "mimetype": "text/x-python",
   "name": "python",
   "nbconvert_exporter": "python",
   "pygments_lexer": "ipython3",
   "version": "3.6.6"
  }
 },
 "nbformat": 4,
 "nbformat_minor": 4
}
