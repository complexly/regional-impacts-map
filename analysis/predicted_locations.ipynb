{
 "cells": [
  {
   "cell_type": "code",
   "execution_count": 1,
   "metadata": {},
   "outputs": [],
   "source": [
    "import django, sys, os\n",
    "sys.path.append('/home/max/software/django-tmv/tmv_mcc-apsis/BasicBrowser')\n",
    "os.environ.setdefault(\"DJANGO_SETTINGS_MODULE\", \"BasicBrowser.settings\")\n",
    "django.setup()\n",
    "\n",
    "from scoping.models import *\n",
    "from sklearn.feature_extraction.text import CountVectorizer, TfidfVectorizer\n",
    "from itertools import product, combinations\n",
    "from utils.text import *\n",
    "from pycountry_convert import  country_alpha2_to_continent_code, country_alpha3_to_country_alpha2\n",
    "\n",
    "import pandas as pd"
   ]
  },
  {
   "cell_type": "code",
   "execution_count": 2,
   "metadata": {},
   "outputs": [
    {
     "name": "stdout",
     "output_type": "stream",
     "text": [
      "(82368, 12)\n"
     ]
    },
    {
     "data": {
      "text/html": [
       "<div>\n",
       "<style scoped>\n",
       "    .dataframe tbody tr th:only-of-type {\n",
       "        vertical-align: middle;\n",
       "    }\n",
       "\n",
       "    .dataframe tbody tr th {\n",
       "        vertical-align: top;\n",
       "    }\n",
       "\n",
       "    .dataframe thead th {\n",
       "        text-align: right;\n",
       "    }\n",
       "</style>\n",
       "<table border=\"1\" class=\"dataframe\">\n",
       "  <thead>\n",
       "    <tr style=\"text-align: right;\">\n",
       "      <th></th>\n",
       "      <th>id</th>\n",
       "      <th>content</th>\n",
       "      <th>title</th>\n",
       "      <th>wosarticle__de</th>\n",
       "      <th>wosarticle__wc</th>\n",
       "      <th>ar5</th>\n",
       "      <th>seen</th>\n",
       "      <th>relevant</th>\n",
       "      <th>mean_prediction</th>\n",
       "      <th>std_prediction</th>\n",
       "      <th>lower_pred</th>\n",
       "      <th>upper_pred</th>\n",
       "    </tr>\n",
       "  </thead>\n",
       "  <tbody>\n",
       "    <tr>\n",
       "      <th>1</th>\n",
       "      <td>1455384</td>\n",
       "      <td>Wetlands occur where biotic and abiotic condit...</td>\n",
       "      <td>High altitude montane wetland vegetation class...</td>\n",
       "      <td>Platberg; Inselberg; Phytosociology; Hydrophyt...</td>\n",
       "      <td>['Plant Sciences']</td>\n",
       "      <td>NaN</td>\n",
       "      <td>0.0</td>\n",
       "      <td>0.0</td>\n",
       "      <td>0.500880</td>\n",
       "      <td>0.060631</td>\n",
       "      <td>0.440249</td>\n",
       "      <td>0.561511</td>\n",
       "    </tr>\n",
       "    <tr>\n",
       "      <th>2</th>\n",
       "      <td>1340101</td>\n",
       "      <td>The atmospheric forcing on the Barents Sea ice...</td>\n",
       "      <td>Atmospheric forcing on the Barents Sea winter ...</td>\n",
       "      <td>NaN</td>\n",
       "      <td>['Meteorology &amp; Atmospheric Sciences']</td>\n",
       "      <td>NaN</td>\n",
       "      <td>0.0</td>\n",
       "      <td>0.0</td>\n",
       "      <td>0.554249</td>\n",
       "      <td>0.065086</td>\n",
       "      <td>0.489163</td>\n",
       "      <td>0.619335</td>\n",
       "    </tr>\n",
       "    <tr>\n",
       "      <th>12</th>\n",
       "      <td>222401</td>\n",
       "      <td>Sea-level rise and frequent intense hurricanes...</td>\n",
       "      <td>Purple Pitcher Plant (Sarracenia rosea) Diebac...</td>\n",
       "      <td>NaN</td>\n",
       "      <td>['Multidisciplinary Sciences']</td>\n",
       "      <td>NaN</td>\n",
       "      <td>0.0</td>\n",
       "      <td>0.0</td>\n",
       "      <td>0.588284</td>\n",
       "      <td>0.050803</td>\n",
       "      <td>0.537481</td>\n",
       "      <td>0.639087</td>\n",
       "    </tr>\n",
       "    <tr>\n",
       "      <th>13</th>\n",
       "      <td>689500</td>\n",
       "      <td>This study analyses long-term water quality da...</td>\n",
       "      <td>Long-term changes in hydrological pathways in ...</td>\n",
       "      <td>DOC; peat; climate change</td>\n",
       "      <td>['Engineering, Civil; Geosciences, Multidiscip...</td>\n",
       "      <td>NaN</td>\n",
       "      <td>0.0</td>\n",
       "      <td>0.0</td>\n",
       "      <td>0.896791</td>\n",
       "      <td>0.015066</td>\n",
       "      <td>0.881725</td>\n",
       "      <td>0.911857</td>\n",
       "    </tr>\n",
       "    <tr>\n",
       "      <th>21</th>\n",
       "      <td>3307272</td>\n",
       "      <td>Rationale: There is significant evidence of in...</td>\n",
       "      <td>Increase in Pediatric Respiratory Visits Assoc...</td>\n",
       "      <td>cough; wheeze; children; wildfire; smoke</td>\n",
       "      <td>['Respiratory System']</td>\n",
       "      <td>NaN</td>\n",
       "      <td>0.0</td>\n",
       "      <td>0.0</td>\n",
       "      <td>0.542398</td>\n",
       "      <td>0.033320</td>\n",
       "      <td>0.509078</td>\n",
       "      <td>0.575717</td>\n",
       "    </tr>\n",
       "  </tbody>\n",
       "</table>\n",
       "</div>"
      ],
      "text/plain": [
       "         id                                            content  \\\n",
       "1   1455384  Wetlands occur where biotic and abiotic condit...   \n",
       "2   1340101  The atmospheric forcing on the Barents Sea ice...   \n",
       "12   222401  Sea-level rise and frequent intense hurricanes...   \n",
       "13   689500  This study analyses long-term water quality da...   \n",
       "21  3307272  Rationale: There is significant evidence of in...   \n",
       "\n",
       "                                                title  \\\n",
       "1   High altitude montane wetland vegetation class...   \n",
       "2   Atmospheric forcing on the Barents Sea winter ...   \n",
       "12  Purple Pitcher Plant (Sarracenia rosea) Diebac...   \n",
       "13  Long-term changes in hydrological pathways in ...   \n",
       "21  Increase in Pediatric Respiratory Visits Assoc...   \n",
       "\n",
       "                                       wosarticle__de  \\\n",
       "1   Platberg; Inselberg; Phytosociology; Hydrophyt...   \n",
       "2                                                 NaN   \n",
       "12                                                NaN   \n",
       "13                          DOC; peat; climate change   \n",
       "21           cough; wheeze; children; wildfire; smoke   \n",
       "\n",
       "                                       wosarticle__wc  ar5  seen  relevant  \\\n",
       "1                                  ['Plant Sciences']  NaN   0.0       0.0   \n",
       "2              ['Meteorology & Atmospheric Sciences']  NaN   0.0       0.0   \n",
       "12                     ['Multidisciplinary Sciences']  NaN   0.0       0.0   \n",
       "13  ['Engineering, Civil; Geosciences, Multidiscip...  NaN   0.0       0.0   \n",
       "21                             ['Respiratory System']  NaN   0.0       0.0   \n",
       "\n",
       "    mean_prediction  std_prediction  lower_pred  upper_pred  \n",
       "1          0.500880        0.060631    0.440249    0.561511  \n",
       "2          0.554249        0.065086    0.489163    0.619335  \n",
       "12         0.588284        0.050803    0.537481    0.639087  \n",
       "13         0.896791        0.015066    0.881725    0.911857  \n",
       "21         0.542398        0.033320    0.509078    0.575717  "
      ]
     },
     "execution_count": 2,
     "metadata": {},
     "output_type": "execute_result"
    }
   ],
   "source": [
    "df = pd.read_csv('../data/doctables/all_relevance.csv')\n",
    "df = df.query('upper_pred>0.5')\n",
    "print(df.shape)\n",
    "df.head()"
   ]
  },
  {
   "cell_type": "code",
   "execution_count": 4,
   "metadata": {},
   "outputs": [
    {
     "data": {
      "text/plain": [
       "(13884, 12)"
      ]
     },
     "execution_count": 4,
     "metadata": {},
     "output_type": "execute_result"
    }
   ],
   "source": [
    "done = pd.read_csv('../data/doc_continent.csv')\n",
    "\n",
    "df = df[~df['id'].isin(done['id'])]\n",
    "df.shape"
   ]
  },
  {
   "cell_type": "code",
   "execution_count": 6,
   "metadata": {},
   "outputs": [
    {
     "data": {
      "text/plain": [
       "[{'country_conf': 0.611725,\n",
       "  'country_predicted': 'GBR',\n",
       "  'geo': {'admin1': 'England',\n",
       "   'country_code3': 'GBR',\n",
       "   'feature_class': 'S',\n",
       "   'feature_code': 'BDG',\n",
       "   'geonameid': '6619889',\n",
       "   'lat': '51.50821',\n",
       "   'lon': '-0.08763',\n",
       "   'place_name': 'London Bridge'},\n",
       "  'spans': [{'end': 51, 'start': 38}],\n",
       "  'word': 'London Bridge'}]"
      ]
     },
     "execution_count": 6,
     "metadata": {},
     "output_type": "execute_result"
    }
   ],
   "source": [
    "from mordecai import Geoparser\n",
    "geo = Geoparser()\n",
    "\n",
    "geo.geoparse(\"I took the tube from Oxford Circus to London Bridge, via Bank\")"
   ]
  },
  {
   "cell_type": "code",
   "execution_count": null,
   "metadata": {},
   "outputs": [],
   "source": []
  },
  {
   "cell_type": "code",
   "execution_count": 7,
   "metadata": {},
   "outputs": [],
   "source": [
    "places = []\n",
    "geos = []\n",
    "\n",
    "for i, row in df.iterrows():\n",
    "    \n",
    "    t = row['title'] + row['content']\n",
    "    t = t.split(\"Copyright (C)\")[0] \n",
    "    t = re.split(\"\\([C-c]\\) [1-2][0-9]{3} Elsevier\",t)[0] \n",
    "    t = t.split(\"Published by Elsevier\")[0] \n",
    "    t = t.split(\"Copyright. (C)\")[0] \n",
    "    t = re.split(\"\\. \\(C\\) [1-2][0-9]{3} \",t)[0] \n",
    "    t = re.split(\"\\. \\(C\\) Copyright\",t)[0]     \n",
    "    \n",
    "    gp = geo.geoparse(t)\n",
    "    \n",
    "    rplaces = []\n",
    "    continent = None\n",
    "    for p in gp:\n",
    "        try:\n",
    "            a2 = country_alpha3_to_country_alpha2(p[\"country_predicted\"])\n",
    "            continent = country_alpha2_to_continent_code(a2)\n",
    "        except:\n",
    "            pass\n",
    "        if \"geo\" in p:\n",
    "            try:\n",
    "                a2 = country_alpha3_to_country_alpha2(p[\"geo\"][\"country_code3\"])\n",
    "                continent = country_alpha2_to_continent_code(a2)\n",
    "            except:\n",
    "                pass\n",
    "            p[\"geo\"][\"doc_id\"] = row['id']\n",
    "            p[\"geo\"][\"word\"] = p[\"word\"]\n",
    "            p[\"geo\"][\"country_predicted\"] = p[\"country_predicted\"]\n",
    "            p[\"geo\"][\"country_conf\"] = p[\"country_conf\"]\n",
    "            geos.append(p[\"geo\"])\n",
    "        rplaces.append(p)\n",
    "    df.loc[i,\"continent\"] = continent\n",
    "    df.loc[i,\"places\"] = len(rplaces)"
   ]
  },
  {
   "cell_type": "code",
   "execution_count": 8,
   "metadata": {},
   "outputs": [
    {
     "data": {
      "text/html": [
       "<div>\n",
       "<style scoped>\n",
       "    .dataframe tbody tr th:only-of-type {\n",
       "        vertical-align: middle;\n",
       "    }\n",
       "\n",
       "    .dataframe tbody tr th {\n",
       "        vertical-align: top;\n",
       "    }\n",
       "\n",
       "    .dataframe thead th {\n",
       "        text-align: right;\n",
       "    }\n",
       "</style>\n",
       "<table border=\"1\" class=\"dataframe\">\n",
       "  <thead>\n",
       "    <tr style=\"text-align: right;\">\n",
       "      <th></th>\n",
       "      <th>admin1</th>\n",
       "      <th>lat</th>\n",
       "      <th>lon</th>\n",
       "      <th>country_code3</th>\n",
       "      <th>geonameid</th>\n",
       "      <th>place_name</th>\n",
       "      <th>feature_class</th>\n",
       "      <th>feature_code</th>\n",
       "      <th>doc_id</th>\n",
       "    </tr>\n",
       "  </thead>\n",
       "  <tbody>\n",
       "    <tr>\n",
       "      <th>0</th>\n",
       "      <td>Zhejiang</td>\n",
       "      <td>29.87819</td>\n",
       "      <td>121.54945</td>\n",
       "      <td>CHN</td>\n",
       "      <td>1799397</td>\n",
       "      <td>Ningbo</td>\n",
       "      <td>P</td>\n",
       "      <td>PPLA2</td>\n",
       "      <td>1859208</td>\n",
       "    </tr>\n",
       "    <tr>\n",
       "      <th>1</th>\n",
       "      <td>NA</td>\n",
       "      <td>30.59822</td>\n",
       "      <td>121.08953</td>\n",
       "      <td>CHN</td>\n",
       "      <td>10098466</td>\n",
       "      <td>Sea View Hangzhou Bay</td>\n",
       "      <td>S</td>\n",
       "      <td>HTL</td>\n",
       "      <td>1859208</td>\n",
       "    </tr>\n",
       "    <tr>\n",
       "      <th>2</th>\n",
       "      <td>Zhejiang</td>\n",
       "      <td>29.16667</td>\n",
       "      <td>120</td>\n",
       "      <td>CHN</td>\n",
       "      <td>1784764</td>\n",
       "      <td>Zhejiang Sheng</td>\n",
       "      <td>A</td>\n",
       "      <td>ADM1</td>\n",
       "      <td>1859208</td>\n",
       "    </tr>\n",
       "    <tr>\n",
       "      <th>3</th>\n",
       "      <td>Zhejiang</td>\n",
       "      <td>29.16667</td>\n",
       "      <td>120</td>\n",
       "      <td>CHN</td>\n",
       "      <td>1784764</td>\n",
       "      <td>Zhejiang Sheng</td>\n",
       "      <td>A</td>\n",
       "      <td>ADM1</td>\n",
       "      <td>1859208</td>\n",
       "    </tr>\n",
       "    <tr>\n",
       "      <th>4</th>\n",
       "      <td>NA</td>\n",
       "      <td>62</td>\n",
       "      <td>10</td>\n",
       "      <td>NOR</td>\n",
       "      <td>3144096</td>\n",
       "      <td>Kingdom of Norway</td>\n",
       "      <td>A</td>\n",
       "      <td>PCLI</td>\n",
       "      <td>3323085</td>\n",
       "    </tr>\n",
       "  </tbody>\n",
       "</table>\n",
       "</div>"
      ],
      "text/plain": [
       "     admin1       lat        lon country_code3 geonameid  \\\n",
       "0  Zhejiang  29.87819  121.54945           CHN   1799397   \n",
       "1        NA  30.59822  121.08953           CHN  10098466   \n",
       "2  Zhejiang  29.16667        120           CHN   1784764   \n",
       "3  Zhejiang  29.16667        120           CHN   1784764   \n",
       "4        NA        62         10           NOR   3144096   \n",
       "\n",
       "              place_name feature_class feature_code   doc_id  \n",
       "0                 Ningbo             P        PPLA2  1859208  \n",
       "1  Sea View Hangzhou Bay             S          HTL  1859208  \n",
       "2         Zhejiang Sheng             A         ADM1  1859208  \n",
       "3         Zhejiang Sheng             A         ADM1  1859208  \n",
       "4      Kingdom of Norway             A         PCLI  3323085  "
      ]
     },
     "execution_count": 8,
     "metadata": {},
     "output_type": "execute_result"
    }
   ],
   "source": [
    "geo_df = pd.DataFrame.from_dict(geos)\n",
    "geo_df.head()\n",
    "\n"
   ]
  },
  {
   "cell_type": "code",
   "execution_count": 9,
   "metadata": {},
   "outputs": [
    {
     "name": "stdout",
     "output_type": "stream",
     "text": [
      "(164006, 9)\n"
     ]
    }
   ],
   "source": [
    "old_geo_df = pd.read_csv('../data/geo_df.csv')\n",
    "print(old_geo_df.shape)\n",
    "new_geo_df = pd.concat([old_geo_df,geo_df])\n",
    "new_geo_df.to_csv('../data/new_geo_df.csv', index=False)"
   ]
  },
  {
   "cell_type": "code",
   "execution_count": 10,
   "metadata": {},
   "outputs": [
    {
     "name": "stdout",
     "output_type": "stream",
     "text": [
      "(194919, 9)\n"
     ]
    }
   ],
   "source": [
    "print(new_geo_df.shape)"
   ]
  },
  {
   "cell_type": "code",
   "execution_count": 11,
   "metadata": {},
   "outputs": [
    {
     "data": {
      "text/html": [
       "<div>\n",
       "<style scoped>\n",
       "    .dataframe tbody tr th:only-of-type {\n",
       "        vertical-align: middle;\n",
       "    }\n",
       "\n",
       "    .dataframe tbody tr th {\n",
       "        vertical-align: top;\n",
       "    }\n",
       "\n",
       "    .dataframe thead th {\n",
       "        text-align: right;\n",
       "    }\n",
       "</style>\n",
       "<table border=\"1\" class=\"dataframe\">\n",
       "  <thead>\n",
       "    <tr style=\"text-align: right;\">\n",
       "      <th></th>\n",
       "      <th>word</th>\n",
       "      <th>spans</th>\n",
       "      <th>country_predicted</th>\n",
       "      <th>country_conf</th>\n",
       "      <th>geo</th>\n",
       "      <th>doc_id</th>\n",
       "    </tr>\n",
       "  </thead>\n",
       "  <tbody>\n",
       "    <tr>\n",
       "      <th>0</th>\n",
       "      <td>Ningbo</td>\n",
       "      <td>[{'start': 327, 'end': 333}]</td>\n",
       "      <td>CHN</td>\n",
       "      <td>0.988199</td>\n",
       "      <td>{'admin1': 'Zhejiang', 'lat': '29.87819', 'lon...</td>\n",
       "      <td>1859208</td>\n",
       "    </tr>\n",
       "    <tr>\n",
       "      <th>1</th>\n",
       "      <td>Hangzhou Bay</td>\n",
       "      <td>[{'start': 432, 'end': 444}]</td>\n",
       "      <td>CHN</td>\n",
       "      <td>0.988199</td>\n",
       "      <td>{'admin1': 'NA', 'lat': '30.59822', 'lon': '12...</td>\n",
       "      <td>1859208</td>\n",
       "    </tr>\n",
       "    <tr>\n",
       "      <th>2</th>\n",
       "      <td>Zhejiang</td>\n",
       "      <td>[{'start': 446, 'end': 454}]</td>\n",
       "      <td>CHN</td>\n",
       "      <td>0.988199</td>\n",
       "      <td>{'admin1': 'Zhejiang', 'lat': '29.16667', 'lon...</td>\n",
       "      <td>1859208</td>\n",
       "    </tr>\n",
       "    <tr>\n",
       "      <th>3</th>\n",
       "      <td>Zhejiang</td>\n",
       "      <td>[{'start': 1146, 'end': 1154}]</td>\n",
       "      <td>CHN</td>\n",
       "      <td>0.988199</td>\n",
       "      <td>{'admin1': 'Zhejiang', 'lat': '29.16667', 'lon...</td>\n",
       "      <td>1859208</td>\n",
       "    </tr>\n",
       "    <tr>\n",
       "      <th>4</th>\n",
       "      <td>Norway</td>\n",
       "      <td>[{'start': 97, 'end': 103}]</td>\n",
       "      <td>NOR</td>\n",
       "      <td>0.999811</td>\n",
       "      <td>{'admin1': 'NA', 'lat': '62', 'lon': '10', 'co...</td>\n",
       "      <td>3323085</td>\n",
       "    </tr>\n",
       "  </tbody>\n",
       "</table>\n",
       "</div>"
      ],
      "text/plain": [
       "           word                           spans country_predicted  \\\n",
       "0        Ningbo    [{'start': 327, 'end': 333}]               CHN   \n",
       "1  Hangzhou Bay    [{'start': 432, 'end': 444}]               CHN   \n",
       "2      Zhejiang    [{'start': 446, 'end': 454}]               CHN   \n",
       "3      Zhejiang  [{'start': 1146, 'end': 1154}]               CHN   \n",
       "4        Norway     [{'start': 97, 'end': 103}]               NOR   \n",
       "\n",
       "   country_conf                                                geo   doc_id  \n",
       "0      0.988199  {'admin1': 'Zhejiang', 'lat': '29.87819', 'lon...  1859208  \n",
       "1      0.988199  {'admin1': 'NA', 'lat': '30.59822', 'lon': '12...  1859208  \n",
       "2      0.988199  {'admin1': 'Zhejiang', 'lat': '29.16667', 'lon...  1859208  \n",
       "3      0.988199  {'admin1': 'Zhejiang', 'lat': '29.16667', 'lon...  1859208  \n",
       "4      0.999811  {'admin1': 'NA', 'lat': '62', 'lon': '10', 'co...  3323085  "
      ]
     },
     "execution_count": 11,
     "metadata": {},
     "output_type": "execute_result"
    }
   ],
   "source": [
    "place_df = pd.DataFrame.from_dict(places)\n",
    "place_df.head()\n"
   ]
  },
  {
   "cell_type": "code",
   "execution_count": 12,
   "metadata": {},
   "outputs": [
    {
     "name": "stdout",
     "output_type": "stream",
     "text": [
      "(286355, 7)\n"
     ]
    }
   ],
   "source": [
    "old_place_df = pd.read_csv('../data/place_df.csv')\n",
    "print(old_place_df.shape)\n",
    "new_place_df = pd.concat([old_place_df,place_df])\n",
    "new_place_df.to_csv('../data/new_place_df.csv', index=False)"
   ]
  },
  {
   "cell_type": "code",
   "execution_count": 13,
   "metadata": {},
   "outputs": [],
   "source": [
    "df[['id','continent']].to_csv('../data/doc_continent.csv',index=False)"
   ]
  },
  {
   "cell_type": "code",
   "execution_count": null,
   "metadata": {},
   "outputs": [],
   "source": []
  }
 ],
 "metadata": {
  "kernelspec": {
   "display_name": "tmv",
   "language": "python",
   "name": "tmv"
  },
  "language_info": {
   "codemirror_mode": {
    "name": "ipython",
    "version": 3
   },
   "file_extension": ".py",
   "mimetype": "text/x-python",
   "name": "python",
   "nbconvert_exporter": "python",
   "pygments_lexer": "ipython3",
   "version": "3.6.6"
  }
 },
 "nbformat": 4,
 "nbformat_minor": 4
}
