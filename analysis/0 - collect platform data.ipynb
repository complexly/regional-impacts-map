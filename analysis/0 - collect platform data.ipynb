{
 "cells": [
  {
   "cell_type": "code",
   "execution_count": null,
   "metadata": {},
   "outputs": [],
   "source": [
    "import django, sys, os\n",
    "sys.path.append('/home/galm/software/django/tmv/BasicBrowser/')\n",
    "sys.path.append('/home/max/software/django-tmv/tmv_mcc-apsis/BasicBrowser')\n",
    "os.environ.setdefault(\"DJANGO_SETTINGS_MODULE\", \"BasicBrowser.settings\")\n",
    "django.setup()\n",
    "\n",
    "from sklearn.decomposition import NMF\n",
    "from sklearn.naive_bayes import MultinomialNB\n",
    "from sklearn.linear_model import SGDClassifier\n",
    "from sklearn.neural_network import MLPClassifier\n",
    "\n",
    "from scoping.models import *\n",
    "from sklearn.feature_extraction.text import CountVectorizer, TfidfVectorizer\n",
    "from itertools import product, combinations\n",
    "from utils.text import *\n",
    "from scipy.sparse import find\n",
    "\n",
    "import math\n",
    "import random\n",
    "import pandas as pd\n",
    "import numpy as np\n",
    "import matplotlib.pyplot as plt\n",
    "from sklearn.multiclass import OneVsRestClassifier\n",
    "from sklearn.svm import SVC\n",
    "\n",
    "from MulticoreTSNE import MulticoreTSNE as mTSNE\n",
    "from sklearn.metrics import accuracy_score, precision_score, recall_score\n",
    "from sklearn.metrics import coverage_error, label_ranking_average_precision_score, label_ranking_loss\n",
    "from pycountry_convert import  country_alpha2_to_continent_code, country_alpha3_to_country_alpha2\n",
    "import pickle\n",
    "import scipy.sparse\n",
    "import datetime\n",
    "import scipy.stats as st\n",
    "import scoping.utils.learning_utils as lu\n",
    "import matplotlib\n",
    "\n",
    "django.db.connection.close()\n"
   ]
  },
  {
   "cell_type": "code",
   "execution_count": null,
   "metadata": {},
   "outputs": [],
   "source": [
    "pid = 178\n",
    "qid = 8145\n",
    "qid = 8609\n",
    "q = Query.objects.get(pk=qid)\n",
    "qs = Query.objects.filter(pk__in=[8145,7368,8272, 8696, 8609, 8696])\n",
    "\n",
    "dids = set(Doc.objects.filter(query__in=qs).values_list('pk', flat=True))\n",
    "p = Project.objects.get(pk=pid)\n",
    "\n",
    "print(len(dids))"
   ]
  },
  {
   "cell_type": "markdown",
   "metadata": {},
   "source": [
    "# Get documents from ar5 database, excluding those that look at alternative hypotheses than climate-impacts"
   ]
  },
  {
   "cell_type": "code",
   "execution_count": null,
   "metadata": {},
   "outputs": [],
   "source": [
    "ar5_docs = Doc.objects.filter(query=6956, content__iregex=\"\\w\").exclude(\n",
    "    pk__in=[\n",
    "        1461495,1626875, 1622783,1627593,1627701,2093363,\n",
    "        2090005,1627734,2089982, 2090013,2093360,2089960,\n",
    "        1627733, 2090004, 2089967, 2089944, 2091676,2089959,  \n",
    "        1514856, 2091680, 2089950\n",
    "    ]\n",
    ")\n",
    "\n",
    "ar5_ids = set(ar5_docs.values_list('pk',flat=True))\n",
    "\n",
    "ar5_docs.count()"
   ]
  },
  {
   "cell_type": "code",
   "execution_count": null,
   "metadata": {},
   "outputs": [],
   "source": [
    "import statistics\n",
    "\n",
    "def mode_na(x):\n",
    "    try:\n",
    "        return statistics.mode([y for y in x if y is not np.NaN])\n",
    "    except:\n",
    "        return np.NaN\n",
    "    \n",
    "columns = [\n",
    "    'id',\n",
    "    'content',\n",
    "    'title',\n",
    "    'wosarticle__de',\n",
    "    'wosarticle__wc'\n",
    "]\n",
    "\n",
    "# Majority ratings\n",
    "dos = DocOwnership.objects.filter(\n",
    "    query__in=qs, \n",
    "    relevant__gt=0,\n",
    "    doc__content__iregex='\\w'\n",
    ")\n",
    "dodf = pd.DataFrame.from_dict(dos.order_by('finish').values(\n",
    "    'id','doc_id','user__username','relevant'\n",
    "))\n",
    "dodf.loc[dodf['relevant']==2,'relevant'] = 0\n",
    "dodf.loc[dodf['relevant']==3,'relevant'] = np.NaN\n",
    "\n",
    "gdf = dodf.groupby('doc_id').agg(lambda x: mode_na(x)).reset_index()[['doc_id','relevant']].rename(columns={\"doc_id\":\"id\"})\n",
    "gdf['seen'] = 1\n",
    "gdf['ar5'] = 0\n",
    "gdf.loc[pd.isna(gdf['relevant']),'seen'] = np.NaN\n",
    "\n",
    "# Ar5 docs\n",
    "ar5_df = pd.DataFrame.from_dict(\n",
    "    Doc.objects.filter(pk__in=ar5_ids).values('id')\n",
    ")\n",
    "ar5_df['ar5'] = 1\n",
    "ar5_df['seen'] = 1\n",
    "ar5_df['relevant'] = 1\n",
    "ar5_df.head()\n",
    "\n",
    "seen_df = pd.concat([ar5_df,gdf])\n",
    "ddf = pd.DataFrame.from_dict(\n",
    "    Doc.objects.filter(pk__in=seen_df['id']).values(*columns)\n",
    ")\n",
    "seen_df = pd.merge(ddf,seen_df)\n",
    "\n",
    "r_tag_ids = Tag.objects.get(query__project=p,title=\"random sample 1\").doc_set.values_list('pk',flat=True)\n",
    "seen_df['random_sample'] = np.where(seen_df['id'].isin(r_tag_ids),1,0)\n",
    "\n",
    "physical_tags = Tag.objects.filter(query__in=qs,id__gt=5177)\n",
    "pdos = DocOwnership.objects.filter(tag__in=physical_tags,relevant__gt=0).values_list('doc__id',flat=True)\n",
    "seen_df['physical_tags'] = np.where(seen_df['id'].isin(pdos),1,0)\n",
    "\n",
    "seen_df = seen_df[pd.notna(seen_df['seen'])]\n",
    "\n",
    "print(seen_df.shape)\n",
    "seen_df.head()\n"
   ]
  },
  {
   "cell_type": "markdown",
   "metadata": {},
   "source": [
    "## Get AR5 categories"
   ]
  },
  {
   "cell_type": "code",
   "execution_count": null,
   "metadata": {},
   "outputs": [],
   "source": [
    "cats = Category.objects.filter(project=p,level=12)\n",
    "early_ids = set(DocOwnership.objects.filter(\n",
    "    query__in=qs,tag__lt=4765\n",
    ").values_list('doc__pk',flat=True))\n",
    "ldf = pd.DataFrame.from_dict(list(Doc.objects.filter(pk__in=set(ar5_ids)|early_ids).filter(\n",
    "    category__in=cats\n",
    ").values('id','category__level','category__name')))\n",
    "ldf['cname'] =  ldf['category__level'].astype(str) + \" - \" + ldf['category__name']\n",
    "ldf = ldf.drop(columns=['category__level','category__name'])\n",
    "ldf['v'] = 1\n",
    "\n",
    "cat_map = ldf.pivot(index='id',columns=\"cname\", values=\"v\")\n",
    "cat_map['id'] = cat_map.index\n",
    "cat_map = cat_map.reset_index(drop=True)\n",
    "\n",
    "seen_df = pd.merge(seen_df, cat_map, how=\"left\").fillna(0)"
   ]
  },
  {
   "cell_type": "markdown",
   "metadata": {},
   "source": [
    "## Get majority category decision"
   ]
  },
  {
   "cell_type": "code",
   "execution_count": null,
   "metadata": {},
   "outputs": [],
   "source": [
    "dudf = pd.DataFrame.from_dict(\n",
    "    DocUserCat.objects.filter(\n",
    "        doc__pk__in=seen_df['id'],category__project=p\n",
    "    ).values('user__username','doc__id','category__level','category__name')\n",
    ")\n",
    "dudf['v'] = 1\n",
    "dudf['cname'] =  dudf['category__level'].astype(str) + \" - \" + dudf['category__name']#\n",
    "dudf = dudf.drop(columns=['category__level','category__name'])\n",
    "dudf_wide = dudf.pivot_table(index=['doc__id','user__username'],columns=\"cname\", values=\"v\").fillna(0)\n",
    "print(dudf_wide.shape)\n",
    "gudf = dudf_wide.groupby(['doc__id']).agg(lambda x: st.mode(x)[0][0]).reset_index()\n",
    "dudf_wide_r = dudf_wide.reset_index()\n",
    "dudf_wide_r.columns = [\"doc__id\",'user__username'] + list(dudf_wide.columns)\n",
    "dudf_expanded = dudf_wide_r.melt(id_vars=[\"doc__id\",\"user__username\"]).head()\n",
    "print(gudf.shape)\n",
    "gudf.tail()"
   ]
  },
  {
   "cell_type": "code",
   "execution_count": null,
   "metadata": {},
   "outputs": [],
   "source": [
    "from alterations import postfix_data\n",
    "\n",
    "seen_df = pd.merge(seen_df, gudf.rename(columns={\"doc__id\":\"id\"}), how=\"left\").fillna(0)\n",
    "print(seen_df.shape)\n",
    "\n",
    "seen_df = postfix_data(seen_df)\n",
    "seen_df.to_csv('../data/0_labelled_documents.csv', index=False)\n",
    "seen_df.head()"
   ]
  },
  {
   "cell_type": "code",
   "execution_count": null,
   "metadata": {},
   "outputs": [],
   "source": []
  },
  {
   "cell_type": "code",
   "execution_count": null,
   "metadata": {},
   "outputs": [],
   "source": [
    "unseen_docs = Doc.objects.filter(\n",
    "    id__in=dids,\n",
    "    content__iregex='\\w',\n",
    ").exclude(pk__in=seen_df['id']).distinct('id')\n",
    "\n",
    "unseen_df = pd.DataFrame.from_dict(list(unseen_docs.values(*columns)))\n",
    "unseen_df = unseen_df[columns]\n",
    "unseen_df['relevant'] = 0\n",
    "unseen_df['seen'] = 0\n",
    "unseen_df['random_sample'] = 0\n",
    "\n",
    "print(unseen_df.shape)\n",
    "unseen_df.to_csv('../data/0_unlabelled_documents.csv', index=False)\n",
    "unseen_df.head()"
   ]
  },
  {
   "cell_type": "code",
   "execution_count": null,
   "metadata": {},
   "outputs": [],
   "source": [
    "django.db.connection.close()\n",
    "df = (pd.concat([seen_df,unseen_df])\n",
    "      .sort_values('id')\n",
    "      .sample(frac=1, random_state=1)\n",
    "      .reset_index(drop=True)\n",
    ")\n",
    "y = df['relevant']\n",
    "\n",
    "seen_index = df[df['seen']==1].index\n",
    "unseen_index = df[df['seen']==0].index\n",
    "new_index = df[(df['seen']==1) & (df['ar5']==0)].index\n",
    "rel_index = df[df['relevant']==1].index\n",
    "\n",
    "r_index = df[df[\"random_sample\"]==1].index\n",
    "print(df.shape)\n",
    "df.head()"
   ]
  },
  {
   "cell_type": "code",
   "execution_count": null,
   "metadata": {},
   "outputs": [],
   "source": []
  }
 ],
 "metadata": {
  "kernelspec": {
   "display_name": "tmv",
   "language": "python",
   "name": "tmv"
  },
  "language_info": {
   "codemirror_mode": {
    "name": "ipython",
    "version": 3
   },
   "file_extension": ".py",
   "mimetype": "text/x-python",
   "name": "python",
   "nbconvert_exporter": "python",
   "pygments_lexer": "ipython3",
   "version": "3.6.7"
  },
  "varInspector": {
   "cols": {
    "lenName": 16,
    "lenType": 16,
    "lenVar": 40
   },
   "kernels_config": {
    "python": {
     "delete_cmd_postfix": "",
     "delete_cmd_prefix": "del ",
     "library": "var_list.py",
     "varRefreshCmd": "print(var_dic_list())"
    },
    "r": {
     "delete_cmd_postfix": ") ",
     "delete_cmd_prefix": "rm(",
     "library": "var_list.r",
     "varRefreshCmd": "cat(var_dic_list()) "
    }
   },
   "types_to_exclude": [
    "module",
    "function",
    "builtin_function_or_method",
    "instance",
    "_Feature"
   ],
   "window_display": false
  }
 },
 "nbformat": 4,
 "nbformat_minor": 4
}
