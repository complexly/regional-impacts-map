{
 "cells": [
  {
   "cell_type": "code",
   "execution_count": 17,
   "metadata": {},
   "outputs": [
    {
     "name": "stdout",
     "output_type": "stream",
     "text": [
      "(2629, 244)\n"
     ]
    }
   ],
   "source": [
    "import pandas as pd\n",
    "import matplotlib.pyplot as plt\n",
    "import numpy as np\n",
    "import os\n",
    "from sklearn.feature_extraction.text import CountVectorizer, TfidfVectorizer\n",
    "from sklearn.model_selection import GridSearchCV, cross_val_score, cross_validate, KFold\n",
    "import matplotlib.gridspec as gridspec\n",
    "from sklearn.svm import SVC\n",
    "import pickle\n",
    "\n",
    "plt.rcParams.update({\n",
    "    \"text.usetex\": True,\n",
    "    'text.latex.preamble': r'\\usepackage[cm]{sfmath}',\n",
    "    'font.family': 'sans-serif',\n",
    "    #'font.sans-serif': 'cm'\n",
    "})\n",
    "\n",
    "\n",
    "\n",
    "df = pd.read_csv('../data/0_labelled_documents.csv')\n",
    "\n",
    "df = (df\n",
    "      .sort_values('id')\n",
    "      .sample(frac=1, random_state=1)\n",
    "      .reset_index(drop=True)\n",
    ")\n",
    "\n",
    "print(df.shape)\n",
    "\n",
    "seen_index = df[df['seen']==1].index\n",
    "unseen_index = df[df['seen']==0].index\n",
    "new_index = df[(df['seen']==1) & (df['ar5']==0)].index\n",
    "rel_index = df[df['relevant']==1].index\n",
    "r_index = df[df[\"random_sample\"]==1].index\n",
    "physical_index = df[df['physical_tags']==1].index"
   ]
  },
  {
   "cell_type": "code",
   "execution_count": 18,
   "metadata": {},
   "outputs": [
    {
     "name": "stdout",
     "output_type": "stream",
     "text": [
      "0\n",
      "1\n"
     ]
    },
    {
     "data": {
      "image/png": "[encoded data removed]",
      "text/plain": [
       "<Figure size 432x288 with 2 Axes>"
      ]
     },
     "metadata": {
      "needs_background": "light"
     },
     "output_type": "display_data"
    }
   ],
   "source": [
    "fig, axs = plt.subplots(1,2, sharey=True)\n",
    "for i, r in enumerate([\"Non random\", \"Random\"]):\n",
    "    print(i)\n",
    "    sub_df = df[df['random_sample']==i]\n",
    "    sub_df.groupby('relevant').size().plot.bar(ax=axs[i])\n",
    "    axs[i].set_title(f\"{r} ({sub_df.shape[0]/df.shape[0]:.0%})\".replace(\"%\",\"\\%\"))\n",
    "    \n",
    "    n = sub_df[sub_df['relevant']==1].shape[0]\n",
    "    n_share = n/sub_df.shape[0]\n",
    "    axs[i].text(1,n+df.shape[0]*0.02,f\"{n_share:.0%}\",ha=\"center\")\n",
    "    axs[i].set_ylim(ymax=axs[i].get_ylim()[1]+df.shape[0]*0.02)"
   ]
  },
  {
   "cell_type": "code",
   "execution_count": null,
   "metadata": {},
   "outputs": [],
   "source": []
  },
  {
   "cell_type": "code",
   "execution_count": 19,
   "metadata": {},
   "outputs": [
    {
     "name": "stdout",
     "output_type": "stream",
     "text": [
      "Validation on 263 samples (10%)\n",
      "Training with 2366 samples (90%)\n",
      "Validation on 263 samples (10%)\n",
      "Training with 2366 samples (90%)\n",
      "Validation on 263 samples (10%)\n",
      "Training with 2366 samples (90%)\n",
      "Validation on 263 samples (10%)\n",
      "Training with 2366 samples (90%)\n",
      "Validation on 263 samples (10%)\n",
      "Training with 2366 samples (90%)\n",
      "Validation on 263 samples (10%)\n",
      "Training with 2366 samples (90%)\n",
      "Validation on 263 samples (10%)\n",
      "Training with 2366 samples (90%)\n",
      "Validation on 263 samples (10%)\n",
      "Training with 2366 samples (90%)\n",
      "Validation on 263 samples (10%)\n",
      "Training with 2366 samples (90%)\n",
      "Validation on 262 samples (10%)\n",
      "Training with 2367 samples (90%)\n"
     ]
    },
    {
     "data": {
      "image/png": "[encoded data removed]",
      "text/plain": [
       "<Figure size 432x288 with 1 Axes>"
      ]
     },
     "metadata": {
      "needs_background": "light"
     },
     "output_type": "display_data"
    }
   ],
   "source": [
    "from sklearn.model_selection import KFold\n",
    "\n",
    "\n",
    "def plot_cv(n_splits, df, ax, discard_nonrandom=True, validate_nonrandom=False):\n",
    "    \n",
    "    kf = KFold(n_splits=n_splits)\n",
    "    test_sizes = []\n",
    "    for i, (train, test) in enumerate(kf.split(df.relevant)):\n",
    "        tdf_random = df.loc[(df.index.isin(test)) & (df['random_sample']==1),:].index\n",
    "        test_n = len(tdf_random)\n",
    "        if validate_nonrandom:\n",
    "            test_n = len(test)\n",
    "        test_sizes.append(test_n)\n",
    "        test_share = test_n/df.shape[0]\n",
    "        print(f\"Validation on {test_n} samples ({test_share:.0%})\")\n",
    "\n",
    "        train_bar = ax.barh(i,len(df.relevant)-test[-1],left=test[-1],color=\"C1\")\n",
    "        ax.barh(i,test[0], color=\"C1\")\n",
    "\n",
    "        test_bar = ax.barh(i, test_n, left=test[0],color=\"C0\")\n",
    "        if discard_nonrandom:\n",
    "            discarded_test_bar = ax.barh(i, len(test)-test_n, left=test[0]+test_n,color=\"C0\", alpha=0.5)\n",
    "            print(f\"Training with {len(train)} samples ({len(train)/df.shape[0]:.0%})\")\n",
    "        else:\n",
    "            discarded_test_bar = None\n",
    "            ax.barh(i, len(test)-test_n, left=test[0]+test_n,color=\"C1\")\n",
    "            print(f\"Training with {df.shape[0]-test_n} samples ({1-test_share:.0%})\")\n",
    "\n",
    "        rgroup = ax.barh(-1, len(tdf_random), left=test[0],color=\"C2\")\n",
    "        nrgroup = ax.barh(-1, len(test)-len(tdf_random), left=test[0]+len(tdf_random),color=\"C3\")\n",
    "\n",
    "    ax.set_xlabel('Sample index')\n",
    "    ax.set_ylabel('CV iteration')\n",
    "    ax.set_yticks(range(-1,n_splits))\n",
    "    ax.set_yticklabels([\"Group\"]+list(range(n_splits)))\n",
    "    ax.set_xlim(xmax=df.shape[0])\n",
    "    \n",
    "    mean_test = np.mean(test_sizes)\n",
    "    mean_test_share = mean_test/df.shape[0]\n",
    "    \n",
    "    test_label = f\"Test ($\\mu=${mean_test} - {mean_test_share:.0%})\".replace(\"%\",\"\\%\")\n",
    "    \n",
    "    if discard_nonrandom:\n",
    "        labels = [\"Train\",test_label,\"Non-random test (discarded)\",\"Random\",\"Non-random\"]\n",
    "    else:\n",
    "        labels = [\"Train\",test_label,\"Random\",\"Non-random\"]\n",
    "        \n",
    "    bars =  [train_bar, test_bar, discarded_test_bar, rgroup, nrgroup]\n",
    "    \n",
    "    ax.legend(\n",
    "        [x for x in bars if x is not None],\n",
    "        labels,\n",
    "        loc=(1.02, .8)\n",
    "    )\n",
    "    \n",
    "fig, ax = plt.subplots()  \n",
    "plot_cv(10, df, ax, False, True)\n",
    "    "
   ]
  },
  {
   "cell_type": "code",
   "execution_count": 20,
   "metadata": {},
   "outputs": [
    {
     "name": "stdout",
     "output_type": "stream",
     "text": [
      "Validation on 135 samples (5%)\n",
      "Training with 2103 samples (80%)\n",
      "Validation on 148 samples (6%)\n",
      "Training with 2103 samples (80%)\n",
      "Validation on 142 samples (5%)\n",
      "Training with 2103 samples (80%)\n",
      "Validation on 147 samples (6%)\n",
      "Training with 2103 samples (80%)\n",
      "Validation on 160 samples (6%)\n",
      "Training with 2104 samples (80%)\n"
     ]
    },
    {
     "data": {
      "image/png": "[encoded data removed]",
      "text/plain": [
       "<Figure size 432x288 with 1 Axes>"
      ]
     },
     "metadata": {
      "needs_background": "light"
     },
     "output_type": "display_data"
    }
   ],
   "source": [
    "fig, ax = plt.subplots()  \n",
    "plot_cv(5, df, ax, True)"
   ]
  },
  {
   "cell_type": "code",
   "execution_count": 21,
   "metadata": {},
   "outputs": [
    {
     "name": "stdout",
     "output_type": "stream",
     "text": [
      "Validation on 135 samples (5%)\n",
      "Training with 2494 samples (95%)\n",
      "Validation on 148 samples (6%)\n",
      "Training with 2481 samples (94%)\n",
      "Validation on 142 samples (5%)\n",
      "Training with 2487 samples (95%)\n",
      "Validation on 147 samples (6%)\n",
      "Training with 2482 samples (94%)\n",
      "Validation on 160 samples (6%)\n",
      "Training with 2469 samples (94%)\n"
     ]
    },
    {
     "data": {
      "image/png": "[encoded data removed]",
      "text/plain": [
       "<Figure size 432x288 with 1 Axes>"
      ]
     },
     "metadata": {
      "needs_background": "light"
     },
     "output_type": "display_data"
    }
   ],
   "source": [
    "fig, ax = plt.subplots()  \n",
    "plot_cv(5, df, ax, False)"
   ]
  },
  {
   "cell_type": "code",
   "execution_count": 22,
   "metadata": {},
   "outputs": [
    {
     "name": "stdout",
     "output_type": "stream",
     "text": [
      "Validation on 231 samples (9%)\n",
      "Training with 2398 samples (91%)\n",
      "Validation on 243 samples (9%)\n",
      "Training with 2386 samples (91%)\n",
      "Validation on 258 samples (10%)\n",
      "Training with 2371 samples (90%)\n"
     ]
    },
    {
     "data": {
      "image/png": "[encoded data removed]",
      "text/plain": [
       "<Figure size 432x288 with 1 Axes>"
      ]
     },
     "metadata": {
      "needs_background": "light"
     },
     "output_type": "display_data"
    }
   ],
   "source": [
    "fig, ax = plt.subplots()  \n",
    "plot_cv(3, df, ax, False)"
   ]
  },
  {
   "cell_type": "code",
   "execution_count": 23,
   "metadata": {},
   "outputs": [
    {
     "name": "stdout",
     "output_type": "stream",
     "text": [
      "Validation on 67 samples (3%)\n",
      "Training with 2562 samples (97%)\n",
      "Validation on 68 samples (3%)\n",
      "Training with 2561 samples (97%)\n",
      "Validation on 69 samples (3%)\n",
      "Training with 2560 samples (97%)\n",
      "Validation on 79 samples (3%)\n",
      "Training with 2550 samples (97%)\n",
      "Validation on 73 samples (3%)\n",
      "Training with 2556 samples (97%)\n",
      "Validation on 69 samples (3%)\n",
      "Training with 2560 samples (97%)\n",
      "Validation on 71 samples (3%)\n",
      "Training with 2558 samples (97%)\n",
      "Validation on 76 samples (3%)\n",
      "Training with 2553 samples (97%)\n",
      "Validation on 72 samples (3%)\n",
      "Training with 2557 samples (97%)\n",
      "Validation on 88 samples (3%)\n",
      "Training with 2541 samples (97%)\n"
     ]
    },
    {
     "data": {
      "image/png": "[encoded data removed]",
      "text/plain": [
       "<Figure size 432x288 with 1 Axes>"
      ]
     },
     "metadata": {
      "needs_background": "light"
     },
     "output_type": "display_data"
    }
   ],
   "source": [
    "fig, ax = plt.subplots()  \n",
    "plot_cv(10, df, ax, False)"
   ]
  },
  {
   "cell_type": "code",
   "execution_count": 24,
   "metadata": {},
   "outputs": [
    {
     "name": "stdout",
     "output_type": "stream",
     "text": [
      "135\n"
     ]
    }
   ],
   "source": [
    "def KFoldRandom(n_splits, X, no_test, shuffle=False, discard=True):\n",
    "    kf = KFold(n_splits=n_splits, shuffle=shuffle)\n",
    "    for train, test in kf.split(X):\n",
    "        if not discard:\n",
    "            train = list(train) +  [x for x in test if x in no_test]\n",
    "        test = [x for x in test if x not in no_test]\n",
    "        yield (train, test)\n",
    "        \n",
    "kf = KFoldRandom(5, df.relevant, df[df['random_sample']!=1].index, discard=False)\n",
    "print(len(next(kf)[1]))"
   ]
  },
  {
   "cell_type": "code",
   "execution_count": 25,
   "metadata": {},
   "outputs": [
    {
     "data": {
      "image/png": "[encoded data removed]",
      "text/plain": [
       "<Figure size 432x288 with 2 Axes>"
      ]
     },
     "metadata": {
      "needs_background": "light"
     },
     "output_type": "display_data"
    }
   ],
   "source": [
    "fig, axs = plt.subplots(2)  \n",
    "n_splits = 5\n",
    "outer_cv = KFoldRandom(n_splits, df.index, df[df['random_sample']!=1].index, discard=False)\n",
    "for k, (train, test) in enumerate(outer_cv): \n",
    "    ax = axs[0]\n",
    "    train_bar = ax.barh(k,len(df.relevant)-len(test)-test[0],left=test[0]+len(test),color=\"C1\")\n",
    "    ax.barh(k,test[0], color=\"C1\")\n",
    "    test_bar = ax.barh(k, len(test), left=test[0],color=\"C0\")\n",
    "    \n",
    "    ax.set_xlim(xmax=df.shape[0])\n",
    "    \n",
    "    rgroup = ax.barh(-1, len(test), left=test[0],color=\"C2\")\n",
    "    nrgroup = ax.barh(-1, test[-1], left=test[0]+len(test),color=\"C3\")\n",
    "    \n",
    "    inner_cv = KFoldRandom(5, train, df[df['random_sample']!=1].index, discard=False)\n",
    "    inner_scores = []\n",
    "    \n",
    "    ax.set_xlabel('Sample index')\n",
    "    ax.set_ylabel('Outer CV')\n",
    "    ax.set_yticks(range(-1,n_splits))\n",
    "    ax.set_yticklabels([\"Group\"]+list(range(n_splits)))\n",
    "    ax.set_xlim(xmax=df.shape[0])\n",
    "    \n",
    "    \n",
    "    if k==0:\n",
    "        \n",
    "        ax = axs[1]\n",
    "        ax.set_xlim(xmax=df.shape[0])\n",
    "        for l, (l_train, l_test) in enumerate(inner_cv):\n",
    "            \n",
    "            #l_train = np.sort(np.array(train))[l_train]\n",
    "            #l_test = np.sort(np.array(train))[l_test]\n",
    "            ax.barh(l, len(test), color=\"grey\")\n",
    "            \n",
    "            ax.barh(l, len(l_test), left=len(test)+l_test[0],color=\"C4\")\n",
    "            \n",
    "            ax.barh(l, len(train)-len(l_test)-l_test[0], left=l_test[0]+len(l_test)+len(test),color=\"C6\")\n",
    "            \n",
    "            ax.barh(l, l_test[0], left=len(test),color=\"C6\")\n",
    "            \n",
    "            #break"
   ]
  },
  {
   "cell_type": "code",
   "execution_count": 29,
   "metadata": {},
   "outputs": [
    {
     "name": "stdout",
     "output_type": "stream",
     "text": [
      "1000.0\n",
      "1000.0\n",
      "1000.0\n",
      "1000.0\n",
      "1000.0\n"
     ]
    },
    {
     "name": "stderr",
     "output_type": "stream",
     "text": [
      "/home/max/.local/lib/python3.6/site-packages/ipykernel_launcher.py:27: MatplotlibDeprecationWarning: Adding an axes using the same arguments as a previous axes currently reuses the earlier instance.  In a future version, a new instance will always be created and returned.  Meanwhile, this warning can be suppressed, and the future behavior ensured, by passing a unique label to each axes instance.\n",
      "No handles with labels found to put in legend.\n"
     ]
    },
    {
     "data": {
      "image/png": "[encoded data removed]",
      "text/plain": [
       "<Figure size 900x625 with 7 Axes>"
      ]
     },
     "metadata": {
      "needs_background": "light"
     },
     "output_type": "display_data"
    }
   ],
   "source": [
    "fig = plt.figure(figsize=(7.2,5), dpi=125)  \n",
    "gs = fig.add_gridspec(5, 2, hspace=0.5, wspace=0.5)\n",
    "\n",
    "plt.rcParams[\"font.size\"] = 7\n",
    "\n",
    "\n",
    "\n",
    "ec = \"grey\"\n",
    "lw = 0.5\n",
    "\n",
    "C0 = \"#ffff99\"\n",
    "C1 = \"#fdc086\"\n",
    "C2 = \"#386cb0\"\n",
    "C3 = \"#beaed4\"\n",
    "C4 = \"#7fc97f\"\n",
    "C5 = \"#f0027f\"\n",
    "\n",
    "n_splits = 5\n",
    "kf = KFold(n_splits=n_splits)\n",
    "\n",
    "df = df.sort_values('random_sample',ascending=False).reset_index(drop=True)\n",
    "\n",
    "X = df[df['random_sample']==1].index\n",
    "\n",
    "for k, (train, test) in enumerate(kf.split(X)):\n",
    "    \n",
    "    ax = plt.subplot(gs[1:4,0])\n",
    "    #Test\n",
    "    test_bar = ax.barh(k, len(test),left=test[0], color=C2, ec=ec, lw=lw)\n",
    "    #Train\n",
    "    train_bar = ax.barh(k, test[0], color=C0, ec=ec, lw=lw)\n",
    "    ax.barh(k, df.shape[0]-test[-1], left=test[-1], color=C0, ec=ec, lw=lw)\n",
    "    \n",
    "    ax.axvline(X.shape[0], color=\"grey\",lw=1)\n",
    "    ax.text(X.shape[0]/2, -0.7, \"Random\", ha=\"center\", va=\"center\")\n",
    "    ax.text(X.shape[0]+(df.shape[0]-X.shape[0])/2, -0.7, \"Non-random\", ha=\"center\", va=\"center\")\n",
    "    \n",
    "    ax.set_xlabel('Sample index')\n",
    "    ax.set_ylabel('Outer CV')\n",
    "    ax.set_yticks(range(n_splits))\n",
    "    ax.set_yticklabels(list(range(1,n_splits+1)))\n",
    "    #ax.set_yticklabels([\"1\",2,\"2\",5,\"5\"])\n",
    "    ax.set_ylim([-1,n_splits-0.3])\n",
    "    ax.set_xlim(xmax=df.shape[0])\n",
    "    print(ax.get_xticks()[2])\n",
    "    \n",
    "    inner_kf = KFold(n_splits=n_splits)\n",
    "    ax = plt.subplot(gs[4-k,1])\n",
    "    ax.set_yticks(range(n_splits))\n",
    "    ax.set_yticklabels(list(range(1,n_splits+1)))\n",
    "\n",
    "    ax.set_xlim(xmax=df.shape[0]+0.5, xmin=0)\n",
    "    \n",
    "    ax.axvline(X.shape[0], color=\"grey\",lw=1)\n",
    "    \n",
    "    ax.set_ylabel(f'Inner CV {k+1}')\n",
    "\n",
    "    for l, (l_train, l_test) in enumerate(inner_kf.split(train)):\n",
    "        l_test = train[l_test]\n",
    "        l_train = train[l_train]\n",
    "        \n",
    "        ax.barh(l, len(test),left=test[0], color=C2, ec=ec, lw=lw)\n",
    "        \n",
    "        if l_test[0]+len(l_test) in test:\n",
    "            inner_val = ax.barh(l, test[0]-l_test[0], left=l_test[0],color=C3, ec=ec,lw=lw)\n",
    "            ax.barh(l, len(l_test)-(test[0]-l_test[0]), left=test[-1]+1,color=C3, ec=ec,lw=lw)\n",
    "            \n",
    "        else:\n",
    "            ax.barh(l, len(l_test), left=l_test[0],color=C3, ec=ec,lw=lw)\n",
    "            \n",
    "        inner_train = ax.barh(l, np.min([l_test.min(),test.min()]), color=C1, ec=ec,lw=lw)\n",
    "        \n",
    "        bar_left = np.max([l_test.max(),test.max()])\n",
    "        ax.barh(l, X.shape[0]-bar_left, left=bar_left, color=C1, ec=ec, lw=lw)\n",
    "        \n",
    "        if l_test[-1] < test[0]:\n",
    "            ax.barh(l, test[0]-l_test[-1], left=l_test[-1], color=C1, ec=ec, lw=lw)\n",
    "            \n",
    "        if test[-1] < l_test[0]:\n",
    "            ax.barh(l, l_test[0]-test[-1], left=test[-1], color=C1, ec=ec, lw=lw)\n",
    "            \n",
    "        ax.barh(l, df.shape[0]-X.shape[0], left=X.shape[0], color=C1, ec=ec, lw=lw)\n",
    "        \n",
    "        \n",
    "ax = fig.add_subplot(gs[0,0]) \n",
    "ax.axis('off')\n",
    "ax.legend()    \n",
    "\n",
    "bars =  [train_bar, test_bar, inner_train, inner_val]\n",
    "labels = [\"Train\", \"Test\", \"Inner train\", \"Inner validation\"]\n",
    "\n",
    "ax.legend(\n",
    "    [x for x in bars if x is not None],\n",
    "    labels,\n",
    "    ncol=2,\n",
    "    loc=\"center\",\n",
    "    title=\"Data partition\"\n",
    "    #loc=(1.02, .8)\n",
    ")\n",
    "        \n",
    "plt.savefig(\"../figures/si_figure_2.pdf\", bbox_inches=\"tight\")\n",
    "plt.savefig(\"../figures/si_figure_2.png\", dpi=250, bbox_inches=\"tight\")\n"
   ]
  },
  {
   "cell_type": "code",
   "execution_count": 284,
   "metadata": {},
   "outputs": [
    {
     "data": {
      "text/plain": [
       "Text(0, 0, '')"
      ]
     },
     "execution_count": 284,
     "metadata": {},
     "output_type": "execute_result"
    }
   ],
   "source": []
  },
  {
   "cell_type": "code",
   "execution_count": 97,
   "metadata": {},
   "outputs": [
    {
     "data": {
      "text/plain": [
       "array([80, 81, 82, 83, 84, 85, 86])"
      ]
     },
     "execution_count": 97,
     "metadata": {},
     "output_type": "execute_result"
    }
   ],
   "source": [
    "test"
   ]
  },
  {
   "cell_type": "code",
   "execution_count": 37,
   "metadata": {},
   "outputs": [
    {
     "data": {
      "text/plain": [
       "array([ 0,  1,  2,  3,  4,  5,  6,  7,  8,  9, 10, 11, 12, 13, 14, 15, 16,\n",
       "       17, 18, 19, 20, 21, 22, 23, 24, 25, 26, 27, 28, 29, 30, 31, 32, 33,\n",
       "       34, 35, 36, 37, 38, 39, 40, 41, 42, 43, 44, 45, 46, 47, 48, 49, 50,\n",
       "       51, 52, 53, 54, 55, 56, 57, 58, 59, 60, 61, 62, 63, 64, 65, 66, 67,\n",
       "       68, 69, 70, 71, 72, 73, 74, 75, 76, 77, 78, 79])"
      ]
     },
     "execution_count": 37,
     "metadata": {},
     "output_type": "execute_result"
    }
   ],
   "source": [
    "train"
   ]
  },
  {
   "cell_type": "code",
   "execution_count": 10,
   "metadata": {},
   "outputs": [
    {
     "name": "stdout",
     "output_type": "stream",
     "text": [
      "running vectorisation again\n"
     ]
    }
   ],
   "source": [
    "revectorize = True\n",
    "\n",
    "X_exists = os.path.isfile(f'../data/X_{df.shape[0]}.npz')\n",
    "\n",
    "if revectorize is True or X_exists is False:\n",
    "    print(\"running vectorisation again\")\n",
    "    vec = TfidfVectorizer(\n",
    "        ngram_range=(1,2),\n",
    "        min_df=15, max_df=0.8, strip_accents='unicode', \n",
    "        max_features=20000,\n",
    "        #tokenizer=snowball_stemmer()\n",
    "    )\n",
    "\n",
    "    X = vec.fit_transform(df['content'].astype(\"str\"))   \n",
    "    with open (f'../data/vec_{df.shape[0]}.pickle','wb') as f:\n",
    "        pickle.dump(vec, f)\n",
    "    import scipy.sparse\n",
    "    scipy.sparse.save_npz(f'../data/X_{df.shape[0]}.npz', X)\n",
    "else:\n",
    "    print(\"loading feature matrix\")\n",
    "    with open (f'../data/vec_{df.shape[0]}.pickle','rb') as f:\n",
    "        vec = pickle.load(f)\n",
    "        X = scipy.sparse.load_npz(f'../data/X_{df.shape[0]}.npz')\n",
    "        \n",
    "X.shape\n",
    "y = df.relevant\n",
    "\n",
    "\n",
    "        \n"
   ]
  },
  {
   "cell_type": "code",
   "execution_count": 23,
   "metadata": {},
   "outputs": [],
   "source": [
    "from transformers import DistilBertTokenizer, TFDistilBertForSequenceClassification\n",
    "import tensorflow as tf\n",
    "import tensorflow_addons as tfa\n",
    "\n",
    "MODEL_NAME = 'distilbert-base-uncased'\n",
    "\n",
    "tokenizer = DistilBertTokenizer.from_pretrained(MODEL_NAME)\n",
    "\n",
    "\n",
    "def construct_encodings(x, tkzr, max_len, trucation=True, padding=True):\n",
    "    return tkzr(x, max_length=max_len, truncation=trucation, padding=padding)\n",
    "\n",
    "def construct_tfdataset(encodings, y=None):\n",
    "    if y:\n",
    "        return tf.data.Dataset.from_tensor_slices((dict(encodings),y))\n",
    "    else:\n",
    "        # this case is used when making predictions on unseen samples after training\n",
    "        return tf.data.Dataset.from_tensor_slices(dict(encodings))\n",
    "    \n",
    "def create_predictor(model, model_name, max_len):\n",
    "    tkzr = DistilBertTokenizer.from_pretrained(model_name)\n",
    "    def predict_proba(text):\n",
    "        x = text\n",
    "\n",
    "        encodings = construct_encodings(x, tkzr, max_len=max_len)\n",
    "        tfdataset = construct_tfdataset(encodings)\n",
    "        tfdataset = tfdataset.batch(1)\n",
    "\n",
    "        preds = model.predict(tfdataset).logits\n",
    "        preds = tf.keras.activations.sigmoid(tf.convert_to_tensor(preds)).numpy()\n",
    "        return preds#[0][0]\n",
    "\n",
    "    return predict_proba\n",
    "\n",
    "def create_train_val(x,y,train,val):\n",
    "    train_encodings = tokenizer(list(x[train].values),\n",
    "                                truncation=True,\n",
    "                                padding=True)\n",
    "    val_encodings = tokenizer(list(x[val].values),\n",
    "                                truncation=True,\n",
    "                                padding=True) \n",
    "    \n",
    "    train_dataset = tf.data.Dataset.from_tensor_slices((\n",
    "        dict(train_encodings),\n",
    "        list(y[train].values)\n",
    "    ))\n",
    "    val_dataset = tf.data.Dataset.from_tensor_slices((\n",
    "        dict(val_encodings),\n",
    "        list(y[val].values)\n",
    "    ))\n",
    "    \n",
    "    \n",
    "    MAX_LEN = train_dataset._structure[0]['input_ids'].shape[0]\n",
    "    \n",
    "    return train_dataset, val_dataset, MAX_LEN\n",
    "\n",
    "def init_model(MODEL_NAME, num_labels, params):\n",
    "    model = TFDistilBertForSequenceClassification.from_pretrained('distilbert-base-uncased', num_labels=num_labels)  \n",
    "    optimizer = tfa.optimizers.AdamW(learning_rate=params['learning_rate'], weight_decay=params['weight_decay'])\n",
    "\n",
    "    loss = tf.keras.losses.BinaryCrossentropy(from_logits=True)\n",
    "    metrics = tf.metrics.BinaryAccuracy()\n",
    "    model.compile(\n",
    "        optimizer=optimizer,\n",
    "        loss=loss,\n",
    "        metrics=metrics\n",
    "    )\n",
    "    return model\n",
    "\n",
    "def create_predictor(model, model_name, max_len):\n",
    "    tkzr = DistilBertTokenizer.from_pretrained(model_name)\n",
    "    def predict_proba(text):\n",
    "        x = text\n",
    "\n",
    "        encodings = construct_encodings(x, tkzr, max_len=max_len)\n",
    "        tfdataset = construct_tfdataset(encodings)\n",
    "        tfdataset = tfdataset.batch(1)\n",
    "\n",
    "        preds = model.predict(tfdataset).logits\n",
    "        preds = tf.keras.activations.sigmoid(tf.convert_to_tensor(preds)).numpy()\n",
    "        return preds#[0][0]\n",
    "\n",
    "    return predict_proba\n",
    "    \n",
    "from sklearn.metrics import roc_curve, accuracy_score, roc_auc_score, precision_recall_curve, f1_score\n",
    "from sklearn.metrics import precision_score, recall_score\n",
    "\n",
    "def evaluate_preds(y_true, y_pred):\n",
    "    try:\n",
    "        roc_auc = roc_auc_score(y_true, y_pred)\n",
    "    except:\n",
    "        roc_auc = np.NaN\n",
    "    f1 = f1_score(y_true, y_pred.round())\n",
    "    p, r = precision_score(y_true, y_pred.round()), recall_score(y_true, y_pred.round())\n",
    "    acc = accuracy_score(y_true, y_pred.round())\n",
    "    print(f\"ROC AUC: {roc_auc:.0%}, F1: {f1:.1%}, precision: {p:.1%}, recall {r:.1%}, acc {acc:.0%}\")\n",
    "    return {\"ROC AUC\": roc_auc, \"F1\": f1, \"precision\": p, \"recall\": r, \"accuracy\": acc}\n"
   ]
  },
  {
   "cell_type": "code",
   "execution_count": 22,
   "metadata": {},
   "outputs": [
    {
     "name": "stdout",
     "output_type": "stream",
     "text": [
      "nan%\n"
     ]
    }
   ],
   "source": [
    "print(f\"{np.NaN:.0%}\")"
   ]
  },
  {
   "cell_type": "code",
   "execution_count": 34,
   "metadata": {},
   "outputs": [
    {
     "data": {
      "text/plain": [
       "24"
      ]
     },
     "execution_count": 34,
     "metadata": {},
     "output_type": "execute_result"
    }
   ],
   "source": [
    "bert_params = {\n",
    "  \"batch_size\": [16, 32],\n",
    "  \"weight_decay\": (0, 0.3),\n",
    "  \"learning_rate\": (1e-5, 5e-5),\n",
    "  \"num_epochs\": [2, 3, 4]\n",
    "}\n",
    "import itertools\n",
    "def product_dict(**kwargs):\n",
    "    keys = kwargs.keys()\n",
    "    vals = kwargs.values()\n",
    "    for instance in itertools.product(*vals):\n",
    "        yield dict(zip(keys, instance))\n",
    "            \n",
    "param_space = list(product_dict(**bert_params))\n",
    "len(param_space)"
   ]
  },
  {
   "cell_type": "code",
   "execution_count": 29,
   "metadata": {},
   "outputs": [
    {
     "name": "stdout",
     "output_type": "stream",
     "text": [
      "training bert with these params\n",
      "{'batch_size': 16, 'weight_decay': 0, 'learning_rate': 1e-05, 'num_epochs': 2}\n"
     ]
    },
    {
     "name": "stderr",
     "output_type": "stream",
     "text": [
      "Some layers from the model checkpoint at distilbert-base-uncased were not used when initializing TFDistilBertForSequenceClassification: ['vocab_projector', 'activation_13', 'vocab_layer_norm', 'vocab_transform']\n",
      "- This IS expected if you are initializing TFDistilBertForSequenceClassification from the checkpoint of a model trained on another task or with another architecture (e.g. initializing a BertForSequenceClassification model from a BertForPreTraining model).\n",
      "- This IS NOT expected if you are initializing TFDistilBertForSequenceClassification from the checkpoint of a model that you expect to be exactly identical (initializing a BertForSequenceClassification model from a BertForSequenceClassification model).\n",
      "Some layers of TFDistilBertForSequenceClassification were not initialized from the model checkpoint at distilbert-base-uncased and are newly initialized: ['dropout_99', 'pre_classifier', 'classifier']\n",
      "You should probably TRAIN this model on a down-stream task to be able to use it for predictions and inference.\n",
      "The parameters `output_attentions`, `output_hidden_states` and `use_cache` cannot be updated when calling a model.They have to be set to True/False in the config object (i.e.: `config=XConfig.from_pretrained('name', output_attentions=True)`).\n",
      "The parameter `return_dict` cannot be set in graph mode and will always be set to `True`.\n"
     ]
    },
    {
     "name": "stdout",
     "output_type": "stream",
     "text": [
      "Epoch 1/2\n"
     ]
    },
    {
     "name": "stderr",
     "output_type": "stream",
     "text": [
      "The parameters `output_attentions`, `output_hidden_states` and `use_cache` cannot be updated when calling a model.They have to be set to True/False in the config object (i.e.: `config=XConfig.from_pretrained('name', output_attentions=True)`).\n",
      "The parameter `return_dict` cannot be set in graph mode and will always be set to `True`.\n"
     ]
    },
    {
     "name": "stdout",
     "output_type": "stream",
     "text": [
      "WARNING:tensorflow:5 out of the last 10 calls to <function Model.make_train_function.<locals>.train_function at 0x7fdb6d2cde18> triggered tf.function retracing. Tracing is expensive and the excessive number of tracings could be due to (1) creating @tf.function repeatedly in a loop, (2) passing tensors with different shapes, (3) passing Python objects instead of tensors. For (1), please define your @tf.function outside of the loop. For (2), @tf.function has experimental_relax_shapes=True option that relaxes argument shapes that can avoid unnecessary retracing. For (3), please refer to https://www.tensorflow.org/guide/function#controlling_retracing and https://www.tensorflow.org/api_docs/python/tf/function for  more details.\n",
      "1/1 [==============================] - 20s 20s/step - loss: 0.6859 - binary_accuracy: 0.3571\n",
      "Epoch 2/2\n",
      "1/1 [==============================] - 14s 14s/step - loss: 0.6803 - binary_accuracy: 0.3571\n"
     ]
    },
    {
     "name": "stderr",
     "output_type": "stream",
     "text": [
      "The parameters `output_attentions`, `output_hidden_states` and `use_cache` cannot be updated when calling a model.They have to be set to True/False in the config object (i.e.: `config=XConfig.from_pretrained('name', output_attentions=True)`).\n",
      "The parameter `return_dict` cannot be set in graph mode and will always be set to `True`.\n"
     ]
    },
    {
     "name": "stdout",
     "output_type": "stream",
     "text": [
      "WARNING:tensorflow:5 out of the last 9 calls to <function Model.make_predict_function.<locals>.predict_function at 0x7fdb72df0158> triggered tf.function retracing. Tracing is expensive and the excessive number of tracings could be due to (1) creating @tf.function repeatedly in a loop, (2) passing tensors with different shapes, (3) passing Python objects instead of tensors. For (1), please define your @tf.function outside of the loop. For (2), @tf.function has experimental_relax_shapes=True option that relaxes argument shapes that can avoid unnecessary retracing. For (3), please refer to https://www.tensorflow.org/guide/function#controlling_retracing and https://www.tensorflow.org/api_docs/python/tf/function for  more details.\n",
      "ROC AUC: nan%, F1: 0.0%, precision: 0.0%, recall 0.0%, acc 0%\n"
     ]
    },
    {
     "name": "stderr",
     "output_type": "stream",
     "text": [
      "/home/max/.local/lib/python3.6/site-packages/sklearn/metrics/_classification.py:1245: UndefinedMetricWarning: Recall is ill-defined and being set to 0.0 due to no true samples. Use `zero_division` parameter to control this behavior.\n",
      "  _warn_prf(average, modifier, msg_start, len(result))\n"
     ]
    },
    {
     "name": "stdout",
     "output_type": "stream",
     "text": [
      "training bert with these params\n",
      "{'batch_size': 16, 'weight_decay': 0, 'learning_rate': 1e-05, 'num_epochs': 3}\n"
     ]
    },
    {
     "name": "stderr",
     "output_type": "stream",
     "text": [
      "Some layers from the model checkpoint at distilbert-base-uncased were not used when initializing TFDistilBertForSequenceClassification: ['vocab_projector', 'activation_13', 'vocab_layer_norm', 'vocab_transform']\n",
      "- This IS expected if you are initializing TFDistilBertForSequenceClassification from the checkpoint of a model trained on another task or with another architecture (e.g. initializing a BertForSequenceClassification model from a BertForPreTraining model).\n",
      "- This IS NOT expected if you are initializing TFDistilBertForSequenceClassification from the checkpoint of a model that you expect to be exactly identical (initializing a BertForSequenceClassification model from a BertForSequenceClassification model).\n",
      "Some layers of TFDistilBertForSequenceClassification were not initialized from the model checkpoint at distilbert-base-uncased and are newly initialized: ['dropout_119', 'pre_classifier', 'classifier']\n",
      "You should probably TRAIN this model on a down-stream task to be able to use it for predictions and inference.\n",
      "The parameters `output_attentions`, `output_hidden_states` and `use_cache` cannot be updated when calling a model.They have to be set to True/False in the config object (i.e.: `config=XConfig.from_pretrained('name', output_attentions=True)`).\n",
      "The parameter `return_dict` cannot be set in graph mode and will always be set to `True`.\n"
     ]
    },
    {
     "name": "stdout",
     "output_type": "stream",
     "text": [
      "Epoch 1/3\n"
     ]
    },
    {
     "name": "stderr",
     "output_type": "stream",
     "text": [
      "The parameters `output_attentions`, `output_hidden_states` and `use_cache` cannot be updated when calling a model.They have to be set to True/False in the config object (i.e.: `config=XConfig.from_pretrained('name', output_attentions=True)`).\n",
      "The parameter `return_dict` cannot be set in graph mode and will always be set to `True`.\n"
     ]
    },
    {
     "name": "stdout",
     "output_type": "stream",
     "text": [
      "WARNING:tensorflow:6 out of the last 12 calls to <function Model.make_train_function.<locals>.train_function at 0x7fdb73359158> triggered tf.function retracing. Tracing is expensive and the excessive number of tracings could be due to (1) creating @tf.function repeatedly in a loop, (2) passing tensors with different shapes, (3) passing Python objects instead of tensors. For (1), please define your @tf.function outside of the loop. For (2), @tf.function has experimental_relax_shapes=True option that relaxes argument shapes that can avoid unnecessary retracing. For (3), please refer to https://www.tensorflow.org/guide/function#controlling_retracing and https://www.tensorflow.org/api_docs/python/tf/function for  more details.\n",
      "1/1 [==============================] - 21s 21s/step - loss: 0.7210 - binary_accuracy: 0.3571\n",
      "Epoch 2/3\n",
      "1/1 [==============================] - 15s 15s/step - loss: 0.7080 - binary_accuracy: 0.3571\n",
      "Epoch 3/3\n",
      "1/1 [==============================] - 15s 15s/step - loss: 0.7047 - binary_accuracy: 0.3571\n"
     ]
    },
    {
     "name": "stderr",
     "output_type": "stream",
     "text": [
      "The parameters `output_attentions`, `output_hidden_states` and `use_cache` cannot be updated when calling a model.They have to be set to True/False in the config object (i.e.: `config=XConfig.from_pretrained('name', output_attentions=True)`).\n",
      "The parameter `return_dict` cannot be set in graph mode and will always be set to `True`.\n"
     ]
    },
    {
     "name": "stdout",
     "output_type": "stream",
     "text": [
      "WARNING:tensorflow:6 out of the last 11 calls to <function Model.make_predict_function.<locals>.predict_function at 0x7fdb738f7510> triggered tf.function retracing. Tracing is expensive and the excessive number of tracings could be due to (1) creating @tf.function repeatedly in a loop, (2) passing tensors with different shapes, (3) passing Python objects instead of tensors. For (1), please define your @tf.function outside of the loop. For (2), @tf.function has experimental_relax_shapes=True option that relaxes argument shapes that can avoid unnecessary retracing. For (3), please refer to https://www.tensorflow.org/guide/function#controlling_retracing and https://www.tensorflow.org/api_docs/python/tf/function for  more details.\n",
      "ROC AUC: nan%, F1: 0.0%, precision: 0.0%, recall 0.0%, acc 100%\n"
     ]
    },
    {
     "name": "stderr",
     "output_type": "stream",
     "text": [
      "/home/max/.local/lib/python3.6/site-packages/sklearn/metrics/_classification.py:1493: UndefinedMetricWarning: F-score is ill-defined and being set to 0.0 due to no true nor predicted samples. Use `zero_division` parameter to control this behavior.\n",
      "  average, \"true nor predicted\", 'F-score is', len(true_sum)\n",
      "/home/max/.local/lib/python3.6/site-packages/sklearn/metrics/_classification.py:1245: UndefinedMetricWarning: Precision is ill-defined and being set to 0.0 due to no predicted samples. Use `zero_division` parameter to control this behavior.\n",
      "  _warn_prf(average, modifier, msg_start, len(result))\n",
      "/home/max/.local/lib/python3.6/site-packages/sklearn/metrics/_classification.py:1245: UndefinedMetricWarning: Recall is ill-defined and being set to 0.0 due to no true samples. Use `zero_division` parameter to control this behavior.\n",
      "  _warn_prf(average, modifier, msg_start, len(result))\n"
     ]
    }
   ],
   "source": [
    "from multiprocessing import Pool\n",
    "from functools import partial\n",
    "\n",
    "outer_cv = KFoldRandom(5, df.head(20).index, df[df['random_sample']!=1].index)\n",
    "\n",
    "outer_scores = []\n",
    "clfs = []\n",
    "\n",
    "\n",
    "def train_eval_bert(params, df, train, test):\n",
    "    train_dataset, val_dataset, MAX_LEN = create_train_val(df['content'], df['relevant'], train, test)\n",
    "    \n",
    "    print(\"training bert with these params\")\n",
    "    print(params)\n",
    "    model = init_model('distilbert-base-uncased', 1, params)\n",
    "    model.fit(train_dataset.shuffle(100).batch(params['batch_size']),\n",
    "              epochs=params['num_epochs'],\n",
    "              batch_size=16,\n",
    "    )\n",
    "\n",
    "    clf = create_predictor(model, MODEL_NAME, MAX_LEN)\n",
    "    \n",
    "    y_pred = clf(list(df['content'][test].values))\n",
    "    eps = evaluate_preds(df['relevant'][test], y_pred[:,0])  \n",
    "    for key, value in params.items():\n",
    "        eps[key] = value\n",
    "    return eps\n",
    "\n",
    "parallel=False\n",
    "\n",
    "for k, (train, test) in enumerate(outer_cv):    \n",
    "    inner_cv = KFoldRandom(5, train, df[df['random_sample']!=1].index, discard=False)\n",
    "    inner_scores = []\n",
    "    for l, (l_train, l_test) in enumerate(inner_cv):\n",
    "        cv_results = []\n",
    "        if parallel:\n",
    "            with Pool(5) as p:\n",
    "                cv_results = p.map(partial(train_eval_bert, df=df, train=l_train, test=l_test), param_space)\n",
    "        else:\n",
    "            for pr in param_space:\n",
    "                cv_results.append(train_eval_bert(pr, df=df, train=l_train, test=l_test))\n",
    "        \n",
    "        break\n",
    "        \n",
    "    \n",
    "    break"
   ]
  },
  {
   "cell_type": "code",
   "execution_count": 30,
   "metadata": {},
   "outputs": [
    {
     "data": {
      "text/plain": [
       "{'ROC AUC': nan,\n",
       " 'F1': 0.0,\n",
       " 'precision': 0.0,\n",
       " 'recall': 0.0,\n",
       " 'accuracy': 0.0,\n",
       " 'batch_size': 16,\n",
       " 'weight_decay': 0,\n",
       " 'learning_rate': 1e-05,\n",
       " 'num_epochs': 2}"
      ]
     },
     "execution_count": 30,
     "metadata": {},
     "output_type": "execute_result"
    }
   ],
   "source": [
    "cv_results[0]"
   ]
  },
  {
   "cell_type": "code",
   "execution_count": 31,
   "metadata": {},
   "outputs": [
    {
     "data": {
      "text/html": [
       "<div>\n",
       "<style scoped>\n",
       "    .dataframe tbody tr th:only-of-type {\n",
       "        vertical-align: middle;\n",
       "    }\n",
       "\n",
       "    .dataframe tbody tr th {\n",
       "        vertical-align: top;\n",
       "    }\n",
       "\n",
       "    .dataframe thead th {\n",
       "        text-align: right;\n",
       "    }\n",
       "</style>\n",
       "<table border=\"1\" class=\"dataframe\">\n",
       "  <thead>\n",
       "    <tr style=\"text-align: right;\">\n",
       "      <th></th>\n",
       "      <th>ROC AUC</th>\n",
       "      <th>F1</th>\n",
       "      <th>precision</th>\n",
       "      <th>recall</th>\n",
       "      <th>accuracy</th>\n",
       "      <th>batch_size</th>\n",
       "      <th>weight_decay</th>\n",
       "      <th>learning_rate</th>\n",
       "      <th>num_epochs</th>\n",
       "    </tr>\n",
       "  </thead>\n",
       "  <tbody>\n",
       "    <tr>\n",
       "      <td>0</td>\n",
       "      <td>NaN</td>\n",
       "      <td>0.0</td>\n",
       "      <td>0.0</td>\n",
       "      <td>0.0</td>\n",
       "      <td>0.0</td>\n",
       "      <td>16</td>\n",
       "      <td>0</td>\n",
       "      <td>0.00001</td>\n",
       "      <td>2</td>\n",
       "    </tr>\n",
       "    <tr>\n",
       "      <td>1</td>\n",
       "      <td>NaN</td>\n",
       "      <td>0.0</td>\n",
       "      <td>0.0</td>\n",
       "      <td>0.0</td>\n",
       "      <td>1.0</td>\n",
       "      <td>16</td>\n",
       "      <td>0</td>\n",
       "      <td>0.00001</td>\n",
       "      <td>3</td>\n",
       "    </tr>\n",
       "  </tbody>\n",
       "</table>\n",
       "</div>"
      ],
      "text/plain": [
       "   ROC AUC   F1  precision  recall  accuracy  batch_size  weight_decay  \\\n",
       "0      NaN  0.0        0.0     0.0       0.0          16             0   \n",
       "1      NaN  0.0        0.0     0.0       1.0          16             0   \n",
       "\n",
       "   learning_rate  num_epochs  \n",
       "0        0.00001           2  \n",
       "1        0.00001           3  "
      ]
     },
     "execution_count": 31,
     "metadata": {},
     "output_type": "execute_result"
    }
   ],
   "source": [
    "pd.DataFrame.from_dict(cv_results)"
   ]
  },
  {
   "cell_type": "code",
   "execution_count": 89,
   "metadata": {},
   "outputs": [],
   "source": [
    "########################################\n",
    "p_grid = [\n",
    "  {'C': [1, 10, 100, 1000], 'kernel': ['linear']},\n",
    "  {'C': [1, 10, 100, 1000], 'gamma': [0.001, 0.0001], 'kernel': ['rbf']},\n",
    "]\n",
    "\n",
    "def KFoldRandom(n_splits, index, no_test, shuffle=False, discard=True):\n",
    "    kf = KFold(n_splits=n_splits, shuffle=shuffle)\n",
    "    for train, test in kf.split(index):\n",
    "        if not discard:\n",
    "            train = list(train) +  [x for x in test if x in no_test]\n",
    "        test = [x for x in test if x not in no_test]\n",
    "        yield (index[train], index[test])"
   ]
  },
  {
   "cell_type": "code",
   "execution_count": 121,
   "metadata": {},
   "outputs": [],
   "source": [
    "from sklearn.metrics import roc_curve, accuracy_score, roc_auc_score, precision_recall_curve, f1_score\n",
    "from sklearn.metrics import precision_score, recall_score\n",
    "\n",
    "def evaluate_preds(y_true, y_pred):\n",
    "    try:\n",
    "        roc_auc = roc_auc_score(y_true, y_pred)\n",
    "    except:\n",
    "        roc_auc = None\n",
    "    f1 = f1_score(y_true, y_pred.round())\n",
    "    p, r = precision_score(y_true, y_pred.round()), recall_score(y_true, y_pred.round())\n",
    "    acc = accuracy_score(y_true, y_pred.round())\n",
    "    print(f\"ROC AUC: {roc_auc:.0%}, F1: {f1:.1%}, precision: {p:.1%}, recall {r:.1%}, acc {acc:.0%}\")\n",
    "    return {\"ROC AUC\": roc_auc, \"F1\": f1, \"precision\": p, \"recall\": r, \"accuracy\": acc}\n",
    "\n",
    "svm = SVC(probability=True)\n",
    "\n",
    "scoring = [\"accuracy\",\"roc_auc\",\"f1\",\"precision\",\"recall\"]\n",
    "outer_cv = KFoldRandom(5, df.head(200).index, df[df['random_sample']!=1].index)\n",
    "\n",
    "outer_scores = []\n",
    "clfs = []\n",
    "for k, (train, test) in enumerate(outer_cv):    \n",
    "    inner_cv = KFoldRandom(5, train, df[df['random_sample']!=1].index, discard=False)\n",
    "                       \n",
    "                       \n",
    "    continue                   \n",
    "    clf = GridSearchCV(estimator=svm, param_grid=p_grid, cv=list(inner_cv), scoring=scoring, refit=\"roc_auc\")\n",
    "    clf.fit(X, df.relevant)\n",
    "    non_nested_score = clf.best_score_\n",
    "    outer_scores.append(non_nested_score)\n",
    "    clfs.append(clf)\n",
    "    \n",
    "    best_estimator = clf.best_estimator_\n",
    "    print(best_estimator)\n",
    "    best_estimator.fit(X[train],y[train])\n",
    "    y_pred = best_estimator.predict_proba(X[test])\n",
    "    \n",
    "    outer_scores.append(evaluate_preds(y[test],y_pred[:,1]))\n",
    "    \n",
    "    "
   ]
  },
  {
   "cell_type": "code",
   "execution_count": 117,
   "metadata": {},
   "outputs": [
    {
     "data": {
      "text/plain": [
       "[0.9333333333333333,\n",
       " {'ROC AUC': 0.0,\n",
       "  'F1': 0.0,\n",
       "  'precision': 0.0,\n",
       "  'recall': 0.0,\n",
       "  'accuracy': 0.75}]"
      ]
     },
     "execution_count": 117,
     "metadata": {},
     "output_type": "execute_result"
    }
   ],
   "source": [
    "outer_scores"
   ]
  },
  {
   "cell_type": "code",
   "execution_count": 101,
   "metadata": {},
   "outputs": [
    {
     "data": {
      "text/html": [
       "<div>\n",
       "<style scoped>\n",
       "    .dataframe tbody tr th:only-of-type {\n",
       "        vertical-align: middle;\n",
       "    }\n",
       "\n",
       "    .dataframe tbody tr th {\n",
       "        vertical-align: top;\n",
       "    }\n",
       "\n",
       "    .dataframe thead th {\n",
       "        text-align: right;\n",
       "    }\n",
       "</style>\n",
       "<table border=\"1\" class=\"dataframe\">\n",
       "  <thead>\n",
       "    <tr style=\"text-align: right;\">\n",
       "      <th></th>\n",
       "      <th>mean_fit_time</th>\n",
       "      <th>std_fit_time</th>\n",
       "      <th>mean_score_time</th>\n",
       "      <th>std_score_time</th>\n",
       "      <th>param_C</th>\n",
       "      <th>param_kernel</th>\n",
       "      <th>param_gamma</th>\n",
       "      <th>params</th>\n",
       "      <th>split0_test_accuracy</th>\n",
       "      <th>split1_test_accuracy</th>\n",
       "      <th>...</th>\n",
       "      <th>std_test_precision</th>\n",
       "      <th>rank_test_precision</th>\n",
       "      <th>split0_test_recall</th>\n",
       "      <th>split1_test_recall</th>\n",
       "      <th>split2_test_recall</th>\n",
       "      <th>split3_test_recall</th>\n",
       "      <th>split4_test_recall</th>\n",
       "      <th>mean_test_recall</th>\n",
       "      <th>std_test_recall</th>\n",
       "      <th>rank_test_recall</th>\n",
       "    </tr>\n",
       "  </thead>\n",
       "  <tbody>\n",
       "    <tr>\n",
       "      <td>0</td>\n",
       "      <td>0.016925</td>\n",
       "      <td>0.004320</td>\n",
       "      <td>0.011025</td>\n",
       "      <td>0.004281</td>\n",
       "      <td>1</td>\n",
       "      <td>linear</td>\n",
       "      <td>NaN</td>\n",
       "      <td>{'C': 1, 'kernel': 'linear'}</td>\n",
       "      <td>0.75</td>\n",
       "      <td>0.75</td>\n",
       "      <td>...</td>\n",
       "      <td>0.324710</td>\n",
       "      <td>1</td>\n",
       "      <td>0.666667</td>\n",
       "      <td>1.0</td>\n",
       "      <td>1.0</td>\n",
       "      <td>1.0</td>\n",
       "      <td>0.666667</td>\n",
       "      <td>0.866667</td>\n",
       "      <td>0.163299</td>\n",
       "      <td>1</td>\n",
       "    </tr>\n",
       "    <tr>\n",
       "      <td>1</td>\n",
       "      <td>0.010381</td>\n",
       "      <td>0.000932</td>\n",
       "      <td>0.006400</td>\n",
       "      <td>0.001373</td>\n",
       "      <td>10</td>\n",
       "      <td>linear</td>\n",
       "      <td>NaN</td>\n",
       "      <td>{'C': 10, 'kernel': 'linear'}</td>\n",
       "      <td>0.75</td>\n",
       "      <td>0.75</td>\n",
       "      <td>...</td>\n",
       "      <td>0.268825</td>\n",
       "      <td>2</td>\n",
       "      <td>0.666667</td>\n",
       "      <td>1.0</td>\n",
       "      <td>1.0</td>\n",
       "      <td>1.0</td>\n",
       "      <td>0.666667</td>\n",
       "      <td>0.866667</td>\n",
       "      <td>0.163299</td>\n",
       "      <td>1</td>\n",
       "    </tr>\n",
       "    <tr>\n",
       "      <td>2</td>\n",
       "      <td>0.010148</td>\n",
       "      <td>0.000690</td>\n",
       "      <td>0.005535</td>\n",
       "      <td>0.000244</td>\n",
       "      <td>100</td>\n",
       "      <td>linear</td>\n",
       "      <td>NaN</td>\n",
       "      <td>{'C': 100, 'kernel': 'linear'}</td>\n",
       "      <td>0.75</td>\n",
       "      <td>0.75</td>\n",
       "      <td>...</td>\n",
       "      <td>0.268825</td>\n",
       "      <td>2</td>\n",
       "      <td>0.666667</td>\n",
       "      <td>1.0</td>\n",
       "      <td>1.0</td>\n",
       "      <td>1.0</td>\n",
       "      <td>0.666667</td>\n",
       "      <td>0.866667</td>\n",
       "      <td>0.163299</td>\n",
       "      <td>1</td>\n",
       "    </tr>\n",
       "    <tr>\n",
       "      <td>3</td>\n",
       "      <td>0.009585</td>\n",
       "      <td>0.000304</td>\n",
       "      <td>0.005264</td>\n",
       "      <td>0.000230</td>\n",
       "      <td>1000</td>\n",
       "      <td>linear</td>\n",
       "      <td>NaN</td>\n",
       "      <td>{'C': 1000, 'kernel': 'linear'}</td>\n",
       "      <td>0.75</td>\n",
       "      <td>0.75</td>\n",
       "      <td>...</td>\n",
       "      <td>0.268825</td>\n",
       "      <td>2</td>\n",
       "      <td>0.666667</td>\n",
       "      <td>1.0</td>\n",
       "      <td>1.0</td>\n",
       "      <td>1.0</td>\n",
       "      <td>0.666667</td>\n",
       "      <td>0.866667</td>\n",
       "      <td>0.163299</td>\n",
       "      <td>1</td>\n",
       "    </tr>\n",
       "    <tr>\n",
       "      <td>4</td>\n",
       "      <td>0.009155</td>\n",
       "      <td>0.000331</td>\n",
       "      <td>0.005321</td>\n",
       "      <td>0.000271</td>\n",
       "      <td>1</td>\n",
       "      <td>rbf</td>\n",
       "      <td>0.001</td>\n",
       "      <td>{'C': 1, 'gamma': 0.001, 'kernel': 'rbf'}</td>\n",
       "      <td>0.50</td>\n",
       "      <td>0.25</td>\n",
       "      <td>...</td>\n",
       "      <td>0.363093</td>\n",
       "      <td>6</td>\n",
       "      <td>0.333333</td>\n",
       "      <td>1.0</td>\n",
       "      <td>1.0</td>\n",
       "      <td>1.0</td>\n",
       "      <td>0.666667</td>\n",
       "      <td>0.800000</td>\n",
       "      <td>0.266667</td>\n",
       "      <td>6</td>\n",
       "    </tr>\n",
       "  </tbody>\n",
       "</table>\n",
       "<p>5 rows × 48 columns</p>\n",
       "</div>"
      ],
      "text/plain": [
       "   mean_fit_time  std_fit_time  mean_score_time  std_score_time param_C  \\\n",
       "0       0.016925      0.004320         0.011025        0.004281       1   \n",
       "1       0.010381      0.000932         0.006400        0.001373      10   \n",
       "2       0.010148      0.000690         0.005535        0.000244     100   \n",
       "3       0.009585      0.000304         0.005264        0.000230    1000   \n",
       "4       0.009155      0.000331         0.005321        0.000271       1   \n",
       "\n",
       "  param_kernel param_gamma                                     params  \\\n",
       "0       linear         NaN               {'C': 1, 'kernel': 'linear'}   \n",
       "1       linear         NaN              {'C': 10, 'kernel': 'linear'}   \n",
       "2       linear         NaN             {'C': 100, 'kernel': 'linear'}   \n",
       "3       linear         NaN            {'C': 1000, 'kernel': 'linear'}   \n",
       "4          rbf       0.001  {'C': 1, 'gamma': 0.001, 'kernel': 'rbf'}   \n",
       "\n",
       "   split0_test_accuracy  split1_test_accuracy  ...  std_test_precision  \\\n",
       "0                  0.75                  0.75  ...            0.324710   \n",
       "1                  0.75                  0.75  ...            0.268825   \n",
       "2                  0.75                  0.75  ...            0.268825   \n",
       "3                  0.75                  0.75  ...            0.268825   \n",
       "4                  0.50                  0.25  ...            0.363093   \n",
       "\n",
       "   rank_test_precision  split0_test_recall  split1_test_recall  \\\n",
       "0                    1            0.666667                 1.0   \n",
       "1                    2            0.666667                 1.0   \n",
       "2                    2            0.666667                 1.0   \n",
       "3                    2            0.666667                 1.0   \n",
       "4                    6            0.333333                 1.0   \n",
       "\n",
       "   split2_test_recall  split3_test_recall  split4_test_recall  \\\n",
       "0                 1.0                 1.0            0.666667   \n",
       "1                 1.0                 1.0            0.666667   \n",
       "2                 1.0                 1.0            0.666667   \n",
       "3                 1.0                 1.0            0.666667   \n",
       "4                 1.0                 1.0            0.666667   \n",
       "\n",
       "   mean_test_recall  std_test_recall  rank_test_recall  \n",
       "0          0.866667         0.163299                 1  \n",
       "1          0.866667         0.163299                 1  \n",
       "2          0.866667         0.163299                 1  \n",
       "3          0.866667         0.163299                 1  \n",
       "4          0.800000         0.266667                 6  \n",
       "\n",
       "[5 rows x 48 columns]"
      ]
     },
     "execution_count": 101,
     "metadata": {},
     "output_type": "execute_result"
    }
   ],
   "source": [
    "clf_results = pd.DataFrame.from_dict(clfs[0].cv_results_)\n",
    "clf_results.head()"
   ]
  },
  {
   "cell_type": "code",
   "execution_count": 83,
   "metadata": {},
   "outputs": [],
   "source": [
    "inner_cv = KFoldRandom(5, df.relevant, df[df['random_sample']!=1].index)\n",
    "outer_cv = KFoldRandom(5, df.relevant, df[df['random_sample']!=1].index)\n",
    "\n",
    "svm = SVC()\n",
    "\n",
    "scoring = [\"accuracy\",\"roc_auc\",\"f1\",\"precision\",\"recall\"]\n",
    "\n",
    "clf = GridSearchCV(estimator=svm, param_grid=p_grid, cv=list(inner_cv), scoring=scoring, refit=\"roc_auc\")\n",
    "clf.fit(X, df.relevant)\n",
    "non_nested_score = clf.best_score_\n",
    "\n",
    "# Nested CV with parameter optimization\n"
   ]
  },
  {
   "cell_type": "code",
   "execution_count": null,
   "metadata": {},
   "outputs": [],
   "source": []
  },
  {
   "cell_type": "code",
   "execution_count": 84,
   "metadata": {},
   "outputs": [
    {
     "name": "stderr",
     "output_type": "stream",
     "text": [
      "/home/max/.local/lib/python3.6/site-packages/sklearn/model_selection/_validation.py:614: FitFailedWarning: Estimator fit failed. The score on this train-test partition for these parameters will be set to nan. Details: \n",
      "Traceback (most recent call last):\n",
      "  File \"/home/max/.local/lib/python3.6/site-packages/sklearn/model_selection/_validation.py\", line 593, in _fit_and_score\n",
      "    estimator.fit(X_train, y_train, **fit_params)\n",
      "  File \"/home/max/.local/lib/python3.6/site-packages/sklearn/utils/validation.py\", line 63, in inner_f\n",
      "    return f(*args, **kwargs)\n",
      "  File \"/home/max/.local/lib/python3.6/site-packages/sklearn/model_selection/_search.py\", line 841, in fit\n",
      "    self._run_search(evaluate_candidates)\n",
      "  File \"/home/max/.local/lib/python3.6/site-packages/sklearn/model_selection/_search.py\", line 1288, in _run_search\n",
      "    evaluate_candidates(ParameterGrid(self.param_grid))\n",
      "  File \"/home/max/.local/lib/python3.6/site-packages/sklearn/model_selection/_search.py\", line 809, in evaluate_candidates\n",
      "    enumerate(cv.split(X, y, groups))))\n",
      "  File \"/home/max/.local/lib/python3.6/site-packages/joblib/parallel.py\", line 983, in __call__\n",
      "    if self.dispatch_one_batch(iterator):\n",
      "  File \"/home/max/.local/lib/python3.6/site-packages/joblib/parallel.py\", line 825, in dispatch_one_batch\n",
      "    self._dispatch(tasks)\n",
      "  File \"/home/max/.local/lib/python3.6/site-packages/joblib/parallel.py\", line 782, in _dispatch\n",
      "    job = self._backend.apply_async(batch, callback=cb)\n",
      "  File \"/home/max/.local/lib/python3.6/site-packages/joblib/_parallel_backends.py\", line 182, in apply_async\n",
      "    result = ImmediateResult(func)\n",
      "  File \"/home/max/.local/lib/python3.6/site-packages/joblib/_parallel_backends.py\", line 545, in __init__\n",
      "    self.results = batch()\n",
      "  File \"/home/max/.local/lib/python3.6/site-packages/joblib/parallel.py\", line 261, in __call__\n",
      "    for func, args, kwargs in self.items]\n",
      "  File \"/home/max/.local/lib/python3.6/site-packages/joblib/parallel.py\", line 261, in <listcomp>\n",
      "    for func, args, kwargs in self.items]\n",
      "  File \"/home/max/.local/lib/python3.6/site-packages/sklearn/utils/fixes.py\", line 222, in __call__\n",
      "    return self.function(*args, **kwargs)\n",
      "  File \"/home/max/.local/lib/python3.6/site-packages/sklearn/model_selection/_validation.py\", line 585, in _fit_and_score\n",
      "    X_train, y_train = _safe_split(estimator, X, y, train)\n",
      "  File \"/home/max/.local/lib/python3.6/site-packages/sklearn/utils/metaestimators.py\", line 211, in _safe_split\n",
      "    X_subset = _safe_indexing(X, indices)\n",
      "  File \"/home/max/.local/lib/python3.6/site-packages/sklearn/utils/__init__.py\", line 344, in _safe_indexing\n",
      "    return _array_indexing(X, indices, indices_dtype, axis=axis)\n",
      "  File \"/home/max/.local/lib/python3.6/site-packages/sklearn/utils/__init__.py\", line 179, in _array_indexing\n",
      "    return array[key] if axis == 0 else array[:, key]\n",
      "  File \"/home/max/.local/lib/python3.6/site-packages/scipy/sparse/_index.py\", line 35, in __getitem__\n",
      "    row, col = self._validate_indices(key)\n",
      "  File \"/home/max/.local/lib/python3.6/site-packages/scipy/sparse/_index.py\", line 140, in _validate_indices\n",
      "    row = self._asindices(row, M)\n",
      "  File \"/home/max/.local/lib/python3.6/site-packages/scipy/sparse/_index.py\", line 172, in _asindices\n",
      "    raise IndexError('index (%d) out of range' % max_indx)\n",
      "IndexError: index (2507) out of range\n",
      "\n",
      "  FitFailedWarning)\n",
      "/home/max/.local/lib/python3.6/site-packages/sklearn/model_selection/_validation.py:614: FitFailedWarning: Estimator fit failed. The score on this train-test partition for these parameters will be set to nan. Details: \n",
      "Traceback (most recent call last):\n",
      "  File \"/home/max/.local/lib/python3.6/site-packages/sklearn/model_selection/_validation.py\", line 593, in _fit_and_score\n",
      "    estimator.fit(X_train, y_train, **fit_params)\n",
      "  File \"/home/max/.local/lib/python3.6/site-packages/sklearn/utils/validation.py\", line 63, in inner_f\n",
      "    return f(*args, **kwargs)\n",
      "  File \"/home/max/.local/lib/python3.6/site-packages/sklearn/model_selection/_search.py\", line 841, in fit\n",
      "    self._run_search(evaluate_candidates)\n",
      "  File \"/home/max/.local/lib/python3.6/site-packages/sklearn/model_selection/_search.py\", line 1288, in _run_search\n",
      "    evaluate_candidates(ParameterGrid(self.param_grid))\n",
      "  File \"/home/max/.local/lib/python3.6/site-packages/sklearn/model_selection/_search.py\", line 809, in evaluate_candidates\n",
      "    enumerate(cv.split(X, y, groups))))\n",
      "  File \"/home/max/.local/lib/python3.6/site-packages/joblib/parallel.py\", line 983, in __call__\n",
      "    if self.dispatch_one_batch(iterator):\n",
      "  File \"/home/max/.local/lib/python3.6/site-packages/joblib/parallel.py\", line 825, in dispatch_one_batch\n",
      "    self._dispatch(tasks)\n",
      "  File \"/home/max/.local/lib/python3.6/site-packages/joblib/parallel.py\", line 782, in _dispatch\n",
      "    job = self._backend.apply_async(batch, callback=cb)\n",
      "  File \"/home/max/.local/lib/python3.6/site-packages/joblib/_parallel_backends.py\", line 182, in apply_async\n",
      "    result = ImmediateResult(func)\n",
      "  File \"/home/max/.local/lib/python3.6/site-packages/joblib/_parallel_backends.py\", line 545, in __init__\n",
      "    self.results = batch()\n",
      "  File \"/home/max/.local/lib/python3.6/site-packages/joblib/parallel.py\", line 261, in __call__\n",
      "    for func, args, kwargs in self.items]\n",
      "  File \"/home/max/.local/lib/python3.6/site-packages/joblib/parallel.py\", line 261, in <listcomp>\n",
      "    for func, args, kwargs in self.items]\n",
      "  File \"/home/max/.local/lib/python3.6/site-packages/sklearn/utils/fixes.py\", line 222, in __call__\n",
      "    return self.function(*args, **kwargs)\n",
      "  File \"/home/max/.local/lib/python3.6/site-packages/sklearn/model_selection/_validation.py\", line 585, in _fit_and_score\n",
      "    X_train, y_train = _safe_split(estimator, X, y, train)\n",
      "  File \"/home/max/.local/lib/python3.6/site-packages/sklearn/utils/metaestimators.py\", line 211, in _safe_split\n",
      "    X_subset = _safe_indexing(X, indices)\n",
      "  File \"/home/max/.local/lib/python3.6/site-packages/sklearn/utils/__init__.py\", line 344, in _safe_indexing\n",
      "    return _array_indexing(X, indices, indices_dtype, axis=axis)\n",
      "  File \"/home/max/.local/lib/python3.6/site-packages/sklearn/utils/__init__.py\", line 179, in _array_indexing\n",
      "    return array[key] if axis == 0 else array[:, key]\n",
      "  File \"/home/max/.local/lib/python3.6/site-packages/scipy/sparse/_index.py\", line 35, in __getitem__\n",
      "    row, col = self._validate_indices(key)\n",
      "  File \"/home/max/.local/lib/python3.6/site-packages/scipy/sparse/_index.py\", line 140, in _validate_indices\n",
      "    row = self._asindices(row, M)\n",
      "  File \"/home/max/.local/lib/python3.6/site-packages/scipy/sparse/_index.py\", line 172, in _asindices\n",
      "    raise IndexError('index (%d) out of range' % max_indx)\n",
      "IndexError: index (2507) out of range\n",
      "\n",
      "  FitFailedWarning)\n",
      "/home/max/.local/lib/python3.6/site-packages/sklearn/model_selection/_validation.py:614: FitFailedWarning: Estimator fit failed. The score on this train-test partition for these parameters will be set to nan. Details: \n",
      "Traceback (most recent call last):\n",
      "  File \"/home/max/.local/lib/python3.6/site-packages/sklearn/model_selection/_validation.py\", line 593, in _fit_and_score\n",
      "    estimator.fit(X_train, y_train, **fit_params)\n",
      "  File \"/home/max/.local/lib/python3.6/site-packages/sklearn/utils/validation.py\", line 63, in inner_f\n",
      "    return f(*args, **kwargs)\n",
      "  File \"/home/max/.local/lib/python3.6/site-packages/sklearn/model_selection/_search.py\", line 841, in fit\n",
      "    self._run_search(evaluate_candidates)\n",
      "  File \"/home/max/.local/lib/python3.6/site-packages/sklearn/model_selection/_search.py\", line 1288, in _run_search\n",
      "    evaluate_candidates(ParameterGrid(self.param_grid))\n",
      "  File \"/home/max/.local/lib/python3.6/site-packages/sklearn/model_selection/_search.py\", line 809, in evaluate_candidates\n",
      "    enumerate(cv.split(X, y, groups))))\n",
      "  File \"/home/max/.local/lib/python3.6/site-packages/joblib/parallel.py\", line 983, in __call__\n",
      "    if self.dispatch_one_batch(iterator):\n",
      "  File \"/home/max/.local/lib/python3.6/site-packages/joblib/parallel.py\", line 825, in dispatch_one_batch\n",
      "    self._dispatch(tasks)\n",
      "  File \"/home/max/.local/lib/python3.6/site-packages/joblib/parallel.py\", line 782, in _dispatch\n",
      "    job = self._backend.apply_async(batch, callback=cb)\n",
      "  File \"/home/max/.local/lib/python3.6/site-packages/joblib/_parallel_backends.py\", line 182, in apply_async\n",
      "    result = ImmediateResult(func)\n",
      "  File \"/home/max/.local/lib/python3.6/site-packages/joblib/_parallel_backends.py\", line 545, in __init__\n",
      "    self.results = batch()\n",
      "  File \"/home/max/.local/lib/python3.6/site-packages/joblib/parallel.py\", line 261, in __call__\n",
      "    for func, args, kwargs in self.items]\n",
      "  File \"/home/max/.local/lib/python3.6/site-packages/joblib/parallel.py\", line 261, in <listcomp>\n",
      "    for func, args, kwargs in self.items]\n",
      "  File \"/home/max/.local/lib/python3.6/site-packages/sklearn/utils/fixes.py\", line 222, in __call__\n",
      "    return self.function(*args, **kwargs)\n",
      "  File \"/home/max/.local/lib/python3.6/site-packages/sklearn/model_selection/_validation.py\", line 585, in _fit_and_score\n",
      "    X_train, y_train = _safe_split(estimator, X, y, train)\n",
      "  File \"/home/max/.local/lib/python3.6/site-packages/sklearn/utils/metaestimators.py\", line 211, in _safe_split\n",
      "    X_subset = _safe_indexing(X, indices)\n",
      "  File \"/home/max/.local/lib/python3.6/site-packages/sklearn/utils/__init__.py\", line 344, in _safe_indexing\n",
      "    return _array_indexing(X, indices, indices_dtype, axis=axis)\n",
      "  File \"/home/max/.local/lib/python3.6/site-packages/sklearn/utils/__init__.py\", line 179, in _array_indexing\n",
      "    return array[key] if axis == 0 else array[:, key]\n",
      "  File \"/home/max/.local/lib/python3.6/site-packages/scipy/sparse/_index.py\", line 35, in __getitem__\n",
      "    row, col = self._validate_indices(key)\n",
      "  File \"/home/max/.local/lib/python3.6/site-packages/scipy/sparse/_index.py\", line 140, in _validate_indices\n",
      "    row = self._asindices(row, M)\n",
      "  File \"/home/max/.local/lib/python3.6/site-packages/scipy/sparse/_index.py\", line 172, in _asindices\n",
      "    raise IndexError('index (%d) out of range' % max_indx)\n",
      "IndexError: index (2507) out of range\n",
      "\n",
      "  FitFailedWarning)\n",
      "/home/max/.local/lib/python3.6/site-packages/sklearn/model_selection/_validation.py:614: FitFailedWarning: Estimator fit failed. The score on this train-test partition for these parameters will be set to nan. Details: \n",
      "Traceback (most recent call last):\n",
      "  File \"/home/max/.local/lib/python3.6/site-packages/sklearn/model_selection/_validation.py\", line 593, in _fit_and_score\n",
      "    estimator.fit(X_train, y_train, **fit_params)\n",
      "  File \"/home/max/.local/lib/python3.6/site-packages/sklearn/utils/validation.py\", line 63, in inner_f\n",
      "    return f(*args, **kwargs)\n",
      "  File \"/home/max/.local/lib/python3.6/site-packages/sklearn/model_selection/_search.py\", line 841, in fit\n",
      "    self._run_search(evaluate_candidates)\n",
      "  File \"/home/max/.local/lib/python3.6/site-packages/sklearn/model_selection/_search.py\", line 1288, in _run_search\n",
      "    evaluate_candidates(ParameterGrid(self.param_grid))\n",
      "  File \"/home/max/.local/lib/python3.6/site-packages/sklearn/model_selection/_search.py\", line 809, in evaluate_candidates\n",
      "    enumerate(cv.split(X, y, groups))))\n",
      "  File \"/home/max/.local/lib/python3.6/site-packages/joblib/parallel.py\", line 983, in __call__\n",
      "    if self.dispatch_one_batch(iterator):\n",
      "  File \"/home/max/.local/lib/python3.6/site-packages/joblib/parallel.py\", line 825, in dispatch_one_batch\n",
      "    self._dispatch(tasks)\n",
      "  File \"/home/max/.local/lib/python3.6/site-packages/joblib/parallel.py\", line 782, in _dispatch\n",
      "    job = self._backend.apply_async(batch, callback=cb)\n",
      "  File \"/home/max/.local/lib/python3.6/site-packages/joblib/_parallel_backends.py\", line 182, in apply_async\n",
      "    result = ImmediateResult(func)\n",
      "  File \"/home/max/.local/lib/python3.6/site-packages/joblib/_parallel_backends.py\", line 545, in __init__\n",
      "    self.results = batch()\n",
      "  File \"/home/max/.local/lib/python3.6/site-packages/joblib/parallel.py\", line 261, in __call__\n",
      "    for func, args, kwargs in self.items]\n",
      "  File \"/home/max/.local/lib/python3.6/site-packages/joblib/parallel.py\", line 261, in <listcomp>\n",
      "    for func, args, kwargs in self.items]\n",
      "  File \"/home/max/.local/lib/python3.6/site-packages/sklearn/utils/fixes.py\", line 222, in __call__\n",
      "    return self.function(*args, **kwargs)\n",
      "  File \"/home/max/.local/lib/python3.6/site-packages/sklearn/model_selection/_validation.py\", line 585, in _fit_and_score\n",
      "    X_train, y_train = _safe_split(estimator, X, y, train)\n",
      "  File \"/home/max/.local/lib/python3.6/site-packages/sklearn/utils/metaestimators.py\", line 211, in _safe_split\n",
      "    X_subset = _safe_indexing(X, indices)\n",
      "  File \"/home/max/.local/lib/python3.6/site-packages/sklearn/utils/__init__.py\", line 344, in _safe_indexing\n",
      "    return _array_indexing(X, indices, indices_dtype, axis=axis)\n",
      "  File \"/home/max/.local/lib/python3.6/site-packages/sklearn/utils/__init__.py\", line 179, in _array_indexing\n",
      "    return array[key] if axis == 0 else array[:, key]\n",
      "  File \"/home/max/.local/lib/python3.6/site-packages/scipy/sparse/_index.py\", line 35, in __getitem__\n",
      "    row, col = self._validate_indices(key)\n",
      "  File \"/home/max/.local/lib/python3.6/site-packages/scipy/sparse/_index.py\", line 140, in _validate_indices\n",
      "    row = self._asindices(row, M)\n",
      "  File \"/home/max/.local/lib/python3.6/site-packages/scipy/sparse/_index.py\", line 172, in _asindices\n",
      "    raise IndexError('index (%d) out of range' % max_indx)\n",
      "IndexError: index (2507) out of range\n",
      "\n",
      "  FitFailedWarning)\n",
      "/home/max/.local/lib/python3.6/site-packages/sklearn/model_selection/_validation.py:614: FitFailedWarning: Estimator fit failed. The score on this train-test partition for these parameters will be set to nan. Details: \n",
      "Traceback (most recent call last):\n",
      "  File \"/home/max/.local/lib/python3.6/site-packages/sklearn/model_selection/_validation.py\", line 593, in _fit_and_score\n",
      "    estimator.fit(X_train, y_train, **fit_params)\n",
      "  File \"/home/max/.local/lib/python3.6/site-packages/sklearn/utils/validation.py\", line 63, in inner_f\n",
      "    return f(*args, **kwargs)\n",
      "  File \"/home/max/.local/lib/python3.6/site-packages/sklearn/model_selection/_search.py\", line 841, in fit\n",
      "    self._run_search(evaluate_candidates)\n",
      "  File \"/home/max/.local/lib/python3.6/site-packages/sklearn/model_selection/_search.py\", line 1288, in _run_search\n",
      "    evaluate_candidates(ParameterGrid(self.param_grid))\n",
      "  File \"/home/max/.local/lib/python3.6/site-packages/sklearn/model_selection/_search.py\", line 809, in evaluate_candidates\n",
      "    enumerate(cv.split(X, y, groups))))\n",
      "  File \"/home/max/.local/lib/python3.6/site-packages/joblib/parallel.py\", line 983, in __call__\n",
      "    if self.dispatch_one_batch(iterator):\n",
      "  File \"/home/max/.local/lib/python3.6/site-packages/joblib/parallel.py\", line 825, in dispatch_one_batch\n",
      "    self._dispatch(tasks)\n",
      "  File \"/home/max/.local/lib/python3.6/site-packages/joblib/parallel.py\", line 782, in _dispatch\n",
      "    job = self._backend.apply_async(batch, callback=cb)\n",
      "  File \"/home/max/.local/lib/python3.6/site-packages/joblib/_parallel_backends.py\", line 182, in apply_async\n",
      "    result = ImmediateResult(func)\n",
      "  File \"/home/max/.local/lib/python3.6/site-packages/joblib/_parallel_backends.py\", line 545, in __init__\n",
      "    self.results = batch()\n",
      "  File \"/home/max/.local/lib/python3.6/site-packages/joblib/parallel.py\", line 261, in __call__\n",
      "    for func, args, kwargs in self.items]\n",
      "  File \"/home/max/.local/lib/python3.6/site-packages/joblib/parallel.py\", line 261, in <listcomp>\n",
      "    for func, args, kwargs in self.items]\n",
      "  File \"/home/max/.local/lib/python3.6/site-packages/sklearn/utils/fixes.py\", line 222, in __call__\n",
      "    return self.function(*args, **kwargs)\n",
      "  File \"/home/max/.local/lib/python3.6/site-packages/sklearn/model_selection/_validation.py\", line 585, in _fit_and_score\n",
      "    X_train, y_train = _safe_split(estimator, X, y, train)\n",
      "  File \"/home/max/.local/lib/python3.6/site-packages/sklearn/utils/metaestimators.py\", line 211, in _safe_split\n",
      "    X_subset = _safe_indexing(X, indices)\n",
      "  File \"/home/max/.local/lib/python3.6/site-packages/sklearn/utils/__init__.py\", line 344, in _safe_indexing\n",
      "    return _array_indexing(X, indices, indices_dtype, axis=axis)\n",
      "  File \"/home/max/.local/lib/python3.6/site-packages/sklearn/utils/__init__.py\", line 179, in _array_indexing\n",
      "    return array[key] if axis == 0 else array[:, key]\n",
      "  File \"/home/max/.local/lib/python3.6/site-packages/scipy/sparse/_index.py\", line 35, in __getitem__\n",
      "    row, col = self._validate_indices(key)\n",
      "  File \"/home/max/.local/lib/python3.6/site-packages/scipy/sparse/_index.py\", line 140, in _validate_indices\n",
      "    row = self._asindices(row, M)\n",
      "  File \"/home/max/.local/lib/python3.6/site-packages/scipy/sparse/_index.py\", line 172, in _asindices\n",
      "    raise IndexError('index (%d) out of range' % max_indx)\n",
      "IndexError: index (2507) out of range\n",
      "\n",
      "  FitFailedWarning)\n"
     ]
    }
   ],
   "source": [
    "outer_cv = list(KFoldRandom(5, df.relevant, df[df['random_sample']!=1].index))\n",
    "nested_score = cross_validate(clf, X=X, y=df.relevant, cv=outer_cv, scoring=scoring)"
   ]
  },
  {
   "cell_type": "code",
   "execution_count": 72,
   "metadata": {},
   "outputs": [
    {
     "data": {
      "text/plain": [
       "{'mean_fit_time': array([4.55693936, 5.22181811, 6.36917324, 5.29857941, 6.47634754,\n",
       "        5.8653235 , 5.77397995, 5.82914743, 5.17089868, 5.70381465,\n",
       "        4.8743154 , 5.10946136]),\n",
       " 'std_fit_time': array([0.4962217 , 0.21354164, 0.79850888, 0.25654578, 0.53478423,\n",
       "        0.05779327, 0.05732856, 0.03189303, 0.04553092, 0.08012525,\n",
       "        0.02554995, 0.03018635]),\n",
       " 'mean_score_time': array([0.59617238, 0.54146919, 0.62723284, 0.51117702, 0.8098753 ,\n",
       "        0.75142703, 0.73552017, 0.73428411, 0.67210941, 0.72931809,\n",
       "        0.51150484, 0.65538559]),\n",
       " 'std_score_time': array([0.05736358, 0.11660338, 0.09891441, 0.03715807, 0.0513584 ,\n",
       "        0.03473162, 0.03320942, 0.03871824, 0.05140363, 0.0436878 ,\n",
       "        0.03004574, 0.03806927]),\n",
       " 'param_C': masked_array(data=[1, 10, 100, 1000, 1, 1, 10, 10, 100, 100, 1000, 1000],\n",
       "              mask=[False, False, False, False, False, False, False, False,\n",
       "                    False, False, False, False],\n",
       "        fill_value='?',\n",
       "             dtype=object),\n",
       " 'param_kernel': masked_array(data=['linear', 'linear', 'linear', 'linear', 'rbf', 'rbf',\n",
       "                    'rbf', 'rbf', 'rbf', 'rbf', 'rbf', 'rbf'],\n",
       "              mask=[False, False, False, False, False, False, False, False,\n",
       "                    False, False, False, False],\n",
       "        fill_value='?',\n",
       "             dtype=object),\n",
       " 'param_gamma': masked_array(data=[--, --, --, --, 0.001, 0.0001, 0.001, 0.0001, 0.001,\n",
       "                    0.0001, 0.001, 0.0001],\n",
       "              mask=[ True,  True,  True,  True, False, False, False, False,\n",
       "                    False, False, False, False],\n",
       "        fill_value='?',\n",
       "             dtype=object),\n",
       " 'params': [{'C': 1, 'kernel': 'linear'},\n",
       "  {'C': 10, 'kernel': 'linear'},\n",
       "  {'C': 100, 'kernel': 'linear'},\n",
       "  {'C': 1000, 'kernel': 'linear'},\n",
       "  {'C': 1, 'gamma': 0.001, 'kernel': 'rbf'},\n",
       "  {'C': 1, 'gamma': 0.0001, 'kernel': 'rbf'},\n",
       "  {'C': 10, 'gamma': 0.001, 'kernel': 'rbf'},\n",
       "  {'C': 10, 'gamma': 0.0001, 'kernel': 'rbf'},\n",
       "  {'C': 100, 'gamma': 0.001, 'kernel': 'rbf'},\n",
       "  {'C': 100, 'gamma': 0.0001, 'kernel': 'rbf'},\n",
       "  {'C': 1000, 'gamma': 0.001, 'kernel': 'rbf'},\n",
       "  {'C': 1000, 'gamma': 0.0001, 'kernel': 'rbf'}],\n",
       " 'split0_test_accuracy': array([0.85925926, 0.80740741, 0.80740741, 0.80740741, 0.23703704,\n",
       "        0.23703704, 0.23703704, 0.23703704, 0.88148148, 0.23703704,\n",
       "        0.85185185, 0.88148148]),\n",
       " 'split1_test_accuracy': array([0.88356164, 0.84931507, 0.84931507, 0.84931507, 0.15068493,\n",
       "        0.15068493, 0.15068493, 0.15068493, 0.86986301, 0.15068493,\n",
       "        0.87671233, 0.86986301]),\n",
       " 'split2_test_accuracy': array([0.88461538, 0.87820513, 0.87820513, 0.87820513, 0.19230769,\n",
       "        0.19230769, 0.19230769, 0.19230769, 0.8974359 , 0.19230769,\n",
       "        0.86538462, 0.8974359 ]),\n",
       " 'split3_test_accuracy': array([0.90140845, 0.88732394, 0.88732394, 0.88732394, 0.19014085,\n",
       "        0.19014085, 0.19014085, 0.19014085, 0.91549296, 0.19014085,\n",
       "        0.8943662 , 0.91549296]),\n",
       " 'split4_test_accuracy': array([0.84313725, 0.80392157, 0.80392157, 0.80392157, 0.16993464,\n",
       "        0.16993464, 0.16993464, 0.16993464, 0.83006536, 0.16993464,\n",
       "        0.80392157, 0.83006536]),\n",
       " 'mean_test_accuracy': array([0.8743964 , 0.84523462, 0.84523462, 0.84523462, 0.18802103,\n",
       "        0.18802103, 0.18802103, 0.18802103, 0.87886774, 0.18802103,\n",
       "        0.85844731, 0.87886774]),\n",
       " 'std_test_accuracy': array([0.02061236, 0.03467818, 0.03467818, 0.03467818, 0.02879771,\n",
       "        0.02879771, 0.02879771, 0.02879771, 0.02882975, 0.02879771,\n",
       "        0.03062176, 0.02882975]),\n",
       " 'rank_test_accuracy': array([3, 5, 5, 5, 8, 8, 8, 8, 1, 8, 4, 1], dtype=int32),\n",
       " 'split0_test_roc_auc': array([0.89381068, 0.86043689, 0.86043689, 0.86043689, 0.88925971,\n",
       "        0.8910801 , 0.88925971, 0.88925971, 0.89714806, 0.88925971,\n",
       "        0.87591019, 0.89714806]),\n",
       " 'split1_test_roc_auc': array([0.93328446, 0.87536657, 0.87536657, 0.87536657, 0.90945748,\n",
       "        0.9079912 , 0.90909091, 0.90945748, 0.93181818, 0.90909091,\n",
       "        0.92008798, 0.93181818]),\n",
       " 'split2_test_roc_auc': array([0.90132275, 0.86269841, 0.86269841, 0.86269841, 0.88968254,\n",
       "        0.88968254, 0.89100529, 0.89021164, 0.90185185, 0.89100529,\n",
       "        0.87962963, 0.9015873 ]),\n",
       " 'split3_test_roc_auc': array([0.88115942, 0.88244767, 0.88244767, 0.88244767, 0.86215781,\n",
       "        0.86183575, 0.86215781, 0.86215781, 0.87665056, 0.86215781,\n",
       "        0.88180354, 0.87665056]),\n",
       " 'split4_test_roc_auc': array([0.77347062, 0.73167777, 0.73167777, 0.73167777, 0.81011508,\n",
       "        0.80950939, 0.80920654, 0.81011508, 0.80436099, 0.80920654,\n",
       "        0.74500303, 0.80436099]),\n",
       " 'mean_test_roc_auc': array([0.87660959, 0.84252546, 0.84252546, 0.84252546, 0.87213452,\n",
       "        0.8720198 , 0.87214405, 0.87224034, 0.88236593, 0.87214405,\n",
       "        0.86048687, 0.88231302]),\n",
       " 'std_test_roc_auc': array([0.0543636 , 0.05601303, 0.05601303, 0.05601303, 0.03446782,\n",
       "        0.03458461, 0.03485575, 0.0345223 , 0.04280461, 0.03485575,\n",
       "        0.05991249, 0.04278065]),\n",
       " 'rank_test_roc_auc': array([ 3, 10, 10, 10,  7,  8,  5,  4,  1,  5,  9,  2], dtype=int32),\n",
       " 'split0_test_f1': array([0.66666667, 0.59375   , 0.59375   , 0.59375   , 0.38323353,\n",
       "        0.38323353, 0.38323353, 0.38323353, 0.71428571, 0.38323353,\n",
       "        0.64285714, 0.71428571]),\n",
       " 'split1_test_f1': array([0.65306122, 0.56      , 0.56      , 0.56      , 0.26190476,\n",
       "        0.26190476, 0.26190476, 0.26190476, 0.59574468, 0.26190476,\n",
       "        0.64      , 0.59574468]),\n",
       " 'split2_test_f1': array([0.67857143, 0.6779661 , 0.6779661 , 0.6779661 , 0.32258065,\n",
       "        0.32258065, 0.32258065, 0.32258065, 0.7037037 , 0.32258065,\n",
       "        0.63157895, 0.7037037 ]),\n",
       " 'split3_test_f1': array([0.73076923, 0.7037037 , 0.7037037 , 0.7037037 , 0.31952663,\n",
       "        0.31952663, 0.31952663, 0.31952663, 0.76923077, 0.31952663,\n",
       "        0.71698113, 0.76923077]),\n",
       " 'split4_test_f1': array([0.53846154, 0.46428571, 0.46428571, 0.46428571, 0.29050279,\n",
       "        0.29050279, 0.29050279, 0.29050279, 0.55172414, 0.29050279,\n",
       "        0.4       , 0.55172414]),\n",
       " 'mean_test_f1': array([0.65350602, 0.5999411 , 0.5999411 , 0.5999411 , 0.31554967,\n",
       "        0.31554967, 0.31554967, 0.31554967, 0.6669378 , 0.31554967,\n",
       "        0.60628344, 0.6669378 ]),\n",
       " 'std_test_f1': array([0.06325585, 0.08589596, 0.08589596, 0.08589596, 0.04037692,\n",
       "        0.04037692, 0.04037692, 0.04037692, 0.08049852, 0.04037692,\n",
       "        0.10763005, 0.08049852]),\n",
       " 'rank_test_f1': array([3, 5, 5, 5, 8, 8, 8, 8, 1, 8, 4, 1], dtype=int32),\n",
       " 'split0_test_precision': array([0.76      , 0.59375   , 0.59375   , 0.59375   , 0.23703704,\n",
       "        0.23703704, 0.23703704, 0.23703704, 0.83333333, 0.23703704,\n",
       "        0.75      , 0.83333333]),\n",
       " 'split1_test_precision': array([0.59259259, 0.5       , 0.5       , 0.5       , 0.15068493,\n",
       "        0.15068493, 0.15068493, 0.15068493, 0.56      , 0.15068493,\n",
       "        0.57142857, 0.56      ]),\n",
       " 'split2_test_precision': array([0.73076923, 0.68965517, 0.68965517, 0.68965517, 0.19230769,\n",
       "        0.19230769, 0.19230769, 0.19230769, 0.79166667, 0.19230769,\n",
       "        0.66666667, 0.79166667]),\n",
       " 'split3_test_precision': array([0.76      , 0.7037037 , 0.7037037 , 0.7037037 , 0.19014085,\n",
       "        0.19014085, 0.19014085, 0.19014085, 0.8       , 0.19014085,\n",
       "        0.73076923, 0.8       ]),\n",
       " 'split4_test_precision': array([0.53846154, 0.43333333, 0.43333333, 0.43333333, 0.16993464,\n",
       "        0.16993464, 0.16993464, 0.16993464, 0.5       , 0.16993464,\n",
       "        0.41666667, 0.5       ]),\n",
       " 'mean_test_precision': array([0.67636467, 0.58408844, 0.58408844, 0.58408844, 0.18802103,\n",
       "        0.18802103, 0.18802103, 0.18802103, 0.697     , 0.18802103,\n",
       "        0.62710623, 0.697     ]),\n",
       " 'std_test_precision': array([0.09271961, 0.10520785, 0.10520785, 0.10520785, 0.02879771,\n",
       "        0.02879771, 0.02879771, 0.02879771, 0.13837309, 0.02879771,\n",
       "        0.12231005, 0.13837309]),\n",
       " 'rank_test_precision': array([3, 5, 5, 5, 8, 8, 8, 8, 1, 8, 4, 1], dtype=int32),\n",
       " 'split0_test_recall': array([0.59375, 0.59375, 0.59375, 0.59375, 1.     , 1.     , 1.     ,\n",
       "        1.     , 0.625  , 1.     , 0.5625 , 0.625  ]),\n",
       " 'split1_test_recall': array([0.72727273, 0.63636364, 0.63636364, 0.63636364, 1.        ,\n",
       "        1.        , 1.        , 1.        , 0.63636364, 1.        ,\n",
       "        0.72727273, 0.63636364]),\n",
       " 'split2_test_recall': array([0.63333333, 0.66666667, 0.66666667, 0.66666667, 1.        ,\n",
       "        1.        , 1.        , 1.        , 0.63333333, 1.        ,\n",
       "        0.6       , 0.63333333]),\n",
       " 'split3_test_recall': array([0.7037037 , 0.7037037 , 0.7037037 , 0.7037037 , 1.        ,\n",
       "        1.        , 1.        , 1.        , 0.74074074, 1.        ,\n",
       "        0.7037037 , 0.74074074]),\n",
       " 'split4_test_recall': array([0.53846154, 0.5       , 0.5       , 0.5       , 1.        ,\n",
       "        1.        , 1.        , 1.        , 0.61538462, 1.        ,\n",
       "        0.38461538, 0.61538462]),\n",
       " 'mean_test_recall': array([0.63930426, 0.6200968 , 0.6200968 , 0.6200968 , 1.        ,\n",
       "        1.        , 1.        , 1.        , 0.65016447, 1.        ,\n",
       "        0.59561836, 0.65016447]),\n",
       " 'std_test_recall': array([0.06952098, 0.07005836, 0.07005836, 0.07005836, 0.        ,\n",
       "        0.        , 0.        , 0.        , 0.04587091, 0.        ,\n",
       "        0.12219132, 0.04587091]),\n",
       " 'rank_test_recall': array([ 8,  9,  9,  9,  1,  1,  1,  1,  6,  1, 12,  6], dtype=int32)}"
      ]
     },
     "execution_count": 72,
     "metadata": {},
     "output_type": "execute_result"
    }
   ],
   "source": [
    "clf.cv_results_"
   ]
  },
  {
   "cell_type": "code",
   "execution_count": 67,
   "metadata": {},
   "outputs": [
    {
     "ename": "NameError",
     "evalue": "name 'nested_score' is not defined",
     "output_type": "error",
     "traceback": [
      "\u001b[0;31m---------------------------------------------------------------------------\u001b[0m",
      "\u001b[0;31mNameError\u001b[0m                                 Traceback (most recent call last)",
      "\u001b[0;32m<ipython-input-67-cd08fbcc85ae>\u001b[0m in \u001b[0;36m<module>\u001b[0;34m\u001b[0m\n\u001b[0;32m----> 1\u001b[0;31m \u001b[0mnested_score\u001b[0m\u001b[0;34m\u001b[0m\u001b[0;34m\u001b[0m\u001b[0m\n\u001b[0m",
      "\u001b[0;31mNameError\u001b[0m: name 'nested_score' is not defined"
     ]
    }
   ],
   "source": [
    "nested_score"
   ]
  }
 ],
 "metadata": {
  "kernelspec": {
   "display_name": "Python 3",
   "language": "python",
   "name": "python3"
  },
  "language_info": {
   "codemirror_mode": {
    "name": "ipython",
    "version": 3
   },
   "file_extension": ".py",
   "mimetype": "text/x-python",
   "name": "python",
   "nbconvert_exporter": "python",
   "pygments_lexer": "ipython3",
   "version": "3.6.9"
  }
 },
 "nbformat": 4,
 "nbformat_minor": 4
}
