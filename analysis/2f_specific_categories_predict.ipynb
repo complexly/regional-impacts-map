{
 "cells": [
  {
   "cell_type": "code",
   "execution_count": 76,
   "metadata": {},
   "outputs": [],
   "source": [
    "import django, sys, os\n",
    "sys.path.append('/home/max/software/django-tmv/tmv_mcc-apsis/BasicBrowser')\n",
    "os.environ.setdefault(\"DJANGO_SETTINGS_MODULE\", \"BasicBrowser.settings\")\n",
    "django.setup()\n",
    "from pandas_ods_reader import read_ods\n",
    "import pandas as pd\n",
    "from scoping.models import *\n",
    "import random\n",
    "import pickle\n",
    "\n",
    "from sklearn.feature_extraction.text import CountVectorizer, TfidfVectorizer\n",
    "from sklearn.svm import SVC\n",
    "\n",
    "django.db.connection.close()"
   ]
  },
  {
   "cell_type": "code",
   "execution_count": 77,
   "metadata": {},
   "outputs": [],
   "source": [
    "import gspread\n",
    "from oauth2client.service_account import ServiceAccountCredentials\n",
    "scope = ['https://spreadsheets.google.com/feeds']\n",
    "credentials = ServiceAccountCredentials.from_json_keyfile_name('../literature_identification/jupyter-google-e4b72bf44320.json', scope)\n",
    "gc = gspread.authorize(credentials)\n",
    "spreadsheet_key = '1o18FIQTmGSWJ_m1ePAzrcVhFlfesESCb2bIEG7ibJAA'\n",
    "wb = gc.open_by_key(spreadsheet_key)\n",
    "ws = wb.worksheet(\"category_label_numbers\")"
   ]
  },
  {
   "cell_type": "code",
   "execution_count": 78,
   "metadata": {},
   "outputs": [
    {
     "data": {
      "text/html": [
       "<div>\n",
       "<style scoped>\n",
       "    .dataframe tbody tr th:only-of-type {\n",
       "        vertical-align: middle;\n",
       "    }\n",
       "\n",
       "    .dataframe tbody tr th {\n",
       "        vertical-align: top;\n",
       "    }\n",
       "\n",
       "    .dataframe thead th {\n",
       "        text-align: right;\n",
       "    }\n",
       "</style>\n",
       "<table border=\"1\" class=\"dataframe\">\n",
       "  <thead>\n",
       "    <tr style=\"text-align: right;\">\n",
       "      <th></th>\n",
       "      <th>Broad category</th>\n",
       "      <th>Specific category</th>\n",
       "      <th>Labelled documents</th>\n",
       "      <th>Proposed Aggregation 1</th>\n",
       "      <th>Proposed Aggregation 2</th>\n",
       "      <th>Proposed Aggregation 3</th>\n",
       "    </tr>\n",
       "  </thead>\n",
       "  <tbody>\n",
       "    <tr>\n",
       "      <th>0</th>\n",
       "      <td>Physical systems</td>\n",
       "      <td>01 CO2 concentration</td>\n",
       "      <td>5</td>\n",
       "      <td>-</td>\n",
       "      <td></td>\n",
       "      <td></td>\n",
       "    </tr>\n",
       "    <tr>\n",
       "      <th>1</th>\n",
       "      <td>Physical systems</td>\n",
       "      <td>02 Air or land surface temperature changes</td>\n",
       "      <td>47</td>\n",
       "      <td>-</td>\n",
       "      <td></td>\n",
       "      <td></td>\n",
       "    </tr>\n",
       "    <tr>\n",
       "      <th>2</th>\n",
       "      <td>Physical systems</td>\n",
       "      <td>03 Extreme temperature</td>\n",
       "      <td>16</td>\n",
       "      <td>-</td>\n",
       "      <td></td>\n",
       "      <td></td>\n",
       "    </tr>\n",
       "    <tr>\n",
       "      <th>3</th>\n",
       "      <td>Physical systems</td>\n",
       "      <td>04 Radiation</td>\n",
       "      <td>1</td>\n",
       "      <td>-</td>\n",
       "      <td></td>\n",
       "      <td></td>\n",
       "    </tr>\n",
       "    <tr>\n",
       "      <th>4</th>\n",
       "      <td>Physical systems</td>\n",
       "      <td>05 Changes in precipitation</td>\n",
       "      <td>55</td>\n",
       "      <td>-</td>\n",
       "      <td></td>\n",
       "      <td></td>\n",
       "    </tr>\n",
       "  </tbody>\n",
       "</table>\n",
       "</div>"
      ],
      "text/plain": [
       "     Broad category                           Specific category  \\\n",
       "0  Physical systems                        01 CO2 concentration   \n",
       "1  Physical systems  02 Air or land surface temperature changes   \n",
       "2  Physical systems                      03 Extreme temperature   \n",
       "3  Physical systems                                04 Radiation   \n",
       "4  Physical systems                 05 Changes in precipitation   \n",
       "\n",
       "  Labelled documents Proposed Aggregation 1 Proposed Aggregation 2  \\\n",
       "0                  5                      -                          \n",
       "1                 47                      -                          \n",
       "2                 16                      -                          \n",
       "3                  1                      -                          \n",
       "4                 55                      -                          \n",
       "\n",
       "  Proposed Aggregation 3  \n",
       "0                         \n",
       "1                         \n",
       "2                         \n",
       "3                         \n",
       "4                         "
      ]
     },
     "execution_count": 78,
     "metadata": {},
     "output_type": "execute_result"
    }
   ],
   "source": [
    "table = ws.get_all_values()\n",
    "category_map = pd.DataFrame(table[1:], columns=table[0])\n",
    "category_map.head()"
   ]
  },
  {
   "cell_type": "code",
   "execution_count": 79,
   "metadata": {},
   "outputs": [
    {
     "name": "stdout",
     "output_type": "stream",
     "text": [
      "(2312, 243)\n"
     ]
    }
   ],
   "source": [
    "df = pd.read_csv('../data/1_predicted_category_documents.csv')\n",
    "\n",
    "print(seen_df.shape)\n",
    "\n",
    "seen_index = df[df['seen']==1].index\n",
    "unseen_index = df[df['seen']==0].index\n",
    "new_index = df[(df['seen']==1) & (df['ar5']==0)].index\n",
    "rel_index = df[df['relevant']==1].index\n",
    "r_index = df[df[\"random_sample\"]==1].index\n",
    "physical_index = df[df['physical_tags']==1].index\n",
    "\n",
    "new_rel_index = physical_index.intersection(rel_index)"
   ]
  },
  {
   "cell_type": "code",
   "execution_count": 80,
   "metadata": {},
   "outputs": [],
   "source": [
    "from alterations import postfix_data\n",
    "df = postfix_data(df)"
   ]
  },
  {
   "cell_type": "code",
   "execution_count": 81,
   "metadata": {},
   "outputs": [],
   "source": [
    "impact_columns = [x for x in df.columns if re.match(\"^4 - \",x)]\n",
    "for x in impact_columns:\n",
    "    row = category_map.loc[category_map['Specific category']==x.split(' - ')[1]]\n",
    "    if row.shape[0]==0:\n",
    "        continue\n",
    "    for i, aggscheme in enumerate(row[['Proposed Aggregation 1', 'Proposed Aggregation 2']].values[0]):\n",
    "        if aggscheme not in ['-','']:\n",
    "            nc = f'{17+i} - {aggscheme}'\n",
    "            if nc not in df.columns:\n",
    "                df[nc] = 0\n",
    "            df.loc[df[x]==1,nc] = 1\n"
   ]
  },
  {
   "cell_type": "code",
   "execution_count": 82,
   "metadata": {},
   "outputs": [
    {
     "data": {
      "text/plain": [
       "['17 - Other rivers, lakes and soil',\n",
       " '17 - Water level',\n",
       " '17 - Evapotranspiration',\n",
       " '17 - Drought',\n",
       " '17 - Floods',\n",
       " '17 - Runoff',\n",
       " '17 - Snow',\n",
       " '17 - Permafrost',\n",
       " '17 - Sea ice',\n",
       " '17 - Glaciers',\n",
       " '17 - Distribution and range shifts (CMES)',\n",
       " '17 - Phenology (CMES)',\n",
       " '17 - Food/Agriculture',\n",
       " '17 - Corals',\n",
       " '17 - Physiology, metabolism, mortality and growth (CMES)',\n",
       " '17 - Community composition and interaction (CMES)',\n",
       " '17 - Ecosystem productivity and carbon cycle (CMES)',\n",
       " '17 - Distribution and range shifts (TES)',\n",
       " '17 - Phenology (TES)',\n",
       " '17 - Physiology, metabolism, mortality and growth (TES)',\n",
       " '17 - Community composition and interaction (TES)',\n",
       " '17 - Ecosystem productivity and carbon cycle (TES)',\n",
       " '17 - Wildfires',\n",
       " '17 - Livelihoods and wellbeing',\n",
       " '17 - Health',\n",
       " '17 - Displacement and migration']"
      ]
     },
     "execution_count": 82,
     "metadata": {},
     "output_type": "execute_result"
    }
   ],
   "source": [
    "specific_impacts_1 = [x for x in df.columns if \"17 - \" in x]\n",
    "specific_impacts_1"
   ]
  },
  {
   "cell_type": "code",
   "execution_count": 83,
   "metadata": {},
   "outputs": [
    {
     "data": {
      "text/plain": [
       "['18 - Terrestrial Water Cycle',\n",
       " '18 - Drought & Floods',\n",
       " '18 - Cryosphere',\n",
       " '18 - Coastal and marine Ecosystems',\n",
       " '18 - Food/Agriculture',\n",
       " '18 - Carbon Cycle',\n",
       " '18 - Terrestrial ES',\n",
       " '18 - Wildfires',\n",
       " '18 - Livelihoods and wellbeing',\n",
       " '18 - Health',\n",
       " '18 - Displacement and migration']"
      ]
     },
     "execution_count": 83,
     "metadata": {},
     "output_type": "execute_result"
    }
   ],
   "source": [
    "specific_impacts_2 = [x for x in df.columns if \"18 - \" in x and df[x].sum() > 5]\n",
    "specific_impacts_2"
   ]
  },
  {
   "cell_type": "code",
   "execution_count": 135,
   "metadata": {},
   "outputs": [
    {
     "name": "stdout",
     "output_type": "stream",
     "text": [
      "running vectorisation again\n"
     ]
    },
    {
     "data": {
      "text/plain": [
       "(2312, 20537)"
      ]
     },
     "execution_count": 135,
     "metadata": {},
     "output_type": "execute_result"
    }
   ],
   "source": [
    "revectorize = True\n",
    "\n",
    "X_exists = os.path.isfile(f'../data/X_{seen_df.shape[0]}.npz')\n",
    "\n",
    "if revectorize is True or X_exists is False:\n",
    "    print(\"running vectorisation again\")\n",
    "    vec = TfidfVectorizer(\n",
    "        ngram_range=(1,2),\n",
    "        min_df=5, max_df=0.8, strip_accents='unicode', \n",
    "        max_features=50000,\n",
    "        #tokenizer=snowball_stemmer()\n",
    "    )\n",
    "\n",
    "    X = vec.fit_transform(df['content'].astype(\"str\"))   \n",
    "    with open (f'../data/vec_{seen_df.shape[0]}.pickle','wb') as f:\n",
    "        pickle.dump(vec, f)\n",
    "    import scipy.sparse\n",
    "    scipy.sparse.save_npz(f'../data/X_{seen_df.shape[0]}.npz', X)\n",
    "else:\n",
    "    print(\"loading feature matrix\")\n",
    "    with open (f'../data/vec_{seen_df.shape[0]}.pickle','rb') as f:\n",
    "        vec = pickle.load(f)\n",
    "        X = scipy.sparse.load_npz(f'../data/X_{seen_df.shape[0]}.npz')\n",
    "        \n",
    "X.shape"
   ]
  },
  {
   "cell_type": "code",
   "execution_count": null,
   "metadata": {},
   "outputs": [],
   "source": [
    "y = np.matrix(df[specific_impacts_2])\n",
    "\n",
    "from sklearn.model_selection import KFold\n",
    "from sklearn.multiclass import OneVsRestClassifier\n",
    "\n",
    "kf = KFold(n_splits=10)\n",
    "kfs = kf.split(X[new_rel_index],y[new_rel_index])\n",
    "y_preds = []\n",
    "for k_train, k_test in kfs:\n",
    "    clf = OneVsRestClassifier(SVC(kernel='linear', class_weight=\"balanced\", probability=True))\n",
    "    k_train = rel_index[k_train]\n",
    "    clf.fit(X[k_train],y[k_train])\n",
    "    y_preds.append(clf.predict(X[unseen_index]))\n",
    "    \n",
    "y_preds = np.array(y_preds)\n",
    "np.save(\"../data/y_preds_specific_cats.npz\",y_preds)"
   ]
  },
  {
   "cell_type": "code",
   "execution_count": null,
   "metadata": {},
   "outputs": [],
   "source": [
    "pd.read_csv('../data/1_predicted_category_documents.csv')"
   ]
  }
 ],
 "metadata": {
  "kernelspec": {
   "display_name": "tmv",
   "language": "python",
   "name": "tmv"
  },
  "language_info": {
   "codemirror_mode": {
    "name": "ipython",
    "version": 3
   },
   "file_extension": ".py",
   "mimetype": "text/x-python",
   "name": "python",
   "nbconvert_exporter": "python",
   "pygments_lexer": "ipython3",
   "version": "3.6.6"
  }
 },
 "nbformat": 4,
 "nbformat_minor": 4
}
