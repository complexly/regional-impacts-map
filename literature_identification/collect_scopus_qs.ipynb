{
 "cells": [
  {
   "cell_type": "code",
   "execution_count": 1,
   "metadata": {},
   "outputs": [],
   "source": [
    "import django, sys, os\n",
    "sys.path.append('/home/galm/software/django/tmv/BasicBrowser')\n",
    "os.environ.setdefault(\"DJANGO_SETTINGS_MODULE\", \"BasicBrowser.settings\")\n",
    "django.setup()\n",
    "from pandas_ods_reader import read_ods\n",
    "import pandas as pd\n",
    "from scoping.models import *\n",
    "import random\n",
    "import matplotlib.pyplot as plt"
   ]
  },
  {
   "cell_type": "code",
   "execution_count": 2,
   "metadata": {},
   "outputs": [
    {
     "data": {
      "text/plain": [
       "25"
      ]
     },
     "execution_count": 2,
     "metadata": {},
     "output_type": "execute_result"
    }
   ],
   "source": [
    "p = Project.objects.get(pk=178)\n",
    "\n",
    "scopus_qs = Query.objects.filter(database=\"scopus\", project=p, id__gte=8558)\n",
    "scopus_qs.count()"
   ]
  },
  {
   "cell_type": "code",
   "execution_count": 3,
   "metadata": {},
   "outputs": [
    {
     "data": {
      "text/plain": [
       "476778"
      ]
     },
     "execution_count": 3,
     "metadata": {},
     "output_type": "execute_result"
    }
   ],
   "source": [
    "dids = set(Doc.objects.filter(query__in=scopus_qs).values_list('pk', flat=True))\n",
    "len(dids)"
   ]
  },
  {
   "cell_type": "code",
   "execution_count": 4,
   "metadata": {},
   "outputs": [
    {
     "data": {
      "text/plain": [
       "8696"
      ]
     },
     "execution_count": 4,
     "metadata": {},
     "output_type": "execute_result"
    }
   ],
   "source": [
    "q, created = Query.objects.get_or_create(\n",
    "    title=\"Scopus all\", project=p, database=\"intern\", creator=User.objects.get(pk=1)\n",
    ")\n",
    "if created:\n",
    "    q.doc_set.clear()\n",
    "    T = Doc.query.through\n",
    "    qds = [T(doc_id=d, query=q) for d in dids]\n",
    "\n",
    "    T.objects.bulk_create(qds)\n",
    "    q.r_count = len(dids)\n",
    "\n",
    "    q.save()\n",
    "q.id"
   ]
  },
  {
   "cell_type": "code",
   "execution_count": 15,
   "metadata": {},
   "outputs": [],
   "source": [
    "tag, created = Tag.objects.get_or_create(\n",
    "    title=\"sample_1\", text=\"all\", query=q\n",
    ")\n",
    "if created:\n",
    "    T = Doc.tag.through\n",
    "    dts = [T(doc_id=d, tag=tag) for d in random.sample(dids,50)]\n",
    "    T.objects.bulk_create(dts)\n",
    "    tag.update_tag()"
   ]
  },
  {
   "cell_type": "code",
   "execution_count": 5,
   "metadata": {},
   "outputs": [
    {
     "data": {
      "text/html": [
       "<div>\n",
       "<style scoped>\n",
       "    .dataframe tbody tr th:only-of-type {\n",
       "        vertical-align: middle;\n",
       "    }\n",
       "\n",
       "    .dataframe tbody tr th {\n",
       "        vertical-align: top;\n",
       "    }\n",
       "\n",
       "    .dataframe thead th {\n",
       "        text-align: right;\n",
       "    }\n",
       "</style>\n",
       "<table border=\"1\" class=\"dataframe\">\n",
       "  <thead>\n",
       "    <tr style=\"text-align: right;\">\n",
       "      <th></th>\n",
       "      <th>id</th>\n",
       "      <th>PY</th>\n",
       "    </tr>\n",
       "  </thead>\n",
       "  <tbody>\n",
       "    <tr>\n",
       "      <th>0</th>\n",
       "      <td>1049622</td>\n",
       "      <td>2018.0</td>\n",
       "    </tr>\n",
       "    <tr>\n",
       "      <th>1</th>\n",
       "      <td>1046</td>\n",
       "      <td>2010.0</td>\n",
       "    </tr>\n",
       "    <tr>\n",
       "      <th>2</th>\n",
       "      <td>1049624</td>\n",
       "      <td>2018.0</td>\n",
       "    </tr>\n",
       "    <tr>\n",
       "      <th>3</th>\n",
       "      <td>1048</td>\n",
       "      <td>2013.0</td>\n",
       "    </tr>\n",
       "    <tr>\n",
       "      <th>4</th>\n",
       "      <td>2097152</td>\n",
       "      <td>2019.0</td>\n",
       "    </tr>\n",
       "  </tbody>\n",
       "</table>\n",
       "</div>"
      ],
      "text/plain": [
       "        id      PY\n",
       "0  1049622  2018.0\n",
       "1     1046  2010.0\n",
       "2  1049624  2018.0\n",
       "3     1048  2013.0\n",
       "4  2097152  2019.0"
      ]
     },
     "execution_count": 5,
     "metadata": {},
     "output_type": "execute_result"
    }
   ],
   "source": [
    "dpy = pd.DataFrame.from_dict(q.doc_set.values('id','PY'))\n",
    "dpy.head()"
   ]
  },
  {
   "cell_type": "code",
   "execution_count": 6,
   "metadata": {},
   "outputs": [
    {
     "data": {
      "text/plain": [
       "PY\n",
       "1984.0        1\n",
       "1985.0     1295\n",
       "1986.0     1182\n",
       "1987.0     1327\n",
       "1988.0     1437\n",
       "1989.0     1687\n",
       "1990.0     1940\n",
       "1991.0     2335\n",
       "1992.0     2319\n",
       "1993.0     2761\n",
       "1994.0     2631\n",
       "1995.0     3170\n",
       "1996.0     3579\n",
       "1997.0     4159\n",
       "1998.0     4655\n",
       "1999.0     5198\n",
       "2000.0     5181\n",
       "2001.0     5728\n",
       "2002.0     6414\n",
       "2003.0     8323\n",
       "2004.0     9052\n",
       "2005.0    10152\n",
       "2006.0    11122\n",
       "2007.0    13094\n",
       "2008.0    15230\n",
       "2009.0    15146\n",
       "2010.0    18437\n",
       "2011.0    21723\n",
       "2012.0    24999\n",
       "2013.0    26817\n",
       "2014.0    28272\n",
       "2015.0    31195\n",
       "2016.0    33296\n",
       "2017.0    34858\n",
       "2018.0    39049\n",
       "2019.0    43568\n",
       "2020.0    32929\n",
       "2021.0       11\n",
       "Name: PY, dtype: int64"
      ]
     },
     "execution_count": 6,
     "metadata": {},
     "output_type": "execute_result"
    }
   ],
   "source": [
    "dpy.groupby('PY')['PY'].size()"
   ]
  },
  {
   "cell_type": "code",
   "execution_count": 7,
   "metadata": {},
   "outputs": [
    {
     "data": {
      "text/plain": [
       "<matplotlib.axes._subplots.AxesSubplot at 0x7f3dc3bcde80>"
      ]
     },
     "execution_count": 7,
     "metadata": {},
     "output_type": "execute_result"
    },
    {
     "data": {
      "image/png": "[encoded data removed]",
      "text/plain": [
       "<Figure size 432x288 with 1 Axes>"
      ]
     },
     "metadata": {},
     "output_type": "display_data"
    }
   ],
   "source": [
    "fig, ax = plt.subplots()\n",
    "dpy.groupby('PY')['PY'].size().plot()"
   ]
  },
  {
   "cell_type": "code",
   "execution_count": 11,
   "metadata": {},
   "outputs": [
    {
     "data": {
      "text/plain": [
       "<QuerySet [<Query: wos_broad_2>, <Query: wos broad>, <Query: wos_broad_migration>, <Query: wos_update_presubmission>, <Query: wos_broad_3_updated>]>"
      ]
     },
     "execution_count": 11,
     "metadata": {},
     "output_type": "execute_result"
    }
   ],
   "source": [
    "p = Project.objects.get(pk=178)\n",
    "\n",
    "wos_qs = Query.objects.filter(database=\"WoS\", project=p, id__gte=7368)\n",
    "wos_qs.count()\n",
    "wos_qs"
   ]
  },
  {
   "cell_type": "code",
   "execution_count": 12,
   "metadata": {},
   "outputs": [
    {
     "data": {
      "text/plain": [
       "411194"
      ]
     },
     "execution_count": 12,
     "metadata": {},
     "output_type": "execute_result"
    }
   ],
   "source": [
    "wos_dids = set(Doc.objects.filter(query__in=wos_qs).values_list('pk', flat=True))\n",
    "len(wos_dids)"
   ]
  },
  {
   "cell_type": "code",
   "execution_count": 13,
   "metadata": {},
   "outputs": [
    {
     "data": {
      "text/plain": [
       "610098"
      ]
     },
     "execution_count": 13,
     "metadata": {},
     "output_type": "execute_result"
    }
   ],
   "source": [
    "len(wos_dids | dids)"
   ]
  }
 ],
 "metadata": {
  "kernelspec": {
   "display_name": "tmv",
   "language": "python",
   "name": "tmv"
  },
  "language_info": {
   "codemirror_mode": {
    "name": "ipython",
    "version": 3
   },
   "file_extension": ".py",
   "mimetype": "text/x-python",
   "name": "python",
   "nbconvert_exporter": "python",
   "pygments_lexer": "ipython3",
   "version": "3.6.7"
  },
  "varInspector": {
   "cols": {
    "lenName": 16,
    "lenType": 16,
    "lenVar": 40
   },
   "kernels_config": {
    "python": {
     "delete_cmd_postfix": "",
     "delete_cmd_prefix": "del ",
     "library": "var_list.py",
     "varRefreshCmd": "print(var_dic_list())"
    },
    "r": {
     "delete_cmd_postfix": ") ",
     "delete_cmd_prefix": "rm(",
     "library": "var_list.r",
     "varRefreshCmd": "cat(var_dic_list()) "
    }
   },
   "types_to_exclude": [
    "module",
    "function",
    "builtin_function_or_method",
    "instance",
    "_Feature"
   ],
   "window_display": false
  }
 },
 "nbformat": 4,
 "nbformat_minor": 2
}
