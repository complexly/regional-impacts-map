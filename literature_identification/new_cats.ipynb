{
 "cells": [
  {
   "cell_type": "code",
   "execution_count": 65,
   "metadata": {},
   "outputs": [],
   "source": [
    "import django, sys, os\n",
    "sys.path.append('/home/max/software/django-tmv/tmv_mcc-apsis/BasicBrowser')\n",
    "os.environ.setdefault(\"DJANGO_SETTINGS_MODULE\", \"BasicBrowser.settings\")\n",
    "django.setup()\n",
    "from pandas_ods_reader import read_ods\n",
    "import pandas as pd\n",
    "from scoping.models import *\n",
    "import random\n",
    "django.db.connection.close()"
   ]
  },
  {
   "cell_type": "code",
   "execution_count": 66,
   "metadata": {},
   "outputs": [
    {
     "data": {
      "text/plain": [
       "<Project: Regional Impacts Map>"
      ]
     },
     "execution_count": 66,
     "metadata": {},
     "output_type": "execute_result"
    }
   ],
   "source": [
    "p = Project.objects.get(pk=178)\n",
    "p"
   ]
  },
  {
   "cell_type": "code",
   "execution_count": 67,
   "metadata": {},
   "outputs": [],
   "source": [
    "import gspread\n",
    "from oauth2client.service_account import ServiceAccountCredentials\n",
    "scope = ['https://spreadsheets.google.com/feeds']\n",
    "credentials = ServiceAccountCredentials.from_json_keyfile_name('./jupyter-google-e4b72bf44320.json', scope)\n",
    "gc = gspread.authorize(credentials)\n",
    "spreadsheet_key = '10UE_YB-3eJd5H2BxPIzwve9VQOBXwDW_X1nGsKel12o'\n",
    "wb = gc.open_by_key(spreadsheet_key)\n",
    "ws = wb.worksheet(\"Final categories\")"
   ]
  },
  {
   "cell_type": "code",
   "execution_count": 68,
   "metadata": {},
   "outputs": [
    {
     "data": {
      "text/html": [
       "<div>\n",
       "<style scoped>\n",
       "    .dataframe tbody tr th:only-of-type {\n",
       "        vertical-align: middle;\n",
       "    }\n",
       "\n",
       "    .dataframe tbody tr th {\n",
       "        vertical-align: top;\n",
       "    }\n",
       "\n",
       "    .dataframe thead th {\n",
       "        text-align: right;\n",
       "    }\n",
       "</style>\n",
       "<table border=\"1\" class=\"dataframe\">\n",
       "  <thead>\n",
       "    <tr style=\"text-align: right;\">\n",
       "      <th></th>\n",
       "      <th>Individual impact categories</th>\n",
       "      <th>description</th>\n",
       "      <th>Heading</th>\n",
       "      <th>order</th>\n",
       "      <th>Include</th>\n",
       "      <th>System type</th>\n",
       "      <th>Category type</th>\n",
       "      <th>Source</th>\n",
       "      <th>AR5 Symbol Categories</th>\n",
       "      <th>AR5 Table Categories</th>\n",
       "      <th>AR6 System Categories</th>\n",
       "      <th>AR6 Impact Categories</th>\n",
       "      <th>Final categories</th>\n",
       "    </tr>\n",
       "  </thead>\n",
       "  <tbody>\n",
       "    <tr>\n",
       "      <th>0</th>\n",
       "      <td>CO2 concentration</td>\n",
       "      <td></td>\n",
       "      <td>0</td>\n",
       "      <td>21</td>\n",
       "      <td>1</td>\n",
       "      <td>01. Physical systems</td>\n",
       "      <td>Climate impacts</td>\n",
       "      <td></td>\n",
       "      <td></td>\n",
       "      <td>Physical systems</td>\n",
       "      <td></td>\n",
       "      <td></td>\n",
       "      <td></td>\n",
       "    </tr>\n",
       "    <tr>\n",
       "      <th>1</th>\n",
       "      <td>Air or land surface temperature changes</td>\n",
       "      <td></td>\n",
       "      <td>0</td>\n",
       "      <td>1</td>\n",
       "      <td>1</td>\n",
       "      <td>01. Physical systems</td>\n",
       "      <td>Climate impacts</td>\n",
       "      <td>Additional</td>\n",
       "      <td></td>\n",
       "      <td>Physical systems</td>\n",
       "      <td></td>\n",
       "      <td></td>\n",
       "      <td></td>\n",
       "    </tr>\n",
       "    <tr>\n",
       "      <th>2</th>\n",
       "      <td>Extreme temperature</td>\n",
       "      <td></td>\n",
       "      <td>0</td>\n",
       "      <td>2</td>\n",
       "      <td>1</td>\n",
       "      <td>01. Physical systems</td>\n",
       "      <td>Climate impacts</td>\n",
       "      <td>Additional</td>\n",
       "      <td></td>\n",
       "      <td>Physical systems</td>\n",
       "      <td></td>\n",
       "      <td></td>\n",
       "      <td></td>\n",
       "    </tr>\n",
       "    <tr>\n",
       "      <th>3</th>\n",
       "      <td>Radiation</td>\n",
       "      <td></td>\n",
       "      <td>0</td>\n",
       "      <td>13</td>\n",
       "      <td>1</td>\n",
       "      <td>01. Physical systems</td>\n",
       "      <td>Climate impacts</td>\n",
       "      <td>Additional</td>\n",
       "      <td></td>\n",
       "      <td>Physical systems</td>\n",
       "      <td></td>\n",
       "      <td></td>\n",
       "      <td></td>\n",
       "    </tr>\n",
       "    <tr>\n",
       "      <th>4</th>\n",
       "      <td>Changes in precipitation</td>\n",
       "      <td></td>\n",
       "      <td>0</td>\n",
       "      <td>3</td>\n",
       "      <td>1</td>\n",
       "      <td>01. Physical systems</td>\n",
       "      <td>Climate impacts</td>\n",
       "      <td>Additional</td>\n",
       "      <td></td>\n",
       "      <td>Physical systems</td>\n",
       "      <td></td>\n",
       "      <td></td>\n",
       "      <td></td>\n",
       "    </tr>\n",
       "  </tbody>\n",
       "</table>\n",
       "</div>"
      ],
      "text/plain": [
       "              Individual impact categories description Heading order Include  \\\n",
       "0                        CO2 concentration                   0    21       1   \n",
       "1  Air or land surface temperature changes                   0     1       1   \n",
       "2                      Extreme temperature                   0     2       1   \n",
       "3                                Radiation                   0    13       1   \n",
       "4                 Changes in precipitation                   0     3       1   \n",
       "\n",
       "            System type    Category type      Source AR5 Symbol Categories  \\\n",
       "0  01. Physical systems  Climate impacts                                     \n",
       "1  01. Physical systems  Climate impacts  Additional                         \n",
       "2  01. Physical systems  Climate impacts  Additional                         \n",
       "3  01. Physical systems  Climate impacts  Additional                         \n",
       "4  01. Physical systems  Climate impacts  Additional                         \n",
       "\n",
       "  AR5 Table Categories AR6 System Categories AR6 Impact Categories  \\\n",
       "0     Physical systems                                               \n",
       "1     Physical systems                                               \n",
       "2     Physical systems                                               \n",
       "3     Physical systems                                               \n",
       "4     Physical systems                                               \n",
       "\n",
       "  Final categories  \n",
       "0                   \n",
       "1                   \n",
       "2                   \n",
       "3                   \n",
       "4                   "
      ]
     },
     "execution_count": 68,
     "metadata": {},
     "output_type": "execute_result"
    }
   ],
   "source": [
    "table = ws.get_all_values()\n",
    "df = pd.DataFrame(table[1:], columns=table[0])\n",
    "df.head()"
   ]
  },
  {
   "cell_type": "code",
   "execution_count": 69,
   "metadata": {},
   "outputs": [],
   "source": [
    "imcat = Category.objects.get(pk=616)\n",
    "dcat = Category.objects.get(pk=712)"
   ]
  },
  {
   "cell_type": "code",
   "execution_count": 70,
   "metadata": {},
   "outputs": [
    {
     "data": {
      "text/plain": [
       "(0, {})"
      ]
     },
     "execution_count": 70,
     "metadata": {},
     "output_type": "execute_result"
    }
   ],
   "source": [
    "Category.objects.filter(name__isnull=True,project=p).delete()"
   ]
  },
  {
   "cell_type": "code",
   "execution_count": 71,
   "metadata": {},
   "outputs": [
    {
     "name": "stdout",
     "output_type": "stream",
     "text": [
      "14.0 Oceans\n",
      "14.0 Oceans\n",
      "21.0 Rivers, lakes and soil moisture\n",
      "21.0 Rivers, lakes and soil moisture\n",
      "30.0 Mountains, snow and ice\n",
      "30.0 Mountains, snow and ice\n",
      "36.0 Marine & coastal\n",
      "36.0 Marine & coastal\n",
      "49 Biogeochemical flows (marine & coastal)\n",
      "49 Biogeochemical flows (marine & coastal)\n",
      "50 Other (marine & coastal)\n",
      "50 Other (marine & coastal)\n",
      "51.0 Terrestrial and freshwater\n",
      "51.0 Terrestrial and freshwater\n",
      "57 Biogeochemical flows (Terrestrial and freshwater)\n",
      "57 Biogeochemical flows (Terrestrial and freshwater)\n",
      "81 Other (human and managed systems)\n",
      "81 Other (human and managed systems)\n"
     ]
    }
   ],
   "source": [
    "create_cats = True\n",
    "ar5 = Category.objects.get(pk=468)\n",
    "cat_number = 0\n",
    "for i, row in df.iterrows():\n",
    "    sys = row['System type'][4:]\n",
    "    syscat = Category.objects.get(project=p,level=3,name__icontains=sys)\n",
    "    if row['Include']=='1':\n",
    "        cat_number+=1\n",
    "    elif row['Heading']=='1':\n",
    "        name = row['Individual impact categories']\n",
    "        cname = f\"{int(cat_number+1):02}.0 {name}\"\n",
    "        rpat = \"[0-9]{2}.0 \" + name.replace('(','\\\\(').replace(')','\\\\)') + \"($|<)\"\n",
    "        for l in [4,6]:\n",
    "            try:\n",
    "                cat = Category.objects.get(project=p, level=l,name__iregex=rpat,title_only=True)\n",
    "                cat.name=cname\n",
    "                cat.equivalents.add(syscat)\n",
    "                cat.parent_category = imcat\n",
    "                cat.save()\n",
    "                print(cat.name)\n",
    "            except:\n",
    "                print(f\"couldn't find title cat {name}\")\n",
    "                if create_cats:\n",
    "                    cat, created = Category.objects.get_or_create(project=p, level=l,name=cname,title_only=True)\n",
    "\n",
    "        continue\n",
    "\n",
    "    ar5name = re.sub(\"([0-9]*\\W[0-9]* )\",\"\",row['AR5 Table Categories'],1)\n",
    "    try:\n",
    "        ar5t = Category.objects.get(project=p, level=12, name__icontains=ar5name)\n",
    "    except:\n",
    "        if create_cats:\n",
    "            ar5t, created = Category.objects.get_or_create(project=p,level=12,name=ar5name, parent_category=ar5)\n",
    "        else:\n",
    "            print(ar5name)\n",
    "            continue\n",
    "            \n",
    "            \n",
    "    ar5t.name=row['AR5 Table Categories']\n",
    "    \n",
    "    name = row['Individual impact categories']\n",
    "    cname = f\"{int(cat_number):02} {name}\"\n",
    "    rpat = \"[0-9]{2} \" + name.replace('(','\\\\(').replace(')','\\\\)') + \"($|<)\"\n",
    "    try:\n",
    "        cat = Category.objects.get(project=p, level=4,name__iregex=rpat)\n",
    "        cat.name=cname\n",
    "    except:\n",
    "        print(cname)        \n",
    "        if create_cats:\n",
    "            cat, created = Category.objects.get_or_create(project=p,level=4,name=cname)\n",
    "            \n",
    "    ### Hide or show category\n",
    "    if row['Include'] == '0':\n",
    "        if \"<hidden>\" not in cat.name:\n",
    "            cat.name = cat.name+\"<hidden>\"\n",
    "    else:\n",
    "        if \"<hidden>\" in cat.name:\n",
    "            cat.name = cat.name.replace('<hidden>','')\n",
    "            \n",
    "    \n",
    "    cat.parent_category = imcat\n",
    "    cat.description=name\n",
    "    if row['description'] != \"\":\n",
    "        cat.description = row['description']\n",
    "        \n",
    "    cat.equivalents.clear()\n",
    "    cat.equivalents.add(syscat)\n",
    "    cat.equivalents.add(ar5t)\n",
    "    cat.save()\n",
    "    \n",
    "    try:\n",
    "        cat = Category.objects.get(project=p, level=6,name__iregex=rpat)\n",
    "        cat.name=cname\n",
    "    except:\n",
    "        print(cname)\n",
    "        if create_cats:\n",
    "            cat, created = Category.objects.get_or_create(project=p,level=6,name=cname)\n",
    "            \n",
    "    ### Hide or show category\n",
    "    if row['Include'] == '0':\n",
    "        if \"<hidden>\" not in cat.name:\n",
    "            cat.name = cat.name+\"<hidden>\"\n",
    "    else:\n",
    "        if \"<hidden>\" in cat.name:\n",
    "            cat.name = cat.name.replace('<hidden>','')\n",
    "            \n",
    "    cat.parent_category = dcat\n",
    "    cat.description=name\n",
    "    if row['description'] != \"\":\n",
    "        cat.description = row['description']\n",
    "    cat.equivalents.clear()\n",
    "    cat.equivalents.remove(syscat)\n",
    "    syscat = Category.objects.get(project=p,level=5,name__icontains=sys)\n",
    "    cat.equivalents.add(syscat)\n",
    "    cat.equivalents.add(ar5t)\n",
    "    cat.save()"
   ]
  },
  {
   "cell_type": "code",
   "execution_count": 53,
   "metadata": {},
   "outputs": [
    {
     "data": {
      "text/plain": [
       "Individual impact categories    Terrestrial and freshwater\n",
       "description                                               \n",
       "Heading                                                  1\n",
       "order                                                     \n",
       "Include                                                  0\n",
       "System type                                               \n",
       "Category type                                             \n",
       "Source                                                    \n",
       "AR5 Symbol Categories                                     \n",
       "AR5 Table Categories                                      \n",
       "AR6 System Categories                                     \n",
       "AR6 Impact Categories                                     \n",
       "Final categories                                          \n",
       "Name: 49, dtype: object"
      ]
     },
     "execution_count": 53,
     "metadata": {},
     "output_type": "execute_result"
    }
   ],
   "source": [
    "row"
   ]
  },
  {
   "cell_type": "code",
   "execution_count": 42,
   "metadata": {},
   "outputs": [
    {
     "data": {
      "text/plain": [
       "'[0-9]{2}.0 Terrestrial and freshwater($|<)'"
      ]
     },
     "execution_count": 42,
     "metadata": {},
     "output_type": "execute_result"
    }
   ],
   "source": [
    "name = row['Individual impact categories']\n",
    "cname = f\"{int(cat_number+1):02} {name}\"\n",
    "rpat = \"[0-9]{2}.0 \" + name.replace('(','\\\\(').replace(')','\\\\)') + \"($|<)\"\n",
    "rpat\n"
   ]
  },
  {
   "cell_type": "code",
   "execution_count": 43,
   "metadata": {},
   "outputs": [],
   "source": [
    "cat = Category.objects.get(project=p, level=4,name__iregex=rpat,title_only=True)"
   ]
  },
  {
   "cell_type": "code",
   "execution_count": 41,
   "metadata": {},
   "outputs": [
    {
     "name": "stdout",
     "output_type": "stream",
     "text": [
      "[0-9]{2}.0 Terrestrial and freshwater($|<)\n",
      "no\n"
     ]
    }
   ],
   "source": [
    "rpat = \"[0-9]{2} \" + name.replace('(','\\\\(').replace(')','\\\\)') + \"($|<)\"\n",
    "print(rpat)\n",
    "try:\n",
    "    c = Category.objects.get(name__iregex=rpat)\n",
    "    print(c)\n",
    "except:\n",
    "    print(\"no\")"
   ]
  },
  {
   "cell_type": "code",
   "execution_count": 91,
   "metadata": {},
   "outputs": [
    {
     "name": "stdout",
     "output_type": "stream",
     "text": [
      "62 Armed conflict<hidden> 0\n",
      "62 Armed conflict<hidden> 0\n",
      "(5, {'scoping.Category_equivalents': 4, 'scoping.DocPar_category': 0, 'scoping.DocStatement_category': 0, 'scoping.Category': 1})\n",
      "62 Armed conflict<hidden> 0\n",
      "62 Armed conflict<hidden> 0\n",
      "(5, {'scoping.Category_equivalents': 4, 'scoping.DocPar_category': 0, 'scoping.DocStatement_category': 0, 'scoping.Category': 1})\n"
     ]
    }
   ],
   "source": [
    "for l in [4,6]:\n",
    "    for i, c in enumerate(Category.objects.filter(name__iregex=rpat,level=l).order_by('id')):\n",
    "        print(c.name, c.docusercat_set.count())\n",
    "        if c.docusercat_set.count()==0 and i>0:\n",
    "            pass\n",
    "            #print(c.delete())"
   ]
  },
  {
   "cell_type": "code",
   "execution_count": 86,
   "metadata": {},
   "outputs": [
    {
     "name": "stdout",
     "output_type": "stream",
     "text": [
      "63\n",
      "1\n"
     ]
    }
   ],
   "source": [
    "c2 = Category.objects.filter(name__iregex=rpat,level=4).order_by('id')[1]\n",
    "c1 = Category.objects.filter(name__iregex=rpat,level=4).order_by('id')[0]\n",
    "\n",
    "print(c1.docusercat_set.count())\n",
    "print(c2.docusercat_set.count())\n",
    "\n",
    "dc = c2.docusercat_set.last()\n",
    "dc.category=c1\n",
    "dc.save()"
   ]
  },
  {
   "cell_type": "code",
   "execution_count": 59,
   "metadata": {},
   "outputs": [
    {
     "name": "stdout",
     "output_type": "stream",
     "text": [
      "4 6\n"
     ]
    }
   ],
   "source": [
    "print(c1.level,c2.level)"
   ]
  },
  {
   "cell_type": "code",
   "execution_count": 7,
   "metadata": {},
   "outputs": [
    {
     "data": {
      "text/plain": [
       "<QuerySet [{'name': '29.0 Marine & coastal'}, {'name': '42.0 Terrestrial and freshwater'}, {'name': '42.0 Terrestrial and freshwater'}, {'name': '29.0 Marine & coastal'}]>"
      ]
     },
     "execution_count": 7,
     "metadata": {},
     "output_type": "execute_result"
    }
   ],
   "source": [
    "titles = Category.objects.filter(title_only=True)\n",
    "titles.values('name')"
   ]
  },
  {
   "cell_type": "code",
   "execution_count": 10,
   "metadata": {},
   "outputs": [],
   "source": [
    "cs = Category.objects.filter(title_only=True,name__icontains=\"Marine\")\n",
    "for c in cs:\n",
    "    c.name = \"29.0 Marine & coastal\"\n",
    "    c.save()"
   ]
  },
  {
   "cell_type": "code",
   "execution_count": 20,
   "metadata": {},
   "outputs": [],
   "source": []
  },
  {
   "cell_type": "code",
   "execution_count": 8,
   "metadata": {},
   "outputs": [],
   "source": [
    "cs = Category.objects.filter(title_only=True,name__icontains=\"Terrestrial\")\n",
    "for c in cs:\n",
    "    c.name = \"42.0 Terrestrial and freshwater\"\n",
    "    c.save()"
   ]
  },
  {
   "cell_type": "code",
   "execution_count": 22,
   "metadata": {},
   "outputs": [],
   "source": []
  }
 ],
 "metadata": {
  "kernelspec": {
   "display_name": "tmv",
   "language": "python",
   "name": "tmv"
  },
  "language_info": {
   "codemirror_mode": {
    "name": "ipython",
    "version": 3
   },
   "file_extension": ".py",
   "mimetype": "text/x-python",
   "name": "python",
   "nbconvert_exporter": "python",
   "pygments_lexer": "ipython3",
   "version": "3.6.6"
  }
 },
 "nbformat": 4,
 "nbformat_minor": 4
}
