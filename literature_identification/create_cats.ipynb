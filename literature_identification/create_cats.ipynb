{
 "cells": [
  {
   "cell_type": "code",
   "execution_count": 1,
   "metadata": {},
   "outputs": [],
   "source": [
    "import django, sys, os\n",
    "sys.path.append('/home/max/software/django-tmv/tmv_mcc-apsis/BasicBrowser')\n",
    "os.environ.setdefault(\"DJANGO_SETTINGS_MODULE\", \"BasicBrowser.settings\")\n",
    "django.setup()\n",
    "from pandas_ods_reader import read_ods\n",
    "from scoping.models import *\n",
    "import random"
   ]
  },
  {
   "cell_type": "code",
   "execution_count": 2,
   "metadata": {},
   "outputs": [
    {
     "data": {
      "text/html": [
       "<div>\n",
       "<style scoped>\n",
       "    .dataframe tbody tr th:only-of-type {\n",
       "        vertical-align: middle;\n",
       "    }\n",
       "\n",
       "    .dataframe tbody tr th {\n",
       "        vertical-align: top;\n",
       "    }\n",
       "\n",
       "    .dataframe thead th {\n",
       "        text-align: right;\n",
       "    }\n",
       "</style>\n",
       "<table border=\"1\" class=\"dataframe\">\n",
       "  <thead>\n",
       "    <tr style=\"text-align: right;\">\n",
       "      <th></th>\n",
       "      <th>AR6 Impact</th>\n",
       "      <th>AR6 Category</th>\n",
       "      <th>Attribution</th>\n",
       "      <th>AR5 Symbol</th>\n",
       "      <th>AR5 table</th>\n",
       "    </tr>\n",
       "  </thead>\n",
       "  <tbody>\n",
       "    <tr>\n",
       "      <th>0</th>\n",
       "      <td>1. Extreme water levels</td>\n",
       "      <td>Coastal human systems</td>\n",
       "      <td>CA</td>\n",
       "      <td>Coastal erosion and/or sea level effects</td>\n",
       "      <td>?</td>\n",
       "    </tr>\n",
       "    <tr>\n",
       "      <th>1</th>\n",
       "      <td>2. Sea ice retreat</td>\n",
       "      <td>Cryosphere</td>\n",
       "      <td>CA</td>\n",
       "      <td>Glaciers, snow, ice and/or permafrost</td>\n",
       "      <td>Mountains, snow and ice</td>\n",
       "    </tr>\n",
       "    <tr>\n",
       "      <th>2</th>\n",
       "      <td>3. Glacier retreat</td>\n",
       "      <td>Cryosphere</td>\n",
       "      <td>CA</td>\n",
       "      <td>Glaciers, snow, ice and/or permafrost</td>\n",
       "      <td>Mountains, snow and ice</td>\n",
       "    </tr>\n",
       "    <tr>\n",
       "      <th>3</th>\n",
       "      <td>4. Changes in strong precipitation</td>\n",
       "      <td>River floods</td>\n",
       "      <td>CA</td>\n",
       "      <td>Rivers, lakes, floods and/or drought</td>\n",
       "      <td>?</td>\n",
       "    </tr>\n",
       "    <tr>\n",
       "      <th>4</th>\n",
       "      <td>5. Shifts in phenology (ocean)</td>\n",
       "      <td>Marine (eco-)systems</td>\n",
       "      <td>CIA</td>\n",
       "      <td>Marine ecosystems</td>\n",
       "      <td>Coastal and marine ecosystems</td>\n",
       "    </tr>\n",
       "  </tbody>\n",
       "</table>\n",
       "</div>"
      ],
      "text/plain": [
       "                           AR6 Impact           AR6 Category Attribution  \\\n",
       "0             1. Extreme water levels  Coastal human systems          CA   \n",
       "1                  2. Sea ice retreat             Cryosphere          CA   \n",
       "2                  3. Glacier retreat             Cryosphere          CA   \n",
       "3  4. Changes in strong precipitation           River floods          CA   \n",
       "4      5. Shifts in phenology (ocean)   Marine (eco-)systems         CIA   \n",
       "\n",
       "                                 AR5 Symbol                      AR5 table  \n",
       "0  Coastal erosion and/or sea level effects                              ?  \n",
       "1     Glaciers, snow, ice and/or permafrost        Mountains, snow and ice  \n",
       "2     Glaciers, snow, ice and/or permafrost        Mountains, snow and ice  \n",
       "3      Rivers, lakes, floods and/or drought                              ?  \n",
       "4                         Marine ecosystems  Coastal and marine ecosystems  "
      ]
     },
     "execution_count": 2,
     "metadata": {},
     "output_type": "execute_result"
    }
   ],
   "source": [
    "path = \"categories.ods\"\n",
    "\n",
    "# load a sheet based on its index (1 based)\n",
    "sheet_idx = 1\n",
    "df = read_ods(path, sheet_idx)\n",
    "df.head()"
   ]
  },
  {
   "cell_type": "code",
   "execution_count": 7,
   "metadata": {},
   "outputs": [
    {
     "name": "stdout",
     "output_type": "stream",
     "text": [
      "1. Extreme water levels\n",
      "2. Sea ice retreat\n",
      "3. Glacier retreat\n",
      "4. Changes in strong precipitation\n",
      "5. Shifts in phenology (ocean)\n",
      "6. Geographical shift in fish species\n",
      "7. Changes in warm water corals\n",
      "8. Species metabolism\n",
      "9. Species distribution (land)\n",
      "10. Shifts in phenology (land)\n",
      "11. Wildfires\n",
      "12. Drought frequency and intensity\n",
      "13. River floods\n",
      "14. Crop yields\n",
      "15. Coastal human systems\n",
      "16. Armed conflict\n",
      "17. Malnutrition\n",
      "18. Displacement and migrations\n",
      "19. Conflict\n",
      "20. Economic development and inequality\n",
      "21. Health\n",
      "Seagrass\n",
      "Food prices\n",
      "Economic activity\n",
      "Arctic infrastructure\n",
      "River runoff\n",
      "Changes in kelp forests\n"
     ]
    }
   ],
   "source": [
    "ar6i = Category.objects.get(pk=479)\n",
    "for c in df['AR6 Impact']:\n",
    "    print(c)\n",
    "    cat, created = Category.objects.get_or_create(\n",
    "        name=c,\n",
    "        project=ar6i.project,\n",
    "        level=5,\n",
    "        parent_category=ar6i\n",
    "    )\n",
    "    cat.description=c\n",
    "    cat.save()\n",
    "    cat.delete()\n",
    "    "
   ]
  },
  {
   "cell_type": "code",
   "execution_count": 6,
   "metadata": {},
   "outputs": [
    {
     "data": {
      "text/plain": [
       "<QuerySet [<Category: 5.1. Physical systems>, <Category: 5.2. Biological systems>, <Category: 5.3. Human and managed systems>, <Category: 18. Displacement and migrations>, <Category: 19. Conflict>, <Category: 20. Economic development and inequality>, <Category: 21. Health>, <Category: 1. Extreme water levels>, <Category: 2. Sea ice retreat>, <Category: 3. Glacier retreat>, <Category: 4. Changes in strong precipitation>, <Category: 5. Shifts in phenology (ocean)>, <Category: 6. Geographical shift in fish species>, <Category: 7. Changes in warm water corals>, <Category: 8. Species metabolism>, <Category: 9. Species distribution (land)>, <Category: 10. Shifts in phenology (land)>, <Category: 11. Wildfires>, <Category: 12. Drought frequency and intensity>, <Category: 13. River floods>, '...(remaining elements truncated)...']>"
      ]
     },
     "execution_count": 6,
     "metadata": {},
     "output_type": "execute_result"
    }
   ],
   "source": [
    "Category.objects.filter(level=5,project=ar6i.project)"
   ]
  },
  {
   "cell_type": "code",
   "execution_count": 15,
   "metadata": {},
   "outputs": [],
   "source": [
    "q = Query.objects.get(pk=7368)\n",
    "s1 = random.sample(list(q.doc_set.values_list('id',flat=True)),500)\n",
    "\n"
   ]
  },
  {
   "cell_type": "code",
   "execution_count": 18,
   "metadata": {},
   "outputs": [],
   "source": [
    "tag, created = Tag.objects.get_or_create(\n",
    "    query=q,\n",
    "    title=\"random sample 1\",\n",
    "    text=\"Manually created\"\n",
    ")\n",
    "\n",
    "Through = Doc.tag.through\n",
    "dts = [Through(doc_id=d,tag=tag) for d in s1]\n",
    "Through.objects.bulk_create(dts)\n",
    "\n",
    "tag.update_tag()"
   ]
  }
 ],
 "metadata": {
  "kernelspec": {
   "display_name": "tmv",
   "language": "python",
   "name": "tmv"
  },
  "language_info": {
   "codemirror_mode": {
    "name": "ipython",
    "version": 3
   },
   "file_extension": ".py",
   "mimetype": "text/x-python",
   "name": "python",
   "nbconvert_exporter": "python",
   "pygments_lexer": "ipython3",
   "version": "3.6.7"
  },
  "varInspector": {
   "cols": {
    "lenName": 16,
    "lenType": 16,
    "lenVar": 40
   },
   "kernels_config": {
    "python": {
     "delete_cmd_postfix": "",
     "delete_cmd_prefix": "del ",
     "library": "var_list.py",
     "varRefreshCmd": "print(var_dic_list())"
    },
    "r": {
     "delete_cmd_postfix": ") ",
     "delete_cmd_prefix": "rm(",
     "library": "var_list.r",
     "varRefreshCmd": "cat(var_dic_list()) "
    }
   },
   "types_to_exclude": [
    "module",
    "function",
    "builtin_function_or_method",
    "instance",
    "_Feature"
   ],
   "window_display": false
  }
 },
 "nbformat": 4,
 "nbformat_minor": 2
}
