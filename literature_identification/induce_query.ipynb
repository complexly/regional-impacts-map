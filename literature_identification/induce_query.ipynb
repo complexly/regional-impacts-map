{
 "cells": [
  {
   "cell_type": "code",
   "execution_count": 1,
   "metadata": {},
   "outputs": [],
   "source": [
    "import django, sys, os\n",
    "sys.path.append('/home/max/software/django-tmv/tmv_mcc-apsis/BasicBrowser')\n",
    "os.environ.setdefault(\"DJANGO_SETTINGS_MODULE\", \"BasicBrowser.settings\")\n",
    "django.setup()\n",
    "\n",
    "from scoping.models import *\n",
    "from sklearn.feature_extraction.text import CountVectorizer, TfidfVectorizer\n",
    "from itertools import product, combinations\n",
    "from utils.text import *\n",
    "from scipy.sparse import find\n",
    "import matplotlib.pyplot as plt\n",
    "\n",
    "\n",
    "def translate_patterns(pats):\n",
    "    \n",
    "    rpats = []\n",
    "    for p in pats:\n",
    "        if re.search('\\{([0-9])+\\}', p):\n",
    "            ps = p.split()\n",
    "            n = re.search('\\{([0-9])+\\}', p).group(1)\n",
    "            p = \"(\" + ps[0] + \" *(\\w+\\s*\\W*){0,\"+n+\"} \" + ps[2] + \")|(\" + ps[2] + \" *(\\w+\\s*\\W*){0,\"+n+\"} \" + ps[0] + \")\"\n",
    "        else:\n",
    "            p = p.replace(\" \",\"( |-)\")\n",
    "        rpats.append(p)\n",
    "\n",
    "\n",
    "    rpat = \"|\".join(rpats)\n",
    "\n",
    "    #\" OR \".join([x.replace('\\w*','*').replace('(\\w+\\s*\\W*){','NEAR/').replace('}','') for x in pats])\n",
    "    opats = [x.replace('\\w*','*') for x in pats if '(\\w+\\s*\\W*){' not in x]\n",
    "    opats = \" OR \".join([f'\"{x}\"' for x in opats])\n",
    "    npats = [x.replace('\\w*','*').replace('(\\w+\\s*\\W*){','NEAR/').replace('}',' ') for x in pats if '(\\w+\\s*\\W*){' in x]\n",
    "    npats = \" OR \".join([f'\"{x}\"' for x in npats])\n",
    "    \n",
    "    if npats:\n",
    "        wpat = f'TS=({opats}) OR TS=({npats})'\n",
    "    else:\n",
    "        wpat = f'TS=({opats})'\n",
    "    \n",
    "    return rpat, wpat\n",
    "\n",
    "def match_docs(rpat, docs, fields):\n",
    "    mdocs = set([])\n",
    "    for f in fields:\n",
    "        tdocs = set(docs.filter(**{f\"{f}__iregex\": rpat}).values_list('pk',flat=True))\n",
    "        mdocs = mdocs | tdocs\n",
    "        \n",
    "    nmdocs = docs.exclude(id__in=mdocs)\n",
    "    mdocs = docs.filter(id__in=mdocs)\n",
    "    return mdocs, nmdocs\n",
    "\n",
    "def mash_texts(x, pat=None):\n",
    "    s = \"\"\n",
    "    for at in [\"de\", \"kwp\",\"ab\", \"ti\",]:\n",
    "        if hasattr(x.wosarticle, at) and getattr(x.wosarticle, at):\n",
    "            t = getattr(x.wosarticle, at)\n",
    "            if pat:\n",
    "                t = re.sub(pat, \"\", t)\n",
    "            s+=f\" {t}\"\n",
    "    return s.strip()\n"
   ]
  },
  {
   "cell_type": "code",
   "execution_count": 55,
   "metadata": {},
   "outputs": [
    {
     "data": {
      "image/png": "[encoded data removed]",
      "text/plain": [
       "<matplotlib.figure.Figure at 0x7ff50133ef28>"
      ]
     },
     "metadata": {},
     "output_type": "display_data"
    }
   ],
   "source": [
    "from matplotlib.patches import Rectangle\n",
    "\n",
    "def lit_plot():\n",
    "    fig, ax = plt.subplots()\n",
    "    cols = ['#edf8b1','#7fcdbb','#2c7fb8']\n",
    "    rect = Rectangle(\n",
    "        (0,0),1,1, \n",
    "        facecolor=cols[0],\n",
    "        edgecolor=\"grey\"\n",
    "    )\n",
    "    ax.add_patch(rect)\n",
    "\n",
    "    ax.annotate(\n",
    "        \"All literature\",\n",
    "        (0.7,0.7),\n",
    "        ha=\"center\", va=\"center\",\n",
    "        #arrowprops=dict(facecolor='black', shrink=0.05,width=1),\n",
    "    )\n",
    "\n",
    "    rect = Rectangle(\n",
    "        (0,0),.4,.4, \n",
    "        facecolor=cols[1],\n",
    "        edgecolor=\"grey\"\n",
    "    )\n",
    "    ax.add_patch(rect)\n",
    "\n",
    "    ax.annotate(\n",
    "        \"Relevant literature\",\n",
    "        (0.3,0.3),(0.7,0.3),\n",
    "        ha=\"center\", va=\"center\",\n",
    "        arrowprops=dict(facecolor='black', shrink=0.05,width=1),\n",
    "    )\n",
    "\n",
    "    rect = Rectangle(\n",
    "        (0,0),.2,.2,\n",
    "        facecolor=cols[2],\n",
    "        edgecolor=\"grey\"\n",
    "    )\n",
    "    ax.add_patch(rect)\n",
    "\n",
    "    ax.annotate(\n",
    "        \"Identified relevant literature\",\n",
    "        (0.1,0.1),(0.7,0.1),\n",
    "        ha=\"center\", va=\"center\",\n",
    "        arrowprops=dict(facecolor='black', shrink=0.05,width=1),\n",
    "    )\n",
    "\n",
    "    #ax.axis('off')\n",
    "\n",
    "    ax.set_xticks([])\n",
    "    ax.set_yticks([])\n",
    "    return ax\n",
    "\n",
    "lit_plot()\n",
    "plt.savefig(\"../plots/basic_lit_plot.png\")"
   ]
  },
  {
   "cell_type": "code",
   "execution_count": 74,
   "metadata": {},
   "outputs": [
    {
     "data": {
      "image/png": "[encoded data removed]",
      "text/plain": [
       "<matplotlib.figure.Figure at 0x7ff501371048>"
      ]
     },
     "metadata": {},
     "output_type": "display_data"
    }
   ],
   "source": [
    "ax = lit_plot()\n",
    "\n",
    "rect = Rectangle(\n",
    "    (0,0),.472,.65,\n",
    "    facecolor=\"white\",\n",
    "    edgecolor=\"grey\",\n",
    "    linewidth=3,\n",
    "    alpha=0.4,\n",
    ")\n",
    "ax.add_patch(rect)\n",
    "\n",
    "plt.savefig(\"../plots/lit_plot_query_1.png\")\n",
    "\n",
    "plt.show()"
   ]
  },
  {
   "cell_type": "code",
   "execution_count": 75,
   "metadata": {},
   "outputs": [
    {
     "data": {
      "image/png": "[encoded data removed]",
      "text/plain": [
       "<matplotlib.figure.Figure at 0x7ff500f733c8>"
      ]
     },
     "metadata": {},
     "output_type": "display_data"
    }
   ],
   "source": [
    "ax = lit_plot()\n",
    "\n",
    "rect = Rectangle(\n",
    "    (0,0),.18,.85,\n",
    "    facecolor=\"white\",\n",
    "    edgecolor=\"grey\",\n",
    "    linewidth=3,\n",
    "    alpha=0.4,\n",
    ")\n",
    "ax.add_patch(rect)\n",
    "\n",
    "plt.savefig(\"../plots/lit_plot_query_2.png\")\n",
    "\n",
    "plt.show()"
   ]
  },
  {
   "cell_type": "code",
   "execution_count": 76,
   "metadata": {},
   "outputs": [
    {
     "data": {
      "image/png": "[encoded data removed]",
      "text/plain": [
       "<matplotlib.figure.Figure at 0x7ff50143a9e8>"
      ]
     },
     "metadata": {},
     "output_type": "display_data"
    }
   ],
   "source": [
    "ax = lit_plot()\n",
    "\n",
    "rect = Rectangle(\n",
    "    (0,0),.38,.75,\n",
    "    facecolor=\"white\",\n",
    "    edgecolor=\"grey\",\n",
    "    linewidth=3,\n",
    "    alpha=0.4,\n",
    ")\n",
    "ax.add_patch(rect)\n",
    "\n",
    "plt.savefig(\"../plots/lit_plot_query_3.png\")\n",
    "\n",
    "plt.show()"
   ]
  },
  {
   "cell_type": "code",
   "execution_count": 2,
   "metadata": {},
   "outputs": [
    {
     "data": {
      "text/plain": [
       "257"
      ]
     },
     "execution_count": 2,
     "metadata": {},
     "output_type": "execute_result"
    }
   ],
   "source": [
    "docs = Doc.objects.filter(query=6956, content__iregex=\"\\w\").order_by('id')\n",
    "\n",
    "## WHY IS OLIVEIRA, 2007 included?\n",
    "### Also, Nepstad and Stickler, 2008\n",
    "### Polidoro 2010, very weak - not main conclusion\n",
    "\n",
    "# Exclude non-climate docs\n",
    "docs = docs.exclude(pk__in=[\n",
    "    \n",
    "    # ENSO\n",
    "    1461495, # Espinoza 2013\n",
    "    1626875, # White, 2007\n",
    "    \n",
    "    1622783, # Why is Oliveira, 2007 included?\n",
    "    1627593, # Killeen 2008\n",
    "    1627701, # Also, Nepstad and Stickler, 2008\n",
    "    2093363, # Etter\n",
    "    2090005, # Nepstad, 2006\n",
    "    1627734, # Polidoro 2010\n",
    "    \n",
    "    2089982, # Mars, 2007\n",
    "    \n",
    "    2090013, # Randolph 2010\n",
    "    \n",
    "    2093360, # Petney 2012\n",
    "    \n",
    "    2089960, # Wassenaar, 2007 - LUC\n",
    "    1627733, # Polidoro 2010, very weak - not main conclusion\n",
    "    2090004, # Veran 2007 - long line fishing\n",
    "    2089967, # Giri - mangrove database, climate only mentioned in conclusion and with reference\n",
    "    2089944, # Jellyman - eels\n",
    "    2091676, # Novelo-Casanova, 2010: Cayman Islands climate??\n",
    "    2089959, # Bruno, 2007 \n",
    "    1514856, # de Waroux 2012\n",
    "    2091680, # Guzman, 2008, we consider the main anthropogenic threats to the coral reefs and communities of the islands are overfishing, sedimentation and tourism\n",
    "    2089950, # Razumov - permafrost and erosion - climate? is the ref there as counter-evidence Nevertheless, the longterm average annual rate\n",
    "#                             of erosion of the coast line of the bottom of the Arctic\n",
    "#                             Seas is much lower than in the seas outside the cry\n",
    "#                             olithozone even under the conditions of the climate’s\n",
    "#                             warming accompanied by the activation of thermo\n",
    "#                             abrasion and during the subaqual abrasion processes\n",
    "#                             (Fig. 5). In particular, this proves the development of\n",
    "#                             ordinary abrasionaccumulation processes in the Arc\n",
    "#                             tic Seas, and, here, we cannot say about the influence\n",
    "#                             of thermal slumps on the formation of the underwater\n",
    "#                             slope relief\n",
    "])\n",
    "\n",
    "#\n",
    "\n",
    "\n",
    "docs.count()"
   ]
  },
  {
   "cell_type": "code",
   "execution_count": 3,
   "metadata": {},
   "outputs": [
    {
     "data": {
      "text/plain": [
       "<257x950 sparse matrix of type '<class 'numpy.int64'>'\n",
       "\twith 26903 stored elements in Compressed Sparse Row format>"
      ]
     },
     "execution_count": 3,
     "metadata": {},
     "output_type": "execute_result"
    }
   ],
   "source": [
    "#X = vec.fit_transform(docs.values_list('content',flat=True))\n",
    "\n",
    "vec = CountVectorizer(\n",
    "    ngram_range=(1,2),\n",
    "    min_df=10, strip_accents='unicode', \n",
    "    max_features=10000,\n",
    "    tokenizer=snowball_stemmer()\n",
    ")\n",
    "\n",
    "\n",
    "texts = [mash_texts(x) for x in docs]\n",
    "X = X = vec.fit_transform(texts)\n",
    "vocab = vec.get_feature_names()\n",
    "X[X.nonzero()] = 1\n",
    "X\n",
    "    \n"
   ]
  },
  {
   "cell_type": "markdown",
   "metadata": {},
   "source": [
    "## Only Climate keywords"
   ]
  },
  {
   "cell_type": "markdown",
   "metadata": {},
   "source": [
    "## Still unresolved:\n",
    "\n",
    "- La Nina, El Nino"
   ]
  },
  {
   "cell_type": "code",
   "execution_count": 4,
   "metadata": {},
   "outputs": [
    {
     "name": "stdout",
     "output_type": "stream",
     "text": [
      "TS=(\"climate model\" OR \"elevated* temperatur\" OR \"ocean* warming\" OR \"saline* intrusion\" OR \"chang* climat\" OR \"environment* change\" OR \"climat* change\" OR \"climat* warm\" OR \"warming* climat\" OR \"climat* varia\" OR \"global* warming\" OR \"global* change\" OR \"greenhouse* effect\" OR \"anthropogen*\" OR \"sea* level\" OR \"precipitation variabil*\" OR \"precipitation change*\" OR \"temperature* impact\" OR \"environmental* variab\" OR \"weather* pattern\" OR \"weather* factor*\" OR \"climat*\") OR TS=(\"change* NEAR/5  cryosphere\" OR \"increase* NEAR/3  temperatur*\")\n",
      "starting point: 257 docs\n",
      "256\n",
      "\n",
      "#####\n",
      "2089985 RAPID POPULATION INCREASES IN NATIVE VASCULAR PLANTS IN THE ARGENTINE ISLANDS, ANTARCTIC PENINSULA\n",
      "<QuerySet [<DocAuthInst: FOWBERT, JA>, <DocAuthInst: SMITH, RIL>]>\n",
      "1994\n",
      "The number of individual plants and colonies of the two native Antarctic vascular plants, Colobanthus quitensis and Deschampsia antarctica, have been monitored between 1964 and 1990 on three islands in the Argentine Islands archipelago, western Antarctic Peninsula. The Deschampsia population increased by nearly 25-fold and Colobanthus by over 5-fold. Furthermore there was a considerable increase in the number of Deschampsia colonies, although no additional colonies of Colobanthus were recorded. An analysis of Colobanthus plant size in 1974 and 1990 indicated that recruitment was probably irregular although the population structure remained essentially the same. The reasons for this and the increases in population size of both species are discussed. The relatively rapid increase in the abundance and distribution of these species is considered to be a response to the increasing summer air temperatures being experienced in the region of the maritime Antarctic. In particular, there is probably improved success in reproductive behavior resulting from warmer and/or longer growing seasons.\n",
      "None\n",
      "DESCHAMPSIA-ANTARCTICA; COLOBANTHUS-QUITENSIS; LOCALITIES; AREA\n"
     ]
    }
   ],
   "source": [
    "pats = [\n",
    "    \"climate model\",\n",
    "    \"elevated\\w* temperatur\",\n",
    "    \"ocean\\w* warming\",\n",
    "    \"saline\\w* intrusion\",\n",
    "    \"chang\\w* climat\",\n",
    "    \"environment\\w* change\",\n",
    "    \"climat\\w* change\",\n",
    "    \"climat\\w* warm\",\n",
    "    \"warming\\w* climat\",\n",
    "    \"climat\\w* varia\",\n",
    "    \"global\\w* warming\",\n",
    "    \"global\\w* change\",\n",
    "    \"greenhouse\\w* effect\",\n",
    "    \"anthropogen\\w*\",\n",
    "    \"sea\\w* level\",\n",
    "    \"precipitation variabil\\w*\",\n",
    "    \"precipitation change\\w*\",\n",
    "    \"temperature\\w* impact\",\n",
    "    \"environmental\\w* variab\",\n",
    "    \"change\\w* (\\w+\\s*\\W*){5} cryosphere\",\n",
    "    \"increase\\w* (\\w+\\s*\\W*){3} temperatur*\",\n",
    "    \"weather\\w* pattern\",\n",
    "    \"weather\\w* factor\\w*\",\n",
    "    \"climat\\w*\"\n",
    "]\n",
    "\n",
    "crpat, cwpat = translate_patterns(pats)\n",
    "mdocs, nmdocs = match_docs(crpat, docs, [\"wosarticle__de\",\"wosarticle__kwp\",\"title\",\"content\"])\n",
    "\n",
    "ctrpat, ctwpat = translate_patterns([\"climat\\w*\"])\n",
    "cmdocs, cnmdocs = match_docs(ctrpat, docs, [\"title\"])\n",
    "cids = cmdocs.values_list('pk',flat=True)\n",
    "\n",
    "mids = set(mdocs.values_list('pk',flat=True)) | set(cmdocs.values_list('pk', flat=True))\n",
    "\n",
    "mdocs = docs.filter(pk__in=mids)\n",
    "nmdocs = docs.exclude(pk__in=mids)\n",
    "\n",
    "\n",
    "print(cwpat)\n",
    "\n",
    "print(f\"starting point: {docs.count()} docs\")\n",
    "\n",
    "print(mdocs.count())\n",
    "\n",
    "for d in nmdocs[:10]:\n",
    "    print('\\n#####')\n",
    "    print(d.id, d.title)\n",
    "    print(d.docauthinst_set.all().order_by('position'))\n",
    "    print(d.PY)\n",
    "    print(d.content)\n",
    "    print(d.wosarticle.de)\n",
    "    print(d.wosarticle.kwp)"
   ]
  },
  {
   "cell_type": "code",
   "execution_count": 5,
   "metadata": {},
   "outputs": [
    {
     "name": "stdout",
     "output_type": "stream",
     "text": [
      "climate model\n",
      "removing \"climate model\" loses 1 documents\n",
      "elevated\\w* temperatur\n",
      "removing \"elevated\\w* temperatur\" loses 1 documents\n",
      "ocean\\w* warming\n",
      "removing \"ocean\\w* warming\" loses 2 documents\n",
      "saline\\w* intrusion\n",
      "removing \"saline\\w* intrusion\" loses 2 documents\n",
      "chang\\w* climat\n",
      "removing \"chang\\w* climat\" loses 1 documents\n",
      "environment\\w* change\n",
      "removing \"environment\\w* change\" loses 2 documents\n",
      "climat\\w* change\n",
      "removing \"climat\\w* change\" loses 1 documents\n",
      "climat\\w* warm\n",
      "removing \"climat\\w* warm\" loses 1 documents\n",
      "warming\\w* climat\n",
      "removing \"warming\\w* climat\" loses 1 documents\n",
      "climat\\w* varia\n",
      "removing \"climat\\w* varia\" loses 1 documents\n",
      "global\\w* warming\n",
      "removing \"global\\w* warming\" loses 1 documents\n",
      "global\\w* change\n",
      "removing \"global\\w* change\" loses 1 documents\n",
      "greenhouse\\w* effect\n",
      "removing \"greenhouse\\w* effect\" loses 1 documents\n",
      "anthropogen\\w*\n",
      "removing \"anthropogen\\w*\" loses 3 documents\n",
      "sea\\w* level\n",
      "removing \"sea\\w* level\" loses 8 documents\n",
      "precipitation variabil\\w*\n",
      "removing \"precipitation variabil\\w*\" loses 3 documents\n",
      "precipitation change\\w*\n",
      "removing \"precipitation change\\w*\" loses 1 documents\n",
      "temperature\\w* impact\n",
      "removing \"temperature\\w* impact\" loses 2 documents\n",
      "environmental\\w* variab\n",
      "removing \"environmental\\w* variab\" loses 2 documents\n",
      "change\\w* (\\w+\\s*\\W*){5} cryosphere\n",
      "removing \"change\\w* (\\w+\\s*\\W*){5} cryosphere\" loses 2 documents\n",
      "increase\\w* (\\w+\\s*\\W*){3} temperatur*\n",
      "removing \"increase\\w* (\\w+\\s*\\W*){3} temperatur*\" loses 1 documents\n",
      "weather\\w* pattern\n",
      "removing \"weather\\w* pattern\" loses 2 documents\n",
      "weather\\w* factor\\w*\n",
      "removing \"weather\\w* factor\\w*\" loses 2 documents\n",
      "climat\\w*\n",
      "removing \"climat\\w*\" loses 8 documents\n"
     ]
    }
   ],
   "source": [
    "for p in pats:\n",
    "    trpat, twpat = translate_patterns([x for x in pats if x!=p])\n",
    "    mdocs, nmdocs = match_docs(trpat, docs, [\"wosarticle__de\",\"wosarticle__kwp\",\"title\",\"content\"])\n",
    "    nmdocs = nmdocs.exclude(pk__in=cids.values_list('pk',flat=True))\n",
    "    print(p)\n",
    "    print(f'removing \"{p}\" loses {nmdocs.count()} documents')"
   ]
  },
  {
   "cell_type": "code",
   "execution_count": 6,
   "metadata": {},
   "outputs": [
    {
     "data": {
      "text/plain": [
       "<257x1367 sparse matrix of type '<class 'numpy.int64'>'\n",
       "\twith 22275 stored elements in Compressed Sparse Row format>"
      ]
     },
     "execution_count": 6,
     "metadata": {},
     "output_type": "execute_result"
    }
   ],
   "source": [
    "vec = CountVectorizer(\n",
    "    ngram_range=(1,2),\n",
    "    min_df=5, strip_accents='unicode', \n",
    "    max_features=10000,\n",
    "    stop_words=stoplist,\n",
    "    tokenizer=snowball_stemmer()\n",
    ")\n",
    "\n",
    "\n",
    "texts = [mash_texts(x, crpat) for x in docs]\n",
    "X = X = vec.fit_transform(texts)\n",
    "vocab = vec.get_feature_names()\n",
    "X[X.nonzero()] = 1\n",
    "X"
   ]
  },
  {
   "cell_type": "code",
   "execution_count": null,
   "metadata": {},
   "outputs": [],
   "source": []
  },
  {
   "cell_type": "code",
   "execution_count": null,
   "metadata": {},
   "outputs": [],
   "source": []
  },
  {
   "cell_type": "code",
   "execution_count": 7,
   "metadata": {},
   "outputs": [
    {
     "name": "stdout",
     "output_type": "stream",
     "text": [
      "show\n",
      "103\n",
      "trend\n",
      "104\n",
      "studi\n",
      "106\n",
      "use\n",
      "107\n",
      "year\n",
      "112\n",
      "impact\n",
      "112\n",
      "temperatur\n",
      "118\n",
      "region\n",
      "128\n",
      "increas\n",
      "152\n",
      "chang\n",
      "198\n"
     ]
    }
   ],
   "source": [
    "colsum = np.array(X.sum(axis=0))[0]\n",
    "\n",
    "for i in np.argsort(colsum)[-10:]:\n",
    "    print(vocab[i])\n",
    "    print(colsum[i])"
   ]
  },
  {
   "cell_type": "code",
   "execution_count": 8,
   "metadata": {},
   "outputs": [
    {
     "name": "stdout",
     "output_type": "stream",
     "text": [
      "TS=(\"impact*\" OR \"specie*\" OR \"mortality*\" OR \"ecosystem*\" OR \"mass balance\" OR \"flood*\" OR \"drought\" OR \"disease*\" OR \"adaptation\" OR \"malaria\" OR \"fire\" OR \"water scarcity\" OR \"water supply\" OR \"permafrost\" OR \"biological response\" OR \"food availability\" OR \"food security\" OR \"vegetation dynamic*\" OR \"cyclone*\" OR \"yield*\" OR \"snow water equival*\" OR \"surface temp*\") OR TS=(\"glacier* NEAR/3  melt*\" OR \"glacier* NEAR/3  mass*\" OR \"erosion* NEAR/5  coast*\" OR \"glacier* NEAR/5  retreat*\" OR \"rainfall* NEAR/5  reduc*\" OR \"coral* NEAR/5  stress*\" OR \"precip* NEAR/5  *crease*\" OR \"river NEAR/5  flow\")\n",
      "starting point: 257 docs\n",
      "257\n"
     ]
    }
   ],
   "source": [
    "pats = [\n",
    "    \"impact\\w*\",\n",
    "    \"specie\\w*\",\n",
    "    \"mortality\\w*\",\n",
    "    \"ecosystem\\w*\",\n",
    "    #\"snowmelt\\w*\",\n",
    "    \"mass balance\",\n",
    "    #\"landslide\\w*\",\n",
    "    \"flood\\w*\",\n",
    "    \"drought\",\n",
    "    \"disease\\w*\",\n",
    "    #\"desertification\",\n",
    "    \"glacier\\w* (\\w+\\s*\\W*){3} melt\\w*\",\n",
    "    \"glacier\\w* (\\w+\\s*\\W*){3} mass\\w*\",\n",
    "    \"adaptation\",\n",
    "    \"malaria\",\n",
    "    #\"population dynamic\",\n",
    "    \"fire\",\n",
    "    #\"coral bleaching\",\n",
    "    \"water scarcity\",\n",
    "    \"water supply\",\n",
    "    #\"yield response\\w*\",\n",
    "    \"erosion\\w* (\\w+\\s*\\W*){5} coast\\w*\",\n",
    "    \"glacier\\w* (\\w+\\s*\\W*){5} retreat\\w*\",\n",
    "    #\"rainfall\\w* (\\w+\\s*\\W*){5} decline\\w*\",\n",
    "    \"rainfall\\w* (\\w+\\s*\\W*){5} reduc\\w*\",\n",
    "    \"coral\\w* (\\w+\\s*\\W*){5} stress\\w*\",\n",
    "    #\"coral\\w* (\\w+\\s*\\W*){5} declin\\w*\",\n",
    "    \"precip\\w* (\\w+\\s*\\W*){5} \\w*crease\\w*\",\n",
    "    \"permafrost\",\n",
    "    \"biological response\",\n",
    "    \"food availability\",\n",
    "    \"food security\",\n",
    "    \"vegetation dynamic\\w*\",\n",
    "    \"river (\\w+\\s*\\W*){5} flow\",\n",
    "    \"cyclone\\w*\",\n",
    "    \"yield\\w*\",\n",
    "    #\"deglacier\\w*\",\n",
    "    \"snow water equival\\w*\",\n",
    "    \"surface temp\\w*\"\n",
    "]\n",
    "\n",
    "irpat, iwpat = translate_patterns(pats)\n",
    "mdocs, nmdocs = match_docs(irpat, docs, [\"wosarticle__de\",\"wosarticle__kwp\",\"title\",\"content\"])\n",
    "\n",
    "print(iwpat)\n",
    "\n",
    "print(f\"starting point: {docs.count()} docs\")\n",
    "\n",
    "print(mdocs.count())\n",
    "\n",
    "#for d in random.sample(list(nmdocs), 10):\n",
    "for d in nmdocs[:10]:\n",
    "    print('\\n#####')\n",
    "    print(d.id, d.title)\n",
    "    print(d.docauthinst_set.all().order_by('position'))\n",
    "    print(d.PY)\n",
    "    print(d.content)\n",
    "    print(d.wosarticle.de)\n",
    "    print(d.wosarticle.kwp)\n"
   ]
  },
  {
   "cell_type": "code",
   "execution_count": 9,
   "metadata": {},
   "outputs": [
    {
     "name": "stdout",
     "output_type": "stream",
     "text": [
      "impact\\w*\n",
      "removing \"impact\\w*\" loses 10 documents\n",
      "specie\\w*\n",
      "removing \"specie\\w*\" loses 10 documents\n",
      "mortality\\w*\n",
      "removing \"mortality\\w*\" loses 1 documents\n",
      "ecosystem\\w*\n",
      "removing \"ecosystem\\w*\" loses 5 documents\n",
      "mass balance\n",
      "removing \"mass balance\" loses 6 documents\n",
      "flood\\w*\n",
      "removing \"flood\\w*\" loses 5 documents\n",
      "drought\n",
      "removing \"drought\" loses 4 documents\n",
      "disease\\w*\n",
      "removing \"disease\\w*\" loses 1 documents\n",
      "glacier\\w* (\\w+\\s*\\W*){3} melt\\w*\n",
      "removing \"glacier\\w* (\\w+\\s*\\W*){3} melt\\w*\" loses 1 documents\n",
      "glacier\\w* (\\w+\\s*\\W*){3} mass\\w*\n",
      "removing \"glacier\\w* (\\w+\\s*\\W*){3} mass\\w*\" loses 2 documents\n",
      "adaptation\n",
      "removing \"adaptation\" loses 4 documents\n",
      "malaria\n",
      "removing \"malaria\" loses 2 documents\n",
      "fire\n",
      "removing \"fire\" loses 3 documents\n",
      "water scarcity\n",
      "removing \"water scarcity\" loses 1 documents\n",
      "water supply\n",
      "removing \"water supply\" loses 1 documents\n",
      "erosion\\w* (\\w+\\s*\\W*){5} coast\\w*\n",
      "removing \"erosion\\w* (\\w+\\s*\\W*){5} coast\\w*\" loses 1 documents\n",
      "glacier\\w* (\\w+\\s*\\W*){5} retreat\\w*\n",
      "removing \"glacier\\w* (\\w+\\s*\\W*){5} retreat\\w*\" loses 1 documents\n",
      "rainfall\\w* (\\w+\\s*\\W*){5} reduc\\w*\n",
      "removing \"rainfall\\w* (\\w+\\s*\\W*){5} reduc\\w*\" loses 1 documents\n",
      "coral\\w* (\\w+\\s*\\W*){5} stress\\w*\n",
      "removing \"coral\\w* (\\w+\\s*\\W*){5} stress\\w*\" loses 1 documents\n",
      "precip\\w* (\\w+\\s*\\W*){5} \\w*crease\\w*\n",
      "removing \"precip\\w* (\\w+\\s*\\W*){5} \\w*crease\\w*\" loses 1 documents\n",
      "permafrost\n",
      "removing \"permafrost\" loses 4 documents\n",
      "biological response\n",
      "removing \"biological response\" loses 1 documents\n",
      "food availability\n",
      "removing \"food availability\" loses 1 documents\n",
      "food security\n",
      "removing \"food security\" loses 1 documents\n",
      "vegetation dynamic\\w*\n",
      "removing \"vegetation dynamic\\w*\" loses 1 documents\n",
      "river (\\w+\\s*\\W*){5} flow\n",
      "removing \"river (\\w+\\s*\\W*){5} flow\" loses 2 documents\n",
      "cyclone\\w*\n",
      "removing \"cyclone\\w*\" loses 2 documents\n",
      "yield\\w*\n",
      "removing \"yield\\w*\" loses 2 documents\n",
      "snow water equival\\w*\n",
      "removing \"snow water equival\\w*\" loses 1 documents\n",
      "surface temp\\w*\n",
      "removing \"surface temp\\w*\" loses 4 documents\n"
     ]
    }
   ],
   "source": [
    "for p in pats:\n",
    "    trpat, twpat = translate_patterns([x for x in pats if x!=p])\n",
    "    mdocs, nmdocs = match_docs(trpat, docs, [\"wosarticle__de\",\"wosarticle__kwp\",\"title\",\"content\"])\n",
    "    #nmdocs = nmdocs.exclude(pk__in=cnmdocs.values_list('pk',flat=True))\n",
    "    print(p)\n",
    "    print(f'removing \"{p}\" loses {nmdocs.count()} documents')"
   ]
  },
  {
   "cell_type": "code",
   "execution_count": null,
   "metadata": {},
   "outputs": [],
   "source": []
  },
  {
   "cell_type": "code",
   "execution_count": 11,
   "metadata": {},
   "outputs": [
    {
     "name": "stdout",
     "output_type": "stream",
     "text": [
      "TS=(\"recent\" OR \"current\" OR \"modern\" OR \"observ*\" OR \"evidence*\" OR \"past\" OR \"local\" OR \"region*\" OR \"significant\" OR \"driver*\" OR \"response\" OR \"were responsible\" OR \"was responsible\" OR \"exhibited\" OR \"witnessed\" OR \"attribut*\" OR \"has increased\" OR \"has decreased\" OR \"histor*\" OR \"correlation\" OR \"evaluation\")\n",
      "starting point: 257 docs\n",
      "257\n"
     ]
    }
   ],
   "source": [
    "pats = [\n",
    "    \"recent\",\n",
    "    \"current\",\n",
    "    \"modern\",\n",
    "    \"observ\\w*\",\n",
    "    #\"case study\",\n",
    "    \"evidence\\w*\",\n",
    "    \"past\",\n",
    "    \"local\",\n",
    "    \"region\\w*\",\n",
    "    \"significant\",\n",
    "    \"driver\\w*\",\n",
    "    \"response\",\n",
    "    #\"have responded\",\n",
    "    \"were responsible\",\n",
    "    \"was responsible\",\n",
    "    \"exhibited\",\n",
    "    \"witnessed\",\n",
    "    \"attribut\\w*\",\n",
    "    \"has increased\",\n",
    "    \"has decreased\",\n",
    "    #\"have increased\",\n",
    "    #\"have decreased\",\n",
    "    \"histor\\w*\",\n",
    "    #\"recorded\",\n",
    "    \"correlation\",\n",
    "    \"evaluation\",\n",
    "]\n",
    "\n",
    "\n",
    "arpat, awpat = translate_patterns(pats)\n",
    "mdocs, nmdocs = match_docs(arpat, docs, [\"wosarticle__de\",\"wosarticle__kwp\",\"title\",\"content\"])\n",
    "\n",
    "print(awpat)\n",
    "\n",
    "print(f\"starting point: {docs.count()} docs\")\n",
    "\n",
    "print(mdocs.count())\n",
    "\n",
    "#for d in random.sample(list(nmdocs), 10):\n",
    "for d in nmdocs[:10]:\n",
    "    print('\\n#####')\n",
    "    print(d.id, d.title)\n",
    "    print(d.docauthinst_set.all().order_by('position'))\n",
    "    print(d.PY)\n",
    "    print(d.content)\n",
    "    print(d.wosarticle.de)\n",
    "    print(d.wosarticle.kwp)"
   ]
  },
  {
   "cell_type": "markdown",
   "metadata": {},
   "source": [
    "### go through each keyword (for all pattern lists), checking what changes if it is removed."
   ]
  },
  {
   "cell_type": "code",
   "execution_count": 13,
   "metadata": {},
   "outputs": [
    {
     "data": {
      "text/plain": [
       "257"
      ]
     },
     "execution_count": 13,
     "metadata": {},
     "output_type": "execute_result"
    }
   ],
   "source": [
    "\n",
    "mdocs, nmdocs = match_docs(arpat, docs, [\"wosarticle__de\",\"wosarticle__kwp\",\"title\",\"content\"])\n",
    "mdocs.count()"
   ]
  },
  {
   "cell_type": "code",
   "execution_count": 14,
   "metadata": {},
   "outputs": [
    {
     "name": "stdout",
     "output_type": "stream",
     "text": [
      "removing \"was responsible\" loses 0 documents\n",
      "removing \"has decreased\" loses 0 documents\n"
     ]
    }
   ],
   "source": [
    "for p in pats:\n",
    "    trpat, twpat = translate_patterns([x for x in pats if x!=p])\n",
    "    mdocs, nmdocs = match_docs(trpat, docs, [\"wosarticle__de\",\"wosarticle__kwp\",\"title\",\"content\"])\n",
    "    if nmdocs.count()==0:\n",
    "        print(f'removing \"{p}\" loses {nmdocs.count()} documents')"
   ]
  },
  {
   "cell_type": "code",
   "execution_count": null,
   "metadata": {},
   "outputs": [],
   "source": []
  },
  {
   "cell_type": "code",
   "execution_count": null,
   "metadata": {},
   "outputs": [],
   "source": [
    "## All queries together\n",
    "f\"({awpat}) AND ({iwpat}) AND ({cwpat})\"\n"
   ]
  },
  {
   "cell_type": "code",
   "execution_count": null,
   "metadata": {},
   "outputs": [],
   "source": []
  },
  {
   "cell_type": "code",
   "execution_count": null,
   "metadata": {},
   "outputs": [],
   "source": []
  },
  {
   "cell_type": "code",
   "execution_count": 19,
   "metadata": {},
   "outputs": [],
   "source": [
    "query_docs = Doc.objects.filter(query=7368)\n",
    "\n",
    "qds = list(query_docs.order_by('id').values(\"id\",\"wosarticle__de\",\"wosarticle__kwp\",\"wosarticle__ab\",\"wosarticle__ti\"))\n",
    "qds[0]"
   ]
  },
  {
   "cell_type": "code",
   "execution_count": 31,
   "metadata": {},
   "outputs": [
    {
     "name": "stdout",
     "output_type": "stream",
     "text": [
      "0\n",
      "100000\n",
      "200000\n",
      "300000\n"
     ]
    }
   ],
   "source": [
    "ids = []\n",
    "texts = []\n",
    "subset_ids = []\n",
    "subset_docs = list(mdocs.values_list('pk',flat=True))\n",
    "\n",
    "\n",
    "\n",
    "def mash_texts(x, pat=None):\n",
    "    s = \"\"\n",
    "    for at in [\"wosarticle__de\", \"wosarticle__kwp\",\"wosarticle__ab\", \"wosarticle__ti\",]:\n",
    "        if at in x:\n",
    "            t = x[at]\n",
    "            if pat:\n",
    "                t = re.sub(pat, \"\", t)\n",
    "            s+=f\" {t}\"\n",
    "    return s.strip()\n",
    "\n",
    "for i, d in enumerate(qds):\n",
    "    if i % 100000 == 0:\n",
    "        print(i)\n",
    "    ids.append(i)\n",
    "    texts.append(mash_texts(d))\n",
    "    if d['id'] in subset_docs:\n",
    "        subset_ids.append(i)\n",
    "\n"
   ]
  },
  {
   "cell_type": "code",
   "execution_count": 34,
   "metadata": {},
   "outputs": [
    {
     "data": {
      "text/plain": [
       "<318385x10000 sparse matrix of type '<class 'numpy.int64'>'\n",
       "\twith 37729988 stored elements in Compressed Sparse Row format>"
      ]
     },
     "execution_count": 34,
     "metadata": {},
     "output_type": "execute_result"
    }
   ],
   "source": [
    "X = X = vec.fit_transform(texts)\n",
    "vocab = vec.get_feature_names()\n",
    "X[X.nonzero()] = 1\n",
    "X"
   ]
  },
  {
   "cell_type": "code",
   "execution_count": 35,
   "metadata": {},
   "outputs": [
    {
     "data": {
      "text/plain": [
       "<228x10000 sparse matrix of type '<class 'numpy.int64'>'\n",
       "\twith 27598 stored elements in Compressed Sparse Row format>"
      ]
     },
     "execution_count": 35,
     "metadata": {},
     "output_type": "execute_result"
    }
   ],
   "source": [
    "#subset = X[random.sample(range(X.shape[0]),round(X.shape[0]*0.1))]\n",
    "subset = X[subset_ids]\n",
    "subset"
   ]
  },
  {
   "cell_type": "code",
   "execution_count": 36,
   "metadata": {},
   "outputs": [
    {
     "name": "stdout",
     "output_type": "stream",
     "text": [
      "4719\n"
     ]
    }
   ],
   "source": [
    "colsum = np.array(subset.sum(axis=0))[0]\n",
    "zeros = np.argwhere(colsum==0)[:,0]\n",
    "print(len(zeros))"
   ]
  },
  {
   "cell_type": "code",
   "execution_count": 37,
   "metadata": {},
   "outputs": [
    {
     "data": {
      "text/plain": [
       "<318385x4719 sparse matrix of type '<class 'numpy.int64'>'\n",
       "\twith 5077565 stored elements in Compressed Sparse Row format>"
      ]
     },
     "execution_count": 37,
     "metadata": {},
     "output_type": "execute_result"
    }
   ],
   "source": [
    "X[:,zeros]"
   ]
  },
  {
   "cell_type": "code",
   "execution_count": 43,
   "metadata": {},
   "outputs": [
    {
     "name": "stdout",
     "output_type": "stream",
     "text": [
      "captur 10627\n",
      "isol 10077\n",
      "fossil 9402\n",
      "author 9226\n",
      "american 8877\n",
      "acid 8610\n",
      "pleistocen 8591\n",
      "transfer 8394\n",
      "goal 8382\n",
      "oxid 7966\n",
      "particl 7172\n",
      "parameter 6973\n",
      "pollen 6913\n",
      "receiv 6860\n",
      "ozon 6707\n",
      "photosynthesi 6703\n",
      "cell 6675\n",
      "share 6485\n",
      "valuabl 6116\n",
      "dna 5896\n",
      "wood 5759\n",
      "assimil 5723\n",
      "phylogenet 5721\n",
      "section 5696\n",
      "electr 5508\n",
      "genotyp 5480\n",
      "particul 5462\n",
      "fine 5431\n",
      "iii 5426\n",
      "classifi 5322\n",
      "choic 5295\n",
      "photosynthet 5278\n",
      "last glacial 5229\n",
      "cultivar 4995\n",
      "genet divers 4950\n",
      "polit 4944\n",
      "result studi 4797\n",
      "conceptu 4761\n",
      "precis 4743\n",
      "promis 4730\n",
      "biogeochem 4711\n",
      "hybrid 4703\n",
      "studi provid 4680\n",
      "distribut model 4672\n",
      "nitrat 4636\n",
      "protein 4612\n",
      "modi 4593\n",
      "accept 4574\n",
      "spp 4564\n",
      "optic 4538\n",
      "downscal 4528\n",
      "toxic 4480\n",
      "gcm 4413\n",
      "resourc manag 4404\n",
      "system model 4389\n",
      "glacial maximum 4338\n",
      "methan 4337\n",
      "propag 4325\n",
      "retriev 4317\n",
      "signatur 4315\n",
      "intensifi 4190\n",
      "object studi 4177\n",
      "relat humid 4130\n",
      "tradeoff 4129\n",
      "use effici 4050\n",
      "use model 4036\n",
      "chlorophyl 4021\n",
      "dimens 3969\n",
      "real 3957\n",
      "decemb 3928\n",
      "diversif 3911\n",
      "signific effect 3907\n",
      "communic 3876\n",
      "north american 3820\n",
      "zonal 3809\n",
      "two differ 3808\n",
      "dens 3798\n",
      "substrat 3771\n",
      "definit 3754\n",
      "inclus 3712\n",
      "generalcircul 3707\n",
      "sensor 3703\n",
      "nutrit 3688\n",
      "fluvial 3674\n",
      "technic 3666\n",
      "exclus 3660\n",
      "specimen 3656\n",
      "conflict 3652\n",
      "agent 3649\n",
      "vapor 3648\n",
      "agenc 3646\n",
      "studi evalu 3641\n",
      "studi demonstr 3604\n",
      "perenni 3596\n",
      "cal 3596\n",
      "bacteria 3590\n",
      "tempor variat 3587\n",
      "filter 3579\n",
      "south america 3579\n",
      "stratigraphi 3578\n",
      "bulk 3568\n",
      "road 3566\n",
      "configur 3562\n",
      "side 3549\n",
      "young 3549\n",
      "natur anthropogen 3545\n",
      "leaf area 3540\n",
      "air qualiti 3520\n",
      "overestim 3488\n",
      "mitochondri 3476\n",
      "nuclear 3474\n",
      "phylogeni 3471\n",
      "softwar 3466\n",
      "soil carbon 3456\n",
      "stomat 3451\n",
      "bacteri 3429\n",
      "transient 3429\n",
      "platform 3428\n",
      "eddi 3420\n",
      "gross 3417\n",
      "invas speci 3415\n",
      "ancient 3413\n",
      "late pleistocen 3409\n",
      "rough 3382\n",
      "fix 3369\n",
      "score 3354\n",
      "joint 3353\n",
      "ideal 3340\n",
      "fast 3300\n",
      "stratospher 3299\n",
      "phylogeographi 3288\n",
      "model base 3284\n",
      "three differ 3277\n",
      "summari 3248\n",
      "novemb 3247\n",
      "approach use 3243\n",
      "sound 3222\n",
      "natur resourc 3189\n",
      "advect 3187\n",
      "younger 3180\n",
      "particul matter 3178\n",
      "oak 3175\n",
      "water content 3175\n",
      "public health 3160\n",
      "archiv 3158\n",
      "use studi 3145\n",
      "generalcircul model 3135\n",
      "climat region 3129\n",
      "save 3125\n",
      "stratigraph 3120\n",
      "atmospher model 3110\n",
      "verifi 3110\n",
      "compon analysi 3110\n",
      "investig effect 3103\n",
      "elucid 3103\n",
      "scarc 3096\n",
      "hous 3094\n",
      "safeti 3058\n",
      "outlin 3057\n",
      "model perform 3056\n",
      "fungi 3037\n",
      "deterior 3026\n",
      "gcms 2996\n",
      "compet 2990\n",
      "clay 2986\n",
      "polymorph 2982\n",
      "fossil fuel 2973\n",
      "mixtur 2970\n",
      "analysi use 2965\n",
      "brazilian 2936\n",
      "visual 2935\n",
      "synopt 2927\n",
      "acquir 2924\n",
      "ghg 2922\n",
      "inher 2920\n",
      "archaeolog 2908\n",
      "facil 2908\n",
      "prospect 2895\n",
      "updat 2889\n",
      "protocol 2879\n",
      "gene flow 2869\n",
      "may affect 2868\n",
      "plant growth 2866\n",
      "combin effect 2857\n",
      "miocen 2847\n",
      "weather condit 2846\n",
      "rest 2836\n",
      "spectrum 2822\n",
      "benefici 2819\n",
      "latent 2816\n",
      "transpir 2812\n",
      "believ 2782\n",
      "egg 2767\n",
      "fungal 2761\n",
      "microbi communiti 2748\n",
      "even though 2735\n",
      "numer model 2735\n",
      "consecut 2726\n",
      "chang studi 2724\n",
      "footprint 2717\n"
     ]
    }
   ],
   "source": [
    "zsums = np.array(X[:,zeros].sum(axis=0))\n",
    "zsorted =  np.argsort(zsums)[0]\n",
    "for i in zsorted[-200:][::-1]:\n",
    "    z = int(zeros[i])\n",
    "    v = vocab[z]\n",
    "    n = zsums[0][i]\n",
    "    print(v, n)\n",
    "    "
   ]
  },
  {
   "cell_type": "code",
   "execution_count": null,
   "metadata": {},
   "outputs": [],
   "source": []
  },
  {
   "cell_type": "code",
   "execution_count": null,
   "metadata": {},
   "outputs": [],
   "source": [
    "# - impact not impact assessment\n",
    "exclusions = [\n",
    "    \"carbon captur*\",\n",
    "    \"life cycle assessment\",\n",
    "    \"pleistocen*\",\n",
    "    \"fuel cell\"\n",
    "]"
   ]
  },
  {
   "cell_type": "code",
   "execution_count": null,
   "metadata": {},
   "outputs": [],
   "source": []
  },
  {
   "cell_type": "code",
   "execution_count": 28,
   "metadata": {},
   "outputs": [
    {
     "name": "stdout",
     "output_type": "stream",
     "text": [
      "{'content': 'Recent studies documenting shifts in spatial distribution of many organisms in response to a warming climate highlight the need to understand the mechanisms underlying species distribution at large spatial scales. Here we present one noteworthy example of remote oceanographic processes governing the spatial distribution of adult silver hake, Merluccius bilinearis, a commercially important fish in the Northeast US shelf region. Changes in spatial distribution of silver hake over the last 40 years are highly correlated with the position of the Gulf Stream. These changes in distribution are in direct response to local changes in bottom temperature on the continental shelf that are responding to the same large scale circulation change affecting the Gulf Stream path, namely changes in the Atlantic meridional overturning circulation (AMOC). If the AMOC weakens, as is suggested by global climate models, silver hake distribution will remain in a poleward position, the extent to which could be forecast at both decadal and multidecadal scales.'}\n",
      "\n",
      "{'content': 'Glaciers in the Tuotuo River basin, western China, have been monitored in recent decades by applying topographical maps and high-resolution satellite images. Results indicate that most of glaciers in the Tuotuo River basin have retreated in the period from 1968/1971 to 2001/2002, and their shrinkage area is 3.2% of the total area in the late 1960s. To assess the influence of glacier runoff on river runoff, a modified degree-day model including potential clear-sky direct solar radiation has been applied to the glaciated regions of the river basin over the period 1961-2004. It was found that glacier runoff has increased in the last 44 years, especially in the 1990s when a two-thirds increase in river runoff was derived from the increase in glacier runoff caused by loss of ice mass in the entire Tuotuo River basin.'}\n",
      "\n",
      "{'content': 'The aim of this article is to determine the main sources of the variability of large West African river discharges during the years 1951-2000. The analysis is based on river discharge simulations of ORCHIDEE Land-Surface Model forced by NCC (NCEP Corrected by CRU) over this period. In a first part, an analysis of the partitionning of precipitation in the different basins is given. It is first shown that total runoff is more variable and better correlated to precipitation than evapotranspiration over every basin on annual means. Then the more complex link between evapotranspiration and precipitation is investigated through correlation and regression analyses. Over the \"dry\" (soudano-sahelian) catchments, evapotranspiration is the most variable and mainly correlated to the annual precipitation. Over the \"humid\" (equatorial) catchment, it is mainly correlated to the season length and does not depend on other characteristics of the precipitation. Over the \"intermediate\" (guinean) catchments, annual precipitation and season length both play a role, along with the average intensity of rainfall events, and other characteristics such as the number of long breaks in the rainy season. A second part focuses on the way ORCHIDEE reproduces the variability of river discharges for the years 1951-2000. It is shown that relative anomalies are correctly simulated by ORCHIDEE forced by NCC over every catchment without taking into account any land-use change. Moreover, no significant difference is found in the accuracy with which ORCHIDEE simulates the humid (1953-1970) and the dry (1973-1990) periods over two selected catchments. This implies that the impact of land-use changes was much less important than the impact of precipitation changes over the years 1951-2000 in large West African catchments.'}\n",
      "\n",
      "{'content': 'Anecdotes from local residents and modeling studies suggest that deforestation may delay the onset of the rainy season (O) in western Brazil, but detection studies using climatological time series are not available. Here we investigate trends in O in the state of Rondonia, Brazil, a region that has been continuously deforested since the 1970s. Daily rainfall data from 16 station time series, spanning periods of at least 25 years, with five covering more than 30 years, are used. We define O as the first day after 1 September with rainfall greater than 20 mm d(-1). A t test indicates that for stations that lie inside the major deforested area, O has significantly shifted to, on average, 11 days (and up to 18 days) later in the year over the last three decades. However, for stations that lie in areas that have not been heavily deforested, O has not shifted significantly. Nonparametric and parametric trend analyses all gave similar results for the change of O with time, and all of the statistically significant results indicated a delay in O. Twenty-five percent (four) of the stations analyzed showed a marked shift in timing of O: these stations are located inside deforested areas, primarily near the BR 364 highway that crosses Rondonia. Delayed onset may be a result of land use change, and this signal may strengthen in future: current delaying trends may be as great as 0.6 days per year, and after 30 years of deforestation the onset of the rainy season is expected to be 18 days later.'}\n",
      "\n",
      "{'content': 'Understanding the causes of savanna-forest dynamics is vital as small but widespread changes in the extent of tropical forests can have major impacts on global climate, biodiversity and human well-being. Comparison of aerial photographs for 50 rain-forest patches in Kakadu National Park had previously revealed a landscape-wide monotonic expansion of rain-forest boundaries between 1964 and 2004. Here floristic, structural, environmental and disturbance attributes of the changes were investigated by sampling 588 plots across 30 rain-forest patches. Areas that had changed from savanna to rain forest were associated with a significantly higher abundance of rain-forest trees and less grasses, relative to stable savanna areas. Ordination analyses showed that overall floristic composition was not significantly different between newly established rain forest and longer established rain forest. Generalized linear models also indicated that contemporary levels of disturbance (fire and feral animal impact) and environmental variables (slope and soil texture) were poor predictors of historical vegetation change. We concluded that (1) the rain-forest boundaries are highly dynamic at the decadal scale; (2) rain-forest expansion is consistent with having been driven by global environmental change phenomena such as increases in rainfall and atmospheric CO2; and (3) expansion will continue if current climatic trends and management conditions persist. Copyright © 2007 Cambridge University Press.'}\n",
      "\n",
      "{'content': \"The spatial patterns, time history, and seasonality of African rainfall trends since 1950 are found to be deducible from the atmosphere's response to the known variations of global sea surface temperatures (SSTs). The robustness of the oceanic impact is confirmed through the diagnosis of 80 separate 50-yr climate simulations across a suite of atmospheric general circulation models. Drying over the Sahel during boreal summer is shown to be a response to warming of the South Atlantic relative to North Atlantic SST, with the ensuing anomalous interhemispheric SST contrast favoring a more southern position of the Atlantic intertropical convergence zone. Southern African drying during austral summer is shown to be a response to Indian Ocean warming, with enhanced atmospheric convection over those warm waters driving subsidence drying over Africa. The ensemble of greenhouse-gas-forced experiments, conducted as part of the Fourth Assessment Report of the Intergovernmental Panel on Climate Change, fails to simulate the pattern or amplitude of the twentieth-century African drying, indicating that the drought conditions were likely of natural origin. For the period 2000-49, the ensemble mean of the forced experiments yields a wet signal over the Sahel and a dry signal over southern Africa. These rainfall changes are physically consistent with a projected warming of the North Atlantic Ocean compared with the South Atlantic Ocean, and a further warming of the Indian Ocean. However, considerable spread exists among the individual members of the multimodel ensemble.\"}\n",
      "\n",
      "{'content': 'Patterns of climate-forced range shift in the marine environment are informed by investigating the population dynamics of an ecologically important sea urchin (Centrostephanus rodgersii-Diadematidae) across its newly extended range in Tasmania (southeastern Australia). A growth model of C. rodgersii is developed allowing estimation of a sea urchin age profile and, in combination with abundance data, we correlate the sea urchin population dynamic with respect to environmental signals across the range extension region. Growth patterns did not vary across the extension region; however, there was a strong pattern of decreasing sea urchin age with increasing distance from the historic range. The sequential poleward discovery of the sea urchin, a pattern of declining age and a general poleward reduction in abundance along the eastern Tasmanian coastline are consistent with a model of range extension driven by recent change in patterns of larval dispersal. We explore this hypothesis by correlating C. rodgersii population characteristics with respect to the East Australian Current (EAC), i.e. the chief vector for poleward larval dispersal, and reveal patterns of declining sea urchin age and abundance with increasing distance from this oceanic feature. Furthermore, C. rodgersii is generally limited to sites where average winter temperatures are warmer than the cold threshold for its larval development. Potential dispersal and physiological mechanisms defining the range extension appear to be strongly coupled to the EAC which has undergone recent poleward advance and resulted in coastal warming in eastern Tasmania. Predicted climate change conditions for this region will favour continued population expansion of C. rodgersii not only via atmospheric-forced ocean warming, but also via ongoing intensification of the EAC driving continued poleward supply of larvae and heat.'}\n",
      "\n",
      "{'content': \"The aim of this study is to explore the burning pattern of the catastrophic wildfires that occurred in Peloponnisos, southern Greece, in 2007. These fires caused the loss of 67 lives and were recognized as the most extreme natural disaster in the country's recent history. We compare the 2007 fires against fuel availability across the landscape in the light of a null model using Monte-Carlo randomization and against the fire pattern for the preceding period, 2000-2006. Additionally we applied a multi-response permutation-procedure test, a data-driven method free from assumptions about the underlying distribution. The study contributes to the ongoing debate over the relative importance of fuel versus weather in explaining large and intense wildfires. While the majority of the 2007 wildfires burned low-elevation fire-prone ecosystems, a part of them moved to non-fire-prone ecosystems, indicating a departure from the burning pattern of recent history. The CORINE land-cover categories most affected by fire included agricultural lands highly interspersed with large areas of natural vegetation followed by sclerophyllous vegetation, transitional woodland shrubs, complex cultivation patterns and olive groves. These reflect greater fuel accumulation through the encroachment of natural vegetation in abandoned fields as well as changing patterns of land-use. The rising proportions of humid and sub-humid areas burned are clearly related to weather patterns. The synergistic effect between fuel and weather helps explain the unusually large 2007 wildfires in Peloponnisos. This change may imply a climatically driven alteration of the established fire-regime promoted by fuel accumulation that portends major ecological consequences. The ecological disaster foreseen is justified by the lack of specific adaptations to cope with fire in non fire-prone plant communities. (C) 2011 Elsevier B.V. All rights reserved.\"}\n",
      "\n",
      "{'content': \"Since the 1970s, the delivered sugar yield per hectare has risen at an average annual rate of 0 center dot 111 t/ha, while the sugar yield in the official variety trials has increased at an average annual rate of 0 center dot 204 t/ha. These increases are usually considered to be the result of improvements in varieties and in beet agronomy. The present paper considers the possible impact of recent changes in climate on UK sugar yields by using the Broom's Barn Crop Growth Model and daily weather data collected over the last 30 years. Simulations of sugar yield using weather in eastern England since 1976 increased by an average annual rate of 0 center dot 139 t/ha, which accounted for about two thirds of the rate in the official variety trials. This increase was not an artefact of the accuracy of weather recording but it was, in part, accounted for by the trend to earlier sowing. Although it was not statistically significant, the earlier sowing trend was associated with an increase of 0 center dot 025 t/ha per year and was an indirect effect of the climate change. The annual deviations from these trends have not tended to become significantly bigger or smaller over the three decades. The model is not variety-specific, so it makes no allowance for variety improvements during the last 30 years. Clearly, varieties have improved so the implication must be that some of the changes in agronomy have tended to decrease the yields significantly. The changes in agronomic practice most likely to be responsible are the extension of the crop processing campaign, leading to greater post-harvest storage losses, and a decrease in the irrigated area..\"}\n",
      "\n",
      "{'content': \"Many boreal forests grow in regions where climate is now warming rapidly. Changes in these vast, cold forests have the potential to affect global climate because they store huge amounts of carbon and because the relative abundances of their different tree species influence how much solar radiation reflects back to space. Both the carbon cycling and albedo of boreal forests are strongly affected by wildland fires, which in turn are closely controlled by summer climate. Here we use a forest disturbance model in both a retrospective and predictive manner to explore how the forests of Interior Alaska respond to changing climate. Results suggest that a widespread shift from coniferous to deciduous vegetation began around A.D. 1990 and will continue over the next several decades. This ecological regime shift is being driven by old, highly flammable spruce stands encountering a warmer climate conducive to larger and more frequent fires. Increased burning promotes the spread of early successional, deciduous species at the expense of spruce. These striking changes in the vegetation composition and fire regime are predicted to alter the biophysics of Alaska's forests. The ground will warm, and a surge of carbon emission is likely. Our modeling results support previous inferences that Alaska's boreal forest is now shifting to a new ecological state and that positive feedbacks to global warming will accompany this change.\"}\n",
      "\n",
      "{'content': 'The last two decades are witnessing a decline in the growth trend of cereal yields in many European countries. The present study analyses yield trends in France using various sources of data: national and regional statistics, scattered trials, results of agroclimatic models using climatic data. Effects in genetic changes through breeding, agronomy and climate are investigated as possible causes. Our results show that genetic progress has not declined but it was partly counteracted, from 1990 on, by climate change which in general is unfavorable to cereal yields in temperate climates because of heat stress during grain filling and drought during stem elongation. We cannot however, from the decade beginning in 2000, rule out agronomic causes, related to policy and economy, in particular the decline of legumes in the cereal rotations, replaced by oilseed rape and to a lesser extent the decrease in nitrogen fertilization. (C) 2010 Elsevier B.V. All rights reserved.'}\n",
      "\n",
      "{'content': 'A large research program in the Australian monsoon tropics has concluded that monsoon rainforests have expanded within the savanna matrix, a trend that has been emulated throughout the tropics worldwide. The driver of the northern Australian trend was not resolved, but it was suggested to be linked to a long-term trend towards wetter climates, atmospheric CO(2) enrichment, and changed fire regimes. We review these findings with particular consideration of its analytical and evidentiary basis and plausibility of the global change hypothesis. Field validation has largely demonstrated that the aerial photographic technique that underpinned the previous research is reliable enough to detect rainforest expansion. Statistical modelling demonstrated that the expansion is related to sites with regionally low fire activity, although models are of low explanatory power reflecting the sketchy historical records of fire and feral animal impacts. Field studies show that current fire regimes adjacent to expanding rainforest patches are causing populations of the native conifer Callitris intratropica, an obligate seeder, to crash. Therefore, it is unlikely that changes in fire regimes, which have been deleterious to other fire-sensitive taxa and plant communities in the region, are responsible for the rainforest expansion. We conclude that the expansion of monsoon rainforests is most plausibly linked to the current wetting trend or elevated CO(2) concentration. Increases in either water availability or CO(2) concentration can potentially overwhelm the negative feedback between fire and rainforest cover that is responsible for the meta-stability of monsoon rainforest boundaries. However, further research at the continental scale, using aerial photography, tree rings and other proxies, is required to evaluate this hypothesis.'}\n",
      "\n",
      "{'content': \"Water scarcity is one of the most challenging issues in arid and semi-arid regions. In the Yellow River basin, rapid growth of population, urbanization, and industrialization have caused ever-increasing competition for water. This study was conducted to evaluate the potential effects of climate change on mean annual runoff in the Yellow River basin under different climate change scenarios projected by the Hadley Centre's third-generation general circulation model (HadCM3) using an evaporation ratio function of the aridity index. The results showed that annual runoff was more sensitive to change in precipitation than to change in evaporation. Simulations using HadCM3 scenarios A2 and B2 indicated that the changes in annual runoff compared to 30-year average runoff for each region, which varied from region to region, ranged from -34.1% to 49.6%. In general, the potential changes in annual runoff were greater in the middle and down reaches of the Yellow River basin. For the Yellow River basin as a whole, the mean annual runoff increased up to 2.2%, 12.3%, and 11.4% for scenario A2, and the changes were 8.4%, -0.1%, and 5.3% for scenario B2 by the years 2020, 2050, and 2080, respectively. However, the increase in future annual runoff will be insufficient to meet projected water demands of the Yellow River Basin. Proper water management and water conservation technologies will need to be considered for the coming century to avoid water shortages. The expected increases in runoff require that more attention will be given to soil and water conservation practices such as vegetation and check-dam construction.\"}\n",
      "\n",
      "{'content': 'Climate change continues to have major impact on crop productivity all over the world. Many researchers have evaluated the possible impact of global warming on crop yields using mainly indirect crop simulation models. Here we use a 1979-2000 Chinese crop-specific panel dataset to investigate the climate impact on Chinese wheat yield growth. We find that a 1 degrees C increase in wheat growing season temperature reduces wheat yields by about 3-10%. This negative impact is less severe than those reported in other regions. Rising temperature over the past two decades accounts for a 4.5% decline in wheat yields in China while the majority of the wheat yield growth, 64%, comes from increased use of physical inputs. We emphasize the necessity of including such major influencing factors as physical inputs into the crop yield-climate function in order to have an accurate estimation of climate impact on crop yields. (C) 2009 Elsevier B.V. All rights reserved.'}\n",
      "\n",
      "{'content': 'The area burned by forest fires in Canada has increased over the past four decades, at the same time as summer season temperatures have warmed. Here we use output from a coupled climate model to demonstrate that human emissions of greenhouse gases and sulfate aerosol have made a detectable contribution to this warming. We further show that human-induced climate change has had a detectable influence on the area burned by forest fire in Canada over recent decades. This increase in area burned is likely to have important implications for terrestrial emissions of carbon dioxide and for forest ecosystems.'}\n",
      "\n",
      "{'content': 'In this review we detail the impact of climate change on marine productivity, on marine environmental stochasticity and cyclicity, and on the spatio-temporal match-mismatch of seabirds and their prey. We thereby show that global warming has a profound bottom-up impact upon marine top-predators, but that such effects have to be studied in conjunction with the (top-down) impact of human fisheries upon seabird food resources. Further, we propose seabird ecological features, such as memory effects and social constraints, that make them particularly sensitive to rapid environmental change. We provide examples of how seabirds may nonetheless adapt when facing the consequences of climate change. We conclude that our understanding of the spatial ecology of seabirds facing environmental change is still rudimentary, despite its relevance for the conservation of these vulnerable organisms and for the management of marine ecosystems. We define the following research priorities. (1) Determine the factors affecting seabird distribution and movements at sea using biotelemetry, as well as colony dynamics on land. (2) Link seabird distribution patterns to those of their prey, (3) Determine further the role of historical and metapopulation processes in contributing to the dynamics of the spatial distribution of seabirds. (4) Assess phenotypic plasticity and the potential for microevolution within seabird spatial responses to climate change, since both will greatly affect the quality of modelling studies. (5) Adapt existing models to define and predict the impact of climate change onto seabird spatial dynamics. (6) Synthesize all gathered information to define marine protected areas and further conservation schemes, such as capacity reduction of fisheries. This research effort will require maintaining existing long-term monitoring programmes for seabirds, as well as developing new approaches to permit the integration of processes occurring at various scales, in order to be able to fully track the population responses of these long-lived vertebrates to environmental changes.'}\n",
      "\n",
      "{'content': 'Data on grain yield from field trials on winter wheat under conventional farming, harvested between 1992 and 2008, were combined with daily weather data available for 44 grids covering Denmark. Nine agroclimatic indices were calculated and used for describing the relation between weather data and grain yield. These indices were calculated as average temperature, radiation and precipitation during winter (1 October-31 March), spring (1 April-15 June) and summer (16 June-31 July), and they were included as linear and quadratic covariates in a mixed regression model. The model also included an effect of year to describe the change in yield caused by unrecorded variables such as management changes. The final model included all effects that were significant for at least one of the two soil types (sandy and loamy soils). Seven of the nine agroclimatic indices were included in the final model that was used to predict the wheat grain yield under five climate scenarios (a baseline for 1985 and two climate change projections for 2020 and 2040) for two soil types and two locations in Denmark. The agroclimatic index for summer temperature showed the strongest effect causing lower yields with increasing temperature, whereas yield increased with increasing radiation during summer and spring. Winter precipitation and spring temperature did not affect grain yield significantly. Grain yield responded non-linearly to mean winter temperature with the highest yield at 4.4 degrees C and lower yields both below and above this inflection point. The application of the model predicted that the average yield would decrease under projected climate change. The average decrease varied between 0.1 and 0.8 t/ha (comparable to a relative reduction of 1.6-12.3%) depending on the climate projection, location and soil type. On average, the grain yield decreased by about 0.25 t/ha (c. 3.6%) from 1985 to 2020 and by about 0.55 t/ha (c. 8.0%) from 1985 to 2040. The predicted yield decrease depended on climate projection and was larger for wheat grown in West Zealand than in Central Jutland and in most cases also larger for loamy soils than for sandy soils. The inter-annual variation in grain yield varied greatly between climate projections. The coefficient of variation (CV) varied between 0.16 and 0.46 and was smallest for wheat grown on loamy soils in Central Jutland in the baseline climate and largest for winter wheat grown under one of the 2040 climate projections. The increase in CV is not so much an effect of increased climatic variability under the climate change projections, but more an effect of increased winter temperature, where more extreme winter temperatures (lower or higher than the inflection point at 4.4 degrees C) increased the effect of winter temperatures.'}\n",
      "\n",
      "{'content': 'Ocean acidification describes the progressive, global reduction in seawater pH that is currently underway because of the accelerating oceanic uptake of atmospheric CO2. Acidification is expected to reduce coral reef calcification and increase reef dissolution. Inorganic cementation in reefs describes the precipitation of CaCO3 that acts to bind framework components and occlude porosity. Little is known about the effects of ocean acidification on reef cementation and whether changes in cementation rates will affect reef resistance to erosion. Coral reefs of the eastern tropical Pacific (ETP) are poorly developed and subject to rapid bioerosion. Upwelling processes mix cool, subthermocline waters with elevated pCO(2) (the partial pressure of CO2) and nutrients into the surface layers throughout the ETP. Concerns about ocean acidification have led to the suggestion that this region of naturally low pH waters may serve as a model of coral reef development in a high-CO2 world. We analyzed seawater chemistry and reef framework samples from multiple reef sites in the ETP and found that a low carbonate saturation state (Omega) and trace abundances of cement are characteristic of these reefs. These low cement abundances may be a factor in the high bioerosion rates previously reported for ETP reefs, although elevated nutrients in upwelled waters may also be limiting cementation and/or stimulating bioerosion. ETP reefs represent a real-world example of coral reef growth in low-Omega waters that provide insights into how the biological-geological interface of coral reef ecosystems will change in a high-CO2 world.'}\n",
      "\n",
      "{'content': \"Some 11% of Iceland is covered by glaciers. They contain 3,600 km(3) of water, equivalent to a 35-m-thick ice layer spread evenly over the whole country; if melted, it would raise global sea level by 1 cm. This is Iceland's greatest water storage, corresponding to the precipitation of 20 years. Dynamic in nature, these glaciers are responsive to climate fluctuations and effect their environment profoundly. Also, they, lie over active volcanoes; these induce jokulhlaups that can threaten areas of habitation. The country's glaciers feed its largest rivers and currently provide at least one-third of its total runoff. Since a general glacier recession set in at the end of the 19th century, the largest icecap, Vatnajokull, has decreased by about 10% in volume (300 km(3)), contributing 1 mm to the concurrent rise in sea level. During the last ten years, ice losses have accelerated, thereby detracting 2.7% (84 km(3)) from the total icecap volume. Typically, radiation provides two-thirds of the melt energy, turbulent fluxes one-third. However; transitory volcanic eruptions and continuous geothermal activity at the bed of Vatnajokull. added some 5.5 km(3) to surface melting during the 1990s, with one particular volcanic eruption melting 4.0 km(3). In all of Iceland's major icecaps, surges account for a significant portion of total mass transport through the principal outlet glaciers, playing an important role in outlet dynamics and hydrology. Taking the 20th century as a whole, surges contributed at least 10% to the total ice transport to ablation, areas of Vatnajokull. Plausible future climate scenarios, coupled with models of mass balance and ice dynamics, suggest that the main icecaps will lose 25% to 35% of their present volume within half a century, leaving only small glaciers on the highest peaks after 150-200 years. Glacier meltwater runoff will peak after 50 years, then decline to present-day values by 100 years from now. When the glaciers have disappeared, the entire river discharge will come directly from precipitation.\"}\n",
      "\n",
      "{'content': 'A conceptual water balance model is applied in a distributed structure to model monthly river flow in tributaries of two very large river systems which exhibit non-stationary behaviour, the Parana in South America and the Niger in West Africa. The approach utilises global data sets of rainfall and potential evaporation (PE) time series and soil available water capacity at 0.5 degree latitude and longitude resolution. River flow data for tributaries ranging in size from 631 to 71 510 km(2) for the period 1931-1990 (Parana) and 1950-1989 (Niger) are used to calibrate and validate the model. The results show varying degrees of model performance during both the calibration and validation procedure. The analysis highlights some interesting issues pertaining to the development and application of water balance models such as sensitivity of model performance and parameter values to input data sets, particularly the method chosen to estimate PE. The paper ends with an analysis of prolonged fluctuation in flow characteristics exhibited by both rivers after the early 1970s, associated with fluctuation in rainfall regime and possibly change in land use or land cover. Between 1931-1971 and 1972-1990 Parana river flows increased by similar to 28% (rainfall increase similar to 5%) and between 1950-1969 and 1970-1989 Niger river flows decreased by similar to 34% (rainfall decrease similar to 14%). Copyright (C) 2009 John Wiley & Sons, Ltd.'}\n",
      "\n",
      "{'content': 'Precipitation in most of the Amazon shows multi-decadal fluctuations that were linked to oceanic forcing in the Atlantic. This modeling study shows that vegetation dynamics may play a major role in such low-frequency variability in the Amazon. Despite the large amount of annual precipitation, the presence of a dry season (albeit short) facilitates a strong impact of dynamic vegetation on precipitation persistence in the model. The year-to-year variation of net primary productivity (NPP) is dominated by that of the dry season NPP. As a result, above-normal (below-normal) precipitation in a particular year can enhance (suppress) vegetation growth, leading to widespread increase (decrease) of vegetation density in the subsequent year. Precipitation in the subsequent year is therefore more likely to be above (below) normal. This damping effect of vegetation enhances low-frequency variability of precipitation and leads to recurrent droughts or floods, a result previously considered characteristic of arid and semi-arid regions. Citation: Wang, G., S. Sun, and R. Mei (2011), Vegetation dynamics contributes to the multi-decadal variability of precipitation in the Amazon region, Geophys. Res. Lett., 38, L19703, doi:10.1029/2011GL049017.'}\n",
      "\n",
      "{'content': 'Mountain glaciers and ice caps are contributing significantly to present rates of sea level rise and will continue to do so over the next century and beyond(1-5). The Canadian Arctic Archipelago, located off the northwestern shore of Greenland, contains one-third of the global volume of land ice outside the ice sheets(6), but its contribution to sea-level change remains largely unknown. Here we show that the Canadian Arctic Archipelago has recently lost 61 +/- 7 gigatonnes per year (Gt yr(-1)) of ice, contributing 0.17 +/- 0.02 mm yr(-1) to sea-level rise. Our estimates are of regional mass changes for the ice caps and glaciers of the Canadian Arctic Archipelago referring to the years 2004 to 2009 and are based on three independent approaches: surface mass-budget modelling plus an estimate of ice discharge (SMB+D), repeat satellite laser altimetry (ICESat) and repeat satellite gravimetry (GRACE). All three approaches show consistent and large mass-loss estimates. Between the periods 2004-2006 and 2007-2009, the rate of mass loss sharply increased from 31 +/- 8 Gt yr(-1) to 92 +/- 12 Gt yr(-1) in direct response to warmer summer temperatures, to which rates of ice loss are highly sensitive (64 +/- 14 Gt yr(-1) per 1 K increase). The duration of the study is too short to establish a long-term trend, but for 2007-2009, the increase in the rate of mass loss makes the Canadian Arctic Archipelago the single largest contributor to eustatic sea-level rise outside Greenland and Antarctica.'}\n",
      "\n",
      "{'content': 'Recurrence times for extreme drought events in the African Sahel are estimated using a classical peaks-over-threshold model. Results, which are computed for both mean seasonal rainfall and fractional area in drought, suggest that the distribution of dry extremes after about 1970 is statistically distinct from that of preceding years. This finding throws into relief the critical role played by attribution of causes, and the necessity of improving our understanding of the physical processes driving precipitation variability in the Sahel. Citation: Greene, A. M., A. Giannini, and S. E. Zebiak ( 2009), Drought return times in the Sahel: A question of attribution, Geophys. Res. Lett., 36, L12701, doi: 10.1029/2009GL038868.'}\n",
      "\n",
      "{'content': 'We compare satellite altimetry from the Ice, Cloud, and Land Elevation Satellite (ICESat, 2003-2007) to older topographic maps and digital elevation models (1965-1990) to calculate long-term elevation changes of glaciers on the Svalbard Archipelago. Results indicate significant thinning at most glacier fronts with either slight thinning or thickening in the accumulation areas, except for glaciers that surged which show thickening in the ablation area and thinning in the accumulation areas. The most negative geodetic balances occur in the south and on glaciers that have surged, while the least negative balances occur in the northeast and on glaciers in the quiescent phase of a surge cycle. Geodetic balances are related to latitude and to the dynamical behavior of the glacier. The average volume change rate over the past 40 years for Svalbard, excluding Austfonna and Kvitoya is estimated to be -9.71 +/- 0.55 km(3) yr(-1) or -0.36 +/- 0.02 m yr(-1) w. equivalent, for an annual contribution to global sea level rise of 0.026 mm yr(-1) sea level equivalent.'}\n",
      "\n",
      "{'content': 'We recall the main elements of fire weather in the Mediterranean environment and present the Canadian Fire Weather Index (FWI) System as the fire danger rating system currently most widely applied in Mediterranean Europe. We also present the results of some calibration studies of the FWI System component carried out in the Mediterranean environment by various authors. Secondly, we look at the distribution of FWI System component values during the 2,816 major fires (i.e. fires with final size &gt; 500 ha) recorded in Southern Europe in the last 28 years. Finally we present a regression model we have developed that predicts (R2 = 0.87) monthly burned area in the European Mediterranean basin from monthly averages of the Initial Spread Index (ISI) and Drought Code (DC) components of FWI, valid for the months May to November. © 2009 Springer-Verlag Berlin Heidelberg.'}\n",
      "\n"
     ]
    }
   ],
   "source": [
    "for d in mdocs.filter(content__icontains=\"model\").exclude(content__iregex=\"examin|evidenc|observ|measure\").values('content'):\n",
    "    print(d)\n",
    "    print()"
   ]
  },
  {
   "cell_type": "code",
   "execution_count": null,
   "metadata": {},
   "outputs": [],
   "source": []
  },
  {
   "cell_type": "code",
   "execution_count": 93,
   "metadata": {},
   "outputs": [
    {
     "data": {
      "text/plain": [
       "598"
      ]
     },
     "execution_count": 93,
     "metadata": {},
     "output_type": "execute_result"
    }
   ],
   "source": [
    "zeros[205]"
   ]
  },
  {
   "cell_type": "code",
   "execution_count": null,
   "metadata": {},
   "outputs": [],
   "source": [
    "texts = [mash_texts(x) for x in mdocs]\n",
    "X = X = vec.fit_transform(texts)\n",
    "vocab = vec.get_feature_names()\n",
    "X[X.nonzero()] = 1"
   ]
  },
  {
   "cell_type": "code",
   "execution_count": null,
   "metadata": {},
   "outputs": [],
   "source": [
    "# Find combinations of vocab (except for those that contain the stopwords below)\n",
    "\n",
    "indices, vals = np.array(X.sum(0))[0].argsort()[::-1], np.sort(np.array(X.sum(0))[0])[::-1]\n",
    "\n",
    "all_cs = list(combinations(indices[:300],2))\n",
    "\n",
    "print(len(all_cs))\n",
    "\n",
    "c_lengths = []\n",
    "cs = []\n",
    "max_x = 0\n",
    "max_ind = 0\n",
    "local_stops = set([\n",
    "    \"use\",\"also\",\"studi\",\"may\",\"larg\",\"dure\",\"occur\",\"result\",\n",
    "    \"climat chang\",\"year\"\n",
    "]) | set(climate_words)\n",
    "\n",
    "stop_combos = [\n",
    "    [\"studi\",\"year\"],\n",
    "    [\"year\",\"data\"],\n",
    "    [\"year\",\"observ\"],\n",
    "    [\"year\",\"dure\"],\n",
    "    [\"data\",\"indic\"],\n",
    "    [\"water\",\"ocean\"],\n",
    "    [\"increase\", \"result\"],\n",
    "    [\"sea\",\"ocean\"],\n",
    "    [\"chang\", \"increas\"],\n",
    "    [\"increas\", \"temperatur\"],\n",
    "    [\"data\", \"analysi\"],\n",
    "    [\"impact\",\"effect\"],\n",
    "    [\"result\", \"high\"],\n",
    "    [\"chang\",\"warm\"],\n",
    "    [\"climat\",\"warm\"],\n",
    "    [\"climat\",\"temperatur\"],\n",
    "    [\"show\", \"data\"]\n",
    "]\n",
    "\n",
    "for c in all_cs:\n",
    "    words = [vocab[x] for x in c]\n",
    "    if len(local_stops & set(words))>0:\n",
    "        continue\n",
    "    if words in stop_combos:\n",
    "        continue\n",
    "    if len(set(words) & set(climate_words)) > 0:\n",
    "        continue\n",
    "    x = sum([X[:,x] for x in c])\n",
    "    l = x[x > 1].shape[1]\n",
    "    c_lengths.append(l)   \n",
    "    cs.append(c)\n",
    "    \n",
    "print(len(cs))"
   ]
  },
  {
   "cell_type": "code",
   "execution_count": null,
   "metadata": {},
   "outputs": [],
   "source": [
    "ids = []\n",
    "\n",
    "# Go through the combinations, choosing the one that adds the most relevant documents\n",
    "seen = []\n",
    "for i in range(25):\n",
    "    \n",
    "    if i==0:\n",
    "        c = cs[np.argsort(c_lengths)[::-1][0]]\n",
    "        x = sum([X[:,xi] for xi in c])\n",
    "        x[x==1] = 0\n",
    "        x.eliminate_zeros()\n",
    "        x[x>0] = 1\n",
    "        ids.append(c)\n",
    "        continue\n",
    "\n",
    "    base_l = len(x.data)\n",
    "    max_l = len(x.data)\n",
    "    max_ind = None\n",
    "    \n",
    "    for ind in np.argsort(c_lengths)[::-1]:\n",
    "        if ind in seen:\n",
    "            continue\n",
    "        c = cs[ind]\n",
    "        words = [vocab[x] for x in c]\n",
    "        if len(local_stops & set(words))>0:\n",
    "            continue\n",
    "        if words in stop_combos:\n",
    "            continue\n",
    "        if c in ids:\n",
    "            continue\n",
    "        tmp_x = sum([X[:,xi] for xi in c])\n",
    "        for w in range(1, len(c)):\n",
    "            tmp_x[tmp_x==w] = 0\n",
    "        tmp_x.eliminate_zeros()\n",
    "        tmp_x[tmp_x>0] = 1\n",
    "        tmp_x = x + tmp_x\n",
    "        l = len(tmp_x.data)\n",
    "        if l > max_l:\n",
    "            max_l = l\n",
    "            max_ind = ind\n",
    "        if l <= base_l: \n",
    "            seen.append(ind)\n",
    "            \n",
    "    if not max_ind:\n",
    "        break\n",
    "    else:\n",
    "        c = cs[max_ind]\n",
    "        tmp_x = sum([X[:,xi] for xi in c])\n",
    "        for w in range(1, len(c)):\n",
    "            tmp_x[tmp_x==w] = 0\n",
    "        tmp_x.eliminate_zeros()\n",
    "        tmp_x[tmp_x>0] = 1\n",
    "        x = x + tmp_x\n",
    "        x[x>1]=1\n",
    "        ids.append(c)\n",
    "        print(f\"{i+1}: {max_l}\")\n",
    "        if x.shape[0] == max_l:\n",
    "            break\n",
    "                \n",
    "c = [\" AND \".join([vocab[x]+\"*\" for x in c]) for c in ids]\n",
    "print(c)\n",
    "print(max_l)       \n"
   ]
  },
  {
   "cell_type": "code",
   "execution_count": null,
   "metadata": {},
   "outputs": [],
   "source": [
    "t = \" OR \".join([f\"({x})\" for x in c])\n",
    "q = f\"TS=({t})\"\n",
    "print(q)"
   ]
  },
  {
   "cell_type": "code",
   "execution_count": null,
   "metadata": {},
   "outputs": [],
   "source": [
    "X.shape"
   ]
  },
  {
   "cell_type": "code",
   "execution_count": null,
   "metadata": {},
   "outputs": [],
   "source": [
    "texts[np.where(x.A==0)[0][0]]"
   ]
  },
  {
   "cell_type": "code",
   "execution_count": null,
   "metadata": {},
   "outputs": [],
   "source": [
    "np.where(x.A==0)\n",
    "\n",
    "for j in list(find(X[353]))[1]:\n",
    "    print(vocab[j])"
   ]
  },
  {
   "cell_type": "code",
   "execution_count": null,
   "metadata": {},
   "outputs": [],
   "source": [
    "# Climate words\n",
    "\n",
    "cwords = [\"climate change\",\"climat\"]\n",
    "for t in texts:\n",
    "    tc = False\n",
    "    for w in cwords:\n",
    "        if w in t.lower():\n",
    "            tc=True\n",
    "    if not tc:\n",
    "        print(t)\n",
    "        break\n"
   ]
  },
  {
   "cell_type": "code",
   "execution_count": null,
   "metadata": {},
   "outputs": [],
   "source": [
    "# for i,c in enumerate(combinations(indices, 4)):\n",
    "#     x = sum([X[:,x] for x in c])\n",
    "#     l = len(x.data)\n",
    "#     if l > 740:\n",
    "#         print(f'{\" OR \".join([vocab[x] for x in c])} returns {l}')"
   ]
  },
  {
   "cell_type": "code",
   "execution_count": null,
   "metadata": {},
   "outputs": [],
   "source": [
    "ids = []\n",
    "for i in range(10):\n",
    "    if i==0:\n",
    "        x = X[:,indices[0]]\n",
    "        ids.append(indices[0])\n",
    "        continue\n",
    "    max_x = len(x.data)\n",
    "    max_ind = None\n",
    "    for ind in indices:\n",
    "        if ind in ids:\n",
    "            continue\n",
    "        tmp_x = x + X[:,ind]\n",
    "        if len(tmp_x.data) > max_x:\n",
    "            max_x = len(tmp_x.data)\n",
    "            max_ind = ind\n",
    "    if not max_ind:\n",
    "        break\n",
    "    else:\n",
    "        x = x + X[:,max_ind]\n",
    "        ids.append(max_ind)\n",
    "        print(max_x)\n",
    "        \n",
    "print(i)\n",
    "print(f'{\" OR \".join([vocab[x]+\"*\" for x in ids])} returns {len(x.data)}')"
   ]
  },
  {
   "cell_type": "code",
   "execution_count": null,
   "metadata": {},
   "outputs": [],
   "source": [
    "n_ids = []\n",
    "for i in range(10):\n",
    "    if i==0:\n",
    "        for ind in indices:\n",
    "            if ind not in ids:\n",
    "                x = X[:,ind]\n",
    "                n_ids.append(ind)\n",
    "                break\n",
    "        continue\n",
    "    max_x = len(x.data)\n",
    "    max_ind = None\n",
    "    for ind in indices:\n",
    "        if ind in ids or ind in n_ids:\n",
    "            continue\n",
    "        tmp_x = x + X[:,ind]\n",
    "        if len(tmp_x.data) > max_x:\n",
    "            max_x = len(tmp_x.data)\n",
    "            max_ind = ind\n",
    "    if not max_ind:\n",
    "        break\n",
    "    else:\n",
    "        x = x + X[:,max_ind]\n",
    "        n_ids.append(max_ind)\n",
    "        print(max_x)\n",
    "        \n",
    "print(i)\n",
    "strings = [f'\"{vocab[x]}*\"' for x in n_ids]\n",
    "print(f'{\" OR \".join(strings)} returns {len(x.data)}')"
   ]
  },
  {
   "cell_type": "code",
   "execution_count": null,
   "metadata": {},
   "outputs": [],
   "source": [
    "ids += n_ids\n",
    "n_ids = []\n",
    "for i in range(10):\n",
    "    if i==0:\n",
    "        for ind in indices:\n",
    "            if ind not in ids:\n",
    "                x = X[:,ind]\n",
    "                n_ids.append(ind)\n",
    "                break\n",
    "        continue\n",
    "    max_x = len(x.data)\n",
    "    max_ind = None\n",
    "    for ind in indices:\n",
    "        if ind in ids or ind in n_ids:\n",
    "            continue\n",
    "        tmp_x = x + X[:,ind]\n",
    "        if len(tmp_x.data) > max_x:\n",
    "            max_x = len(tmp_x.data)\n",
    "            max_ind = ind\n",
    "    if not max_ind:\n",
    "        break\n",
    "    else:\n",
    "        x = x + X[:,max_ind]\n",
    "        n_ids.append(max_ind)\n",
    "        print(max_x)\n",
    "        \n",
    "print(i)\n",
    "strings = [f'\"{vocab[x]}*\"' for x in n_ids]\n",
    "print(f'{\" OR \".join(strings)} returns {len(x.data)}')"
   ]
  },
  {
   "cell_type": "code",
   "execution_count": null,
   "metadata": {},
   "outputs": [],
   "source": [
    "ids += n_ids\n",
    "n_ids = []\n",
    "for i in range(10):\n",
    "    if i==0:\n",
    "        for ind in indices:\n",
    "            if ind not in ids:\n",
    "                x = X[:,ind]\n",
    "                n_ids.append(ind)\n",
    "                break\n",
    "        continue\n",
    "    max_x = len(x.data)\n",
    "    max_ind = None\n",
    "    for ind in indices:\n",
    "        if ind in ids or ind in n_ids:\n",
    "            continue\n",
    "        tmp_x = x + X[:,ind]\n",
    "        if len(tmp_x.data) > max_x:\n",
    "            max_x = len(tmp_x.data)\n",
    "            max_ind = ind\n",
    "    if not max_ind:\n",
    "        break\n",
    "    else:\n",
    "        x = x + X[:,max_ind]\n",
    "        n_ids.append(max_ind)\n",
    "        print(max_x)\n",
    "        \n",
    "print(i)\n",
    "print(f'{\" OR \".join([vocab[x] for x in n_ids])} returns {len(x.data)}')"
   ]
  },
  {
   "cell_type": "code",
   "execution_count": null,
   "metadata": {},
   "outputs": [],
   "source": [
    "ids += n_ids\n",
    "n_ids = []\n",
    "for i in range(10):\n",
    "    if i==0:\n",
    "        for ind in indices:\n",
    "            if ind not in ids:\n",
    "                x = X[:,ind]\n",
    "                n_ids.append(ind)\n",
    "                break\n",
    "        continue\n",
    "    max_x = len(x.data)\n",
    "    max_ind = None\n",
    "    for ind in indices:\n",
    "        if ind in ids or ind in n_ids:\n",
    "            continue\n",
    "        tmp_x = x + X[:,ind]\n",
    "        if len(tmp_x.data) > max_x:\n",
    "            max_x = len(tmp_x.data)\n",
    "            max_ind = ind\n",
    "    if not max_ind:\n",
    "        break\n",
    "    else:\n",
    "        x = x + X[:,max_ind]\n",
    "        n_ids.append(max_ind)\n",
    "        print(max_x)\n",
    "        \n",
    "print(i)\n",
    "print(f'{\" OR \".join([vocab[x] for x in n_ids])} returns {len(x.data)}')"
   ]
  },
  {
   "cell_type": "code",
   "execution_count": null,
   "metadata": {},
   "outputs": [],
   "source": []
  }
 ],
 "metadata": {
  "kernelspec": {
   "display_name": "tmv",
   "language": "python",
   "name": "tmv"
  },
  "language_info": {
   "codemirror_mode": {
    "name": "ipython",
    "version": 3
   },
   "file_extension": ".py",
   "mimetype": "text/x-python",
   "name": "python",
   "nbconvert_exporter": "python",
   "pygments_lexer": "ipython3",
   "version": "3.6.6"
  }
 },
 "nbformat": 4,
 "nbformat_minor": 2
}
